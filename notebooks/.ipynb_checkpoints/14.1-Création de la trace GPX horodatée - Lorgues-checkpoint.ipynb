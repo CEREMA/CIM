{
 "cells": [
  {
   "cell_type": "markdown",
   "id": "57826727-11aa-45c8-99af-95d34856e86f",
   "metadata": {},
   "source": [
    "# Exemple de génération de trace GPX à partir des points de la trace RTK exportée en format GeoJSON depuis l'application SW MAPS"
   ]
  },
  {
   "cell_type": "markdown",
   "id": "67d12750-9bf8-4f8b-848d-097b74de9fd4",
   "metadata": {},
   "source": [
    "## Données d'entrée : fichier geojson des points de la trace RTK collectés lors de la sortie de terrain de Lorgues :"
   ]
  },
  {
   "cell_type": "markdown",
   "id": "7d27b7cd-ffc8-4783-a9c8-64dc76e5de92",
   "metadata": {},
   "source": [
    "### 1) Installation de la bibliothèque python gpxpy pour la création de la trace GPX :"
   ]
  },
  {
   "cell_type": "code",
   "execution_count": 18,
   "id": "5bf93fd2-0f2e-42b9-b448-991d8d2fb914",
   "metadata": {},
   "outputs": [
    {
     "name": "stdout",
     "output_type": "stream",
     "text": [
      "Collecting gpxpy\n",
      "  Downloading gpxpy-1.6.2-py3-none-any.whl.metadata (5.9 kB)\n",
      "Downloading gpxpy-1.6.2-py3-none-any.whl (42 kB)\n",
      "   ---------------------------------------- 0.0/42.6 kB ? eta -:--:--\n",
      "   ---------------------------------------- 42.6/42.6 kB 1.0 MB/s eta 0:00:00\n",
      "Installing collected packages: gpxpy\n",
      "Successfully installed gpxpy-1.6.2\n"
     ]
    },
    {
     "name": "stderr",
     "output_type": "stream",
     "text": [
      "\n",
      "[notice] A new release of pip is available: 24.0 -> 24.1.1\n",
      "[notice] To update, run: python.exe -m pip install --upgrade pip\n"
     ]
    }
   ],
   "source": [
    "!pip install gpxpy"
   ]
  },
  {
   "cell_type": "markdown",
   "id": "44c03ed1-ea8b-4200-82d8-769a1806f468",
   "metadata": {},
   "source": [
    "### 2) Installation de la bibliothèque python geojson pour le chargement du fichier geojson d'entrée :"
   ]
  },
  {
   "cell_type": "code",
   "execution_count": 20,
   "id": "a25ef2e1-d7f5-4133-acc0-2bb12585fd56",
   "metadata": {},
   "outputs": [
    {
     "name": "stdout",
     "output_type": "stream",
     "text": [
      "Collecting geojson\n",
      "  Downloading geojson-3.1.0-py3-none-any.whl.metadata (16 kB)\n",
      "Downloading geojson-3.1.0-py3-none-any.whl (15 kB)\n",
      "Installing collected packages: geojson\n",
      "Successfully installed geojson-3.1.0\n"
     ]
    },
    {
     "name": "stderr",
     "output_type": "stream",
     "text": [
      "\n",
      "[notice] A new release of pip is available: 24.0 -> 24.1.1\n",
      "[notice] To update, run: python.exe -m pip install --upgrade pip\n"
     ]
    }
   ],
   "source": [
    "!pip install geojson"
   ]
  },
  {
   "cell_type": "markdown",
   "id": "89cf74f1-8cc4-474c-9918-c04d20dc2c58",
   "metadata": {},
   "source": [
    "### 3) Extraction des points RTK avec leurs horodatages en liste et les convertir en DataFrame :"
   ]
  },
  {
   "cell_type": "code",
   "execution_count": 1,
   "id": "1a410392-bc56-4cc3-84f0-5374e6553725",
   "metadata": {},
   "outputs": [
    {
     "data": {
      "text/html": [
       "<div>\n",
       "<style scoped>\n",
       "    .dataframe tbody tr th:only-of-type {\n",
       "        vertical-align: middle;\n",
       "    }\n",
       "\n",
       "    .dataframe tbody tr th {\n",
       "        vertical-align: top;\n",
       "    }\n",
       "\n",
       "    .dataframe thead th {\n",
       "        text-align: right;\n",
       "    }\n",
       "</style>\n",
       "<table border=\"1\" class=\"dataframe\">\n",
       "  <thead>\n",
       "    <tr style=\"text-align: right;\">\n",
       "      <th></th>\n",
       "      <th>latitude</th>\n",
       "      <th>longitude</th>\n",
       "      <th>elevation</th>\n",
       "      <th>time</th>\n",
       "    </tr>\n",
       "  </thead>\n",
       "  <tbody>\n",
       "    <tr>\n",
       "      <th>0</th>\n",
       "      <td>43.492107</td>\n",
       "      <td>6.363533</td>\n",
       "      <td>246.386</td>\n",
       "      <td>01-07-2024 12:33:43.600 GMT+02:00</td>\n",
       "    </tr>\n",
       "    <tr>\n",
       "      <th>1</th>\n",
       "      <td>43.492161</td>\n",
       "      <td>6.363544</td>\n",
       "      <td>246.539</td>\n",
       "      <td>01-07-2024 12:33:51.600 GMT+02:00</td>\n",
       "    </tr>\n",
       "    <tr>\n",
       "      <th>2</th>\n",
       "      <td>43.492241</td>\n",
       "      <td>6.363510</td>\n",
       "      <td>245.188</td>\n",
       "      <td>01-07-2024 12:33:59.600 GMT+02:00</td>\n",
       "    </tr>\n",
       "    <tr>\n",
       "      <th>3</th>\n",
       "      <td>43.492298</td>\n",
       "      <td>6.363446</td>\n",
       "      <td>242.423</td>\n",
       "      <td>01-07-2024 12:34:06.800 GMT+02:00</td>\n",
       "    </tr>\n",
       "    <tr>\n",
       "      <th>4</th>\n",
       "      <td>43.492456</td>\n",
       "      <td>6.363327</td>\n",
       "      <td>241.550</td>\n",
       "      <td>01-07-2024 12:34:22.000 GMT+02:00</td>\n",
       "    </tr>\n",
       "    <tr>\n",
       "      <th>...</th>\n",
       "      <td>...</td>\n",
       "      <td>...</td>\n",
       "      <td>...</td>\n",
       "      <td>...</td>\n",
       "    </tr>\n",
       "    <tr>\n",
       "      <th>116</th>\n",
       "      <td>43.492508</td>\n",
       "      <td>6.363121</td>\n",
       "      <td>246.353</td>\n",
       "      <td>01-07-2024 12:51:40.400 GMT+02:00</td>\n",
       "    </tr>\n",
       "    <tr>\n",
       "      <th>117</th>\n",
       "      <td>43.492431</td>\n",
       "      <td>6.363172</td>\n",
       "      <td>246.116</td>\n",
       "      <td>01-07-2024 12:51:46.800 GMT+02:00</td>\n",
       "    </tr>\n",
       "    <tr>\n",
       "      <th>118</th>\n",
       "      <td>43.492309</td>\n",
       "      <td>6.363228</td>\n",
       "      <td>246.705</td>\n",
       "      <td>01-07-2024 12:51:56.400 GMT+02:00</td>\n",
       "    </tr>\n",
       "    <tr>\n",
       "      <th>119</th>\n",
       "      <td>43.492198</td>\n",
       "      <td>6.363308</td>\n",
       "      <td>247.928</td>\n",
       "      <td>01-07-2024 12:52:05.200 GMT+02:00</td>\n",
       "    </tr>\n",
       "    <tr>\n",
       "      <th>120</th>\n",
       "      <td>43.492149</td>\n",
       "      <td>6.363392</td>\n",
       "      <td>248.150</td>\n",
       "      <td>01-07-2024 12:52:11.600 GMT+02:00</td>\n",
       "    </tr>\n",
       "  </tbody>\n",
       "</table>\n",
       "<p>121 rows × 4 columns</p>\n",
       "</div>"
      ],
      "text/plain": [
       "      latitude  longitude  elevation                               time\n",
       "0    43.492107   6.363533    246.386  01-07-2024 12:33:43.600 GMT+02:00\n",
       "1    43.492161   6.363544    246.539  01-07-2024 12:33:51.600 GMT+02:00\n",
       "2    43.492241   6.363510    245.188  01-07-2024 12:33:59.600 GMT+02:00\n",
       "3    43.492298   6.363446    242.423  01-07-2024 12:34:06.800 GMT+02:00\n",
       "4    43.492456   6.363327    241.550  01-07-2024 12:34:22.000 GMT+02:00\n",
       "..         ...        ...        ...                                ...\n",
       "116  43.492508   6.363121    246.353  01-07-2024 12:51:40.400 GMT+02:00\n",
       "117  43.492431   6.363172    246.116  01-07-2024 12:51:46.800 GMT+02:00\n",
       "118  43.492309   6.363228    246.705  01-07-2024 12:51:56.400 GMT+02:00\n",
       "119  43.492198   6.363308    247.928  01-07-2024 12:52:05.200 GMT+02:00\n",
       "120  43.492149   6.363392    248.150  01-07-2024 12:52:11.600 GMT+02:00\n",
       "\n",
       "[121 rows x 4 columns]"
      ]
     },
     "execution_count": 1,
     "metadata": {},
     "output_type": "execute_result"
    }
   ],
   "source": [
    "import geojson\n",
    "import pandas as pd\n",
    "\n",
    "# Charger le fichier GeoJSON\n",
    "with open(r\"..\\terrain_data\\raw\\Lorgues\\Trace Lorgues points.geojson\", 'r') as f:\n",
    "    data = geojson.load(f)\n",
    "\n",
    "# Extraire les points et leurs horodatages\n",
    "points = []\n",
    "for feature in data['features']:\n",
    "    if feature['geometry']['type'] == 'Point':\n",
    "        coords = feature['geometry']['coordinates']\n",
    "        timestamp = feature['properties'].get('time')\n",
    "        points.append({\n",
    "            'latitude': coords[1],\n",
    "            'longitude': coords[0],\n",
    "            'elevation': coords[2] if len(coords) > 2 else None,\n",
    "            'time': timestamp\n",
    "        })\n",
    "\n",
    "# Convertir en DataFrame\n",
    "df = pd.DataFrame(points)\n",
    "df"
   ]
  },
  {
   "cell_type": "markdown",
   "id": "30ff0287-1d43-4dfc-a8f7-f5bd87cc9ef0",
   "metadata": {},
   "source": [
    "### 4) Installation de la bibliothèque python dateutil pour le formatage de la date à partir d'une chaine de caractères :"
   ]
  },
  {
   "cell_type": "code",
   "execution_count": 40,
   "id": "9c847cd1-8386-4d72-8a04-dfac4e4b6740",
   "metadata": {},
   "outputs": [
    {
     "name": "stdout",
     "output_type": "stream",
     "text": [
      "Requirement already satisfied: python-dateutil in c:\\users\\alaeddine.jerad\\appdata\\local\\programs\\python\\python312\\lib\\site-packages (2.9.0.post0)\n",
      "Requirement already satisfied: six>=1.5 in c:\\users\\alaeddine.jerad\\appdata\\local\\programs\\python\\python312\\lib\\site-packages (from python-dateutil) (1.16.0)\n",
      "Note: you may need to restart the kernel to use updated packages.\n"
     ]
    },
    {
     "name": "stderr",
     "output_type": "stream",
     "text": [
      "\n",
      "[notice] A new release of pip is available: 24.0 -> 24.1.1\n",
      "[notice] To update, run: python.exe -m pip install --upgrade pip\n"
     ]
    }
   ],
   "source": [
    "pip install python-dateutil"
   ]
  },
  {
   "cell_type": "markdown",
   "id": "87655567-48e5-48f3-83e6-7cfeb37b172d",
   "metadata": {},
   "source": [
    "### 5) Création de la trace GPX en ajoutant les points horodatées au segment de la trace :"
   ]
  },
  {
   "cell_type": "code",
   "execution_count": 2,
   "id": "d3e6747f-7622-4f37-a155-69335a827977",
   "metadata": {},
   "outputs": [],
   "source": [
    "import gpxpy\n",
    "import gpxpy.gpx\n",
    "from dateutil import parser\n",
    "\n",
    "# Créer un objet GPX\n",
    "gpx = gpxpy.gpx.GPX()\n",
    "\n",
    "# Créer une nouvelle trace\n",
    "gpx_track = gpxpy.gpx.GPXTrack()\n",
    "gpx.tracks.append(gpx_track)\n",
    "\n",
    "# Ajouter un segment à la trace\n",
    "gpx_segment = gpxpy.gpx.GPXTrackSegment()\n",
    "gpx_track.segments.append(gpx_segment)\n",
    "\n",
    "# Ajouter les points au segment\n",
    "for idx, row in df.iterrows():\n",
    "# Convertir l'horodatage en format datetime\n",
    "    time = parser.parse(row['time']) if row['time'] else None\n",
    "    gpx_segment.points.append(gpxpy.gpx.GPXTrackPoint(\n",
    "        latitude=row['latitude'],\n",
    "        longitude=row['longitude'],\n",
    "        elevation=row['elevation'],\n",
    "        time=time\n",
    "    ))"
   ]
  },
  {
   "cell_type": "markdown",
   "id": "7c888b31-bd97-4daf-8a44-28d145cb52af",
   "metadata": {},
   "source": [
    "### 6) Exportation de la trace GPX :"
   ]
  },
  {
   "cell_type": "code",
   "execution_count": 3,
   "id": "fa2090ae-ed75-4f3f-8e9e-2d0630d4dfaf",
   "metadata": {},
   "outputs": [],
   "source": [
    "# Écrire le fichier GPX\n",
    "with open(r\"..\\terrain_data\\processed\\Lorgues\\Trace Lorgues.gpx\", 'w') as f:\n",
    "    f.write(gpx.to_xml())"
   ]
  },
  {
   "cell_type": "code",
   "execution_count": null,
   "id": "85e334c0-ff65-4c45-b256-1578b3285ccf",
   "metadata": {},
   "outputs": [],
   "source": []
  }
 ],
 "metadata": {
  "kernelspec": {
   "display_name": "Python 3 (ipykernel)",
   "language": "python",
   "name": "python3"
  },
  "language_info": {
   "codemirror_mode": {
    "name": "ipython",
    "version": 3
   },
   "file_extension": ".py",
   "mimetype": "text/x-python",
   "name": "python",
   "nbconvert_exporter": "python",
   "pygments_lexer": "ipython3",
   "version": "3.12.2"
  }
 },
 "nbformat": 4,
 "nbformat_minor": 5
}
