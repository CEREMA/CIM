{
 "cells": [
  {
   "cell_type": "markdown",
   "id": "96f411ae",
   "metadata": {},
   "source": [
    "Les photos sont dans C:\\Users\\mathieu.rajerison\\Box\\Cerema\\60-MED\\67-DTVB\\675-Vie_des_unites_DTVB\\675-5-GIDI\\3_Etudes\\2024\\2024-CIM\\05-Collecte juin 2024\\132GOPRO\n",
    "    \n"
   ]
  },
  {
   "cell_type": "markdown",
   "id": "e04ba87b",
   "metadata": {},
   "source": [
    "Les traces sont dans C:\\Users\\mathieu.rajerison\\Box\\Cerema\\60-MED\\67-DTVB\\675-Vie_des_unites_DTVB\\675-5-GIDI\\3_Etudes\\2024\\2024-CIM\\05-Collecte juin 2024\\collecte pôle activité Shapefiles"
   ]
  },
  {
   "cell_type": "code",
   "execution_count": 2,
   "id": "e30ad950",
   "metadata": {},
   "outputs": [
    {
     "name": "stdout",
     "output_type": "stream",
     "text": [
      "Requirement already satisfied: geopandas in c:\\users\\mathieu.rajerison\\appdata\\roaming\\python\\python39\\site-packages (0.14.3)\n",
      "Requirement already satisfied: fiona>=1.8.21 in c:\\users\\mathieu.rajerison\\appdata\\roaming\\python\\python39\\site-packages (from geopandas) (1.9.6)\n",
      "Requirement already satisfied: packaging in c:\\python39\\lib\\site-packages (from geopandas) (24.0)\n",
      "Collecting pandas>=1.4.0 (from geopandas)\n",
      "  Downloading pandas-2.2.2-cp39-cp39-win_amd64.whl.metadata (19 kB)\n",
      "Requirement already satisfied: pyproj>=3.3.0 in c:\\python39\\lib\\site-packages (from geopandas) (3.4.1)\n",
      "Requirement already satisfied: shapely>=1.8.0 in c:\\users\\mathieu.rajerison\\appdata\\roaming\\python\\python39\\site-packages (from geopandas) (2.0.4)\n",
      "Requirement already satisfied: attrs>=19.2.0 in c:\\users\\mathieu.rajerison\\appdata\\roaming\\python\\python39\\site-packages (from fiona>=1.8.21->geopandas) (23.2.0)\n",
      "Requirement already satisfied: certifi in c:\\python39\\lib\\site-packages (from fiona>=1.8.21->geopandas) (2024.2.2)\n",
      "Collecting click~=8.0 (from fiona>=1.8.21->geopandas)\n",
      "  Using cached click-8.1.7-py3-none-any.whl.metadata (3.0 kB)\n",
      "Requirement already satisfied: click-plugins>=1.0 in c:\\users\\mathieu.rajerison\\appdata\\roaming\\python\\python39\\site-packages (from fiona>=1.8.21->geopandas) (1.1.1)\n",
      "Requirement already satisfied: cligj>=0.5 in c:\\users\\mathieu.rajerison\\appdata\\roaming\\python\\python39\\site-packages (from fiona>=1.8.21->geopandas) (0.7.2)\n",
      "Requirement already satisfied: six in c:\\python39\\lib\\site-packages (from fiona>=1.8.21->geopandas) (1.16.0)\n",
      "Requirement already satisfied: importlib-metadata in c:\\users\\mathieu.rajerison\\appdata\\roaming\\python\\python39\\site-packages (from fiona>=1.8.21->geopandas) (7.1.0)\n",
      "Requirement already satisfied: numpy>=1.22.4 in c:\\users\\mathieu.rajerison\\appdata\\roaming\\python\\python39\\site-packages (from pandas>=1.4.0->geopandas) (1.26.4)\n",
      "Requirement already satisfied: python-dateutil>=2.8.2 in c:\\users\\mathieu.rajerison\\appdata\\roaming\\python\\python39\\site-packages (from pandas>=1.4.0->geopandas) (2.9.0.post0)\n",
      "Requirement already satisfied: pytz>=2020.1 in c:\\python39\\lib\\site-packages (from pandas>=1.4.0->geopandas) (2024.1)\n",
      "Requirement already satisfied: tzdata>=2022.7 in c:\\users\\mathieu.rajerison\\appdata\\roaming\\python\\python39\\site-packages (from pandas>=1.4.0->geopandas) (2024.1)\n",
      "Requirement already satisfied: colorama in c:\\users\\mathieu.rajerison\\appdata\\roaming\\python\\python39\\site-packages (from click~=8.0->fiona>=1.8.21->geopandas) (0.4.6)\n",
      "Requirement already satisfied: zipp>=0.5 in c:\\users\\mathieu.rajerison\\appdata\\roaming\\python\\python39\\site-packages (from importlib-metadata->fiona>=1.8.21->geopandas) (3.18.1)\n",
      "Downloading pandas-2.2.2-cp39-cp39-win_amd64.whl (11.6 MB)\n",
      "   ---------------------------------------- 0.0/11.6 MB ? eta -:--:--\n",
      "   ---------------------------------------- 0.1/11.6 MB 3.6 MB/s eta 0:00:04\n",
      "    --------------------------------------- 0.2/11.6 MB 2.0 MB/s eta 0:00:06\n",
      "    --------------------------------------- 0.2/11.6 MB 2.0 MB/s eta 0:00:06\n",
      "    --------------------------------------- 0.3/11.6 MB 1.8 MB/s eta 0:00:07\n",
      "   - -------------------------------------- 0.5/11.6 MB 2.2 MB/s eta 0:00:06\n",
      "   -- ------------------------------------- 0.7/11.6 MB 2.3 MB/s eta 0:00:05\n",
      "   --- ------------------------------------ 1.1/11.6 MB 3.2 MB/s eta 0:00:04\n",
      "   ----- ---------------------------------- 1.5/11.6 MB 3.8 MB/s eta 0:00:03\n",
      "   ------ --------------------------------- 1.9/11.6 MB 4.3 MB/s eta 0:00:03\n",
      "   ------- -------------------------------- 2.3/11.6 MB 4.7 MB/s eta 0:00:02\n",
      "   --------- ------------------------------ 2.7/11.6 MB 5.1 MB/s eta 0:00:02\n",
      "   ---------- ----------------------------- 3.1/11.6 MB 5.4 MB/s eta 0:00:02\n",
      "   ----------- ---------------------------- 3.5/11.6 MB 5.7 MB/s eta 0:00:02\n",
      "   ------------- -------------------------- 3.8/11.6 MB 5.7 MB/s eta 0:00:02\n",
      "   -------------- ------------------------- 4.2/11.6 MB 5.8 MB/s eta 0:00:02\n",
      "   --------------- ------------------------ 4.5/11.6 MB 5.9 MB/s eta 0:00:02\n",
      "   ---------------- ----------------------- 4.9/11.6 MB 6.0 MB/s eta 0:00:02\n",
      "   ------------------ --------------------- 5.3/11.6 MB 6.2 MB/s eta 0:00:02\n",
      "   ------------------- -------------------- 5.7/11.6 MB 6.3 MB/s eta 0:00:01\n",
      "   --------------------- ------------------ 6.1/11.6 MB 6.4 MB/s eta 0:00:01\n",
      "   ---------------------- ----------------- 6.6/11.6 MB 6.6 MB/s eta 0:00:01\n",
      "   ----------------------- ---------------- 7.0/11.6 MB 6.6 MB/s eta 0:00:01\n",
      "   ------------------------- -------------- 7.4/11.6 MB 6.8 MB/s eta 0:00:01\n",
      "   --------------------------- ------------ 7.9/11.6 MB 6.8 MB/s eta 0:00:01\n",
      "   ---------------------------- ----------- 8.3/11.6 MB 6.9 MB/s eta 0:00:01\n",
      "   ----------------------------- ---------- 8.6/11.6 MB 6.9 MB/s eta 0:00:01\n",
      "   ----------------------------- ---------- 8.6/11.6 MB 6.9 MB/s eta 0:00:01\n",
      "   ------------------------------ --------- 8.8/11.6 MB 6.6 MB/s eta 0:00:01\n",
      "   ------------------------------- -------- 9.3/11.6 MB 6.7 MB/s eta 0:00:01\n",
      "   --------------------------------- ------ 9.6/11.6 MB 6.7 MB/s eta 0:00:01\n",
      "   ---------------------------------- ----- 10.0/11.6 MB 6.8 MB/s eta 0:00:01\n",
      "   ----------------------------------- ---- 10.5/11.6 MB 7.4 MB/s eta 0:00:01\n",
      "   ------------------------------------- -- 10.9/11.6 MB 8.0 MB/s eta 0:00:01\n",
      "   ---------------------------------------  11.4/11.6 MB 7.9 MB/s eta 0:00:01\n",
      "   ---------------------------------------  11.6/11.6 MB 7.9 MB/s eta 0:00:01\n",
      "   ---------------------------------------- 11.6/11.6 MB 7.5 MB/s eta 0:00:00\n",
      "Using cached click-8.1.7-py3-none-any.whl (97 kB)\n",
      "Installing collected packages: click, pandas\n",
      "  Attempting uninstall: click\n",
      "    Found existing installation: click 7.1.2\n",
      "    Uninstalling click-7.1.2:\n",
      "      Successfully uninstalled click-7.1.2\n",
      "  Attempting uninstall: pandas\n",
      "    Found existing installation: pandas 1.2.5\n",
      "    Uninstalling pandas-1.2.5:\n",
      "      Successfully uninstalled pandas-1.2.5\n",
      "Successfully installed click-8.1.7 pandas-1.5.3\n"
     ]
    },
    {
     "name": "stderr",
     "output_type": "stream",
     "text": [
      "WARNING: Ignoring invalid distribution -pencv-python-headless (c:\\python39\\lib\\site-packages)\n",
      "WARNING: Ignoring invalid distribution -pencv-python-headless (c:\\python39\\lib\\site-packages)\n",
      "ERROR: pip's dependency resolver does not currently take into account all the packages that are installed. This behaviour is the source of the following dependency conflicts.\n",
      "label-studio 1.11.0 requires jsonschema==3.2.0, but you have jsonschema 4.21.1 which is incompatible.\n",
      "label-studio 1.11.0 requires psycopg2-binary==2.9.6, but you have psycopg2-binary 2.9.9 which is incompatible.\n",
      "label-studio 1.11.0 requires pytz<2023.0,>=2022.1, but you have pytz 2024.1 which is incompatible.\n",
      "label-studio 1.11.0 requires urllib3<2.0.0,>=1.26.18, but you have urllib3 2.2.1 which is incompatible.\n",
      "streamlit 0.84.2 requires click<8.0,>=7.0, but you have click 8.1.7 which is incompatible.\n",
      "streamlit 0.84.2 requires pandas<1.3.0,>=0.21.0, but you have pandas 2.2.2 which is incompatible.\n",
      "\n",
      "[notice] A new release of pip is available: 24.0 -> 24.1.1\n",
      "[notice] To update, run: C:\\Python39\\python.exe -m pip install --upgrade pip\n"
     ]
    }
   ],
   "source": [
    "!pip install geopandas"
   ]
  },
  {
   "cell_type": "code",
   "execution_count": 4,
   "id": "68ec9d2f",
   "metadata": {},
   "outputs": [
    {
     "name": "stdout",
     "output_type": "stream",
     "text": [
      "Python 3.9.16\n"
     ]
    }
   ],
   "source": [
    "!python --version"
   ]
  },
  {
   "cell_type": "code",
   "execution_count": 5,
   "id": "f1a4441e",
   "metadata": {},
   "outputs": [
    {
     "ename": "ModuleNotFoundError",
     "evalue": "No module named 'geopandas'",
     "output_type": "error",
     "traceback": [
      "\u001b[1;31m---------------------------------------------------------------------------\u001b[0m",
      "\u001b[1;31mModuleNotFoundError\u001b[0m                       Traceback (most recent call last)",
      "Cell \u001b[1;32mIn[5], line 1\u001b[0m\n\u001b[1;32m----> 1\u001b[0m \u001b[38;5;28;01mimport\u001b[39;00m \u001b[38;5;21;01mgeopandas\u001b[39;00m \u001b[38;5;28;01mas\u001b[39;00m \u001b[38;5;21;01mgpd\u001b[39;00m\n",
      "\u001b[1;31mModuleNotFoundError\u001b[0m: No module named 'geopandas'"
     ]
    }
   ],
   "source": [
    "import geopandas as gpd"
   ]
  }
 ],
 "metadata": {
  "kernelspec": {
   "display_name": "Python 3 (ipykernel)",
   "language": "python",
   "name": "python3"
  },
  "language_info": {
   "codemirror_mode": {
    "name": "ipython",
    "version": 3
   },
   "file_extension": ".py",
   "mimetype": "text/x-python",
   "name": "python",
   "nbconvert_exporter": "python",
   "pygments_lexer": "ipython3",
   "version": "3.12.4"
  }
 },
 "nbformat": 4,
 "nbformat_minor": 5
}
