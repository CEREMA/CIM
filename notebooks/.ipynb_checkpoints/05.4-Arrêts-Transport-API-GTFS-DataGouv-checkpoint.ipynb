{
 "cells": [
  {
   "cell_type": "markdown",
   "id": "56f23b64",
   "metadata": {},
   "source": [
    "Récupère les arrêts de transport depuis l'API GTFS Data Gouv Fr"
   ]
  },
  {
   "cell_type": "markdown",
   "id": "3d3f36ae",
   "metadata": {},
   "source": [
    "https://prochainement.transport.data.gouv.fr/api/gtfs-stops?south=43.5331335395461&north=43.54212647440518&west=5.438526185192878&east=5.450887784840101"
   ]
  },
  {
   "cell_type": "code",
   "execution_count": 2,
   "id": "6f819826",
   "metadata": {},
   "outputs": [],
   "source": [
    "import requests"
   ]
  },
  {
   "cell_type": "code",
   "execution_count": 3,
   "id": "306530b5",
   "metadata": {},
   "outputs": [
    {
     "name": "stdout",
     "output_type": "stream",
     "text": [
      "200\n"
     ]
    }
   ],
   "source": [
    "response = requests.get(\"https://prochainement.transport.data.gouv.fr/api/gtfs-stops?south=43.5331335395461&north=43.54212647440518&west=5.438526185192878&east=5.450887784840101\")\n",
    "print(response.status_code)"
   ]
  },
  {
   "cell_type": "code",
   "execution_count": 4,
   "id": "8b16b2a8",
   "metadata": {},
   "outputs": [
    {
     "data": {
      "text/plain": [
       "<Response [200]>"
      ]
     },
     "execution_count": 4,
     "metadata": {},
     "output_type": "execute_result"
    }
   ],
   "source": [
    "response"
   ]
  },
  {
   "cell_type": "code",
   "execution_count": 5,
   "id": "bc14e65f",
   "metadata": {},
   "outputs": [
    {
     "name": "stdout",
     "output_type": "stream",
     "text": [
      "{'features': [{'geometry': {'coordinates': [5.446031121, 43.5332373439], 'type': 'Point'}, 'properties': {'data_import_id': 168106, 'dataset_id': 146, 'dataset_title': 'Agrégat de réseaux urbains et interurbains de la Métropole Aix-Marseille', 'location_type': 0, 'resource_id': 39603, 'resource_title': 'GTFS AIXENBUS ', 'stop_id': '1059157', 'stop_name': 'Pasteur'}, 'type': 'Feature'}, {'geometry': {'coordinates': [5.445870925, 43.5333059965], 'type': 'Point'}, 'properties': {'data_import_id': 168106, 'dataset_id': 146, 'dataset_title': 'Agrégat de réseaux urbains et interurbains de la Métropole Aix-Marseille', 'location_type': 0, 'resource_id': 39603, 'resource_title': 'GTFS AIXENBUS ', 'stop_id': '1059159', 'stop_name': 'Pasteur'}, 'type': 'Feature'}, {'geometry': {'coordinates': [5.4459739224, 43.5358427921], 'type': 'Point'}, 'properties': {'data_import_id': 168106, 'dataset_id': 146, 'dataset_title': 'Agrégat de réseaux urbains et interurbains de la Métropole Aix-Marseille', 'location_type': 0, 'resource_id': 39603, 'resource_title': 'GTFS AIXENBUS ', 'stop_id': '1058893', 'stop_name': 'Alexis'}, 'type': 'Feature'}, {'geometry': {'coordinates': [5.446146058, 43.5359457696], 'type': 'Point'}, 'properties': {'data_import_id': 168106, 'dataset_id': 146, 'dataset_title': 'Agrégat de réseaux urbains et interurbains de la Métropole Aix-Marseille', 'location_type': 0, 'resource_id': 39603, 'resource_title': 'GTFS AIXENBUS ', 'stop_id': '1058894', 'stop_name': 'Alexis'}, 'type': 'Feature'}, {'geometry': {'coordinates': [5.44676595, 43.5369795525], 'type': 'Point'}, 'properties': {'data_import_id': 168106, 'dataset_id': 146, 'dataset_title': 'Agrégat de réseaux urbains et interurbains de la Métropole Aix-Marseille', 'location_type': 0, 'resource_id': 39603, 'resource_title': 'GTFS AIXENBUS ', 'stop_id': '1058660', 'stop_name': 'Atelier Cézanne'}, 'type': 'Feature'}, {'geometry': {'coordinates': [5.4483328135, 43.5349882883], 'type': 'Point'}, 'properties': {'data_import_id': 168106, 'dataset_id': 146, 'dataset_title': 'Agrégat de réseaux urbains et interurbains de la Métropole Aix-Marseille', 'location_type': 0, 'resource_id': 39603, 'resource_title': 'GTFS AIXENBUS ', 'stop_id': '1058958', 'stop_name': 'Gianotti'}, 'type': 'Feature'}, {'geometry': {'coordinates': [5.4478632023, 43.5344465902], 'type': 'Point'}, 'properties': {'data_import_id': 168106, 'dataset_id': 146, 'dataset_title': 'Agrégat de réseaux urbains et interurbains de la Métropole Aix-Marseille', 'location_type': 0, 'resource_id': 39603, 'resource_title': 'GTFS AIXENBUS ', 'stop_id': '1058959', 'stop_name': 'Gianotti'}, 'type': 'Feature'}, {'geometry': {'coordinates': [5.4447560319, 43.5364684239], 'type': 'Point'}, 'properties': {'data_import_id': 168106, 'dataset_id': 146, 'dataset_title': 'Agrégat de réseaux urbains et interurbains de la Métropole Aix-Marseille', 'location_type': 0, 'resource_id': 39603, 'resource_title': 'GTFS AIXENBUS ', 'stop_id': '1059051', 'stop_name': 'Pâquerettes'}, 'type': 'Feature'}, {'geometry': {'coordinates': [5.4447808497, 43.5374182436], 'type': 'Point'}, 'properties': {'data_import_id': 168106, 'dataset_id': 146, 'dataset_title': 'Agrégat de réseaux urbains et interurbains de la Métropole Aix-Marseille', 'location_type': 0, 'resource_id': 39603, 'resource_title': 'GTFS AIXENBUS ', 'stop_id': '1059052', 'stop_name': 'Pâquerettes'}, 'type': 'Feature'}, {'geometry': {'coordinates': [5.446766951, 43.537845511], 'type': 'Point'}, 'properties': {'data_import_id': 168106, 'dataset_id': 146, 'dataset_title': 'Agrégat de réseaux urbains et interurbains de la Métropole Aix-Marseille', 'location_type': 0, 'resource_id': 39603, 'resource_title': 'GTFS AIXENBUS ', 'stop_id': '1059413', 'stop_name': 'Auriol'}, 'type': 'Feature'}, {'geometry': {'coordinates': [5.4460248796, 43.5399092527], 'type': 'Point'}, 'properties': {'data_import_id': 168106, 'dataset_id': 146, 'dataset_title': 'Agrégat de réseaux urbains et interurbains de la Métropole Aix-Marseille', 'location_type': 0, 'resource_id': 39603, 'resource_title': 'GTFS AIXENBUS ', 'stop_id': '1059186', 'stop_name': 'Cézanne'}, 'type': 'Feature'}, {'geometry': {'coordinates': [5.4459381428, 43.539855804], 'type': 'Point'}, 'properties': {'data_import_id': 168106, 'dataset_id': 146, 'dataset_title': 'Agrégat de réseaux urbains et interurbains de la Métropole Aix-Marseille', 'location_type': 0, 'resource_id': 39603, 'resource_title': 'GTFS AIXENBUS ', 'stop_id': '1059187', 'stop_name': 'Cézanne'}, 'type': 'Feature'}, {'geometry': {'coordinates': [5.442524035, 43.5397490505], 'type': 'Point'}, 'properties': {'data_import_id': 168106, 'dataset_id': 146, 'dataset_title': 'Agrégat de réseaux urbains et interurbains de la Métropole Aix-Marseille', 'location_type': 0, 'resource_id': 39603, 'resource_title': 'GTFS AIXENBUS ', 'stop_id': '1058934', 'stop_name': 'La Ginette'}, 'type': 'Feature'}, {'geometry': {'coordinates': [5.4425660121, 43.539954986], 'type': 'Point'}, 'properties': {'data_import_id': 168106, 'dataset_id': 146, 'dataset_title': 'Agrégat de réseaux urbains et interurbains de la Métropole Aix-Marseille', 'location_type': 0, 'resource_id': 39603, 'resource_title': 'GTFS AIXENBUS ', 'stop_id': '1058935', 'stop_name': 'La Ginette'}, 'type': 'Feature'}, {'geometry': {'coordinates': [5.4388499142, 43.5417059702], 'type': 'Point'}, 'properties': {'data_import_id': 168106, 'dataset_id': 146, 'dataset_title': 'Agrégat de réseaux urbains et interurbains de la Métropole Aix-Marseille', 'location_type': 0, 'resource_id': 39603, 'resource_title': 'GTFS AIXENBUS ', 'stop_id': '1059332', 'stop_name': 'Boutière'}, 'type': 'Feature'}, {'geometry': {'coordinates': [5.4389419404, 43.5413626168], 'type': 'Point'}, 'properties': {'data_import_id': 168106, 'dataset_id': 146, 'dataset_title': 'Agrégat de réseaux urbains et interurbains de la Métropole Aix-Marseille', 'location_type': 0, 'resource_id': 39603, 'resource_title': 'GTFS AIXENBUS ', 'stop_id': '1059333', 'stop_name': 'Boutière'}, 'type': 'Feature'}, {'geometry': {'coordinates': [5.4424868177, 43.5339239698], 'type': 'Point'}, 'properties': {'data_import_id': 168106, 'dataset_id': 146, 'dataset_title': 'Agrégat de réseaux urbains et interurbains de la Métropole Aix-Marseille', 'location_type': 0, 'resource_id': 39603, 'resource_title': 'GTFS AIXENBUS ', 'stop_id': '1059083', 'stop_name': 'Hôpital'}, 'type': 'Feature'}, {'geometry': {'coordinates': [5.4421282448, 43.5336340475], 'type': 'Point'}, 'properties': {'data_import_id': 168106, 'dataset_id': 146, 'dataset_title': 'Agrégat de réseaux urbains et interurbains de la Métropole Aix-Marseille', 'location_type': 0, 'resource_id': 39603, 'resource_title': 'GTFS AIXENBUS ', 'stop_id': '1059084', 'stop_name': 'Hôpital'}, 'type': 'Feature'}, {'geometry': {'coordinates': [5.4418368444, 43.5413855648], 'type': 'Point'}, 'properties': {'data_import_id': 168106, 'dataset_id': 146, 'dataset_title': 'Agrégat de réseaux urbains et interurbains de la Métropole Aix-Marseille', 'location_type': 0, 'resource_id': 39603, 'resource_title': 'GTFS AIXENBUS ', 'stop_id': '1059044', 'stop_name': 'Bellevue'}, 'type': 'Feature'}, {'geometry': {'coordinates': [5.4418998679, 43.5408819513], 'type': 'Point'}, 'properties': {'data_import_id': 168106, 'dataset_id': 146, 'dataset_title': 'Agrégat de réseaux urbains et interurbains de la Métropole Aix-Marseille', 'location_type': 0, 'resource_id': 39603, 'resource_title': 'GTFS AIXENBUS ', 'stop_id': '1059045', 'stop_name': 'Bellevue'}, 'type': 'Feature'}, {'geometry': {'coordinates': [5.4434772014, 43.5340307594], 'type': 'Point'}, 'properties': {'data_import_id': 168106, 'dataset_id': 146, 'dataset_title': 'Agrégat de réseaux urbains et interurbains de la Métropole Aix-Marseille', 'location_type': 0, 'resource_id': 39603, 'resource_title': 'GTFS AIXENBUS ', 'stop_id': '1058883', 'stop_name': 'Hôpital Pontier'}, 'type': 'Feature'}, {'geometry': {'coordinates': [5.4429998603, 43.5339964601], 'type': 'Point'}, 'properties': {'data_import_id': 168106, 'dataset_id': 146, 'dataset_title': 'Agrégat de réseaux urbains et interurbains de la Métropole Aix-Marseille', 'location_type': 0, 'resource_id': 39603, 'resource_title': 'GTFS AIXENBUS ', 'stop_id': '1058884', 'stop_name': 'Hôpital Pontier'}, 'type': 'Feature'}, {'geometry': {'coordinates': [5.4454760532, 43.5337332669], 'type': 'Point'}, 'properties': {'data_import_id': 168106, 'dataset_id': 146, 'dataset_title': 'Agrégat de réseaux urbains et interurbains de la Métropole Aix-Marseille', 'location_type': 0, 'resource_id': 39603, 'resource_title': 'GTFS AIXENBUS ', 'stop_id': '1059200', 'stop_name': 'Nation'}, 'type': 'Feature'}, {'geometry': {'coordinates': [5.4451908991, 43.5341185218], 'type': 'Point'}, 'properties': {'data_import_id': 168106, 'dataset_id': 146, 'dataset_title': 'Agrégat de réseaux urbains et interurbains de la Métropole Aix-Marseille', 'location_type': 0, 'resource_id': 39603, 'resource_title': 'GTFS AIXENBUS ', 'stop_id': '1059201', 'stop_name': 'Nation'}, 'type': 'Feature'}, {'geometry': {'coordinates': [5.4454169267, 43.5349806987], 'type': 'Point'}, 'properties': {'data_import_id': 168106, 'dataset_id': 146, 'dataset_title': 'Agrégat de réseaux urbains et interurbains de la Métropole Aix-Marseille', 'location_type': 0, 'resource_id': 39603, 'resource_title': 'GTFS AIXENBUS ', 'stop_id': '1059268', 'stop_name': 'Solari'}, 'type': 'Feature'}, {'geometry': {'coordinates': [5.4456300769, 43.5342443941], 'type': 'Point'}, 'properties': {'data_import_id': 168106, 'dataset_id': 146, 'dataset_title': 'Agrégat de réseaux urbains et interurbains de la Métropole Aix-Marseille', 'location_type': 0, 'resource_id': 39603, 'resource_title': 'GTFS AIXENBUS ', 'stop_id': '1059269', 'stop_name': 'Solari'}, 'type': 'Feature'}, {'geometry': {'coordinates': [5.4477401068, 43.5397718941], 'type': 'Point'}, 'properties': {'data_import_id': 168106, 'dataset_id': 146, 'dataset_title': 'Agrégat de réseaux urbains et interurbains de la Métropole Aix-Marseille', 'location_type': 0, 'resource_id': 39603, 'resource_title': 'GTFS AIXENBUS ', 'stop_id': '1058729', 'stop_name': 'Beisson'}, 'type': 'Feature'}, {'geometry': {'coordinates': [5.4477649328, 43.5397032706], 'type': 'Point'}, 'properties': {'data_import_id': 168106, 'dataset_id': 146, 'dataset_title': 'Agrégat de réseaux urbains et interurbains de la Métropole Aix-Marseille', 'location_type': 0, 'resource_id': 39603, 'resource_title': 'GTFS AIXENBUS ', 'stop_id': '1058730', 'stop_name': 'Beisson'}, 'type': 'Feature'}, {'geometry': {'coordinates': [5.441312865, 43.5358046398], 'type': 'Point'}, 'properties': {'data_import_id': 168106, 'dataset_id': 146, 'dataset_title': 'Agrégat de réseaux urbains et interurbains de la Métropole Aix-Marseille', 'location_type': 0, 'resource_id': 39603, 'resource_title': 'GTFS AIXENBUS ', 'stop_id': '1059147', 'stop_name': 'Hôpital Tamaris'}, 'type': 'Feature'}, {'geometry': {'coordinates': [5.438646779, 43.5396307575], 'type': 'Point'}, 'properties': {'data_import_id': 168106, 'dataset_id': 146, 'dataset_title': 'Agrégat de réseaux urbains et interurbains de la Métropole Aix-Marseille', 'location_type': 0, 'resource_id': 39603, 'resource_title': 'GTFS AIXENBUS ', 'stop_id': '1059342', 'stop_name': 'Lauriers'}, 'type': 'Feature'}, {'geometry': {'coordinates': [5.439164176, 43.5345572489], 'type': 'Point'}, 'properties': {'data_import_id': 168106, 'dataset_id': 146, 'dataset_title': 'Agrégat de réseaux urbains et interurbains de la Métropole Aix-Marseille', 'location_type': 0, 'resource_id': 39603, 'resource_title': 'GTFS AIXENBUS ', 'stop_id': '1058747', 'stop_name': 'Parc Mozart'}, 'type': 'Feature'}, {'geometry': {'coordinates': [5.446469783, 43.5343855356], 'type': 'Point'}, 'properties': {'data_import_id': 168106, 'dataset_id': 146, 'dataset_title': 'Agrégat de réseaux urbains et interurbains de la Métropole Aix-Marseille', 'location_type': 0, 'resource_id': 39603, 'resource_title': 'GTFS AIXENBUS ', 'stop_id': '1059158', 'stop_name': 'Pasteur Notre-Dame'}, 'type': 'Feature'}, {'geometry': {'coordinates': [5.449645044, 43.5389021953], 'type': 'Point'}, 'properties': {'data_import_id': 168106, 'dataset_id': 146, 'dataset_title': 'Agrégat de réseaux urbains et interurbains de la Métropole Aix-Marseille', 'location_type': 0, 'resource_id': 39603, 'resource_title': 'GTFS AIXENBUS ', 'stop_id': '1059293', 'stop_name': 'Peupliers'}, 'type': 'Feature'}, {'geometry': {'coordinates': [5.4498239247, 43.5389403028], 'type': 'Point'}, 'properties': {'data_import_id': 168106, 'dataset_id': 146, 'dataset_title': 'Agrégat de réseaux urbains et interurbains de la Métropole Aix-Marseille', 'location_type': 0, 'resource_id': 39603, 'resource_title': 'GTFS AIXENBUS ', 'stop_id': '1059294', 'stop_name': 'Peupliers'}, 'type': 'Feature'}], 'type': 'FeatureCollection'}\n"
     ]
    }
   ],
   "source": [
    "print(response.json())"
   ]
  },
  {
   "cell_type": "code",
   "execution_count": 8,
   "id": "d35aeacb",
   "metadata": {},
   "outputs": [],
   "source": [
    "j = response.json()"
   ]
  },
  {
   "cell_type": "code",
   "execution_count": 9,
   "id": "502a14bc",
   "metadata": {},
   "outputs": [],
   "source": [
    "import geopandas as gpd"
   ]
  },
  {
   "cell_type": "code",
   "execution_count": 10,
   "id": "6c9bb807",
   "metadata": {},
   "outputs": [
    {
     "name": "stdout",
     "output_type": "stream",
     "text": [
      "                   geometry  data_import_id  dataset_id  \\\n",
      "0  POINT (5.44603 43.53324)          168106         146   \n",
      "1  POINT (5.44587 43.53331)          168106         146   \n",
      "2  POINT (5.44597 43.53584)          168106         146   \n",
      "3  POINT (5.44615 43.53595)          168106         146   \n",
      "4  POINT (5.44677 43.53698)          168106         146   \n",
      "\n",
      "                                       dataset_title  location_type  \\\n",
      "0  Agrégat de réseaux urbains et interurbains de ...              0   \n",
      "1  Agrégat de réseaux urbains et interurbains de ...              0   \n",
      "2  Agrégat de réseaux urbains et interurbains de ...              0   \n",
      "3  Agrégat de réseaux urbains et interurbains de ...              0   \n",
      "4  Agrégat de réseaux urbains et interurbains de ...              0   \n",
      "\n",
      "   resource_id  resource_title  stop_id        stop_name  \n",
      "0        39603  GTFS AIXENBUS   1059157          Pasteur  \n",
      "1        39603  GTFS AIXENBUS   1059159          Pasteur  \n",
      "2        39603  GTFS AIXENBUS   1058893           Alexis  \n",
      "3        39603  GTFS AIXENBUS   1058894           Alexis  \n",
      "4        39603  GTFS AIXENBUS   1058660  Atelier Cézanne  \n"
     ]
    }
   ],
   "source": [
    "gdf = gpd.GeoDataFrame.from_features(j[\"features\"])\n",
    "print(gdf.head())"
   ]
  },
  {
   "cell_type": "code",
   "execution_count": 11,
   "id": "16fe603d",
   "metadata": {},
   "outputs": [
    {
     "name": "stderr",
     "output_type": "stream",
     "text": [
      "C:\\Git-Repos\\CIM\\venv\\Lib\\site-packages\\pyogrio\\raw.py:698: UserWarning: 'crs' was not provided.  The output dataset will not have projection information defined and may not be usable in other systems.\n",
      "  warnings.warn(\n"
     ]
    }
   ],
   "source": [
    "gdf.to_file('gtfs-stops-api.gpkg', driver = 'GPKG')"
   ]
  }
 ],
 "metadata": {
  "kernelspec": {
   "display_name": "Python 3 (ipykernel)",
   "language": "python",
   "name": "python3"
  },
  "language_info": {
   "codemirror_mode": {
    "name": "ipython",
    "version": 3
   },
   "file_extension": ".py",
   "mimetype": "text/x-python",
   "name": "python",
   "nbconvert_exporter": "python",
   "pygments_lexer": "ipython3",
   "version": "3.12.4"
  }
 },
 "nbformat": 4,
 "nbformat_minor": 5
}
