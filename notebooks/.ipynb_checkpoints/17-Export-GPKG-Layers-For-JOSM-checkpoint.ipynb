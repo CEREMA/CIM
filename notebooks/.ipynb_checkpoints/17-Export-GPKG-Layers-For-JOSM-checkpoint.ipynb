{
 "cells": [
  {
   "cell_type": "markdown",
   "id": "095acd1c",
   "metadata": {},
   "source": [
    "Dans ce notebook, on exporte toutes les couches d'un GPKG en des couches individuelles."
   ]
  },
  {
   "cell_type": "code",
   "execution_count": 3,
   "id": "68734f45",
   "metadata": {},
   "outputs": [],
   "source": [
    "import geopandas as gpd\n",
    "import fiona\n",
    "\n",
    "gpkg = '../terrain_data/raw/Aix Faubourg/Sextius 1 GPKG.gpkg'\n",
    "layers = fiona.listlayers(gpkg)"
   ]
  },
  {
   "cell_type": "code",
   "execution_count": 58,
   "id": "9a38112d",
   "metadata": {},
   "outputs": [
    {
     "name": "stdout",
     "output_type": "stream",
     "text": [
      "['arbres', 'avaloirs', 'bancs', 'barri_res_points', 'blocs_de_pierres_ou_b_ton', 'borne_amovible', 'bornes_incendie', 'camera', 'fontaine', 'jardini_res', 'Panneaux', 'passage_pi_tons', 'Potelet', 'trottoir_ligne', 'trottoir_poly', '_clairage', 'Photos', 'Tracks', 'TrackPoints', 'android_metadata'] 20\n"
     ]
    }
   ],
   "source": [
    "print(layers, len(layers))"
   ]
  },
  {
   "cell_type": "markdown",
   "id": "3bc49d6c",
   "metadata": {},
   "source": [
    "On ne prendra pas les éléments suivants :\n",
    "    \n",
    "- android_metadata\n",
    "- trottoir_poly (car souci de géométrie)\n",
    "- Photos"
   ]
  },
  {
   "cell_type": "code",
   "execution_count": 9,
   "id": "80505a19",
   "metadata": {},
   "outputs": [
    {
     "name": "stderr",
     "output_type": "stream",
     "text": [
      "C:\\Git-Repos\\cim\\venv\\Lib\\site-packages\\pyogrio\\raw.py:196: RuntimeWarning: GPKG: bad application_id=0x00000000 on '../terrain_data/raw/Aix Faubourg/Sextius 1 GPKG.gpkg'\n",
      "  return ogr_read(\n"
     ]
    },
    {
     "data": {
      "text/html": [
       "<div>\n",
       "<style scoped>\n",
       "    .dataframe tbody tr th:only-of-type {\n",
       "        vertical-align: middle;\n",
       "    }\n",
       "\n",
       "    .dataframe tbody tr th {\n",
       "        vertical-align: top;\n",
       "    }\n",
       "\n",
       "    .dataframe thead th {\n",
       "        text-align: right;\n",
       "    }\n",
       "</style>\n",
       "<table border=\"1\" class=\"dataframe\">\n",
       "  <thead>\n",
       "    <tr style=\"text-align: right;\">\n",
       "      <th></th>\n",
       "      <th>UUID</th>\n",
       "      <th>FID</th>\n",
       "      <th>_description</th>\n",
       "      <th>latitude</th>\n",
       "      <th>longitude</th>\n",
       "      <th>elevation</th>\n",
       "      <th>ortho_ht</th>\n",
       "      <th>time</th>\n",
       "      <th>fix_id</th>\n",
       "      <th>h_accuracy</th>\n",
       "      <th>v_accuracy</th>\n",
       "      <th>speed</th>\n",
       "      <th>bearing</th>\n",
       "      <th>geometry</th>\n",
       "    </tr>\n",
       "  </thead>\n",
       "  <tbody>\n",
       "    <tr>\n",
       "      <th>0</th>\n",
       "      <td>9d4c3802-9384-4519-8ead-08a37720c448</td>\n",
       "      <td>22</td>\n",
       "      <td></td>\n",
       "      <td>43.492110</td>\n",
       "      <td>6.363536</td>\n",
       "      <td>249.248</td>\n",
       "      <td>0.0</td>\n",
       "      <td>01-07-2024 13:24:22.000 GMT+02:00</td>\n",
       "      <td>5</td>\n",
       "      <td>0.067</td>\n",
       "      <td>0.109</td>\n",
       "      <td>0.014</td>\n",
       "      <td>0.0</td>\n",
       "      <td>POINT Z (6.36354 43.49211 249.24827)</td>\n",
       "    </tr>\n",
       "    <tr>\n",
       "      <th>1</th>\n",
       "      <td>b806f260-9544-4023-8ba1-46f852feb409</td>\n",
       "      <td>23</td>\n",
       "      <td>4,13</td>\n",
       "      <td>43.492115</td>\n",
       "      <td>6.363578</td>\n",
       "      <td>247.628</td>\n",
       "      <td>0.0</td>\n",
       "      <td>01-07-2024 13:24:38.800 GMT+02:00</td>\n",
       "      <td>5</td>\n",
       "      <td>0.139</td>\n",
       "      <td>0.293</td>\n",
       "      <td>0.018</td>\n",
       "      <td>0.0</td>\n",
       "      <td>POINT Z (6.36358 43.49211 247.62757)</td>\n",
       "    </tr>\n",
       "    <tr>\n",
       "      <th>2</th>\n",
       "      <td>9a656bd9-e637-4460-87d4-748cab29e56d</td>\n",
       "      <td>24</td>\n",
       "      <td>3,80</td>\n",
       "      <td>43.492114</td>\n",
       "      <td>6.363508</td>\n",
       "      <td>247.434</td>\n",
       "      <td>0.0</td>\n",
       "      <td>01-07-2024 13:24:58.800 GMT+02:00</td>\n",
       "      <td>5</td>\n",
       "      <td>0.381</td>\n",
       "      <td>0.654</td>\n",
       "      <td>0.174</td>\n",
       "      <td>0.0</td>\n",
       "      <td>POINT Z (6.36351 43.49211 247.43425)</td>\n",
       "    </tr>\n",
       "    <tr>\n",
       "      <th>3</th>\n",
       "      <td>413c8e70-76b6-4e4c-ae13-07838c34e15a</td>\n",
       "      <td>79</td>\n",
       "      <td>interférence</td>\n",
       "      <td>43.531372</td>\n",
       "      <td>5.443566</td>\n",
       "      <td>249.705</td>\n",
       "      <td>0.0</td>\n",
       "      <td>29-07-2024 10:57:43.600 GMT+02:00</td>\n",
       "      <td>5</td>\n",
       "      <td>0.120</td>\n",
       "      <td>0.170</td>\n",
       "      <td>0.008</td>\n",
       "      <td>0.0</td>\n",
       "      <td>POINT Z (5.44357 43.53137 249.705)</td>\n",
       "    </tr>\n",
       "  </tbody>\n",
       "</table>\n",
       "</div>"
      ],
      "text/plain": [
       "                                   UUID FID  _description   latitude  \\\n",
       "0  9d4c3802-9384-4519-8ead-08a37720c448  22                43.492110   \n",
       "1  b806f260-9544-4023-8ba1-46f852feb409  23          4,13  43.492115   \n",
       "2  9a656bd9-e637-4460-87d4-748cab29e56d  24          3,80  43.492114   \n",
       "3  413c8e70-76b6-4e4c-ae13-07838c34e15a  79  interférence  43.531372   \n",
       "\n",
       "   longitude  elevation  ortho_ht                               time  fix_id  \\\n",
       "0   6.363536    249.248       0.0  01-07-2024 13:24:22.000 GMT+02:00       5   \n",
       "1   6.363578    247.628       0.0  01-07-2024 13:24:38.800 GMT+02:00       5   \n",
       "2   6.363508    247.434       0.0  01-07-2024 13:24:58.800 GMT+02:00       5   \n",
       "3   5.443566    249.705       0.0  29-07-2024 10:57:43.600 GMT+02:00       5   \n",
       "\n",
       "   h_accuracy  v_accuracy  speed  bearing  \\\n",
       "0       0.067       0.109  0.014      0.0   \n",
       "1       0.139       0.293  0.018      0.0   \n",
       "2       0.381       0.654  0.174      0.0   \n",
       "3       0.120       0.170  0.008      0.0   \n",
       "\n",
       "                               geometry  \n",
       "0  POINT Z (6.36354 43.49211 249.24827)  \n",
       "1  POINT Z (6.36358 43.49211 247.62757)  \n",
       "2  POINT Z (6.36351 43.49211 247.43425)  \n",
       "3    POINT Z (5.44357 43.53137 249.705)  "
      ]
     },
     "execution_count": 9,
     "metadata": {},
     "output_type": "execute_result"
    }
   ],
   "source": [
    "gpd.read_file(gpkg, layer='arbres')"
   ]
  },
  {
   "cell_type": "code",
   "execution_count": 56,
   "id": "b360bb34",
   "metadata": {},
   "outputs": [
    {
     "name": "stderr",
     "output_type": "stream",
     "text": [
      "C:\\Git-Repos\\cim\\venv\\Lib\\site-packages\\pyogrio\\raw.py:196: RuntimeWarning: GPKG: bad application_id=0x00000000 on '../terrain_data/raw/Aix Faubourg/Sextius 1 GPKG.gpkg'\n",
      "  return ogr_read(\n"
     ]
    },
    {
     "ename": "GEOSException",
     "evalue": "IllegalArgumentException: Points of LinearRing do not form a closed linestring",
     "output_type": "error",
     "traceback": [
      "\u001b[1;31m---------------------------------------------------------------------------\u001b[0m",
      "\u001b[1;31mGEOSException\u001b[0m                             Traceback (most recent call last)",
      "Cell \u001b[1;32mIn[56], line 1\u001b[0m\n\u001b[1;32m----> 1\u001b[0m \u001b[43mgpd\u001b[49m\u001b[38;5;241;43m.\u001b[39;49m\u001b[43mread_file\u001b[49m\u001b[43m(\u001b[49m\u001b[43mgpkg\u001b[49m\u001b[43m,\u001b[49m\u001b[43m \u001b[49m\u001b[43mlayer\u001b[49m\u001b[38;5;241;43m=\u001b[39;49m\u001b[38;5;124;43m'\u001b[39;49m\u001b[38;5;124;43mtrottoir_poly\u001b[39;49m\u001b[38;5;124;43m'\u001b[39;49m\u001b[43m)\u001b[49m\n",
      "File \u001b[1;32mC:\\Git-Repos\\cim\\venv\\Lib\\site-packages\\geopandas\\io\\file.py:294\u001b[0m, in \u001b[0;36m_read_file\u001b[1;34m(filename, bbox, mask, columns, rows, engine, **kwargs)\u001b[0m\n\u001b[0;32m    291\u001b[0m             from_bytes \u001b[38;5;241m=\u001b[39m \u001b[38;5;28;01mTrue\u001b[39;00m\n\u001b[0;32m    293\u001b[0m \u001b[38;5;28;01mif\u001b[39;00m engine \u001b[38;5;241m==\u001b[39m \u001b[38;5;124m\"\u001b[39m\u001b[38;5;124mpyogrio\u001b[39m\u001b[38;5;124m\"\u001b[39m:\n\u001b[1;32m--> 294\u001b[0m     \u001b[38;5;28;01mreturn\u001b[39;00m \u001b[43m_read_file_pyogrio\u001b[49m\u001b[43m(\u001b[49m\n\u001b[0;32m    295\u001b[0m \u001b[43m        \u001b[49m\u001b[43mfilename\u001b[49m\u001b[43m,\u001b[49m\u001b[43m \u001b[49m\u001b[43mbbox\u001b[49m\u001b[38;5;241;43m=\u001b[39;49m\u001b[43mbbox\u001b[49m\u001b[43m,\u001b[49m\u001b[43m \u001b[49m\u001b[43mmask\u001b[49m\u001b[38;5;241;43m=\u001b[39;49m\u001b[43mmask\u001b[49m\u001b[43m,\u001b[49m\u001b[43m \u001b[49m\u001b[43mcolumns\u001b[49m\u001b[38;5;241;43m=\u001b[39;49m\u001b[43mcolumns\u001b[49m\u001b[43m,\u001b[49m\u001b[43m \u001b[49m\u001b[43mrows\u001b[49m\u001b[38;5;241;43m=\u001b[39;49m\u001b[43mrows\u001b[49m\u001b[43m,\u001b[49m\u001b[43m \u001b[49m\u001b[38;5;241;43m*\u001b[39;49m\u001b[38;5;241;43m*\u001b[39;49m\u001b[43mkwargs\u001b[49m\n\u001b[0;32m    296\u001b[0m \u001b[43m    \u001b[49m\u001b[43m)\u001b[49m\n\u001b[0;32m    298\u001b[0m \u001b[38;5;28;01melif\u001b[39;00m engine \u001b[38;5;241m==\u001b[39m \u001b[38;5;124m\"\u001b[39m\u001b[38;5;124mfiona\u001b[39m\u001b[38;5;124m\"\u001b[39m:\n\u001b[0;32m    299\u001b[0m     \u001b[38;5;28;01mif\u001b[39;00m pd\u001b[38;5;241m.\u001b[39mapi\u001b[38;5;241m.\u001b[39mtypes\u001b[38;5;241m.\u001b[39mis_file_like(filename):\n",
      "File \u001b[1;32mC:\\Git-Repos\\cim\\venv\\Lib\\site-packages\\geopandas\\io\\file.py:547\u001b[0m, in \u001b[0;36m_read_file_pyogrio\u001b[1;34m(path_or_bytes, bbox, mask, rows, **kwargs)\u001b[0m\n\u001b[0;32m    538\u001b[0m     warnings\u001b[38;5;241m.\u001b[39mwarn(\n\u001b[0;32m    539\u001b[0m         \u001b[38;5;124m\"\u001b[39m\u001b[38;5;124mThe \u001b[39m\u001b[38;5;124m'\u001b[39m\u001b[38;5;124minclude_fields\u001b[39m\u001b[38;5;124m'\u001b[39m\u001b[38;5;124m and \u001b[39m\u001b[38;5;124m'\u001b[39m\u001b[38;5;124mignore_fields\u001b[39m\u001b[38;5;124m'\u001b[39m\u001b[38;5;124m keywords are deprecated, and \u001b[39m\u001b[38;5;124m\"\u001b[39m\n\u001b[0;32m    540\u001b[0m         \u001b[38;5;124m\"\u001b[39m\u001b[38;5;124mwill be removed in a future release. You can use the \u001b[39m\u001b[38;5;124m'\u001b[39m\u001b[38;5;124mcolumns\u001b[39m\u001b[38;5;124m'\u001b[39m\u001b[38;5;124m keyword \u001b[39m\u001b[38;5;124m\"\u001b[39m\n\u001b[1;32m   (...)\u001b[0m\n\u001b[0;32m    543\u001b[0m         stacklevel\u001b[38;5;241m=\u001b[39m\u001b[38;5;241m3\u001b[39m,\n\u001b[0;32m    544\u001b[0m     )\n\u001b[0;32m    545\u001b[0m     kwargs[\u001b[38;5;124m\"\u001b[39m\u001b[38;5;124mcolumns\u001b[39m\u001b[38;5;124m\"\u001b[39m] \u001b[38;5;241m=\u001b[39m kwargs\u001b[38;5;241m.\u001b[39mpop(\u001b[38;5;124m\"\u001b[39m\u001b[38;5;124minclude_fields\u001b[39m\u001b[38;5;124m\"\u001b[39m)\n\u001b[1;32m--> 547\u001b[0m \u001b[38;5;28;01mreturn\u001b[39;00m \u001b[43mpyogrio\u001b[49m\u001b[38;5;241;43m.\u001b[39;49m\u001b[43mread_dataframe\u001b[49m\u001b[43m(\u001b[49m\u001b[43mpath_or_bytes\u001b[49m\u001b[43m,\u001b[49m\u001b[43m \u001b[49m\u001b[43mbbox\u001b[49m\u001b[38;5;241;43m=\u001b[39;49m\u001b[43mbbox\u001b[49m\u001b[43m,\u001b[49m\u001b[43m \u001b[49m\u001b[38;5;241;43m*\u001b[39;49m\u001b[38;5;241;43m*\u001b[39;49m\u001b[43mkwargs\u001b[49m\u001b[43m)\u001b[49m\n",
      "File \u001b[1;32mC:\\Git-Repos\\cim\\venv\\Lib\\site-packages\\pyogrio\\geopandas.py:327\u001b[0m, in \u001b[0;36mread_dataframe\u001b[1;34m(path_or_buffer, layer, encoding, columns, read_geometry, force_2d, skip_features, max_features, where, bbox, mask, fids, sql, sql_dialect, fid_as_index, use_arrow, on_invalid, arrow_to_pandas_kwargs, **kwargs)\u001b[0m\n\u001b[0;32m    324\u001b[0m \u001b[38;5;28;01mif\u001b[39;00m geometry \u001b[38;5;129;01mis\u001b[39;00m \u001b[38;5;28;01mNone\u001b[39;00m \u001b[38;5;129;01mor\u001b[39;00m \u001b[38;5;129;01mnot\u001b[39;00m read_geometry:\n\u001b[0;32m    325\u001b[0m     \u001b[38;5;28;01mreturn\u001b[39;00m df\n\u001b[1;32m--> 327\u001b[0m geometry \u001b[38;5;241m=\u001b[39m \u001b[43mshapely\u001b[49m\u001b[38;5;241;43m.\u001b[39;49m\u001b[43mfrom_wkb\u001b[49m\u001b[43m(\u001b[49m\u001b[43mgeometry\u001b[49m\u001b[43m,\u001b[49m\u001b[43m \u001b[49m\u001b[43mon_invalid\u001b[49m\u001b[38;5;241;43m=\u001b[39;49m\u001b[43mon_invalid\u001b[49m\u001b[43m)\u001b[49m\n\u001b[0;32m    329\u001b[0m \u001b[38;5;28;01mreturn\u001b[39;00m gp\u001b[38;5;241m.\u001b[39mGeoDataFrame(df, geometry\u001b[38;5;241m=\u001b[39mgeometry, crs\u001b[38;5;241m=\u001b[39mmeta[\u001b[38;5;124m\"\u001b[39m\u001b[38;5;124mcrs\u001b[39m\u001b[38;5;124m\"\u001b[39m])\n",
      "File \u001b[1;32mC:\\Git-Repos\\cim\\venv\\Lib\\site-packages\\shapely\\io.py:320\u001b[0m, in \u001b[0;36mfrom_wkb\u001b[1;34m(geometry, on_invalid, **kwargs)\u001b[0m\n\u001b[0;32m    316\u001b[0m \u001b[38;5;66;03m# ensure the input has object dtype, to avoid numpy inferring it as a\u001b[39;00m\n\u001b[0;32m    317\u001b[0m \u001b[38;5;66;03m# fixed-length string dtype (which removes trailing null bytes upon access\u001b[39;00m\n\u001b[0;32m    318\u001b[0m \u001b[38;5;66;03m# of array elements)\u001b[39;00m\n\u001b[0;32m    319\u001b[0m geometry \u001b[38;5;241m=\u001b[39m np\u001b[38;5;241m.\u001b[39masarray(geometry, dtype\u001b[38;5;241m=\u001b[39m\u001b[38;5;28mobject\u001b[39m)\n\u001b[1;32m--> 320\u001b[0m \u001b[38;5;28;01mreturn\u001b[39;00m \u001b[43mlib\u001b[49m\u001b[38;5;241;43m.\u001b[39;49m\u001b[43mfrom_wkb\u001b[49m\u001b[43m(\u001b[49m\u001b[43mgeometry\u001b[49m\u001b[43m,\u001b[49m\u001b[43m \u001b[49m\u001b[43minvalid_handler\u001b[49m\u001b[43m,\u001b[49m\u001b[43m \u001b[49m\u001b[38;5;241;43m*\u001b[39;49m\u001b[38;5;241;43m*\u001b[39;49m\u001b[43mkwargs\u001b[49m\u001b[43m)\u001b[49m\n",
      "\u001b[1;31mGEOSException\u001b[0m: IllegalArgumentException: Points of LinearRing do not form a closed linestring"
     ]
    }
   ],
   "source": [
    "gpd.read_file(gpkg, layer='trottoir_poly')"
   ]
  },
  {
   "cell_type": "code",
   "execution_count": 57,
   "id": "b132a9ff",
   "metadata": {},
   "outputs": [
    {
     "name": "stdout",
     "output_type": "stream",
     "text": [
      "<fiona.model.Geometry object at 0x00000222AC246AB0>\n",
      "<fiona.model.Geometry object at 0x00000222AB9C7170>\n",
      "<fiona.model.Geometry object at 0x00000222AB9C69C0>\n"
     ]
    }
   ],
   "source": [
    "with fiona.open(gpkg, layer='trottoir_poly') as layer:\n",
    "    for feature in layer:\n",
    "        print(feature['geometry'])\n",
    "        geom = feature['geometry']"
   ]
  },
  {
   "cell_type": "code",
   "execution_count": 49,
   "id": "d2974173",
   "metadata": {},
   "outputs": [
    {
     "name": "stderr",
     "output_type": "stream",
     "text": [
      "C:\\Git-Repos\\cim\\venv\\Lib\\site-packages\\pyogrio\\raw.py:196: RuntimeWarning: GPKG: bad application_id=0x00000000 on '../terrain_data/raw/Aix Faubourg/Sextius 1 GPKG.gpkg'\n",
      "  return ogr_read(\n",
      "C:\\Git-Repos\\cim\\venv\\Lib\\site-packages\\pyogrio\\raw.py:196: RuntimeWarning: Field format 'NUMBER' not supported\n",
      "  return ogr_read(\n",
      "C:\\Git-Repos\\cim\\venv\\Lib\\site-packages\\pyogrio\\raw.py:196: RuntimeWarning: geometry column 'length' of type 'NUMBER' ignored\n",
      "  return ogr_read(\n"
     ]
    },
    {
     "data": {
      "text/html": [
       "<div>\n",
       "<style scoped>\n",
       "    .dataframe tbody tr th:only-of-type {\n",
       "        vertical-align: middle;\n",
       "    }\n",
       "\n",
       "    .dataframe tbody tr th {\n",
       "        vertical-align: top;\n",
       "    }\n",
       "\n",
       "    .dataframe thead th {\n",
       "        text-align: right;\n",
       "    }\n",
       "</style>\n",
       "<table border=\"1\" class=\"dataframe\">\n",
       "  <thead>\n",
       "    <tr style=\"text-align: right;\">\n",
       "      <th></th>\n",
       "      <th>FID</th>\n",
       "      <th>UUID</th>\n",
       "      <th>name</th>\n",
       "      <th>remarks</th>\n",
       "      <th>start_time</th>\n",
       "      <th>end_time</th>\n",
       "      <th>geometry</th>\n",
       "    </tr>\n",
       "  </thead>\n",
       "  <tbody>\n",
       "    <tr>\n",
       "      <th>0</th>\n",
       "      <td>0</td>\n",
       "      <td>e304aaab-98a0-4924-b7ce-86fa3ba0cf41</td>\n",
       "      <td>trace2</td>\n",
       "      <td></td>\n",
       "      <td>01-07-2024 12:33:43.600 GMT+02:00</td>\n",
       "      <td>01-07-2024 12:52:11.600 GMT+02:00</td>\n",
       "      <td>LINESTRING Z (6.36353 43.49211 246.386, 6.3635...</td>\n",
       "    </tr>\n",
       "  </tbody>\n",
       "</table>\n",
       "</div>"
      ],
      "text/plain": [
       "   FID                                  UUID    name remarks  \\\n",
       "0    0  e304aaab-98a0-4924-b7ce-86fa3ba0cf41  trace2           \n",
       "\n",
       "                          start_time                           end_time  \\\n",
       "0  01-07-2024 12:33:43.600 GMT+02:00  01-07-2024 12:52:11.600 GMT+02:00   \n",
       "\n",
       "                                            geometry  \n",
       "0  LINESTRING Z (6.36353 43.49211 246.386, 6.3635...  "
      ]
     },
     "execution_count": 49,
     "metadata": {},
     "output_type": "execute_result"
    }
   ],
   "source": [
    "data = gpd.read_file(gpkg, layer='Tracks')\n",
    "data.insert(0, 'FID', range(0, len(data)))\n",
    "data"
   ]
  },
  {
   "cell_type": "code",
   "execution_count": 55,
   "id": "83e119fc",
   "metadata": {},
   "outputs": [
    {
     "name": "stdout",
     "output_type": "stream",
     "text": [
      "arbres\n",
      "../terrain_data/raw/Aix Faubourg/Sextius1-arbres.gpkg\n",
      "avaloirs\n",
      "../terrain_data/raw/Aix Faubourg/Sextius1-avaloirs.gpkg\n",
      "bancs\n",
      "../terrain_data/raw/Aix Faubourg/Sextius1-bancs.gpkg\n",
      "barri_res_points\n",
      "../terrain_data/raw/Aix Faubourg/Sextius1-barri_res_points.gpkg\n",
      "blocs_de_pierres_ou_b_ton\n",
      "../terrain_data/raw/Aix Faubourg/Sextius1-blocs_de_pierres_ou_b_ton.gpkg\n"
     ]
    },
    {
     "name": "stderr",
     "output_type": "stream",
     "text": [
      "C:\\Git-Repos\\cim\\venv\\Lib\\site-packages\\pyogrio\\raw.py:196: RuntimeWarning: GPKG: bad application_id=0x00000000 on '../terrain_data/raw/Aix Faubourg/Sextius 1 GPKG.gpkg'\n",
      "  return ogr_read(\n",
      "C:\\Git-Repos\\cim\\venv\\Lib\\site-packages\\pyogrio\\raw.py:196: RuntimeWarning: GPKG: bad application_id=0x00000000 on '../terrain_data/raw/Aix Faubourg/Sextius 1 GPKG.gpkg'\n",
      "  return ogr_read(\n",
      "C:\\Git-Repos\\cim\\venv\\Lib\\site-packages\\pyogrio\\raw.py:196: RuntimeWarning: GPKG: bad application_id=0x00000000 on '../terrain_data/raw/Aix Faubourg/Sextius 1 GPKG.gpkg'\n",
      "  return ogr_read(\n",
      "C:\\Git-Repos\\cim\\venv\\Lib\\site-packages\\pyogrio\\raw.py:196: RuntimeWarning: GPKG: bad application_id=0x00000000 on '../terrain_data/raw/Aix Faubourg/Sextius 1 GPKG.gpkg'\n",
      "  return ogr_read(\n",
      "C:\\Git-Repos\\cim\\venv\\Lib\\site-packages\\pyogrio\\raw.py:196: RuntimeWarning: GPKG: bad application_id=0x00000000 on '../terrain_data/raw/Aix Faubourg/Sextius 1 GPKG.gpkg'\n",
      "  return ogr_read(\n"
     ]
    },
    {
     "name": "stdout",
     "output_type": "stream",
     "text": [
      "borne_amovible\n",
      "../terrain_data/raw/Aix Faubourg/Sextius1-borne_amovible.gpkg\n",
      "bornes_incendie\n",
      "../terrain_data/raw/Aix Faubourg/Sextius1-bornes_incendie.gpkg\n",
      "camera\n",
      "../terrain_data/raw/Aix Faubourg/Sextius1-camera.gpkg\n",
      "fontaine\n",
      "../terrain_data/raw/Aix Faubourg/Sextius1-fontaine.gpkg\n",
      "jardini_res\n",
      "../terrain_data/raw/Aix Faubourg/Sextius1-jardini_res.gpkg\n",
      "Panneaux\n",
      "../terrain_data/raw/Aix Faubourg/Sextius1-Panneaux.gpkg\n"
     ]
    },
    {
     "name": "stderr",
     "output_type": "stream",
     "text": [
      "C:\\Git-Repos\\cim\\venv\\Lib\\site-packages\\pyogrio\\raw.py:196: RuntimeWarning: GPKG: bad application_id=0x00000000 on '../terrain_data/raw/Aix Faubourg/Sextius 1 GPKG.gpkg'\n",
      "  return ogr_read(\n",
      "C:\\Git-Repos\\cim\\venv\\Lib\\site-packages\\pyogrio\\raw.py:196: RuntimeWarning: GPKG: bad application_id=0x00000000 on '../terrain_data/raw/Aix Faubourg/Sextius 1 GPKG.gpkg'\n",
      "  return ogr_read(\n",
      "C:\\Git-Repos\\cim\\venv\\Lib\\site-packages\\pyogrio\\raw.py:196: RuntimeWarning: GPKG: bad application_id=0x00000000 on '../terrain_data/raw/Aix Faubourg/Sextius 1 GPKG.gpkg'\n",
      "  return ogr_read(\n",
      "C:\\Git-Repos\\cim\\venv\\Lib\\site-packages\\pyogrio\\raw.py:196: RuntimeWarning: GPKG: bad application_id=0x00000000 on '../terrain_data/raw/Aix Faubourg/Sextius 1 GPKG.gpkg'\n",
      "  return ogr_read(\n",
      "C:\\Git-Repos\\cim\\venv\\Lib\\site-packages\\pyogrio\\raw.py:196: RuntimeWarning: GPKG: bad application_id=0x00000000 on '../terrain_data/raw/Aix Faubourg/Sextius 1 GPKG.gpkg'\n",
      "  return ogr_read(\n",
      "C:\\Git-Repos\\cim\\venv\\Lib\\site-packages\\pyogrio\\raw.py:196: RuntimeWarning: GPKG: bad application_id=0x00000000 on '../terrain_data/raw/Aix Faubourg/Sextius 1 GPKG.gpkg'\n",
      "  return ogr_read(\n"
     ]
    },
    {
     "name": "stdout",
     "output_type": "stream",
     "text": [
      "passage_pi_tons\n",
      "../terrain_data/raw/Aix Faubourg/Sextius1-passage_pi_tons.gpkg\n",
      "Potelet\n",
      "../terrain_data/raw/Aix Faubourg/Sextius1-Potelet.gpkg\n",
      "trottoir_ligne\n",
      "../terrain_data/raw/Aix Faubourg/Sextius1-trottoir_ligne.gpkg\n",
      "_clairage\n",
      "../terrain_data/raw/Aix Faubourg/Sextius1-_clairage.gpkg\n",
      "Tracks\n",
      "../terrain_data/raw/Aix Faubourg/Sextius1-Tracks.gpkg\n"
     ]
    },
    {
     "name": "stderr",
     "output_type": "stream",
     "text": [
      "C:\\Git-Repos\\cim\\venv\\Lib\\site-packages\\pyogrio\\raw.py:196: RuntimeWarning: GPKG: bad application_id=0x00000000 on '../terrain_data/raw/Aix Faubourg/Sextius 1 GPKG.gpkg'\n",
      "  return ogr_read(\n",
      "C:\\Git-Repos\\cim\\venv\\Lib\\site-packages\\pyogrio\\raw.py:196: RuntimeWarning: GPKG: bad application_id=0x00000000 on '../terrain_data/raw/Aix Faubourg/Sextius 1 GPKG.gpkg'\n",
      "  return ogr_read(\n",
      "C:\\Git-Repos\\cim\\venv\\Lib\\site-packages\\pyogrio\\raw.py:196: RuntimeWarning: GPKG: bad application_id=0x00000000 on '../terrain_data/raw/Aix Faubourg/Sextius 1 GPKG.gpkg'\n",
      "  return ogr_read(\n",
      "C:\\Git-Repos\\cim\\venv\\Lib\\site-packages\\pyogrio\\raw.py:196: RuntimeWarning: GPKG: bad application_id=0x00000000 on '../terrain_data/raw/Aix Faubourg/Sextius 1 GPKG.gpkg'\n",
      "  return ogr_read(\n",
      "C:\\Git-Repos\\cim\\venv\\Lib\\site-packages\\pyogrio\\raw.py:196: RuntimeWarning: GPKG: bad application_id=0x00000000 on '../terrain_data/raw/Aix Faubourg/Sextius 1 GPKG.gpkg'\n",
      "  return ogr_read(\n",
      "C:\\Git-Repos\\cim\\venv\\Lib\\site-packages\\pyogrio\\raw.py:196: RuntimeWarning: Field format 'NUMBER' not supported\n",
      "  return ogr_read(\n",
      "C:\\Git-Repos\\cim\\venv\\Lib\\site-packages\\pyogrio\\raw.py:196: RuntimeWarning: geometry column 'length' of type 'NUMBER' ignored\n",
      "  return ogr_read(\n"
     ]
    },
    {
     "name": "stdout",
     "output_type": "stream",
     "text": [
      "TrackPoints\n",
      "../terrain_data/raw/Aix Faubourg/Sextius1-TrackPoints.gpkg\n",
      "android_metadata\n",
      "../terrain_data/raw/Aix Faubourg/Sextius1-android_metadata.gpkg\n"
     ]
    },
    {
     "name": "stderr",
     "output_type": "stream",
     "text": [
      "C:\\Git-Repos\\cim\\venv\\Lib\\site-packages\\pyogrio\\raw.py:196: RuntimeWarning: GPKG: bad application_id=0x00000000 on '../terrain_data/raw/Aix Faubourg/Sextius 1 GPKG.gpkg'\n",
      "  return ogr_read(\n",
      "C:\\Git-Repos\\cim\\venv\\Lib\\site-packages\\pyogrio\\raw.py:196: RuntimeWarning: GPKG: bad application_id=0x00000000 on '../terrain_data/raw/Aix Faubourg/Sextius 1 GPKG.gpkg'\n",
      "  return ogr_read(\n"
     ]
    }
   ],
   "source": [
    "import os\n",
    "\n",
    "for mylayer in layers:\n",
    "    if mylayer in ('trottoir_poly', 'Photos'):\n",
    "        continue\n",
    "        \n",
    "    print(mylayer)\n",
    "    data = gpd.read_file(gpkg, layer=mylayer)\n",
    "    \n",
    "    if 'FID' not in data.columns:\n",
    "        data.insert(0, 'FID', range(0, len(data)))\n",
    "    \n",
    "    data = data.astype({'FID': 'int32'})\n",
    "    \n",
    "    filename = 'Sextius1-%s.gpkg'%(mylayer)\n",
    "    fileoutput = os.path.join('../terrain_data/raw/Aix Faubourg/', filename)\n",
    "    print(fileoutput)\n",
    "    if 'geometry' in data.columns :\n",
    "        data.to_file(fileoutput, driver = 'GPKG')"
   ]
  }
 ],
 "metadata": {
  "kernelspec": {
   "display_name": "cim",
   "language": "python",
   "name": "cim"
  },
  "language_info": {
   "codemirror_mode": {
    "name": "ipython",
    "version": 3
   },
   "file_extension": ".py",
   "mimetype": "text/x-python",
   "name": "python",
   "nbconvert_exporter": "python",
   "pygments_lexer": "ipython3",
   "version": "3.12.4"
  }
 },
 "nbformat": 4,
 "nbformat_minor": 5
}
