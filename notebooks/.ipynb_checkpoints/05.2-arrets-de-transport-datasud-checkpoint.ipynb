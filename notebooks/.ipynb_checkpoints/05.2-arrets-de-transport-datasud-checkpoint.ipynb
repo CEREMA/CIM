{
 "cells": [
  {
   "cell_type": "markdown",
   "id": "b6013c13-6958-43b4-8f94-1206a614376d",
   "metadata": {},
   "source": [
    "# # Récupération de la donnée \"arrets-de-transport\" de data.ampmetropole.fr à partir d'un bbox\n",
    "https://trouver.datasud.fr/dataset/sync-fr-gtfs-stop-connectehttpsdataampmetropolefrexplore/resource/c23ac74c-a621-41e7-9b41-6218712dcd35"
   ]
  },
  {
   "cell_type": "code",
   "execution_count": 5,
   "id": "8ea6f8a1-7557-42a2-aedb-db87b8e74bfb",
   "metadata": {},
   "outputs": [
    {
     "name": "stdout",
     "output_type": "stream",
     "text": [
      "il s'agit de 143 arrets dee transport au niveau du territoire d'étude\n",
      "end\n"
     ]
    },
    {
     "data": {
      "application/vnd.jupyter.widget-view+json": {
       "model_id": "ed2ec8c8e49d479c86478c2022c54384",
       "version_major": 2,
       "version_minor": 0
      },
      "text/plain": [
       "Map(center=[43.3062265, 5.400173000000001], controls=(ZoomControl(options=['position', 'zoom_in_text', 'zoom_i…"
      ]
     },
     "metadata": {},
     "output_type": "display_data"
    }
   ],
   "source": [
    "#exemple : bbox = (S=43.295426, N=43.317027, E=5.389065, W=5.411281)\n",
    "import requests\n",
    "import pandas as pd\n",
    "import geopandas as gpd\n",
    "import json\n",
    "from shapely.geometry import Point, box, polygon\n",
    "from ipyleaflet import Map, GeoJSON, GeoData, ZoomControl\n",
    "\n",
    "# URL du fichier geojson contenant les arrêts de transport en data.ampmetropole.fr\n",
    "url_geojson = 'https://data.ampmetropole.fr/api/v2/catalog/datasets/fr-gtfs-stop-connecte/exports/geojson'\n",
    "r =  requests.get(url_geojson)\n",
    "dictjson=r.json()\n",
    "\n",
    "# Créer un GeoDataFrame à partir du dictionnaire du geojson\n",
    "gdf_arrets_datasud = gpd.GeoDataFrame.from_features(dictjson)\n",
    "\n",
    "E=5.389065\n",
    "S=43.295426\n",
    "W=5.411281\n",
    "N=43.317027\n",
    "\n",
    "bound=box(E,S,W,N)\n",
    "boundgdf = gpd.GeoDataFrame({'geometry': [bound]}, crs='EPSG:4326') #avoir le geodataframe du bbox\n",
    "\n",
    "bounding_area = boundgdf\n",
    "boundgdf.set_crs(epsg=4326, inplace=True)\n",
    "gdf_arrets_datasud.set_crs(epsg=4326, inplace=True)\n",
    "\n",
    "gdf_filtered = gpd.sjoin(gdf_arrets_datasud, bounding_area, predicate='intersects')\n",
    "gdf_filtered.set_crs(4326, allow_override=True)\n",
    "print(\"il s'agit de %d arrets dee transport au niveau du territoire d'étude\" % len(gdf_filtered))\n",
    "#arrets_bbox = gdf_filtered.to_file(output_folder)\n",
    "\n",
    "bbox=(S,N,E,W)\n",
    "xmoy=(bbox[2]+bbox[3])/2\n",
    "ymoy=(bbox[0]+bbox[1])/2\n",
    "\n",
    "m = Map(center=(ymoy, xmoy), zoom=14)\n",
    "\n",
    "gdf =  gdf_filtered\n",
    "bounding = boundgdf\n",
    "\n",
    "geo_data1 = GeoData(geo_dataframe = gdf,\n",
    "    style={'color': 'black', 'radius':3, 'fillColor': '#cc3333', 'opacity':1, 'weight':1, 'dashArray':'2', 'fillOpacity':1},\n",
    "    hover_style={'fillColor': 'red' , 'fillOpacity': 0.2},\n",
    "    point_style={'radius': 5, 'color': 'red', 'fillOpacity': 0.8, 'fillColor': 'blue', 'weight': 3},\n",
    "    name = 'Release')\n",
    "\n",
    "geo_data2 = GeoData(geo_dataframe = bounding,\n",
    "    style={'color': 'blue', 'radius':2, 'fillColor': '#004dff', 'opacity':1, 'weight':2, 'dashArray':'1', 'fillOpacity':0})\n",
    "\n",
    "m.add(geo_data2)\n",
    "m.add(geo_data1)\n",
    "print(\"end\")\n",
    "display(m)"
   ]
  },
  {
   "cell_type": "code",
   "execution_count": 7,
   "id": "c311fd8c-1894-4c0e-8bde-8c4fb66239cd",
   "metadata": {},
   "outputs": [
    {
     "name": "stdout",
     "output_type": "stream",
     "text": [
      "il s'agit de 143 arrets dee transport au niveau du territoire d'étude\n",
      "end\n"
     ]
    }
   ],
   "source": [
    "import requests\n",
    "import pandas as pd\n",
    "import geopandas as gpd\n",
    "import json\n",
    "from shapely.geometry import Point, box, polygon\n",
    "\n",
    "(S, N, E, W) = (43.295426, 43.317027, 5.389065, 5.411281)\n",
    "output_folder = \"../data/processed/arrets_bbox_datasud.gpkg\"\n",
    "url_geojson = 'https://data.ampmetropole.fr/api/v2/catalog/datasets/fr-gtfs-stop-connecte/exports/geojson'\n",
    "\n",
    "def get_arretsdetransport_datasud(url):\n",
    "    # Lire le fichier geojson\n",
    "    r =  requests.get(url)\n",
    "    dictjson=r.json()\n",
    "    # Créer un GeoDataFrame à partir du dictionnaire du geojson\n",
    "    gdf_arrets_datasud = gpd.GeoDataFrame.from_features(dictjson)\n",
    "    return(gdf_arrets_datasud)\n",
    "    \n",
    "def get_arrets_BBOX_datasud(url, S, N , E, W, output_folder) :\n",
    "    gdf_arrets_datasud = get_arretsdetransport_datasud(url)\n",
    "\n",
    "    bound=box(E,S,W,N)\n",
    "    boundgdf = gpd.GeoDataFrame({'geometry': [bound]}, crs='EPSG:4326') #avoir le geodataframe du bbox\n",
    "    \n",
    "    bounding_area = boundgdf\n",
    "    boundgdf.set_crs(epsg=4326, inplace=True)\n",
    "    gdf_arrets_datasud.set_crs(epsg=4326, inplace=True)\n",
    "    \n",
    "    gdf_filtered = gpd.sjoin(gdf_arrets_datasud, bounding_area, predicate='intersects')\n",
    "    gdf_filtered.set_crs(4326, allow_override=True)\n",
    "    print(\"il s'agit de %d arrets dee transport au niveau du territoire d'étude\" % len(gdf_filtered))\n",
    "    arrets_bbox_gpkg = gdf_filtered.to_file(output_folder)\n",
    "    return(gdf_filtered)\n",
    "\n",
    "get_arrets_BBOX_datasud(url_geojson, S, N , E, W, output_folder)\n",
    "print(\"end\")"
   ]
  },
  {
   "cell_type": "code",
   "execution_count": null,
   "id": "08da213f-7c9f-4394-b01e-9a82b6a1b93d",
   "metadata": {},
   "outputs": [],
   "source": []
  }
 ],
 "metadata": {
  "kernelspec": {
   "display_name": "Python 3 (ipykernel)",
   "language": "python",
   "name": "python3"
  },
  "language_info": {
   "codemirror_mode": {
    "name": "ipython",
    "version": 3
   },
   "file_extension": ".py",
   "mimetype": "text/x-python",
   "name": "python",
   "nbconvert_exporter": "python",
   "pygments_lexer": "ipython3",
   "version": "3.12.2"
  }
 },
 "nbformat": 4,
 "nbformat_minor": 5
}
