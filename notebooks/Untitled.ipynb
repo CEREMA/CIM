{
 "cells": [
  {
   "cell_type": "markdown",
   "id": "419a3c2e-f8b4-4920-9de9-d03c53a31777",
   "metadata": {},
   "source": [
    "https://github.com/noorkhokhar99/Measure-size-of-objects-in-an-image-using-OpenCV/blob/main/size_object.py\n",
    "https://github.com/noorkhokhar99/Measure-size-of-objects-in-an-image-using-OpenCV/tree/main\n",
    "https://www.youtube.com/watch?v=4L5jF1Dkfxw"
   ]
  },
  {
   "cell_type": "code",
   "execution_count": 8,
   "id": "fc14ce7b-b078-4cd4-8120-bddb3c6a3d09",
   "metadata": {},
   "outputs": [
    {
     "name": "stdout",
     "output_type": "stream",
     "text": [
      "Requirement already satisfied: pip in c:\\users\\alaeddine.jerad\\appdata\\local\\programs\\python\\python312\\lib\\site-packages (24.0)\n",
      "Collecting pip\n",
      "  Downloading pip-24.1.2-py3-none-any.whl.metadata (3.6 kB)\n",
      "Downloading pip-24.1.2-py3-none-any.whl (1.8 MB)\n",
      "   ---------------------------------------- 0.0/1.8 MB ? eta -:--:--\n",
      "   - -------------------------------------- 0.1/1.8 MB 2.3 MB/s eta 0:00:01\n",
      "   ------- -------------------------------- 0.3/1.8 MB 4.1 MB/s eta 0:00:01\n",
      "   -------------- ------------------------- 0.7/1.8 MB 5.3 MB/s eta 0:00:01\n",
      "   ------------------------- -------------- 1.2/1.8 MB 6.7 MB/s eta 0:00:01\n",
      "   ------------------------------------ --- 1.7/1.8 MB 7.6 MB/s eta 0:00:01\n",
      "   ---------------------------------------- 1.8/1.8 MB 7.7 MB/s eta 0:00:00\n"
     ]
    },
    {
     "name": "stderr",
     "output_type": "stream",
     "text": [
      "ERROR: To modify pip, please run the following command:\n",
      "C:\\Users\\alaeddine.jerad\\AppData\\Local\\Programs\\Python\\Python312\\python.exe -m pip install --upgrade pip\n",
      "\n",
      "[notice] A new release of pip is available: 24.0 -> 24.1.2\n",
      "[notice] To update, run: python.exe -m pip install --upgrade pip\n"
     ]
    },
    {
     "name": "stdout",
     "output_type": "stream",
     "text": [
      "Requirement already satisfied: numpy in c:\\users\\alaeddine.jerad\\appdata\\local\\programs\\python\\python312\\lib\\site-packages (1.26.4)\n"
     ]
    },
    {
     "name": "stderr",
     "output_type": "stream",
     "text": [
      "\n",
      "[notice] A new release of pip is available: 24.0 -> 24.1.2\n",
      "[notice] To update, run: python.exe -m pip install --upgrade pip\n"
     ]
    },
    {
     "name": "stdout",
     "output_type": "stream",
     "text": [
      "Requirement already satisfied: opencv-python in c:\\users\\alaeddine.jerad\\appdata\\local\\programs\\python\\python312\\lib\\site-packages (4.10.0.84)\n",
      "Requirement already satisfied: numpy>=1.21.2 in c:\\users\\alaeddine.jerad\\appdata\\local\\programs\\python\\python312\\lib\\site-packages (from opencv-python) (1.26.4)\n"
     ]
    },
    {
     "name": "stderr",
     "output_type": "stream",
     "text": [
      "\n",
      "[notice] A new release of pip is available: 24.0 -> 24.1.2\n",
      "[notice] To update, run: python.exe -m pip install --upgrade pip\n"
     ]
    },
    {
     "name": "stdout",
     "output_type": "stream",
     "text": [
      "Requirement already satisfied: scipy in c:\\users\\alaeddine.jerad\\appdata\\local\\programs\\python\\python312\\lib\\site-packages (1.14.0)\n",
      "Requirement already satisfied: numpy<2.3,>=1.23.5 in c:\\users\\alaeddine.jerad\\appdata\\local\\programs\\python\\python312\\lib\\site-packages (from scipy) (1.26.4)\n"
     ]
    },
    {
     "name": "stderr",
     "output_type": "stream",
     "text": [
      "\n",
      "[notice] A new release of pip is available: 24.0 -> 24.1.2\n",
      "[notice] To update, run: python.exe -m pip install --upgrade pip\n"
     ]
    },
    {
     "name": "stdout",
     "output_type": "stream",
     "text": [
      "Requirement already satisfied: imutils in c:\\users\\alaeddine.jerad\\appdata\\local\\programs\\python\\python312\\lib\\site-packages (0.5.4)\n"
     ]
    },
    {
     "name": "stderr",
     "output_type": "stream",
     "text": [
      "\n",
      "[notice] A new release of pip is available: 24.0 -> 24.1.2\n",
      "[notice] To update, run: python.exe -m pip install --upgrade pip\n"
     ]
    }
   ],
   "source": [
    "!pip install --upgrade pip\n",
    "\n",
    "!pip install numpy\n",
    "!pip install opencv-python\n",
    "!pip install scipy\n",
    "!pip install imutils"
   ]
  },
  {
   "cell_type": "code",
   "execution_count": 10,
   "id": "eded28bf-6104-4ed9-aec7-6a45d529bed3",
   "metadata": {},
   "outputs": [
    {
     "ename": "error",
     "evalue": "OpenCV(4.10.0) D:\\a\\opencv-python\\opencv-python\\opencv\\modules\\imgproc\\src\\color.cpp:196: error: (-215:Assertion failed) !_src.empty() in function 'cv::cvtColor'\n",
     "output_type": "error",
     "traceback": [
      "\u001b[1;31m---------------------------------------------------------------------------\u001b[0m",
      "\u001b[1;31merror\u001b[0m                                     Traceback (most recent call last)",
      "Cell \u001b[1;32mIn[10], line 25\u001b[0m\n\u001b[0;32m     22\u001b[0m \u001b[38;5;66;03m# Read image and preprocess\u001b[39;00m\n\u001b[0;32m     23\u001b[0m image \u001b[38;5;241m=\u001b[39m cv2\u001b[38;5;241m.\u001b[39mimread(img_path)\n\u001b[1;32m---> 25\u001b[0m gray \u001b[38;5;241m=\u001b[39m \u001b[43mcv2\u001b[49m\u001b[38;5;241;43m.\u001b[39;49m\u001b[43mcvtColor\u001b[49m\u001b[43m(\u001b[49m\u001b[43mimage\u001b[49m\u001b[43m,\u001b[49m\u001b[43m \u001b[49m\u001b[43mcv2\u001b[49m\u001b[38;5;241;43m.\u001b[39;49m\u001b[43mCOLOR_BGR2GRAY\u001b[49m\u001b[43m)\u001b[49m\n\u001b[0;32m     26\u001b[0m blur \u001b[38;5;241m=\u001b[39m cv2\u001b[38;5;241m.\u001b[39mGaussianBlur(gray, (\u001b[38;5;241m9\u001b[39m, \u001b[38;5;241m9\u001b[39m), \u001b[38;5;241m0\u001b[39m)\n\u001b[0;32m     28\u001b[0m edged \u001b[38;5;241m=\u001b[39m cv2\u001b[38;5;241m.\u001b[39mCanny(blur, \u001b[38;5;241m50\u001b[39m, \u001b[38;5;241m100\u001b[39m)\n",
      "\u001b[1;31merror\u001b[0m: OpenCV(4.10.0) D:\\a\\opencv-python\\opencv-python\\opencv\\modules\\imgproc\\src\\color.cpp:196: error: (-215:Assertion failed) !_src.empty() in function 'cv::cvtColor'\n"
     ]
    }
   ],
   "source": [
    "\"\"\"\n",
    "Filename: init.py\n",
    "Usage: This script will measure different objects in the frame using a reference object of known dimension. \n",
    "The object with known dimension must be the leftmost object.\n",
    "\"\"\"\n",
    "from scipy.spatial.distance import euclidean\n",
    "from imutils import perspective\n",
    "from imutils import contours\n",
    "import numpy as np\n",
    "import imutils\n",
    "import cv2\n",
    "\n",
    "# Function to show array of images (intermediate results)\n",
    "def show_images(images):\n",
    "\tfor i, img in enumerate(images):\n",
    "\t\tcv2.imshow(\"image_\" + str(i), img)\n",
    "\tcv2.waitKey(0)\n",
    "\tcv2.destroyAllWindows()\n",
    "\n",
    "img_path = \"..terrain_photos/processed/Lorgues/G0019496.jpg\"\n",
    "\n",
    "# Read image and preprocess\n",
    "image = cv2.imread(img_path)\n",
    "\n",
    "gray = cv2.cvtColor(image, cv2.COLOR_BGR2GRAY)\n",
    "blur = cv2.GaussianBlur(gray, (9, 9), 0)\n",
    "\n",
    "edged = cv2.Canny(blur, 50, 100)\n",
    "edged = cv2.dilate(edged, None, iterations=1)\n",
    "edged = cv2.erode(edged, None, iterations=1)\n",
    "\n",
    "#show_images([blur, edged])\n",
    "\n",
    "# Find contours\n",
    "cnts = cv2.findContours(edged.copy(), cv2.RETR_EXTERNAL, cv2.CHAIN_APPROX_SIMPLE)\n",
    "cnts = imutils.grab_contours(cnts)\n",
    "\n",
    "# Sort contours from left to right as leftmost contour is reference object\n",
    "(cnts, _) = contours.sort_contours(cnts)\n",
    "\n",
    "# Remove contours which are not large enough\n",
    "cnts = [x for x in cnts if cv2.contourArea(x) > 100]\n",
    "\n",
    "#cv2.drawContours(image, cnts, -1, (0,255,0), 3)\n",
    "\n",
    "#show_images([image, edged])\n",
    "#print(len(cnts))\n",
    "\n",
    "# Reference object dimensions\n",
    "# Here for reference I have used a 2cm x 2cm square\n",
    "ref_object = cnts[0]\n",
    "box = cv2.minAreaRect(ref_object)\n",
    "box = cv2.boxPoints(box)\n",
    "box = np.array(box, dtype=\"int\")\n",
    "box = perspective.order_points(box)\n",
    "(tl, tr, br, bl) = box\n",
    "dist_in_pixel = euclidean(tl, tr)\n",
    "dist_in_cm = 2\n",
    "pixel_per_cm = dist_in_pixel/dist_in_cm\n",
    "\n",
    "# Draw remaining contours\n",
    "for cnt in cnts:\n",
    "\tbox = cv2.minAreaRect(cnt)\n",
    "\tbox = cv2.boxPoints(box)\n",
    "\tbox = np.array(box, dtype=\"int\")\n",
    "\tbox = perspective.order_points(box)\n",
    "\t(tl, tr, br, bl) = box\n",
    "\tcv2.drawContours(image, [box.astype(\"int\")], -1, (0, 0, 255), 2)\n",
    "\tmid_pt_horizontal = (tl[0] + int(abs(tr[0] - tl[0])/2), tl[1] + int(abs(tr[1] - tl[1])/2))\n",
    "\tmid_pt_verticle = (tr[0] + int(abs(tr[0] - br[0])/2), tr[1] + int(abs(tr[1] - br[1])/2))\n",
    "\twid = euclidean(tl, tr)/pixel_per_cm\n",
    "\tht = euclidean(tr, br)/pixel_per_cm\n",
    "\tcv2.putText(image, \"{:.1f}cm\".format(wid), (int(mid_pt_horizontal[0] - 15), int(mid_pt_horizontal[1] - 10)), \n",
    "\t\tcv2.FONT_HERSHEY_SIMPLEX, 0.5, (255, 255, 0), 2)\n",
    "\tcv2.putText(image, \"{:.1f}cm\".format(ht), (int(mid_pt_verticle[0] + 10), int(mid_pt_verticle[1])), \n",
    "\t\tcv2.FONT_HERSHEY_SIMPLEX, 0.5, (255, 255, 0), 2)\n",
    "\n",
    "show_images([image])"
   ]
  },
  {
   "cell_type": "code",
   "execution_count": null,
   "id": "e4db5f09-1249-48ce-8ed8-f0bdb90354e2",
   "metadata": {},
   "outputs": [],
   "source": []
  }
 ],
 "metadata": {
  "kernelspec": {
   "display_name": "Python 3 (ipykernel)",
   "language": "python",
   "name": "python3"
  },
  "language_info": {
   "codemirror_mode": {
    "name": "ipython",
    "version": 3
   },
   "file_extension": ".py",
   "mimetype": "text/x-python",
   "name": "python",
   "nbconvert_exporter": "python",
   "pygments_lexer": "ipython3",
   "version": "3.12.4"
  }
 },
 "nbformat": 4,
 "nbformat_minor": 5
}
