{
 "cells": [
  {
   "cell_type": "markdown",
   "id": "b8ef29fc",
   "metadata": {},
   "source": [
    "# Récupération de la donnée\n",
    "### Sources/API :\n",
    "##### Etendue géographique : https://apicarto.ign.fr/api/doc/\n",
    "https://apicarto.ign.fr/api/doc/gpu#/Communes/get_gpu_municipality\n",
    "##### Données éclairage public Marseille : https://www.datasud.fr/explorer/fr/jeux-de-donnees/marseille-eclairage-2023/telechargements"
   ]
  },
  {
   "cell_type": "code",
   "execution_count": 128,
   "id": "299989aa",
   "metadata": {},
   "outputs": [
    {
     "data": {
      "text/plain": [
       "('../data/raw/eclairage_datasud.csv',\n",
       " <http.client.HTTPMessage at 0x1e6d8ec0230>)"
      ]
     },
     "execution_count": 128,
     "metadata": {},
     "output_type": "execute_result"
    }
   ],
   "source": [
    "from urllib.request import urlretrieve\n",
    "\n",
    "url = \"https://www.datasud.fr/fr/dataset/datasets/858/resource/1013/download/\"\n",
    "filename = \"../data/raw/eclairage_datasud.csv\"\n",
    "\n",
    "urlretrieve(url, filename)"
   ]
  },
  {
   "cell_type": "code",
   "execution_count": 129,
   "id": "b0f641d3",
   "metadata": {},
   "outputs": [
    {
     "data": {
      "text/plain": [
       "True"
      ]
     },
     "execution_count": 129,
     "metadata": {},
     "output_type": "execute_result"
    }
   ],
   "source": [
    "import os\n",
    "filename = \"../data/raw/eclairage_datasud.csv\"\n",
    "os.path.exists(filename)"
   ]
  },
  {
   "cell_type": "markdown",
   "id": "ecf3760b-a906-4387-99fa-7885f1ebc364",
   "metadata": {},
   "source": [
    "# Lecture du CSV\n",
    "lecture du fichier csv avec le module geopandas"
   ]
  },
  {
   "cell_type": "code",
   "execution_count": 130,
   "id": "1c406147-15ea-44a6-a43e-c3554ffa3ed1",
   "metadata": {},
   "outputs": [],
   "source": [
    "import geopandas as gpd\n",
    "csv = gpd.read_file(filename)"
   ]
  },
  {
   "cell_type": "markdown",
   "id": "1962d09c-9e41-4d93-a49c-9c3062d577ec",
   "metadata": {},
   "source": [
    "# Conversion en GeoDataFrame\n",
    "Conversion du fichier csv en GeoDataFrame (ajouter la géométrie au fichier de données)"
   ]
  },
  {
   "cell_type": "code",
   "execution_count": 131,
   "id": "ebe63cbf-c8f1-47f6-ade9-4e254c984b65",
   "metadata": {},
   "outputs": [],
   "source": [
    "gdf = gpd.GeoDataFrame(\n",
    "    csv, geometry=gpd.points_from_xy(csv.LONGITUDE, csv.LATITUDE)\n",
    ")"
   ]
  },
  {
   "cell_type": "markdown",
   "id": "8a4839eb-ba56-452b-9eb5-93df9ddce241",
   "metadata": {},
   "source": [
    "# Récupérer l'éclairage public sur une étendue géographique\n",
    "Objectif : Récupérer les données d'éclairage public au niveau du territoire d'étude : Marseille 4ème arrondissement\n"
   ]
  },
  {
   "cell_type": "markdown",
   "id": "da4295e9-76df-4c46-ad2f-ae6d012ce456",
   "metadata": {},
   "source": [
    "## 1) Récupérer l'étendue géographique : Marseille 4ème arrondissement"
   ]
  },
  {
   "cell_type": "markdown",
   "id": "317192df-3726-45b6-9172-80eca12aefa7",
   "metadata": {},
   "source": [
    "### - 1ere solution : télécharger le fichier shp à l'aide de l'API"
   ]
  },
  {
   "cell_type": "code",
   "execution_count": 132,
   "id": "bfc95549-caf7-4752-907f-8a1540510d78",
   "metadata": {},
   "outputs": [],
   "source": [
    "#from urllib.request import urlretrieve\n",
    "#url = \"https://apicarto.ign.fr/api/gpu/municipality?insee=13204\"\n",
    "#filename = \"../data/raw/4e_arr_marseille_apicartoign.shp\"\n",
    "#urlretrieve(url, filename)"
   ]
  },
  {
   "cell_type": "markdown",
   "id": "0e5b0e92-b5a0-40ce-8cfb-77ed1d1da702",
   "metadata": {},
   "source": [
    "### - 2eme solution : Lire le résultat de l'API directement et le convertir en geodataframe"
   ]
  },
  {
   "cell_type": "code",
   "execution_count": 2,
   "id": "b6bb4649-bc05-4163-94d5-cff51ba90291",
   "metadata": {},
   "outputs": [
    {
     "data": {
      "text/html": [
       "<div>\n",
       "<style scoped>\n",
       "    .dataframe tbody tr th:only-of-type {\n",
       "        vertical-align: middle;\n",
       "    }\n",
       "\n",
       "    .dataframe tbody tr th {\n",
       "        vertical-align: top;\n",
       "    }\n",
       "\n",
       "    .dataframe thead th {\n",
       "        text-align: right;\n",
       "    }\n",
       "</style>\n",
       "<table border=\"1\" class=\"dataframe\">\n",
       "  <thead>\n",
       "    <tr style=\"text-align: right;\">\n",
       "      <th></th>\n",
       "      <th>minx</th>\n",
       "      <th>miny</th>\n",
       "      <th>maxx</th>\n",
       "      <th>maxy</th>\n",
       "    </tr>\n",
       "  </thead>\n",
       "  <tbody>\n",
       "    <tr>\n",
       "      <th>0</th>\n",
       "      <td>5.389052</td>\n",
       "      <td>43.295508</td>\n",
       "      <td>5.411294</td>\n",
       "      <td>43.316997</td>\n",
       "    </tr>\n",
       "  </tbody>\n",
       "</table>\n",
       "</div>"
      ],
      "text/plain": [
       "       minx       miny      maxx       maxy\n",
       "0  5.389052  43.295508  5.411294  43.316997"
      ]
     },
     "execution_count": 2,
     "metadata": {},
     "output_type": "execute_result"
    }
   ],
   "source": [
    "import requests\n",
    "import geopandas as gpd\n",
    "url = \"https://apicarto.ign.fr/api/gpu/municipality?insee=13204\"\n",
    "data_ar04 = requests.get(url)\n",
    "data_ar04.json()\n",
    "gdf_ar04 = gpd.GeoDataFrame.from_features(data_ar04.json())\n",
    "gdf_ar04.head()\n",
    "gdf_ar04.bounds"
   ]
  },
  {
   "cell_type": "markdown",
   "id": "365725fa-e987-4b00-9bc3-65d27296c062",
   "metadata": {},
   "source": [
    "## 2) Déterminer et récuperer l'éclairage public sur le 4e arrondissement"
   ]
  },
  {
   "cell_type": "markdown",
   "id": "2befca60-5cbb-45b5-a43c-728f3db0d736",
   "metadata": {},
   "source": [
    "### (avec 1ere solution)"
   ]
  },
  {
   "cell_type": "code",
   "execution_count": 134,
   "id": "0c851428-1178-47e2-905a-04025d34f0b7",
   "metadata": {},
   "outputs": [],
   "source": [
    "#import geopandas as gpd\n",
    "#filename = \"../data/raw/4e_arr_marseille_apicartoign.shp\"\n",
    "#bounding_area = gpd.read_file(filename)\n",
    "#gdf.crs=bounding_area.crs\n",
    "#print(gdf.crs)\n",
    "#gdf_filtered1 = gpd.sjoin(gdf, bounding_area, predicate='intersects')\n",
    "#print(\"il s'agit de %d ouvrages d'éclairage public au niveau du territoire d'étude\" % len(gdf_filtered))\n",
    "#gdf_filtered1.to_file(\"../data/processed/ecl04_datasud.shp\") "
   ]
  },
  {
   "cell_type": "markdown",
   "id": "03d5a1f6-d430-4f61-a030-72d16ac35ee9",
   "metadata": {},
   "source": [
    "### (avec 2eme solution)"
   ]
  },
  {
   "cell_type": "code",
   "execution_count": 135,
   "id": "3952ef6c-1a71-4d06-b776-8c6d3be13fb9",
   "metadata": {},
   "outputs": [
    {
     "name": "stdout",
     "output_type": "stream",
     "text": [
      "il s'agit de 2733 ouvrages d'éclairage public au niveau du territoire d'étude\n"
     ]
    },
    {
     "name": "stderr",
     "output_type": "stream",
     "text": [
      "C:\\Users\\alaeddine.jerad\\AppData\\Local\\Temp\\ipykernel_2564\\347357085.py:10: UserWarning: Column names longer than 10 characters will be truncated when saved to ESRI Shapefile.\n",
      "  gdf_filtered2.to_file(\"../data/processed/ecl04_datasud.shp\")\n"
     ]
    }
   ],
   "source": [
    "import geopandas as gpd\n",
    "bounding_area = gdf_ar04\n",
    "\n",
    "bounding_area.set_crs(epsg=4326, inplace=True)\n",
    "gdf.set_crs(epsg=4326, inplace=True)\n",
    "\n",
    "gdf_filtered2 = gpd.sjoin(gdf, bounding_area, predicate='intersects')\n",
    "gdf_filtered2.set_crs(4326, allow_override=True)\n",
    "print(\"il s'agit de %d ouvrages d'éclairage public au niveau du territoire d'étude\" % len(gdf_filtered))\n",
    "gdf_filtered2.to_file(\"../data/processed/ecl04_datasud.shp\") "
   ]
  },
  {
   "cell_type": "markdown",
   "id": "e007c08d-3d3d-44ef-b52f-29c654c63160",
   "metadata": {},
   "source": [
    "# Visualisation dans jupyter du résultat"
   ]
  },
  {
   "cell_type": "markdown",
   "id": "9b402f05-e153-46e8-a659-c081d74eefda",
   "metadata": {},
   "source": [
    "## (avec 1ere solution)"
   ]
  },
  {
   "cell_type": "code",
   "execution_count": 136,
   "id": "b92d8985-f38a-480d-a39b-08f69c2751ca",
   "metadata": {},
   "outputs": [],
   "source": [
    "#import matplotlib.pyplot as plt\n",
    "#from matplotlib.patches import Patch\n",
    "\n",
    "#Marseille_4e_arr = \"../data/raw/4e_arr_marseille_apicartoign.shp\"\n",
    "#éclairage = \"../data/processed/ecl04_datasud.shp\"\n",
    "#éclairage_gdf = gpd.read_file(éclairage)\n",
    "#Marseille_4e_arr_gdf = gpd.read_file(Marseille_4e_arr)\n",
    "\n",
    "#fig, ax = plt.subplots(figsize=(8, 8), layout='constrained')\n",
    "\n",
    "#Marseille_4e_arr_gdf.plot(ax=ax, color='red')\n",
    "#éclairage_gdf.plot(ax=ax, color='blue',marker='o',markersize=10)\n",
    "\n",
    "#legend_elements = [\n",
    "    #Patch(facecolor='blue', label='Eclairage public'),\n",
    "    #Patch(facecolor='red', label='Marseille 4ème arrondissement')\n",
    "#]\n",
    "#ax.set_xlabel('Longitude [degrés décimaux]')\n",
    "#ax.set_ylabel('Latitude [degrés décimaux]')\n",
    "#ax.set_title('Eclairage public - Marseille 4ème arrondissement')\n",
    "#ax.legend(handles=legend_elements, loc='lower left')\n",
    "\n",
    "#plt.show()"
   ]
  },
  {
   "cell_type": "markdown",
   "id": "be6ecf5c-a440-4774-896b-c37a37d37e9e",
   "metadata": {},
   "source": [
    "## (avec 2eme solution)"
   ]
  },
  {
   "cell_type": "code",
   "execution_count": 137,
   "id": "8b47dce0-0ac2-4431-8e41-8a7ea4d23b72",
   "metadata": {},
   "outputs": [
    {
     "data": {
      "image/png": "[encoded data removed]",
      "text/plain": [
       "<Figure size 800x800 with 1 Axes>"
      ]
     },
     "metadata": {},
     "output_type": "display_data"
    }
   ],
   "source": [
    "import matplotlib.pyplot as plt\n",
    "from matplotlib.patches import Patch\n",
    "import os\n",
    "filename = \"../data/raw/eclairage_datasud.csv\"\n",
    "os.path.exists(filename)\n",
    "\n",
    "\n",
    "éclairage_gdf = gdf_filtered2\n",
    "Marseille_4e_arr_gdf = bounding_area\n",
    "\n",
    "fig, ax = plt.subplots(figsize=(8, 8), layout='constrained')\n",
    "Marseille_4e_arr_gdf.plot(ax=ax, color='red')\n",
    "éclairage_gdf.plot(ax=ax, color='blue',marker='o',markersize=10)\n",
    "\n",
    "legend_elements = [\n",
    "    Patch(facecolor='blue', label='Eclairage public (OSM)'),\n",
    "    Patch(facecolor='red', label='Marseille 4ème arrondissement')\n",
    "]\n",
    "ax.set_xlabel('Longitude [degrés décimaux]')\n",
    "ax.set_ylabel('Latitude [degrés décimaux]')\n",
    "ax.set_title('Eclairage public (OSM)- Marseille 4ème arrondissement')\n",
    "ax.legend(handles=legend_elements, loc='lower left')\n",
    "\n",
    "plt.show()"
   ]
  },
  {
   "cell_type": "markdown",
   "id": "d1c6e956-e343-4521-b8a3-268f030043b2",
   "metadata": {},
   "source": [
    "# Fonction pour récupération des données datasud \"éclairage public\" à partir d'un BBOX :"
   ]
  },
  {
   "cell_type": "code",
   "execution_count": 11,
   "id": "2fceb90f-f429-4123-8a50-cea89dff76c5",
   "metadata": {},
   "outputs": [
    {
     "name": "stdin",
     "output_type": "stream",
     "text": [
      "entrer la coordonnée E de la bbox :  5.389065\n",
      "entrer la coordonnée S de la bbox :  43.295426\n",
      "entrer la coordonnée W de la bbox :  5.411281\n",
      "entrer la coordonnée N de la bbox :  43.317027\n"
     ]
    },
    {
     "name": "stdout",
     "output_type": "stream",
     "text": [
      "il s'agit de 3837 ouvrages d'éclairage public au niveau du territoire d'étude\n"
     ]
    },
    {
     "name": "stderr",
     "output_type": "stream",
     "text": [
      "C:\\Users\\alaeddine.jerad\\AppData\\Local\\Temp\\ipykernel_6992\\2081589720.py:34: UserWarning: Column names longer than 10 characters will be truncated when saved to ESRI Shapefile.\n",
      "  eclairage_bbox_shp = gdf_filtered.to_file(\"../data/processed/ecl04_datasud.shp\")\n"
     ]
    },
    {
     "data": {
      "application/vnd.jupyter.widget-view+json": {
       "model_id": "9bd08a8abf2f488faadf44cf651164f8",
       "version_major": 2,
       "version_minor": 0
      },
      "text/plain": [
       "Map(center=[43.3062265, 5.400173000000001], controls=(ZoomControl(options=['position', 'zoom_in_text', 'zoom_i…"
      ]
     },
     "metadata": {},
     "output_type": "display_data"
    }
   ],
   "source": [
    "def get_eclairage_BBOX_datasud() :\n",
    "    #exemple : bbox = (S=43.295426, N=43.317027, E=5.389065, W=5.411281)\n",
    "    \n",
    "    from urllib.request import urlretrieve\n",
    "    import geopandas as gpd\n",
    "    from shapely.geometry import box, polygon\n",
    "    import osmnx as ox\n",
    "    from ipyleaflet import Map, GeoJSON, GeoData, ZoomControl\n",
    "    \n",
    "    url = \"https://www.datasud.fr/fr/dataset/datasets/858/resource/1013/download/\"\n",
    "    filename = \"../data/raw/eclairage_datasud.csv\"\n",
    "    urlretrieve(url, filename)\n",
    "\n",
    "    csv = gpd.read_file(filename)\n",
    "    gdf_eclairage = gpd.GeoDataFrame(\n",
    "        csv, geometry=gpd.points_from_xy(csv.LONGITUDE, csv.LATITUDE)\n",
    "    )\n",
    "    \n",
    "    E=float(input(\"entrer la coordonnée E de la bbox : \"))\n",
    "    S=float(input(\"entrer la coordonnée S de la bbox : \"))\n",
    "    W=float(input(\"entrer la coordonnée W de la bbox : \"))\n",
    "    N=float(input(\"entrer la coordonnée N de la bbox : \"))\n",
    "    \n",
    "    bound=box(E,S,W,N)\n",
    "    boundgdf = gpd.GeoDataFrame({'geometry': [bound]}, crs='EPSG:4326') #avoir le geodataframe du bbox\n",
    "\n",
    "    bounding_area = boundgdf\n",
    "    boundgdf.set_crs(epsg=4326, inplace=True)\n",
    "    gdf_eclairage.set_crs(epsg=4326, inplace=True)\n",
    "    \n",
    "    gdf_filtered = gpd.sjoin(gdf_eclairage, bounding_area, predicate='intersects')\n",
    "    gdf_filtered.set_crs(4326, allow_override=True)\n",
    "    print(\"il s'agit de %d ouvrages d'éclairage public au niveau du territoire d'étude\" % len(gdf_filtered))\n",
    "    eclairage_bbox_shp = gdf_filtered.to_file(\"../data/processed/eclbbox_datasud.shp\")\n",
    "    \n",
    "    bbox=(S,N,E,W)\n",
    "    xmoy=(bbox[2]+bbox[3])/2\n",
    "    ymoy=(bbox[0]+bbox[1])/2\n",
    "    \n",
    "    m = Map(center=(ymoy, xmoy), zoom=14)\n",
    "    \n",
    "    gdf =  gdf_filtered\n",
    "    bounding = boundgdf\n",
    "    \n",
    "    geo_data1 = GeoData(geo_dataframe = gdf,\n",
    "        style={'color': 'black', 'radius':3, 'fillColor': '#cc3333', 'opacity':1, 'weight':1, 'dashArray':'2', 'fillOpacity':1},\n",
    "        hover_style={'fillColor': 'red' , 'fillOpacity': 0.2},\n",
    "        point_style={'radius': 5, 'color': 'red', 'fillOpacity': 0.8, 'fillColor': 'blue', 'weight': 3},\n",
    "        name = 'Release')\n",
    "    \n",
    "    geo_data2 = GeoData(geo_dataframe = bounding,\n",
    "        style={'color': 'blue', 'radius':2, 'fillColor': '#004dff', 'opacity':1, 'weight':2, 'dashArray':'1', 'fillOpacity':0})\n",
    "    \n",
    "    m.add(geo_data2)\n",
    "    m.add(geo_data1)\n",
    "    \n",
    "    display(m)\n",
    "\n",
    "    return(eclairage_bbox_shp)\n",
    "\n",
    "get_eclairage_BBOX_datasud()"
   ]
  },
  {
   "cell_type": "markdown",
   "id": "ef4a84e9-3324-4853-b1ce-690053262a72",
   "metadata": {},
   "source": [
    "# Fonction pour récupération des données datasud \"éclairage public\" à partir d'un arrondissement :"
   ]
  },
  {
   "cell_type": "code",
   "execution_count": 14,
   "id": "ce23de14-d1a8-4a37-a757-c7d3dd5d8f76",
   "metadata": {},
   "outputs": [
    {
     "name": "stdout",
     "output_type": "stream",
     "text": [
      "il s'agit de 2746 ouvrages d'éclairage public au niveau du territoire d'étude\n"
     ]
    },
    {
     "name": "stderr",
     "output_type": "stream",
     "text": [
      "C:\\Users\\alaeddine.jerad\\AppData\\Local\\Temp\\ipykernel_6992\\3161484065.py:27: UserWarning: Column names longer than 10 characters will be truncated when saved to ESRI Shapefile.\n",
      "  eclairage_ar04_shp = gdf_filtered.to_file(\"../data/processed/ecl04_datasud.shp\")\n"
     ]
    },
    {
     "data": {
      "application/vnd.jupyter.widget-view+json": {
       "model_id": "55d3e765924b4e60831e32b3997d3956",
       "version_major": 2,
       "version_minor": 0
      },
      "text/plain": [
       "Map(center=[43.30622645, 5.4001731], controls=(ZoomControl(options=['position', 'zoom_in_text', 'zoom_in_title…"
      ]
     },
     "metadata": {},
     "output_type": "display_data"
    }
   ],
   "source": [
    "def get_education_arrondissement_datasud(place_name) :\n",
    "\n",
    "    from urllib.request import urlretrieve\n",
    "    import geopandas as gpd\n",
    "    from shapely.geometry import box, polygon\n",
    "    import osmnx as ox\n",
    "    from ipyleaflet import Map, GeoJSON, GeoData, ZoomControl\n",
    "\n",
    "    area = ox.geocode_to_gdf(place_name)\n",
    "    \n",
    "    url = \"https://www.datasud.fr/fr/dataset/datasets/858/resource/1013/download/\"\n",
    "    filename = \"../data/raw/eclairage_datasud.csv\"\n",
    "    urlretrieve(url, filename)\n",
    "\n",
    "    csv = gpd.read_file(filename)\n",
    "    gdf_eclairage = gpd.GeoDataFrame(\n",
    "        csv, geometry=gpd.points_from_xy(csv.LONGITUDE, csv.LATITUDE)\n",
    "    )\n",
    "\n",
    "    bounding_area = area\n",
    "    bounding_area.set_crs(epsg=4326, inplace=True)\n",
    "    gdf_eclairage.set_crs(epsg=4326, inplace=True)\n",
    "    \n",
    "    gdf_filtered = gpd.sjoin(gdf_eclairage, bounding_area, predicate='intersects')\n",
    "    gdf_filtered.set_crs(4326, allow_override=True)\n",
    "    print(\"il s'agit de %d ouvrages d'éclairage public au niveau du territoire d'étude\" % len(gdf_filtered))\n",
    "    eclairage_ar04_shp = gdf_filtered.to_file(\"../data/processed/ecl04_datasud.shp\")\n",
    "    \n",
    "    xmoy=area.bounds.get([\"minx\",\"maxx\"]).iloc[0].mean()\n",
    "    ymoy=area.bounds.get([\"miny\",\"maxy\"]).iloc[0].mean()\n",
    "    \n",
    "    m = Map(center=(ymoy, xmoy), zoom=14)\n",
    "    \n",
    "    gdf =  gdf_filtered\n",
    "    bounding = bounding_area\n",
    "    \n",
    "    geo_data1 = GeoData(geo_dataframe = gdf,\n",
    "        style={'color': 'black', 'radius':3, 'fillColor': '#cc3333', 'opacity':1, 'weight':1, 'dashArray':'2', 'fillOpacity':1},\n",
    "        hover_style={'fillColor': 'red' , 'fillOpacity': 0.2},\n",
    "        point_style={'radius': 5, 'color': 'red', 'fillOpacity': 0.8, 'fillColor': 'blue', 'weight': 3},\n",
    "        name = 'Release')\n",
    "    \n",
    "    geo_data2 = GeoData(geo_dataframe = bounding,\n",
    "        style={'color': 'blue', 'radius':2, 'fillColor': '#004dff', 'opacity':1, 'weight':2, 'dashArray':'1', 'fillOpacity':0})\n",
    "    \n",
    "    m.add(geo_data2)\n",
    "    m.add(geo_data1)\n",
    "    \n",
    "    display(m)\n",
    "\n",
    "    return(eclairage_ar04_shp)\n",
    "\n",
    "get_education_arrondissement_datasud(\"Marseille 4e arrondissement\")"
   ]
  },
  {
   "cell_type": "markdown",
   "id": "3a6d2fbe-b306-473d-ba35-5c4d2db509f7",
   "metadata": {},
   "source": [
    "# Fonction pour récupération des données datasud \"éclairage public\" à partir d'une zone tompon :"
   ]
  },
  {
   "cell_type": "code",
   "execution_count": 17,
   "id": "c742a1f8-c8d9-49d2-939e-f25e321a1120",
   "metadata": {},
   "outputs": [
    {
     "name": "stdin",
     "output_type": "stream",
     "text": [
      "entrer la longitude 'X' du centre de la zone tompon :  5.40280\n",
      "entrer la latitude 'Y' du centre de la zone tompon :  43.29729\n",
      "entrer la distance 'd' de la zone tompon :  500\n"
     ]
    },
    {
     "name": "stdout",
     "output_type": "stream",
     "text": [
      "il s'agit de 860 ouvrages d'éclairage public au niveau du territoire d'étude\n"
     ]
    },
    {
     "name": "stderr",
     "output_type": "stream",
     "text": [
      "C:\\Users\\alaeddine.jerad\\AppData\\Local\\Temp\\ipykernel_9776\\2733534295.py:39: UserWarning: Column names longer than 10 characters will be truncated when saved to ESRI Shapefile.\n",
      "  eclairage_buffer_shp = gdf_filtered.to_file(\"../data/processed/eclbuffer_datasud.shp\")\n"
     ]
    },
    {
     "data": {
      "application/vnd.jupyter.widget-view+json": {
       "model_id": "4c32d3da67954e5da1e500b0467d0cf8",
       "version_major": 2,
       "version_minor": 0
      },
      "text/plain": [
       "Map(center=[43.29729, 5.4028], controls=(ZoomControl(options=['position', 'zoom_in_text', 'zoom_in_title', 'zo…"
      ]
     },
     "metadata": {},
     "output_type": "display_data"
    }
   ],
   "source": [
    "#exemple d= 500 m\n",
    "#point (X,Y) = (5.40280, 43.29729)\n",
    "def get_education_buffer_datasud():\n",
    "\n",
    "    from urllib.request import urlretrieve\n",
    "    import geopandas as gpd\n",
    "    from shapely.geometry import Point\n",
    "    from ipyleaflet import Map, GeoJSON, GeoData, ZoomControl\n",
    "    \n",
    "    X = float(input(\"entrer la longitude 'X' du centre de la zone tompon : \" ))\n",
    "    Y = float(input(\"entrer la latitude 'Y' du centre de la zone tompon : \" ))\n",
    "    d = float(input(\"entrer la distance 'd' de la zone tompon : \" ))\n",
    "    \n",
    "    point = Point(X,Y)\n",
    "    \n",
    "    gpdpoint = gpd.GeoDataFrame({'geometry': [point]}, crs=\"EPSG:4326\")\n",
    "    \n",
    "    gpdpoint = gpdpoint.to_crs(epsg=2154) #pour prendre en concidération la distance en mètres avant la réalisation du buffer\n",
    "    \n",
    "    buffered = gpdpoint.buffer(d,resolution=20)\n",
    "    \n",
    "    buffered = buffered.to_crs(epsg=4326)\n",
    "    \n",
    "    gdf_buffered = gpd.GeoDataFrame(geometry=buffered)\n",
    "    \n",
    "    url = \"https://www.datasud.fr/fr/dataset/datasets/858/resource/1013/download/\"\n",
    "    filename = \"../data/raw/eclairage_datasud.csv\"\n",
    "    urlretrieve(url, filename)\n",
    "\n",
    "    csv = gpd.read_file(filename)\n",
    "    gdf_eclairage = gpd.GeoDataFrame(\n",
    "        csv, geometry=gpd.points_from_xy(csv.LONGITUDE, csv.LATITUDE)\n",
    "    )\n",
    "\n",
    "    gdf_eclairage.set_crs(epsg=4326, inplace=True)\n",
    "    gdf_filtered = gpd.sjoin(gdf_eclairage, gdf_buffered, predicate='intersects')\n",
    "    gdf_filtered.set_crs(4326, allow_override=True)\n",
    "    print(\"il s'agit de %d ouvrages d'éclairage public au niveau du territoire d'étude\" % len(gdf_filtered))\n",
    "    eclairage_buffer_shp = gdf_filtered.to_file(\"../data/processed/eclbuffer_datasud.shp\")\n",
    "    \n",
    "    m = Map(center=(Y,X), zoom=14)\n",
    "    \n",
    "    gdf = gdf_filtered\n",
    "    bounding = gdf_buffered\n",
    "    \n",
    "    geo_data1 = GeoData(geo_dataframe = gdf,\n",
    "        style={'color': 'black', 'radius':3, 'fillColor': '#cc3333', 'opacity':1, 'weight':1, 'dashArray':'2', 'fillOpacity':1},\n",
    "        hover_style={'fillColor': 'red' , 'fillOpacity': 0.2},\n",
    "        point_style={'radius': 5, 'color': 'red', 'fillOpacity': 0.8, 'fillColor': 'blue', 'weight': 3},\n",
    "        name = 'Release')\n",
    "    \n",
    "    geo_data2 = GeoData(geo_dataframe = bounding,\n",
    "        style={'color': 'blue', 'radius':2, 'fillColor': '#004dff', 'opacity':1, 'weight':2, 'dashArray':'1', 'fillOpacity':0})\n",
    "    \n",
    "    m.add(geo_data2)\n",
    "    m.add(geo_data1)\n",
    "    \n",
    "    display(m)\n",
    "\n",
    "    return(eclairage_buffer_shp)\n",
    "\n",
    "get_education_buffer_datasud()"
   ]
  },
  {
   "cell_type": "markdown",
   "id": "2d0c00a9-3636-4918-8623-4d00b76c2144",
   "metadata": {},
   "source": [
    "# Fonction pour récupération des données datasud \"éclairage public\" à partir d'un BBOX : (programmation modulaire)"
   ]
  },
  {
   "cell_type": "code",
   "execution_count": 4,
   "id": "76621d1e-95bb-4028-9f65-0d2452be5a99",
   "metadata": {},
   "outputs": [
    {
     "name": "stdout",
     "output_type": "stream",
     "text": [
      "il s'agit de 3837 ouvrages d'éclairage public au niveau du territoire d'étude\n"
     ]
    },
    {
     "data": {
      "application/vnd.jupyter.widget-view+json": {
       "model_id": "10b894ce94f6452d89c0107f1c04d566",
       "version_major": 2,
       "version_minor": 0
      },
      "text/plain": [
       "Map(center=[43.3062265, 5.400173000000001], controls=(ZoomControl(options=['position', 'zoom_in_text', 'zoom_i…"
      ]
     },
     "metadata": {},
     "output_type": "display_data"
    }
   ],
   "source": [
    "from urllib.request import urlretrieve\n",
    "import geopandas as gpd\n",
    "from shapely.geometry import box, polygon\n",
    "import osmnx as ox\n",
    "\n",
    "(S, N, E, W) = (43.295426, 43.317027, 5.389065, 5.411281)\n",
    "output_folder = \"../data/processed/eclbbox_datasud.gpkg\"\n",
    "fichier_intermediaire = \"../data/raw/eclairage_datasud.csv\"\n",
    "\n",
    "def get_ecleraige_marseille_datasud(fichier_intermediaire):\n",
    "    url = \"https://www.datasud.fr/fr/dataset/datasets/858/resource/1013/download/\"\n",
    "    urlretrieve(url, fichier_intermediaire)\n",
    "    return(fichier_intermediaire)\n",
    "    \n",
    "def get_eclairage_BBOX_datasud(fichier_intermediaire, S, N , E, W, output_folder) :\n",
    "    eclairage_marseille = get_ecleraige_marseille_datasud(fichier_intermediaire)\n",
    "    csv = gpd.read_file(eclairage_marseille)\n",
    "    gdf_eclairage = gpd.GeoDataFrame(\n",
    "        csv, geometry=gpd.points_from_xy(csv.LONGITUDE, csv.LATITUDE)\n",
    "    )\n",
    "    bound=box(E,S,W,N)\n",
    "    boundgdf = gpd.GeoDataFrame({'geometry': [bound]}, crs='EPSG:4326') #avoir le geodataframe du bbox\n",
    "\n",
    "    bounding_area = boundgdf\n",
    "    boundgdf.set_crs(epsg=4326, inplace=True)\n",
    "    gdf_eclairage.set_crs(epsg=4326, inplace=True)\n",
    "    \n",
    "    gdf_filtered = gpd.sjoin(gdf_eclairage, bounding_area, predicate='intersects')\n",
    "    gdf_filtered.set_crs(4326, allow_override=True)\n",
    "    print(\"il s'agit de %d ouvrages d'éclairage public au niveau du territoire d'étude\" % len(gdf_filtered))\n",
    "    eclairage_bbox_datasud = gdf_filtered.to_file(output_folder)\n",
    "    return(eclairage_bbox_datasud)\n",
    "\n",
    "get_eclairage_BBOX_datasud(fichier_intermediaire, S, N , E, W, output_folder)"
   ]
  },
  {
   "cell_type": "code",
   "execution_count": null,
   "id": "d93090e1-8bab-4f43-8ede-2b4f9a545618",
   "metadata": {},
   "outputs": [],
   "source": []
  }
 ],
 "metadata": {
  "kernelspec": {
   "display_name": "Python 3 (ipykernel)",
   "language": "python",
   "name": "python3"
  },
  "language_info": {
   "codemirror_mode": {
    "name": "ipython",
    "version": 3
   },
   "file_extension": ".py",
   "mimetype": "text/x-python",
   "name": "python",
   "nbconvert_exporter": "python",
   "pygments_lexer": "ipython3",
   "version": "3.12.2"
  }
 },
 "nbformat": 4,
 "nbformat_minor": 5
}
