{
 "cells": [
  {
   "cell_type": "markdown",
   "id": "ab20b73a-5097-49e9-b3c6-128e1b4b459e",
   "metadata": {},
   "source": [
    "# Liste des 42 objets type \"Point\" Mapillary\n",
    "Sources : https://www.mapillary.com/developer/api-documentation/points?locale=fr_FR"
   ]
  },
  {
   "cell_type": "code",
   "execution_count": 65,
   "id": "241513b1-d9eb-469e-88fb-dd4a0b5fc9c0",
   "metadata": {},
   "outputs": [],
   "source": [
    "# Charger le fichier tabulaire contenant la liste des clés / valeurs des objets points de Mapillary\n",
    "with open(\"../notebooks/Liste des objets mapillary.txt\", encoding=\"utf-8\") as f:\n",
    "    obj_points_mly = f.read()"
   ]
  },
  {
   "cell_type": "markdown",
   "id": "76605cc2-5f94-4f9f-bec7-dd98a461a6af",
   "metadata": {},
   "source": [
    "## Construction d'un dictionnaire des clés / valeurs des objets points de Mapillary"
   ]
  },
  {
   "cell_type": "code",
   "execution_count": 106,
   "id": "a73710b3-203c-4e79-8bb5-5410f040745c",
   "metadata": {},
   "outputs": [
    {
     "data": {
      "text/plain": [
       "{'Barrière Temporaire': 'construction--barrier--temporary',\n",
       " 'Passage Piéton (Simple)': 'construction--flat--crosswalk-plain',\n",
       " 'Allée': 'construction--flat--driveway',\n",
       " 'Marquage de Voie - Flèche (Gauche)': 'marking--discrete--arrow--left',\n",
       " 'Marquage de Voie - Flèche (Droite)': 'marking--discrete--arrow--right',\n",
       " 'Marquage de Voie - Flèche (Séparation Gauche ou Tout Droit)': 'marking--discrete--arrow--split-left-or-straight',\n",
       " 'Marquage de Voie - Flèche (Séparation Droite ou Tout Droit)': 'marking--discrete--arrow--split-right-or-straight',\n",
       " 'Marquage de Voie - Flèche (Tout Droit)': 'marking--discrete--arrow--straight',\n",
       " 'Marquage de Voie - Passage Piéton': 'marking--discrete--crosswalk-zebra',\n",
       " 'Marquage de Voie - Cédez le Passage (Rangée)': 'marking--discrete--give-way-row',\n",
       " 'Marquage de Voie - Cédez le Passage (Unique)': 'marking--discrete--give-way-single',\n",
       " 'Marquage de Voie - Autre': 'marking--discrete--other-marking',\n",
       " \"Marquage de Voie - Ligne d'Arrêt\": 'marking--discrete--stop-line',\n",
       " 'Marquage de Voie - Symbole (Vélo)': 'marking--discrete--symbol--bicycle',\n",
       " 'Marquage de Voie - Texte': 'marking--discrete--text',\n",
       " 'Bannière': 'object--banner',\n",
       " 'Banc': 'object--bench',\n",
       " 'Support à Vélo': 'object--bike-rack',\n",
       " 'Avaloir': 'object--catch-basin',\n",
       " 'Caméra de Vidéosurveillance': 'object--cctv-camera',\n",
       " \"Borne d'Incendie\": 'object--fire-hydrant',\n",
       " 'Boîte de Jonction': 'object--junction-box',\n",
       " 'Boîte aux Lettres': 'object--mailbox',\n",
       " 'Regard': 'object--manhole',\n",
       " 'Parcmètre': 'object--parking-meter',\n",
       " 'Cabine Téléphonique': 'object--phone-booth',\n",
       " 'Panneau Publicitaire': 'object--sign--advertisement',\n",
       " \"Panneau d'Information\": 'object--sign--information',\n",
       " 'Panneau de Magasin': 'object--sign--store',\n",
       " 'Lampadaire': 'object--street-light',\n",
       " 'Poteau': 'object--support--pole',\n",
       " 'Cadre de Panneau de Signalisation': 'object--support--traffic-sign-frame',\n",
       " 'Poteau de Services Publics': 'object--support--utility-pole',\n",
       " 'Cône de Signalisation': 'object--traffic-cone',\n",
       " 'Feu de Circulation - Cyclistes': 'object--traffic-light--cyclists',\n",
       " 'Feu de Circulation - Général (Horizontal)': 'object--traffic-light--general-horizontal',\n",
       " 'Feu de Circulation - Général (Simple)': 'object--traffic-light--general-single',\n",
       " 'Feu de Circulation - Général (Vertical)': 'object--traffic-light--general-upright',\n",
       " 'Feu de Circulation - Autre': 'object--traffic-light--other',\n",
       " 'Feu de Circulation - Piétons': 'object--traffic-light--pedestrians',\n",
       " 'Poubelle': 'object--trash-can',\n",
       " \"Vanne d'Eau\": 'object--water-valve'}"
      ]
     },
     "execution_count": 106,
     "metadata": {},
     "output_type": "execute_result"
    }
   ],
   "source": [
    "with open(\"../notebooks/Liste des objets mapillary.txt\", encoding=\"utf-8\") as x:\n",
    "    dict_obj_points_mly = {}\n",
    "    for y in x:\n",
    "        ligne = y.strip()\n",
    "        L_obj_points_mly = ligne.split(',')\n",
    "        dict_obj_points_mly[L_obj_points_mly[0]] = L_obj_points_mly[1]\n",
    "dict_obj_points_mly"
   ]
  }
 ],
 "metadata": {
  "kernelspec": {
   "display_name": "Python 3 (ipykernel)",
   "language": "python",
   "name": "python3"
  },
  "language_info": {
   "codemirror_mode": {
    "name": "ipython",
    "version": 3
   },
   "file_extension": ".py",
   "mimetype": "text/x-python",
   "name": "python",
   "nbconvert_exporter": "python",
   "pygments_lexer": "ipython3",
   "version": "3.12.4"
  }
 },
 "nbformat": 4,
 "nbformat_minor": 5
}
