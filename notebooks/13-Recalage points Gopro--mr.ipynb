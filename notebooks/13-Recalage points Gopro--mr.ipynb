{
 "cells": [
  {
   "cell_type": "markdown",
   "id": "3b02a662",
   "metadata": {},
   "source": [
    "Pour le PA des Milles, les photos sont dans C:\\Users\\mathieu.rajerison\\Box\\Cerema\\60-MED\\67-DTVB\\675-Vie_des_unites_DTVB\\675-5-GIDI\\3_Etudes\\2024\\2024-CIM\\05-Collecte juin 2024\\132GOPRO\n",
    "    \n",
    "Les traces sont dans C:\\Users\\mathieu.rajerison\\Box\\Cerema\\60-MED\\67-DTVB\\675-Vie_des_unites_DTVB\\675-5-GIDI\\3_Etudes\\2024\\2024-CIM\\05-Collecte juin 2024\\collecte pôle activité Shapefiles"
   ]
  },
  {
   "cell_type": "code",
   "execution_count": 1,
   "id": "e55c2da8-5a97-4630-b6b0-7bf7c093b2fe",
   "metadata": {},
   "outputs": [
    {
     "name": "stdout",
     "output_type": "stream",
     "text": [
      "Requirement already satisfied: exif in c:\\git-repos\\cim\\venv\\lib\\site-packages (1.6.0)\n",
      "Requirement already satisfied: plum-py<2.0.0,>=0.5.0 in c:\\git-repos\\cim\\venv\\lib\\site-packages (from exif) (0.8.7)\n"
     ]
    },
    {
     "name": "stderr",
     "output_type": "stream",
     "text": [
      "\n",
      "[notice] A new release of pip is available: 24.0 -> 24.1.2\n",
      "[notice] To update, run: python.exe -m pip install --upgrade pip\n"
     ]
    }
   ],
   "source": [
    "!pip install exif"
   ]
  },
  {
   "cell_type": "code",
   "execution_count": 2,
   "id": "1a410392-bc56-4cc3-84f0-5374e6553725",
   "metadata": {},
   "outputs": [],
   "source": [
    "from exif import Image "
   ]
  },
  {
   "cell_type": "markdown",
   "id": "e0596928",
   "metadata": {},
   "source": [
    "On ouvre une photo :"
   ]
  },
  {
   "cell_type": "code",
   "execution_count": 3,
   "id": "444e0ec9-b727-4a97-b259-5f765abfa333",
   "metadata": {},
   "outputs": [],
   "source": [
    "img = r\"C:\\Users\\alaeddine.jerad\\Desktop\\stage CIM\\sig et data\\Sortie gopro + RTK 19-06 PAAP\\photos gopro\\DCIM\\132GOPRO\\G0141835.jpg\"\n",
    "with open (img, 'rb') as image:\n",
    "    image2 = Image(image)"
   ]
  },
  {
   "cell_type": "markdown",
   "id": "c1846b00",
   "metadata": {},
   "source": [
    "## Point depuis photo"
   ]
  },
  {
   "cell_type": "markdown",
   "id": "5fe42025",
   "metadata": {},
   "source": [
    "On récupère longitude, latitude, direction :"
   ]
  },
  {
   "cell_type": "code",
   "execution_count": 4,
   "id": "5bfe8cfe-a5e3-4ea8-916f-92110e0dbd08",
   "metadata": {},
   "outputs": [
    {
     "name": "stdout",
     "output_type": "stream",
     "text": [
      "(5.0, 22.0, 22.5942) (43.0, 29.0, 29.7402) 247.33333333333334\n"
     ]
    }
   ],
   "source": [
    "print(image2.gps_longitude,image2.gps_latitude, image2.gps_img_direction)"
   ]
  },
  {
   "cell_type": "code",
   "execution_count": 5,
   "id": "adabe3f4-fd7c-4fd7-ad8b-b8320dee8575",
   "metadata": {},
   "outputs": [
    {
     "data": {
      "text/plain": [
       "['image_description',\n",
       " 'make',\n",
       " 'model',\n",
       " 'orientation',\n",
       " 'x_resolution',\n",
       " 'y_resolution',\n",
       " 'resolution_unit',\n",
       " 'software',\n",
       " 'datetime',\n",
       " 'y_and_c_positioning',\n",
       " '_exif_ifd_pointer',\n",
       " '_gps_ifd_pointer',\n",
       " 'compression',\n",
       " 'jpeg_interchange_format',\n",
       " 'jpeg_interchange_format_length',\n",
       " 'exposure_time',\n",
       " 'f_number',\n",
       " 'exposure_program',\n",
       " 'photographic_sensitivity',\n",
       " 'exif_version',\n",
       " 'datetime_original',\n",
       " 'datetime_digitized',\n",
       " 'components_configuration',\n",
       " 'compressed_bits_per_pixel',\n",
       " 'shutter_speed_value',\n",
       " 'aperture_value',\n",
       " 'exposure_bias_value',\n",
       " 'max_aperture_value',\n",
       " 'subject_distance',\n",
       " 'metering_mode',\n",
       " 'light_source',\n",
       " 'flash',\n",
       " 'focal_length',\n",
       " 'maker_note',\n",
       " 'flashpix_version',\n",
       " 'color_space',\n",
       " 'pixel_x_dimension',\n",
       " 'pixel_y_dimension',\n",
       " '_interoperability_ifd_Pointer',\n",
       " 'exposure_index',\n",
       " 'sensing_method',\n",
       " 'file_source',\n",
       " 'scene_type',\n",
       " 'custom_rendered',\n",
       " 'exposure_mode',\n",
       " 'white_balance',\n",
       " 'digital_zoom_ratio',\n",
       " 'focal_length_in_35mm_film',\n",
       " 'scene_capture_type',\n",
       " 'gain_control',\n",
       " 'contrast',\n",
       " 'saturation',\n",
       " 'sharpness',\n",
       " 'device_setting_description',\n",
       " 'subject_distance_range',\n",
       " 'body_serial_number',\n",
       " 'gps_version_id',\n",
       " 'gps_latitude_ref',\n",
       " 'gps_latitude',\n",
       " 'gps_longitude_ref',\n",
       " 'gps_longitude',\n",
       " 'gps_altitude_ref',\n",
       " 'gps_altitude',\n",
       " 'gps_timestamp',\n",
       " 'gps_speed_ref',\n",
       " 'gps_speed',\n",
       " 'gps_img_direction_ref',\n",
       " 'gps_img_direction',\n",
       " 'gps_datestamp']"
      ]
     },
     "execution_count": 5,
     "metadata": {},
     "output_type": "execute_result"
    }
   ],
   "source": [
    "image2.list_all()"
   ]
  },
  {
   "cell_type": "markdown",
   "id": "f7bc438f",
   "metadata": {},
   "source": [
    "On récupère le X et le Y :"
   ]
  },
  {
   "cell_type": "code",
   "execution_count": 6,
   "id": "b51ef254-5b74-44fc-b623-c12c6099f53c",
   "metadata": {},
   "outputs": [],
   "source": [
    "(deg, minutes, seconds) = image2.gps_longitude\n",
    "x = (float(deg) + float(minutes)/60 + float(seconds)/(60*60))"
   ]
  },
  {
   "cell_type": "code",
   "execution_count": 7,
   "id": "b84d7618-d12a-40cc-a163-f9c14aadb639",
   "metadata": {},
   "outputs": [],
   "source": [
    "(deg, minutes, seconds) = image2.gps_latitude\n",
    "y = (float(deg) + float(minutes)/60 + float(seconds)/(60*60))"
   ]
  },
  {
   "cell_type": "code",
   "execution_count": 8,
   "id": "2c7910b9-d8f8-45d7-b05b-16f484ff942a",
   "metadata": {},
   "outputs": [
    {
     "name": "stdout",
     "output_type": "stream",
     "text": [
      "5.372942833333333 43.4915945\n"
     ]
    }
   ],
   "source": [
    "print(x,y)"
   ]
  },
  {
   "cell_type": "markdown",
   "id": "d84bf0b6",
   "metadata": {},
   "source": [
    "Affichage du point :"
   ]
  },
  {
   "cell_type": "code",
   "execution_count": 9,
   "id": "e2ea642f-4899-411f-9923-cd341e9d18d8",
   "metadata": {},
   "outputs": [],
   "source": [
    "from shapely.geometry import Point"
   ]
  },
  {
   "cell_type": "code",
   "execution_count": 10,
   "id": "b1bfbd2e-34bd-4769-acfa-a631877e1823",
   "metadata": {},
   "outputs": [],
   "source": [
    "pt = Point(x,y)"
   ]
  },
  {
   "cell_type": "code",
   "execution_count": 11,
   "id": "22b47022-3aed-4303-a91e-5c03d81310b9",
   "metadata": {},
   "outputs": [],
   "source": [
    "import geopandas as gpd\n",
    "track_points = gpd.read_file('C:/Users/alaeddine.jerad/Box/Cerema/60-MED/67-DTVB/675-Vie_des_unites_DTVB/675-5-GIDI/3_Etudes/2024/2024-CIM/05-Collecte juin 2024/collecte pôle activité Shapefiles/track_points.shp')"
   ]
  },
  {
   "cell_type": "code",
   "execution_count": 12,
   "id": "f83e2f54-d078-4f85-acec-a236c79506d5",
   "metadata": {},
   "outputs": [],
   "source": [
    "from shapely.ops import nearest_points"
   ]
  },
  {
   "cell_type": "code",
   "execution_count": 13,
   "id": "f781db68-3a0a-45ed-a5c1-b06976ef15a5",
   "metadata": {},
   "outputs": [
    {
     "data": {
      "image/svg+xml": [
       "<svg xmlns=\"http://www.w3.org/2000/svg\" xmlns:xlink=\"http://www.w3.org/1999/xlink\" width=\"100.0\" height=\"100.0\" viewBox=\"4.372942833333333 42.4915945 2.0 2.0\" preserveAspectRatio=\"xMinYMin meet\"><g transform=\"matrix(1,0,0,-1,0,86.983189)\"><circle cx=\"5.372942833333333\" cy=\"43.4915945\" r=\"0.06\" stroke=\"#555555\" stroke-width=\"0.02\" fill=\"#66cc99\" opacity=\"0.6\" /></g></svg>"
      ],
      "text/plain": [
       "<POINT (5.373 43.492)>"
      ]
     },
     "execution_count": 13,
     "metadata": {},
     "output_type": "execute_result"
    }
   ],
   "source": [
    "pt"
   ]
  },
  {
   "cell_type": "code",
   "execution_count": 14,
   "id": "1a93eb81-8d48-4738-92e2-5738e191c202",
   "metadata": {},
   "outputs": [
    {
     "data": {
      "text/html": [
       "<div>\n",
       "<style scoped>\n",
       "    .dataframe tbody tr th:only-of-type {\n",
       "        vertical-align: middle;\n",
       "    }\n",
       "\n",
       "    .dataframe tbody tr th {\n",
       "        vertical-align: top;\n",
       "    }\n",
       "\n",
       "    .dataframe thead th {\n",
       "        text-align: right;\n",
       "    }\n",
       "</style>\n",
       "<table border=\"1\" class=\"dataframe\">\n",
       "  <thead>\n",
       "    <tr style=\"text-align: right;\">\n",
       "      <th></th>\n",
       "      <th>NAME</th>\n",
       "      <th>REC_TIME</th>\n",
       "      <th>_LATITUDE</th>\n",
       "      <th>_LONGITUDE</th>\n",
       "      <th>_ELEVATION</th>\n",
       "      <th>_ORTHO_HT</th>\n",
       "      <th>_FIX_ID</th>\n",
       "      <th>_H_ACC</th>\n",
       "      <th>_V_ACC</th>\n",
       "      <th>_SPEED</th>\n",
       "      <th>_BEARING</th>\n",
       "      <th>geometry</th>\n",
       "    </tr>\n",
       "  </thead>\n",
       "  <tbody>\n",
       "    <tr>\n",
       "      <th>0</th>\n",
       "      <td>1essai</td>\n",
       "      <td>06/19/2024 15:44:02.800 GMT+02:00</td>\n",
       "      <td>43.491988</td>\n",
       "      <td>5.373602</td>\n",
       "      <td>165.039</td>\n",
       "      <td>0.0</td>\n",
       "      <td>5.0</td>\n",
       "      <td>0.054</td>\n",
       "      <td>0.110</td>\n",
       "      <td>0.037</td>\n",
       "      <td>282.00</td>\n",
       "      <td>POINT Z (5.37360 43.49199 165.03900)</td>\n",
       "    </tr>\n",
       "    <tr>\n",
       "      <th>1</th>\n",
       "      <td>1essai</td>\n",
       "      <td>06/19/2024 15:44:02.800 GMT+02:00</td>\n",
       "      <td>43.491992</td>\n",
       "      <td>5.373568</td>\n",
       "      <td>164.817</td>\n",
       "      <td>0.0</td>\n",
       "      <td>5.0</td>\n",
       "      <td>0.130</td>\n",
       "      <td>0.180</td>\n",
       "      <td>1.982</td>\n",
       "      <td>278.11</td>\n",
       "      <td>POINT Z (5.37357 43.49199 164.81700)</td>\n",
       "    </tr>\n",
       "    <tr>\n",
       "      <th>2</th>\n",
       "      <td>1essai</td>\n",
       "      <td>06/19/2024 15:44:02.800 GMT+02:00</td>\n",
       "      <td>43.491977</td>\n",
       "      <td>5.373481</td>\n",
       "      <td>164.816</td>\n",
       "      <td>0.0</td>\n",
       "      <td>5.0</td>\n",
       "      <td>0.130</td>\n",
       "      <td>0.210</td>\n",
       "      <td>3.625</td>\n",
       "      <td>239.05</td>\n",
       "      <td>POINT Z (5.37348 43.49198 164.81600)</td>\n",
       "    </tr>\n",
       "    <tr>\n",
       "      <th>3</th>\n",
       "      <td>1essai</td>\n",
       "      <td>06/19/2024 15:44:02.800 GMT+02:00</td>\n",
       "      <td>43.491904</td>\n",
       "      <td>5.373417</td>\n",
       "      <td>165.000</td>\n",
       "      <td>0.0</td>\n",
       "      <td>5.0</td>\n",
       "      <td>0.059</td>\n",
       "      <td>0.120</td>\n",
       "      <td>4.401</td>\n",
       "      <td>201.66</td>\n",
       "      <td>POINT Z (5.37342 43.49190 165.00000)</td>\n",
       "    </tr>\n",
       "    <tr>\n",
       "      <th>4</th>\n",
       "      <td>1essai</td>\n",
       "      <td>06/19/2024 15:44:02.800 GMT+02:00</td>\n",
       "      <td>43.491807</td>\n",
       "      <td>5.373362</td>\n",
       "      <td>164.871</td>\n",
       "      <td>0.0</td>\n",
       "      <td>5.0</td>\n",
       "      <td>0.054</td>\n",
       "      <td>0.079</td>\n",
       "      <td>5.086</td>\n",
       "      <td>204.71</td>\n",
       "      <td>POINT Z (5.37336 43.49181 164.87100)</td>\n",
       "    </tr>\n",
       "    <tr>\n",
       "      <th>...</th>\n",
       "      <td>...</td>\n",
       "      <td>...</td>\n",
       "      <td>...</td>\n",
       "      <td>...</td>\n",
       "      <td>...</td>\n",
       "      <td>...</td>\n",
       "      <td>...</td>\n",
       "      <td>...</td>\n",
       "      <td>...</td>\n",
       "      <td>...</td>\n",
       "      <td>...</td>\n",
       "      <td>...</td>\n",
       "    </tr>\n",
       "    <tr>\n",
       "      <th>223</th>\n",
       "      <td>1essai</td>\n",
       "      <td>06/19/2024 15:44:02.800 GMT+02:00</td>\n",
       "      <td>43.491668</td>\n",
       "      <td>5.373427</td>\n",
       "      <td>165.475</td>\n",
       "      <td>0.0</td>\n",
       "      <td>4.0</td>\n",
       "      <td>0.010</td>\n",
       "      <td>0.010</td>\n",
       "      <td>5.392</td>\n",
       "      <td>46.59</td>\n",
       "      <td>POINT Z (5.37343 43.49167 165.47500)</td>\n",
       "    </tr>\n",
       "    <tr>\n",
       "      <th>224</th>\n",
       "      <td>1essai</td>\n",
       "      <td>06/19/2024 15:44:02.800 GMT+02:00</td>\n",
       "      <td>43.491713</td>\n",
       "      <td>5.373537</td>\n",
       "      <td>165.547</td>\n",
       "      <td>0.0</td>\n",
       "      <td>4.0</td>\n",
       "      <td>0.010</td>\n",
       "      <td>0.014</td>\n",
       "      <td>3.909</td>\n",
       "      <td>69.18</td>\n",
       "      <td>POINT Z (5.37354 43.49171 165.54700)</td>\n",
       "    </tr>\n",
       "    <tr>\n",
       "      <th>225</th>\n",
       "      <td>1essai</td>\n",
       "      <td>06/19/2024 15:44:02.800 GMT+02:00</td>\n",
       "      <td>43.491728</td>\n",
       "      <td>5.373660</td>\n",
       "      <td>165.633</td>\n",
       "      <td>0.0</td>\n",
       "      <td>4.0</td>\n",
       "      <td>0.010</td>\n",
       "      <td>0.013</td>\n",
       "      <td>4.557</td>\n",
       "      <td>85.54</td>\n",
       "      <td>POINT Z (5.37366 43.49173 165.63300)</td>\n",
       "    </tr>\n",
       "    <tr>\n",
       "      <th>226</th>\n",
       "      <td>1essai</td>\n",
       "      <td>06/19/2024 15:44:02.800 GMT+02:00</td>\n",
       "      <td>43.491718</td>\n",
       "      <td>5.373787</td>\n",
       "      <td>165.701</td>\n",
       "      <td>0.0</td>\n",
       "      <td>4.0</td>\n",
       "      <td>0.011</td>\n",
       "      <td>0.020</td>\n",
       "      <td>3.777</td>\n",
       "      <td>101.93</td>\n",
       "      <td>POINT Z (5.37379 43.49172 165.70100)</td>\n",
       "    </tr>\n",
       "    <tr>\n",
       "      <th>227</th>\n",
       "      <td>1essai</td>\n",
       "      <td>06/19/2024 15:44:02.800 GMT+02:00</td>\n",
       "      <td>43.491707</td>\n",
       "      <td>5.373850</td>\n",
       "      <td>165.862</td>\n",
       "      <td>0.0</td>\n",
       "      <td>4.0</td>\n",
       "      <td>0.015</td>\n",
       "      <td>0.019</td>\n",
       "      <td>0.792</td>\n",
       "      <td>104.88</td>\n",
       "      <td>POINT Z (5.37385 43.49171 165.86200)</td>\n",
       "    </tr>\n",
       "  </tbody>\n",
       "</table>\n",
       "<p>228 rows × 12 columns</p>\n",
       "</div>"
      ],
      "text/plain": [
       "       NAME                           REC_TIME  _LATITUDE  _LONGITUDE  \\\n",
       "0    1essai  06/19/2024 15:44:02.800 GMT+02:00  43.491988    5.373602   \n",
       "1    1essai  06/19/2024 15:44:02.800 GMT+02:00  43.491992    5.373568   \n",
       "2    1essai  06/19/2024 15:44:02.800 GMT+02:00  43.491977    5.373481   \n",
       "3    1essai  06/19/2024 15:44:02.800 GMT+02:00  43.491904    5.373417   \n",
       "4    1essai  06/19/2024 15:44:02.800 GMT+02:00  43.491807    5.373362   \n",
       "..      ...                                ...        ...         ...   \n",
       "223  1essai  06/19/2024 15:44:02.800 GMT+02:00  43.491668    5.373427   \n",
       "224  1essai  06/19/2024 15:44:02.800 GMT+02:00  43.491713    5.373537   \n",
       "225  1essai  06/19/2024 15:44:02.800 GMT+02:00  43.491728    5.373660   \n",
       "226  1essai  06/19/2024 15:44:02.800 GMT+02:00  43.491718    5.373787   \n",
       "227  1essai  06/19/2024 15:44:02.800 GMT+02:00  43.491707    5.373850   \n",
       "\n",
       "     _ELEVATION  _ORTHO_HT  _FIX_ID  _H_ACC  _V_ACC  _SPEED  _BEARING  \\\n",
       "0       165.039        0.0      5.0   0.054   0.110   0.037    282.00   \n",
       "1       164.817        0.0      5.0   0.130   0.180   1.982    278.11   \n",
       "2       164.816        0.0      5.0   0.130   0.210   3.625    239.05   \n",
       "3       165.000        0.0      5.0   0.059   0.120   4.401    201.66   \n",
       "4       164.871        0.0      5.0   0.054   0.079   5.086    204.71   \n",
       "..          ...        ...      ...     ...     ...     ...       ...   \n",
       "223     165.475        0.0      4.0   0.010   0.010   5.392     46.59   \n",
       "224     165.547        0.0      4.0   0.010   0.014   3.909     69.18   \n",
       "225     165.633        0.0      4.0   0.010   0.013   4.557     85.54   \n",
       "226     165.701        0.0      4.0   0.011   0.020   3.777    101.93   \n",
       "227     165.862        0.0      4.0   0.015   0.019   0.792    104.88   \n",
       "\n",
       "                                 geometry  \n",
       "0    POINT Z (5.37360 43.49199 165.03900)  \n",
       "1    POINT Z (5.37357 43.49199 164.81700)  \n",
       "2    POINT Z (5.37348 43.49198 164.81600)  \n",
       "3    POINT Z (5.37342 43.49190 165.00000)  \n",
       "4    POINT Z (5.37336 43.49181 164.87100)  \n",
       "..                                    ...  \n",
       "223  POINT Z (5.37343 43.49167 165.47500)  \n",
       "224  POINT Z (5.37354 43.49171 165.54700)  \n",
       "225  POINT Z (5.37366 43.49173 165.63300)  \n",
       "226  POINT Z (5.37379 43.49172 165.70100)  \n",
       "227  POINT Z (5.37385 43.49171 165.86200)  \n",
       "\n",
       "[228 rows x 12 columns]"
      ]
     },
     "execution_count": 14,
     "metadata": {},
     "output_type": "execute_result"
    }
   ],
   "source": [
    "track_points"
   ]
  },
  {
   "cell_type": "code",
   "execution_count": 15,
   "id": "af476d89-b9a6-4052-aa7d-e56c443b34b6",
   "metadata": {},
   "outputs": [],
   "source": [
    "p1, p2 = nearest_points(track_points.geometry, pt)"
   ]
  },
  {
   "cell_type": "code",
   "execution_count": 16,
   "id": "13634a5b-aa54-463e-83ac-a8e2015fe41c",
   "metadata": {},
   "outputs": [
    {
     "data": {
      "text/plain": [
       "0      POINT Z (5.37360 43.49199 165.03900)\n",
       "1      POINT Z (5.37357 43.49199 164.81700)\n",
       "2      POINT Z (5.37348 43.49198 164.81600)\n",
       "3      POINT Z (5.37342 43.49190 165.00000)\n",
       "4      POINT Z (5.37336 43.49181 164.87100)\n",
       "                       ...                 \n",
       "223    POINT Z (5.37343 43.49167 165.47500)\n",
       "224    POINT Z (5.37354 43.49171 165.54700)\n",
       "225    POINT Z (5.37366 43.49173 165.63300)\n",
       "226    POINT Z (5.37379 43.49172 165.70100)\n",
       "227    POINT Z (5.37385 43.49171 165.86200)\n",
       "Name: geometry, Length: 228, dtype: geometry"
      ]
     },
     "execution_count": 16,
     "metadata": {},
     "output_type": "execute_result"
    }
   ],
   "source": [
    "p1"
   ]
  },
  {
   "cell_type": "code",
   "execution_count": 36,
   "id": "2ba312a6-9f23-498d-9a81-edd91100fe98",
   "metadata": {},
   "outputs": [
    {
     "data": {
      "text/plain": [
       "0      POINT (5.37361 43.49199)\n",
       "1      POINT (5.37361 43.49199)\n",
       "2      POINT (5.37361 43.49199)\n",
       "3      POINT (5.37361 43.49199)\n",
       "4      POINT (5.37361 43.49199)\n",
       "                 ...           \n",
       "223    POINT (5.37361 43.49199)\n",
       "224    POINT (5.37361 43.49199)\n",
       "225    POINT (5.37361 43.49199)\n",
       "226    POINT (5.37361 43.49199)\n",
       "227    POINT (5.37361 43.49199)\n",
       "Name: geometry, Length: 228, dtype: geometry"
      ]
     },
     "execution_count": 36,
     "metadata": {},
     "output_type": "execute_result"
    }
   ],
   "source": [
    "p2"
   ]
  },
  {
   "cell_type": "markdown",
   "id": "fd952ec4",
   "metadata": {},
   "source": [
    "## Point le plus proche (avec geopandas)"
   ]
  },
  {
   "cell_type": "markdown",
   "id": "992fff66",
   "metadata": {},
   "source": [
    "gdf est le point en dataframe. On va regarder quel est le point de la trace qui est le plus proche avec sjoin_nearest :"
   ]
  },
  {
   "cell_type": "code",
   "execution_count": 17,
   "id": "2c692e61-f2b5-4225-b664-8d392e758c24",
   "metadata": {},
   "outputs": [],
   "source": [
    "gdf = gpd.GeoDataFrame({'geometry': [pt]})"
   ]
  },
  {
   "cell_type": "code",
   "execution_count": 18,
   "id": "18f9cff4-0313-4223-bf7b-eb130ebce46a",
   "metadata": {},
   "outputs": [
    {
     "name": "stderr",
     "output_type": "stream",
     "text": [
      "C:\\Users\\alaeddine.jerad\\AppData\\Local\\Temp\\ipykernel_2312\\2017220742.py:1: UserWarning: CRS mismatch between the CRS of left geometries and the CRS of right geometries.\n",
      "Use `to_crs()` to reproject one of the input geometries to match the CRS of the other.\n",
      "\n",
      "Left CRS: None\n",
      "Right CRS: EPSG:4326\n",
      "\n",
      "  a = gpd.sjoin_nearest(gdf, track_points)\n",
      "C:\\Users\\alaeddine.jerad\\AppData\\Local\\Programs\\Python\\Python312\\Lib\\site-packages\\geopandas\\array.py:365: UserWarning: Geometry is in a geographic CRS. Results from 'sjoin_nearest' are likely incorrect. Use 'GeoSeries.to_crs()' to re-project geometries to a projected CRS before this operation.\n",
      "\n",
      "  warnings.warn(\n"
     ]
    }
   ],
   "source": [
    "a = gpd.sjoin_nearest(gdf, track_points)"
   ]
  },
  {
   "cell_type": "code",
   "execution_count": 19,
   "id": "35cfd7be-628a-4103-80ae-a49c270157cc",
   "metadata": {},
   "outputs": [
    {
     "data": {
      "text/html": [
       "<div>\n",
       "<style scoped>\n",
       "    .dataframe tbody tr th:only-of-type {\n",
       "        vertical-align: middle;\n",
       "    }\n",
       "\n",
       "    .dataframe tbody tr th {\n",
       "        vertical-align: top;\n",
       "    }\n",
       "\n",
       "    .dataframe thead th {\n",
       "        text-align: right;\n",
       "    }\n",
       "</style>\n",
       "<table border=\"1\" class=\"dataframe\">\n",
       "  <thead>\n",
       "    <tr style=\"text-align: right;\">\n",
       "      <th></th>\n",
       "      <th>geometry</th>\n",
       "      <th>index_right</th>\n",
       "      <th>NAME</th>\n",
       "      <th>REC_TIME</th>\n",
       "      <th>_LATITUDE</th>\n",
       "      <th>_LONGITUDE</th>\n",
       "      <th>_ELEVATION</th>\n",
       "      <th>_ORTHO_HT</th>\n",
       "      <th>_FIX_ID</th>\n",
       "      <th>_H_ACC</th>\n",
       "      <th>_V_ACC</th>\n",
       "      <th>_SPEED</th>\n",
       "      <th>_BEARING</th>\n",
       "    </tr>\n",
       "  </thead>\n",
       "  <tbody>\n",
       "    <tr>\n",
       "      <th>0</th>\n",
       "      <td>POINT (5.37294 43.49159)</td>\n",
       "      <td>10</td>\n",
       "      <td>1essai</td>\n",
       "      <td>06/19/2024 15:44:02.800 GMT+02:00</td>\n",
       "      <td>43.491592</td>\n",
       "      <td>5.372933</td>\n",
       "      <td>164.859</td>\n",
       "      <td>0.0</td>\n",
       "      <td>5.0</td>\n",
       "      <td>0.046</td>\n",
       "      <td>0.077</td>\n",
       "      <td>4.544</td>\n",
       "      <td>243.69</td>\n",
       "    </tr>\n",
       "  </tbody>\n",
       "</table>\n",
       "</div>"
      ],
      "text/plain": [
       "                   geometry  index_right    NAME  \\\n",
       "0  POINT (5.37294 43.49159)           10  1essai   \n",
       "\n",
       "                            REC_TIME  _LATITUDE  _LONGITUDE  _ELEVATION  \\\n",
       "0  06/19/2024 15:44:02.800 GMT+02:00  43.491592    5.372933     164.859   \n",
       "\n",
       "   _ORTHO_HT  _FIX_ID  _H_ACC  _V_ACC  _SPEED  _BEARING  \n",
       "0        0.0      5.0   0.046   0.077   4.544    243.69  "
      ]
     },
     "execution_count": 19,
     "metadata": {},
     "output_type": "execute_result"
    }
   ],
   "source": [
    "a"
   ]
  },
  {
   "cell_type": "code",
   "execution_count": 20,
   "id": "dc4eebfc-1cbb-417c-9834-90c9afeeedc1",
   "metadata": {},
   "outputs": [
    {
     "name": "stdout",
     "output_type": "stream",
     "text": [
      "5.372942833333333 43.4915945\n"
     ]
    }
   ],
   "source": [
    "print(pt.x, pt.y)"
   ]
  },
  {
   "cell_type": "code",
   "execution_count": 21,
   "id": "d0a3eb1b-c417-408b-a5e5-4b85abe1e273",
   "metadata": {},
   "outputs": [
    {
     "data": {
      "text/plain": [
       "10"
      ]
     },
     "execution_count": 21,
     "metadata": {},
     "output_type": "execute_result"
    }
   ],
   "source": [
    "index_nearest = a.index_right.values[0]\n",
    "index_nearest"
   ]
  },
  {
   "cell_type": "code",
   "execution_count": 23,
   "id": "36250edc-5307-4261-bd1d-0ec34eca4899",
   "metadata": {},
   "outputs": [
    {
     "data": {
      "image/svg+xml": [
       "<svg xmlns=\"http://www.w3.org/2000/svg\" xmlns:xlink=\"http://www.w3.org/1999/xlink\" width=\"100.0\" height=\"100.0\" viewBox=\"4.372933349999999 42.491592465000004 2.0 2.0\" preserveAspectRatio=\"xMinYMin meet\"><g transform=\"matrix(1,0,0,-1,0,86.98318493000001)\"><circle cx=\"5.372933349999999\" cy=\"43.491592465000004\" r=\"0.06\" stroke=\"#555555\" stroke-width=\"0.02\" fill=\"#66cc99\" opacity=\"0.6\" /></g></svg>"
      ],
      "text/plain": [
       "<POINT Z (5.373 43.492 164.859)>"
      ]
     },
     "execution_count": 23,
     "metadata": {},
     "output_type": "execute_result"
    }
   ],
   "source": [
    "nearest_point = track_points.iloc[index_nearest].geometry\n",
    "nearest_point"
   ]
  },
  {
   "cell_type": "code",
   "execution_count": 24,
   "id": "f7a7ac14-65ad-4e81-92c6-a0062eb47a73",
   "metadata": {},
   "outputs": [
    {
     "ename": "AttributeError",
     "evalue": "'Point' object has no attribute 'plot'",
     "output_type": "error",
     "traceback": [
      "\u001b[1;31m---------------------------------------------------------------------------\u001b[0m",
      "\u001b[1;31mAttributeError\u001b[0m                            Traceback (most recent call last)",
      "Cell \u001b[1;32mIn[24], line 5\u001b[0m\n\u001b[0;32m      2\u001b[0m \u001b[38;5;28;01mfrom\u001b[39;00m \u001b[38;5;21;01mmatplotlib\u001b[39;00m\u001b[38;5;21;01m.\u001b[39;00m\u001b[38;5;21;01mpatches\u001b[39;00m \u001b[38;5;28;01mimport\u001b[39;00m Patch\n\u001b[0;32m      4\u001b[0m fig, ax \u001b[38;5;241m=\u001b[39m plt\u001b[38;5;241m.\u001b[39msubplots(figsize\u001b[38;5;241m=\u001b[39m(\u001b[38;5;241m8\u001b[39m, \u001b[38;5;241m8\u001b[39m), layout\u001b[38;5;241m=\u001b[39m\u001b[38;5;124m'\u001b[39m\u001b[38;5;124mconstrained\u001b[39m\u001b[38;5;124m'\u001b[39m)\n\u001b[1;32m----> 5\u001b[0m \u001b[43mnearest_point\u001b[49m\u001b[38;5;241;43m.\u001b[39;49m\u001b[43mplot\u001b[49m(ax\u001b[38;5;241m=\u001b[39max, color\u001b[38;5;241m=\u001b[39m\u001b[38;5;124m'\u001b[39m\u001b[38;5;124mred\u001b[39m\u001b[38;5;124m'\u001b[39m)\n\u001b[0;32m      6\u001b[0m gdf\u001b[38;5;241m.\u001b[39mplot(ax\u001b[38;5;241m=\u001b[39max, color\u001b[38;5;241m=\u001b[39m\u001b[38;5;124m'\u001b[39m\u001b[38;5;124mblue\u001b[39m\u001b[38;5;124m'\u001b[39m,marker\u001b[38;5;241m=\u001b[39m\u001b[38;5;124m'\u001b[39m\u001b[38;5;124mo\u001b[39m\u001b[38;5;124m'\u001b[39m,markersize\u001b[38;5;241m=\u001b[39m\u001b[38;5;241m10\u001b[39m)\n\u001b[0;32m      8\u001b[0m plt\u001b[38;5;241m.\u001b[39mshow()\n",
      "\u001b[1;31mAttributeError\u001b[0m: 'Point' object has no attribute 'plot'"
     ]
    },
    {
     "data": {
      "image/png": "[encoded data removed]",
      "text/plain": [
       "<Figure size 800x800 with 1 Axes>"
      ]
     },
     "metadata": {},
     "output_type": "display_data"
    }
   ],
   "source": [
    "import matplotlib.pyplot as plt\n",
    "from matplotlib.patches import Patch\n",
    "\n",
    "fig, ax = plt.subplots(figsize=(8, 8), layout='constrained')\n",
    "nearest_point.plot(ax=ax, color='red')\n",
    "gdf.plot(ax=ax, color='blue',marker='o',markersize=10)\n",
    "\n",
    "plt.show()"
   ]
  },
  {
   "cell_type": "markdown",
   "id": "19d2a6f9",
   "metadata": {},
   "source": [
    "## Modif EXIF"
   ]
  },
  {
   "cell_type": "markdown",
   "id": "c935e9c5",
   "metadata": {},
   "source": [
    "On va modifier les paramètres de l'image pour mettre la nouvelle coordonnée :"
   ]
  },
  {
   "cell_type": "code",
   "execution_count": 74,
   "id": "b33a3d52-2d2d-45b5-8395-592432923376",
   "metadata": {},
   "outputs": [
    {
     "name": "stdout",
     "output_type": "stream",
     "text": [
      "Collecting piexif\n",
      "  Downloading piexif-1.1.3-py2.py3-none-any.whl.metadata (3.7 kB)\n",
      "Downloading piexif-1.1.3-py2.py3-none-any.whl (20 kB)\n",
      "Installing collected packages: piexif\n",
      "Successfully installed piexif-1.1.3\n"
     ]
    },
    {
     "name": "stderr",
     "output_type": "stream",
     "text": [
      "\n",
      "[notice] A new release of pip is available: 24.0 -> 24.1.1\n",
      "[notice] To update, run: python.exe -m pip install --upgrade pip\n"
     ]
    }
   ],
   "source": [
    "!pip install piexif"
   ]
  },
  {
   "cell_type": "code",
   "execution_count": 75,
   "id": "fe580cab-1014-48ee-b840-cb8f61ef4480",
   "metadata": {},
   "outputs": [],
   "source": [
    "import piexif\n",
    "\n",
    "exif_dict = piexif.load(img)"
   ]
  },
  {
   "cell_type": "code",
   "execution_count": 76,
   "id": "c0c40bf7-a348-4ac7-a690-e4c10ed1710f",
   "metadata": {},
   "outputs": [
    {
     "data": {
      "text/plain": [
       "{'0th': {270: b'DCIM\\\\132GOPRO\\\\G0141817.JPG\\x00\\x00\\x00\\x00\\x00',\n",
       "  271: b'GoPro\\x00\\x00\\x00\\x00\\x00\\x00\\x00\\x00\\x00\\x00\\x00\\x00\\x00\\x00\\x00\\x00\\x00\\x00\\x00\\x00\\x00\\x00\\x00\\x00',\n",
       "  272: b'HERO5 Black\\x00\\x00\\x00\\x00\\x00\\x00\\x00\\x00\\x00\\x00\\x00\\x00\\x00\\x00\\x00\\x00\\x00\\x00',\n",
       "  274: 1,\n",
       "  282: (72, 1),\n",
       "  283: (72, 1),\n",
       "  296: 2,\n",
       "  305: b'HD5.02.02.70.00\\x00\\x00\\x00\\x00\\x00\\x00\\x00\\x00',\n",
       "  306: b'2024:06:19 15:33:38',\n",
       "  531: 1,\n",
       "  34665: 158,\n",
       "  34853: 686},\n",
       " 'Exif': {33434: (1019, 1000000),\n",
       "  33437: (280, 100),\n",
       "  34850: 2,\n",
       "  34855: 400,\n",
       "  36864: b'0221',\n",
       "  36867: b'2024:06:19 15:33:38',\n",
       "  36868: b'2024:06:19 15:33:38',\n",
       "  37121: b'\\x01\\x02\\x03\\x00',\n",
       "  37122: (4294966296, 297),\n",
       "  37377: (-9937, -1000),\n",
       "  37378: (297, 100),\n",
       "  37380: (0, 32),\n",
       "  37381: (297, 100),\n",
       "  37382: (0, 100),\n",
       "  37383: 0,\n",
       "  37384: 0,\n",
       "  37385: 32,\n",
       "  37386: (3, 1),\n",
       "  37500: b'\\n\\x00\\x12\\x06\\x00\\xc0\\x82G\\x00\\x00LAE6093017605887\\x00\\x00\\x00\\x00\\x00\\x00\\x00\\x00\\x00\\x00\\x00\\x00\\x00\\x00\\x00\\x00\\x00\\x00\\x00\\x00\\x00\\x00\\x00\\x00\\x00\\x00\\x00\\x00\\x00\\x00\\x00\\x00\\x00\\x00\\x08@H\\x00\\x15\\xce\\xb9W\\xff\\xcfY\\x04\\xa7\\x86\\x84\\x10\\x1d\\xdf\\xeap\\x07\\xe8d\\xcf\\x00\\t\\x08fuk\\x00\\x00\\x00\\x00\\x00\\x00\\xf4/q\\xa8\\xb3\\xe1\\xe9\\xa4\\x139\\xee\\xa6\\x01\\x00\\x00\\x00C3161325\\x13\\x0f!&\\x00\\x01\\x00\\x00\\x00\\x00\\x00\\x00\\x00\\x00\\x00\\x00\\x00\\x00\\x00\\x00\\x00\\x00\\x00\\x00\\x00\\x00\\x00\\x00\\x00\\x00\\x00\\x00\\x00\\x00\\x00\\x00\\x00\\x00\\x00\\x00\\x00\\x00\\x00\\x00\\x00\\x00\\x00\\x00\\x00\\x00\\x00\\x00\\x00\\x00\\x00\\x00\\x00\\x00\\x00\\x00\\x00\\x00\\x00\\x00\\x00\\x00\\x00\\x00\\x00\\x00\\x00\\x00\\x00\\x00\\x00\\x00\\x00\\x00\\x00\\x00\\x00\\x00\\x00\\x00\\x00\\x00\\x00\\x00\\x00\\x00\\x00\\x00\\x00\\x00\\x00\\x00\\x00\\x00\\x00\\x00\\x00\\x00\\x00\\x00\\x00\\x00\\x00\\x00\\x00\\x00\\x00\\x00\\x00\\x00\\x00\\x00\\x00\\x00\\x00\\x00\\x00\\x00\\x00\\x00\\x00\\x00\\x00\\x00\\x00\\x00\\x00\\x00\\x00\\x00\\x00\\x00\\x00\\x00\\x00\\x00\\x00\\x00\\x00\\x00\\x00\\x00\\x00\\x00\\x00\\x00\\x00\\x00\\x00\\x00\\x00\\x00\\x00\\x00\\x00\\x00\\x00\\x00\\x00\\x00\\x00\\x00\\x00\\x00\\x00\\x00\\x00\\x00\\x00\\x00\\x00\\x00\\x00\\x00\\x00\\x00\\x00\\x00\\x00\\x00\\x00\\x00\\x00\\x00\\x00\\x00\\x00\\x00\\x00\\x00\\x00\\x00\\x00\\x00\\x00\\x00\\x00\\x00\\x00\\x00\\x00\\x00\\x00\\x00\\x00\\x00\\x00\\x00\\x00\\x00\\x00\\x00\\x00\\x00\\x00\\x00\\x00\\x00\\x00\\x00\\x00\\x00\\x00\\x00\\x00\\x00\\x00\\x00\\x00\\x00\\x00\\x00\\x00\\x00\\x00\\x00\\x00\\x00\\x00\\x00\\x00\\x00\\x00\\x00\\x00\\x00\\x00\\x00\\x00\\x00\\x00\\x00\\x00\\x00\\x00\\x00\\x00\\x00\\x00\\x00\\x00\\x00\\x00\\x00\\x00\\x00\\x00\\x00\\x00\\x00\\x00\\x00\\x00\\x00\\x00\\x00\\x00\\x00\\x00\\x00\\x00\\x00\\x00\\x00\\x00\\x00\\x00\\x00\\x00\\x00\\x00\\x00\\x00\\x00\\x00\\x00\\x00\\x00\\x00\\x00\\x00\\x00\\x00\\x00\\x00\\x00\\x00\\x00\\x00\\x00\\x00\\x00\\x00\\x00\\x00\\x00\\x00\\x00\\x00\\x00\\x00\\x00\\x00\\x00\\x00\\x00\\x00\\x00\\x00\\x00\\x00\\x00\\x00\\x00\\x00\\x00\\x00\\x00\\x00\\x00\\x00\\x00\\x00\\x00\\x00\\x00\\x00\\x00\\x00\\x00\\x00\\x00\\x00\\x00\\x00\\x00\\x00\\x00\\x00\\x00\\x00\\x00\\x00\\x00\\x00\\x00\\x00\\x00\\x00\\x00\\x00\\x00\\x00\\x00\\x00\\x00\\x00\\x00\\x00\\x00\\x00\\x00\\x00\\x00\\x00\\x00\\x00\\x00\\x00\\x00\\x00\\x00\\x00\\x00\\x00\\x00\\x00\\x00\\x00\\x00\\x00\\x00\\x00\\x00\\x00\\x00\\x00\\x00\\x00\\x00\\x00\\x00\\x00\\x00\\x00\\x00\\x00\\x00\\x00\\x00\\x00\\x00\\x00\\x00\\x00\\x00\\x00\\x00\\x00\\x00\\x00\\x00\\x00\\x00\\x00\\x00\\x00\\x00\\x00\\x00\\x00\\x00\\x00\\x00\\x00\\x00\\x00\\x00\\x00\\x00\\x00\\x00\\x00\\x00\\x00\\x00\\x00\\x00\\x00\\x00\\x00\\x00\\x00\\x00\\x00\\x00\\x00\\x00\\x00\\x00\\x00\\x00\\x00\\x00\\x00\\x00\\x00\\x00\\x00\\x00\\x00\\x00\\x00\\x00\\x00\\x00\\x00\\x00\\x00\\x00\\x00\\x00\\x00\\x00\\x00\\x00\\x00\\x00\\x00\\x00\\x00\\x00\\x00\\x00\\x00\\x00\\x00\\x00\\x00\\x00\\x00\\x00\\x00\\x00\\x00\\x00\\x00\\x00\\x00\\x00\\x00\\x00\\x00\\x00\\x00\\x00\\x00\\x00\\x00\\x00\\x00\\x00\\x00\\x00\\x00\\x00\\x00\\x00\\x00\\x00\\x00\\x00\\x00\\x00\\x00\\x00\\x00\\x00\\x00\\x00\\x00\\x00\\x00\\x00\\x00\\x00\\x00\\x00\\x00\\x00\\x00\\x00\\x00\\x00\\x00\\x00\\x00\\x00\\x00\\x00\\x00\\x00\\x00\\x00\\x00\\x00\\x00\\x00\\x00\\x00\\x00\\x00\\x00\\x00\\x00\\x00\\x00\\x00\\x00\\x00\\x00\\x00\\x00\\x00\\x00\\x00\\x00\\x00\\x00\\x00\\x00\\x00\\x00\\x00\\x00\\x00\\x00\\x00\\x00\\x00\\x00\\x00\\x00\\x00\\x00\\x00\\x00\\x00\\x00\\x00\\x00\\x00\\x00\\x00\\x00\\x00\\x00\\x00\\x00\\x00\\x00\\x00\\x00\\x00\\x00\\x00\\x00\\x00\\x00\\x00\\x00\\x00\\x00\\x00\\x00\\x00\\x00\\x00\\x00\\x00\\x00\\x00\\x00\\x00\\x00\\x00\\x00\\x00\\x00\\x00\\x00\\x00\\x00\\x00\\x00\\x00\\x00\\x00\\x00\\x00\\x00\\x00\\x00\\x00\\x00\\x00\\x00\\x00\\x00\\x00\\x00\\x00\\x00\\x00\\x00\\x00\\x00\\x00\\x00\\x00\\x00\\x00\\x00\\x00\\x00\\x00\\x00\\x00\\x00\\x00\\x00\\x00\\x00\\x00\\x00\\x00\\x00\\x00\\x00\\x00\\x00\\x00\\x00\\x00\\x00\\x00\\x00\\x00\\x00\\x00\\x00\\x00\\x00\\x00\\x00\\x00\\x00\\x00\\x00\\x00\\x00\\x00\\x00\\x00\\x00\\x00\\x00\\x00\\x00\\x00\\x00\\x00\\x00\\x00\\x00\\x00\\x00\\x00\\x00\\x00\\x00\\x00\\x00\\x00\\x00\\x00\\x00\\x00\\x00\\x00\\x00\\x00\\x00\\x00\\x00\\x00\\x00\\x00\\x00\\x00\\x00\\x00\\x00\\x00\\x00\\x00\\x00\\x00\\x00\\x00\\x00\\x00\\x00\\x00\\x00\\x00\\x00\\x00\\x00\\x00\\x00\\x00\\x00\\x00\\x00\\x00\\x00\\x00\\x00\\x00\\x00\\x00\\x00\\x00\\x00\\x00\\x00\\x00\\x00\\x00\\x00\\x00\\x00\\x00\\x00\\x00\\x00\\x00\\x00\\x00\\x00\\x00\\x00\\x00\\x00\\x00\\x00\\x00\\x00\\x00\\x00\\x00\\x00\\x00\\x00\\x00\\x00\\x00\\x00\\x00\\x00\\x00\\x00\\x00\\x00\\x00\\x00\\x00\\x00\\x00\\x00\\x00\\x00\\x00\\x00\\x00\\x00\\x00\\x00\\x00\\x00\\x00\\x00\\x00\\x00\\x00\\x00\\x00\\x00\\x00\\x00\\x00\\x00\\x00\\x00\\x00\\x00\\x00\\x00\\x00\\x00\\x00\\x00\\x00\\x00\\x00\\x00\\x00\\x00\\x00\\x00\\x00\\x00\\x00\\x00\\x00\\x00\\x00\\x00\\x00\\x00\\x00\\x00\\x00\\x00\\x00\\x00\\x00\\x00\\x00\\x00\\x00\\x00\\x00\\x00\\x00\\x00\\x00\\x00\\x00\\x00\\x00\\x00\\x00\\x00\\x00\\x00\\x00\\x00\\x00\\x00\\x00\\x00\\x00\\x00\\x00\\x00\\x00\\x00\\x00\\x00\\x00\\x00\\x00\\x00\\x00\\x00\\x00\\x00\\x00\\x00\\x00\\x00\\x00\\x00\\x00\\x00\\x00\\x00\\x00\\x00\\x00\\x00\\x00\\x00\\x00\\x00\\x00\\x00\\x00\\x00\\x00\\x00\\x00\\x00\\x00\\x00\\x00\\x00\\x00\\x00\\x00\\x00\\x00\\x00\\x00\\x00\\x00\\x00\\x00\\x00\\x00\\x00\\x00\\x00\\x00\\x00\\x00\\x00\\x00\\x00\\x00\\x00\\x00\\x00\\x00\\x00\\x00\\x00\\x00\\x00\\x00\\x00\\x00\\x00\\x00\\x00\\x00\\x00\\x00\\x00\\x00\\x00\\x00\\x00\\x00\\x00\\x00\\x00\\x00\\x00\\x00\\x00\\x00\\x00\\x00\\x00\\x00\\x00\\x00\\x00\\x00\\x00\\x00\\x00\\x00\\x00\\x00\\x00\\x00\\x00\\x00\\x00\\x00\\x00\\x00\\x00\\x00\\x00\\x00\\x00\\x00\\x00\\x00\\x00\\x00\\x00\\x00\\x00\\x00\\x00\\x00\\x00\\x00\\x00\\x00\\x00\\x00\\x00\\x00\\x00\\x00\\x00\\x00\\x00\\x00\\x00\\x00\\x00\\x00\\x00\\x00\\x00\\x00\\x00\\x00\\x00\\x00\\x00\\x00\\x00\\x00\\x00\\x00\\x00\\x00\\x00\\x00\\x00\\x00\\x00\\x00\\x00\\x00\\x00\\x00\\x00\\x00\\x00\\x00\\x00\\x00\\x00\\x00\\x00\\x00\\x00\\x00\\x00\\x00\\x00\\x00\\x00\\x00\\x00\\x00\\x00\\x00\\x00\\x00\\x00\\x00\\x00\\x00\\x00\\x00\\x00\\x00\\x00\\x00\\x00\\x00\\x00\\x00\\x00\\x00\\x00\\x00\\x00\\x00\\x00\\x00\\x00\\x00\\x00\\x00\\x00\\x00\\x00\\x00\\x00\\x00\\x00\\x00\\x00\\x00\\x00\\x00\\x00\\x00\\x00\\x00\\x00\\x00\\x00\\x00\\x00\\x00\\x00\\x00\\x00\\x00\\x00\\x00\\x00\\x00\\x00\\x00\\x00\\x00\\x00\\x00\\x00\\x00\\x00\\x00\\x00\\x00\\x00\\x00\\x00\\x00\\x00\\x00\\x00\\x00\\x00\\x00\\x00\\x00\\x00\\x00\\x00\\x00\\x00\\x00\\x00\\x00\\x00\\x00\\x00\\x00\\x00\\x00\\x00\\x00\\x00\\x00\\x00\\x00\\x00\\x00\\x00\\x00\\x00\\x00\\x00\\x00\\x00\\x00\\x00\\x00\\x00\\x00\\x00\\x00\\x00\\x00\\x00\\x00\\x00\\x00\\x00\\x00\\x00\\x00\\x00\\x00\\x00\\x00\\x00\\x00\\x00\\x00\\x00\\x00\\x00\\x00\\x00\\x00\\x00\\x00\\x00\\x00\\x00\\x00\\x00\\x00\\x00\\x00\\x00\\x00\\x00\\x00\\x00\\x00\\x00\\x00\\x00\\x00\\x00\\x00\\x00\\x00\\x00\\x00\\x00\\x00\\x00\\x00\\x00\\x00\\x00\\x00\\x00\\x00\\x00\\x00\\x00\\x00\\x00\\x00\\x00\\x00\\x00\\x00\\x00\\x00\\x00\\x00\\x00\\x00\\x00\\x00\\x00\\x00\\x00\\x00\\x00\\x00\\x00\\x00\\x00\\x00\\x00\\x00\\x00\\x00\\x00\\x00\\x00\\x00\\x00\\x00\\x00\\x00\\x00\\x00\\x00\\x00\\x00\\x00\\x00\\x00\\x00\\x00\\x00\\x00\\x00\\x00\\x00\\x00\\x00\\x00\\x00\\x00\\x00\\x00\\x00\\x00\\x00\\x00\\x00\\x00\\x00\\x00\\x00\\x00\\x00\\x00\\x00\\x00\\x00\\x00\\x00\\x00\\x00\\x00\\x00\\x00\\x00\\x00\\x00\\x00\\x00\\x00\\x00\\x00\\x00\\x00\\x00\\x00\\x00\\x00\\x00\\x00\\x00\\x00\\x00\\x00\\x00\\x00\\x00\\x00\\x00\\x00\\x00\\x00\\x00\\x00\\x00\\x00\\x00\\x00\\x00\\x00\\x00\\x00\\x00\\x00\\x00\\x00\\x00\\x00\\x00\\x00\\x00\\x00\\x00\\x00\\x00\\x00\\x00\\x00\\x00\\x00\\x00\\x00\\x00\\x00\\x00\\x00\\x00\\x00\\x00\\x00\\x00\\x00\\x00\\x00\\x00\\x00\\x00\\x00\\x00\\x00\\x00\\x00\\x00\\x00\\x00\\x00\\x00\\x00\\x00\\x00\\x00\\x00\\x00\\x00\\x00\\x00\\x00\\x00\\x00\\x00\\x00\\x00\\x00\\x00\\x00\\x00\\x00\\x00\\x00\\x00\\x00\\x00\\x00\\x00\\x00\\x00\\x00\\x00\\x00\\x00\\x00\\x00\\x00\\x00\\x00\\x00\\x00\\x00\\x00\\x00\\x00\\x00\\x00\\x00\\x00\\x00\\x00\\x00\\x00\\x00\\x00\\x00\\x00\\x00\\x00\\x00\\x00\\x00\\x00\\x00\\x00\\x00\\x00\\x00\\x00\\x00\\x00\\x00\\x00\\x00\\x00\\x00\\x00\\x00\\x00\\x00\\x00\\x00\\x00\\x00\\x00\\x00\\x00\\x00\\x00\\x00\\x00\\x00\\x00\\x00\\x00\\x00\\x00\\x00\\x00\\x00\\x00\\x00\\x00\\x00\\x00\\x00\\x00\\x00\\x00\\x00\\x00\\x00\\x00\\x00\\x00\\x00\\x00\\x00\\x00\\x00\\x00\\x00\\x00\\x00\\x00\\x00\\x00\\x00\\x00\\x00\\x00\\x00\\x00\\x00\\x00\\x00\\x00\\x00\\x00\\x00\\x00\\x00\\x00\\x00\\x00\\x00\\x00\\x00\\x00\\x00\\x00\\x00\\x00\\x00\\x00\\x00\\x00\\x00\\x00\\x00\\x00\\x00\\x00\\x00\\x00\\x00\\x00\\x00\\x00\\x00\\x00\\x00\\x00\\x00\\x00\\x00\\x00\\x00\\x00\\x00\\x00\\x00\\x00\\x00\\x00\\x00\\x00\\x00\\x00\\x00\\x00\\x00\\x00\\x00\\x00\\x00\\x00\\x00\\x00\\x00\\x00\\x00\\x00\\x00\\x00\\x00\\x00\\x00\\x00\\x00\\x00\\x00\\x00\\x00\\x00\\x00\\x00\\x00\\x00\\x00\\x00\\x00\\x00\\x00\\x00\\x00\\x00\\x00\\x00\\x00\\x00\\x00\\x00\\x00\\x00\\x00\\x00\\x00\\x00\\x00\\x00\\x00\\x00\\x00\\x00\\x00\\x00\\x00\\x00\\x00\\x00\\x00\\x00\\x00\\x00\\x00\\x00\\x00\\x00\\x00\\x00\\x00\\x00\\x00\\x00\\x00\\x00\\x00\\x00\\x00\\x00\\x00\\x00\\x00\\x00\\x00\\x00\\x00\\x00\\x00\\x00\\x00\\x00\\x00\\x00\\x00\\x00\\x00\\x00\\x00\\x00\\x00\\x00\\x00\\x00\\x00\\x00\\x00\\x00\\x00\\x00\\x00\\x00\\x00\\x00\\x00\\x00\\x00\\x00\\x00\\x00\\x00\\x00\\x00\\x00\\x00\\x00\\x00\\x00\\x00\\x00\\x00\\x00\\x00\\x00\\x00\\x00\\x00\\x00\\x00\\x00\\x00\\x00\\x00\\x00\\x00\\x00\\x00\\x00\\x00\\x00\\x00\\x00\\x00\\x00\\x00\\x00\\x00\\x00\\x00\\x00\\x00\\x00\\x00\\x00\\x00\\x00\\x00\\x00\\x00\\x00\\x00\\x00\\x00\\x00\\x00\\x00\\x00\\x00\\x00\\x00\\x00\\x00\\x00\\x00\\x00\\x00\\x00\\x00\\x00\\x00\\x00\\x00\\x00\\x00\\x00\\x00\\x00\\x00\\x00\\x00\\x00\\x00\\x00\\x00\\x00\\x00\\x00\\x00\\x00\\x00\\x00\\x00\\x00\\x00\\x00\\x00\\x00\\x00\\x00\\x00\\x00\\x00\\x00\\x00\\x00\\x00\\x00\\x00\\x00\\x00\\x00\\x00\\x00\\x00\\x00\\x00\\x00\\x00\\x00\\x00\\x00\\x00\\x00\\x00\\x00\\x00\\x00\\x00\\x00\\x00\\x00\\x00\\x00\\x00\\x00\\x00\\x00\\x00\\x00\\x00\\x00\\x00\\x00\\x00\\x00\\x00\\x00\\x00\\x00\\x00\\x00\\x00\\x00\\x00\\x00\\x00\\x00\\x00\\x00\\x00\\x00\\x00\\x00\\x00\\x00\\x00\\x00\\x00\\x00\\x00\\x00\\x00\\x00\\x00\\x00\\x00\\x00\\x00\\x00\\x00\\x00\\x00\\x00\\x00\\x00\\x00\\x00\\x00\\x00\\x00\\x00\\x00\\x00\\x00\\x00\\x00\\x00\\x00\\x00\\x00\\x00\\x00\\x00\\x00\\x00\\x00\\x00\\x00\\x00\\x00\\x00\\x00\\x00\\x00\\x00\\x00\\x00\\x00\\x00\\x00\\x00\\x00\\x00\\x00\\x00\\x00\\x00\\x00\\x00\\x00\\x00\\x00\\x00\\x00\\x00\\x00\\x00\\x00\\x00\\x00\\x00\\x00\\x00\\x00\\x00\\x00\\x00\\x00\\x00\\x00\\x00\\x00\\x00\\x00\\x00\\x00\\x00\\x00\\x00\\x00\\x00\\x00\\x00\\x00\\x00\\x00\\x00\\x00\\x00\\x00\\x00\\x00\\x00\\x00\\x00\\x00\\x00\\x00\\x00\\x00\\x00\\x00\\x00\\x00\\x00\\x00\\x00\\x00\\x00\\x00\\x00\\x00\\x00\\x00\\x00\\x00\\x00\\x00\\x00\\x00\\x00\\x00\\x00\\x00\\x00\\x00\\x00\\x00\\x00\\x00\\x00\\x00\\x00\\x00\\x00\\x00\\x00\\x00\\x00\\x00\\x00\\x00\\x00\\x00\\x00\\x00\\x00\\x00\\x00\\x00\\x00\\x00\\x00\\x00\\x00\\x00\\x00\\x00\\x00\\x00\\x00\\x00\\x00\\x00\\x00\\x00\\x00\\x00\\x00\\x00\\x00\\x00\\x00\\x00\\x00\\x00\\x00\\x00\\x00\\x00\\x00\\x00\\x00\\x00\\x00\\x00\\x00\\x00\\x00\\x00\\x00\\x00\\x00\\x00\\x00\\x00\\x00\\x00\\x00\\x00\\x00\\x00\\x00\\xfc\\xe8@\\xa94\\xf0@\\xa9\\xbc|\\x8b\\xa4',\n",
       "  40960: b'0100',\n",
       "  40961: 1,\n",
       "  40962: 4000,\n",
       "  40963: 3000,\n",
       "  40965: 656,\n",
       "  41493: (0, 0),\n",
       "  41495: 2,\n",
       "  41728: b'\\x03',\n",
       "  41729: b'\\x01',\n",
       "  41985: 0,\n",
       "  41986: 0,\n",
       "  41987: 0,\n",
       "  41988: (1024, 1024),\n",
       "  41989: 17,\n",
       "  41990: 1,\n",
       "  41991: 0,\n",
       "  41992: 0,\n",
       "  41993: 0,\n",
       "  41994: 2,\n",
       "  41995: b'\\x00\\x00\\x00\\x00',\n",
       "  41996: 0,\n",
       "  42033: b'C3161325319497\\x00\\x00\\x00\\x00\\x00\\x00\\x00\\x00\\x00\\x00\\x00\\x00\\x00\\x00\\x00'},\n",
       " 'GPS': {1: b'N',\n",
       "  2: ((43, 1), (29, 1), (311503199, 10000000)),\n",
       "  3: b'E',\n",
       "  4: ((5, 1), (22, 1), (250053600, 10000000)),\n",
       "  5: 0,\n",
       "  6: (164514, 1000),\n",
       "  7: ((13, 1), (33, 1), (37, 1)),\n",
       "  29: b'2024:06:19'},\n",
       " 'Interop': {1: b'R98'},\n",
       " '1st': {259: 6, 282: (72, 1), 283: (72, 1), 296: 2, 513: 44020, 514: 3782},\n",
       " 'thumbnail': b'\\xff\\xd8\\xff\\xdb\\x00\\x84\\x00\\t\\x06\\x06\\x08\\x06\\x05\\t\\x08\\x07\\x08\\n\\t\\t\\n\\r\\x16\\x0e\\r\\x0c\\x0c\\r\\x1a\\x13\\x14\\x10\\x16\\x1f\\x1c! \\x1f\\x1c\\x1e\\x1e#\\'2*#%/%\\x1e\\x1e+;,/35888!*=A<6A2785\\x01\\t\\n\\n\\r\\x0b\\r\\x19\\x0e\\x0e\\x195$\\x1e$55555555555555555555555555555555555555555555555555\\xff\\xc0\\x00\\x11\\x08\\x00x\\x00\\xa0\\x03\\x01!\\x00\\x02\\x11\\x01\\x03\\x11\\x01\\xff\\xc4\\x01\\xa2\\x00\\x00\\x01\\x05\\x01\\x01\\x01\\x01\\x01\\x01\\x00\\x00\\x00\\x00\\x00\\x00\\x00\\x00\\x01\\x02\\x03\\x04\\x05\\x06\\x07\\x08\\t\\n\\x0b\\x10\\x00\\x02\\x01\\x03\\x03\\x02\\x04\\x03\\x05\\x05\\x04\\x04\\x00\\x00\\x01}\\x01\\x02\\x03\\x00\\x04\\x11\\x05\\x12!1A\\x06\\x13Qa\\x07\"q\\x142\\x81\\x91\\xa1\\x08#B\\xb1\\xc1\\x15R\\xd1\\xf0$3br\\x82\\t\\n\\x16\\x17\\x18\\x19\\x1a%&\\'()*456789:CDEFGHIJSTUVWXYZcdefghijstuvwxyz\\x83\\x84\\x85\\x86\\x87\\x88\\x89\\x8a\\x92\\x93\\x94\\x95\\x96\\x97\\x98\\x99\\x9a\\xa2\\xa3\\xa4\\xa5\\xa6\\xa7\\xa8\\xa9\\xaa\\xb2\\xb3\\xb4\\xb5\\xb6\\xb7\\xb8\\xb9\\xba\\xc2\\xc3\\xc4\\xc5\\xc6\\xc7\\xc8\\xc9\\xca\\xd2\\xd3\\xd4\\xd5\\xd6\\xd7\\xd8\\xd9\\xda\\xe1\\xe2\\xe3\\xe4\\xe5\\xe6\\xe7\\xe8\\xe9\\xea\\xf1\\xf2\\xf3\\xf4\\xf5\\xf6\\xf7\\xf8\\xf9\\xfa\\x01\\x00\\x03\\x01\\x01\\x01\\x01\\x01\\x01\\x01\\x01\\x01\\x00\\x00\\x00\\x00\\x00\\x00\\x01\\x02\\x03\\x04\\x05\\x06\\x07\\x08\\t\\n\\x0b\\x11\\x00\\x02\\x01\\x02\\x04\\x04\\x03\\x04\\x07\\x05\\x04\\x04\\x00\\x01\\x02w\\x00\\x01\\x02\\x03\\x11\\x04\\x05!1\\x06\\x12AQ\\x07aq\\x13\"2\\x81\\x08\\x14B\\x91\\xa1\\xb1\\xc1\\t#3R\\xf0\\x15br\\xd1\\n\\x16$4\\xe1%\\xf1\\x17\\x18\\x19\\x1a&\\'()*56789:CDEFGHIJSTUVWXYZcdefghijstuvwxyz\\x82\\x83\\x84\\x85\\x86\\x87\\x88\\x89\\x8a\\x92\\x93\\x94\\x95\\x96\\x97\\x98\\x99\\x9a\\xa2\\xa3\\xa4\\xa5\\xa6\\xa7\\xa8\\xa9\\xaa\\xb2\\xb3\\xb4\\xb5\\xb6\\xb7\\xb8\\xb9\\xba\\xc2\\xc3\\xc4\\xc5\\xc6\\xc7\\xc8\\xc9\\xca\\xd2\\xd3\\xd4\\xd5\\xd6\\xd7\\xd8\\xd9\\xda\\xe2\\xe3\\xe4\\xe5\\xe6\\xe7\\xe8\\xe9\\xea\\xf2\\xf3\\xf4\\xf5\\xf6\\xf7\\xf8\\xf9\\xfa\\xff\\xda\\x00\\x0c\\x03\\x01\\x00\\x02\\x11\\x03\\x11\\x00?\\x00\\xe8\\xe1\\xbc\\x82\\xe6?2\\tRE\\xf5C\\x9cS\\xfe\\xd7\\n\\xca#2\\xa0s\\xd1s\\xcd1\\x16\\x91\\xb2\\x06\\rJ\\r0\\x1c)\\xc2\\x80\\x02\\x83\\xb5\\x00`\\xd0\\x04\\xaai\\xb2\\xdd\\xc1n\\xe8\\xb2\\xca\\x91\\xb3\\xf0\\xa1\\x8e3E\\xc0\\xadk\\xad[\\xde\\\\<h$UP0\\xee\\xbbT\\x9ex\\x07\\xbf\\x035s!\\x86A\\xc8\\xa5{\\x80\\x94S\\x01h\\xa0\\x04\\xc58-\\x008-s~*\\xd34\\x9b\\x99\\xa1}N\\xeb\\xcb\\x98\\x9d\\x90\\x87o\\x97\\x07\\x19\\x18\\xed\\xf5\\xeb\\xef\\xd0T\\xc9]\\x01\\xc5\\xc7\\xa3M\\n\\x06\\xb63\\x15\\x0cTH\\t$\\x8f~\\xfe\\xd5R\\x1b\\xa1\\xa2\\xea\\x0bt\\xca\\x1c\\xf3\\x93\\xcf9\\x18\\xebD\\x9aq\\xba%6\\x9d\\x99\\xa1k\\xe3\\x89\\xa1\\xb9\\x91\\xe5\\x89\\x84L>E\\\\|\\xa7\\xfa\\xd5\\x1b\\xcf\\x1c\\xea\\x89\"\\xbc3\\x94]\\xdc\\xe58\\xe7\\xd4\\x1c\\xe2\\xb2\\xe6e\\xb2\\xfd\\x9f\\xc4=EDB\\xe2;y\\x00?\\xbc# \\x91\\x9fQ\\xc05\\xd8x{\\xc4\\xb6\\xfa\\xfaI\\xe5!\\x89\\xd3\\x04\\xa9`r=E\\\\gwa\\x1b@\\xd3\\xab@*jZ\\xa4\\x1a\\\\J\\xf3\\x87!\\x89\\x03j\\xe7<f\\xbc\\xd3_\\xf1\\\\\\x9a\\xad\\xe7\\x98\\x02 \\x88\\x90\\x83\\xae\\x07\\xbf\\xaf\\xe5X\\xd4\\x97A\\x99\\xc9\\xab\\xde\\xd9\\xdc\\xac\\xd0L\\xcf#\\x8c0a\\xc0\\xe3\\x19\\x03\\x1c}z\\xd7\\xa2\\xf8k\\xc4v\\xb3\\xc1\\x05\\x8bJ\\xef9\\x18]\\xc0\\x92\\xddI\\xcf\\xeb\\xedD%\\xd0GG\\x9a\\x8a\\xd4O\\xe5\\x13rT\\xbb1 /E\\x1d\\x87\\xbf\\x1f\\xadl\\x03\\xc5\\xd4>y\\x8b\\xcc]\\xe17\\x91\\x9f\\xe1\\xf5\\xa9r7c#=qH\\x07\\x01Y\\x9e \\x9bS\\x8a\\xde%\\xd1\\xe2\\xdf3\\xbe\\x0b\\x10\\n\\xa8\\xf7\\xc9\\xe9\\xf4\\x07\\xf0\\xa1\\x81BG\\xf1=\\xb4\\xc8v%\\xcad\\x87\\t\\xb0\\x0f\\x99\\xb01\\xd0\\xfc\\xa3\\xaeH\\xceO\\xa6j\\xcf\\xf6#\\xebvAu\\xeb{tu|\\x85\\x85\\x8b\\x029\\x19\\xe7\\xa6A>\\xe39\\xcezN\\xafp<\\xebM\\xf1dvR\\xcd\\x94S\\x1b\\xc8\\xc4F\\xa7\\x18\\xe4s\\xfc\\xea\\xf6\\xa9wc\\xe2\\x18\\x9a\\x01\\x11\\x12\\x06\\xc5\\xbc\\xc0\\x06\\xdc\\xdd\\x00=\\xc09\\x1f\\xa5c\\x19=\\x86q\\x93,\\xd6\\xf2m\\x91\\xc27B\\xa39S\\xcf\\x18\\xaa\\x92\\\\\\xcad\\nY\\x95\\x0b`\\x96\\xc9\\x1e\\xf5I\\x01\\x1a_\\x94l\\x8c\\xa1\\xf5\\xad[\\x1dV\\xe2\\x00\\xd2Cp\\xd6\\xecWkrF}\\xbfJ\\x1a\\x11\\xbb\\xa5x\\xd6\\xfa\\xd2x\\xdaWia^\\x8a\\xcd\\x9e=?\\xfa\\xd5\\xe9\\xfam\\xfcz\\x96\\x9f\\r\\xd4?rU\\x0c=\\xbd\\xaa\\xe0\\xdfP0~ \\x00\\xba\\x17\\x9d\\xbc\\x83\\xb8 \\\\d\\x12y\\xfc8\\x07\\xf3\\xaf+IJ\\xb6\\xf7N\\xd8R85\\x13\\xdcd\\xa1L\\xb7\\x08#\\x91Fx,s\\x85\\x1e\\xbc\\x0c\\xd7Q\\xe1\\x1b\\xcb-\"\\xec\\xdcj\\x110\\x98\\xc5\\xbe\\x07bB\\xf4\\xe3\\x1c`\\xe4\\x13\\xcd\\x0bGq\\x1e\\x8a\\x97\\xa2}1\\xee@\\x01v\\xb9\\\\6r\\x06ps\\xf8V\\x17\\x8b\\xf5\\xe9\\xf4\\xf8|\\xbbw0\\x95!\\x8c\\x99 \\xfa\\xe0q\\xc8\\xec~\\xb5\\xabvC8\\xff\\x00\\xf8H[\\xed\\x96\\xf8\\xf3Q!\\x8cG\\'\\xcew\\x90\\x1b$\\xe4\\x9e3\\x9cz\\x7f*\\xec\\xbc3\\xe2F\\xd5u\\x19\\xdaH\\xc8\\xf3:\\x1c\\x8d\\xb1\\xaa\\xe7\\xe5\\xf7<\\xfe\\xbfZ\\xce2w\\xb1\\'T\\x1a\\x9c\\rj1\\xe2\\x9e\\x16\\x80<\\n{\\x88\\xe3,\\x97\\x12y\\xd1\\x92%\\x8e\\x18\\xc7\\x1d\\xf8\\xce8\\x1e\\xc0s]?\\x85\\xbc\\x98\\xec\\xa6\\xbb\\x92\\xcc\\xc5l\\\\2\\xe52F\\x0f\\x04\\x12\\xc4\\x9cs\\xdb\\xfa\\xd61Z\\x8c\\xb1\\xe2/\\t\\rQ\\xd6k\\x03\\r\\xac\\xf9%\\xdfo\\xde\\xfc\\xbb\\xfb\\xd7\\x02<1\\xaaGu\\xe5Ik+\\xb1\\xee\\xa3+\\xd4\\x827\\x0e=\\x7f\\xfa\\xd5@6\\xfb@\\xbe\\xb7\\xb37\\x0b\\x116\\xe8\\xc5\\x18\\x8e\\n\\x1c\\x91\\x86S\\xca\\xf4\\xf7\\xea9\\xe7\\x15Z!<\\xf10\\x8e\\x12Lx\\xca\\x8c\\x86<\\xf4\\xfa\\xf2}\\xfa\\xd0\\x05\\xed\\x1e\\xde\\xe2K\\xa6\\x86!#\\xba\\x95>^HbO\\'\\x03\\x198\\xe7\\xb7O\\xad{N\\x85\\xe6\\xae\\x8fn\\'FG\\x082\\x1f\\xeft\\xe7w\\x03\\x079\\xf5\\xfa\\xd5D\\x0cO\\x17x\\x7fP\\xd4mgk{\\xd3\\xe5\\xb1\\r\\xe5\\xb1;Glm\\x00\\xe7\\xeb\\xdb\\xf5\\xaf4\\x8a\\xce\\xfb\\xed\\x19\\xd8\\xe8-\\xb6\\x99X\\xc6q\\x1f|\\x90\\x06x\\x1c\\xf4\\xf5\\xa9kP7\\x05\\x9e\\xabaj\\'\\x81\\x16V\\xbd\\x0fm \\x08\\xce\\xd1\\x8f0\\x00\\x1c\\xe7\\x038=s\\xc7\\xd7\\x8b\\x9e\\x15\\xf0\\xf0\\xd55E\\x82\\xf2\\'x\\x94|\\xd2\\xc2\\xb8A\\x8f\\xe1$t\\'\\x07\\xb8\\xfdh\\xb0\\x1e\\x97uh\\x90h\\xd3C\\x10\\xda\\x89\\x03*\\x8f@\\x17\\x8a\\xe1>%\\xde\\x18\\x8cq\\x07f\\x04\\xee\\xda\\xc8T\\xafn\\x0e9\\x07\\x19\\xe7>\\xd5R\\xd8\\x0e\\x1d\\x15\\xc2\\xb3H\\x06\\xc5U9\\xde\\x0f\\x07\\x90\\x01\\xcf|\\xe7\\x1e\\xc7\\xa6\\rt^\\x07\\xfd\\xe6\\xa5#mi]S~\\xe1\\x80\\x13\\xa6I\\xcf$t\\x04\\x023\\x93P\\x96\\xa4\\x9e\\xba\\xa8H\\xa9V#\\xde\\xb5(\\x94G\\x8av\\x00\\x19<P\\x07\\x99\\xddZZiZ\\xac\\x17\\x10ZB\\x84\\xc3\"\\x85T\\n\\t\\x18n\\xb8\\xf4\\x06\\xb4R\\xe2;\\x8d1g\\x9a%dd\\xde\\xd1\\xf0\\xc3\\xd7\\x1c\\xf5\\xa9\\xb0\\x10\\xdck\\xf6\\xb6\\xb1[K*\\xca\\x12\\xe9w\\xa9\\xdb\\x9d\\xa3\\x00\\xf3\\xcf\\xbf\\xbd9.,\\xde\\xd2V\\x8e@`+!v\\x00\\x9e\\x87-\\xfa\\x93Ld\\x92\\xb5\\xbc\\xf0\\t\\xdd\\x84\\x96\\xcd\\t\\xdc\\xa5r\\xae\\xa7\\x07$w\\xe0zw\\xaf=\\xd6m\\x8e\\x8b~D\\x11\\x1f,\\x11\"L2\\x1b\\xe6Q\\x8f\\xc8\\xa9\\xeb\\xf5\\xebR\\xc0\\xa9\\xa4\\xdeG\\x1e\\xa6\\xb7\\xb2\\xa0yQ\\x94\\xae\\xe1\\xcb\\x1c\\xff\\x00\\xf5\\xab\\xb9\\x1e/\\xbbfm\\x85\\xc8\\x1d\\x08T\\xc3q\\x9e?\\x978\\xa5\\x11\\x12\\x9f\\x11\\xdeH\\xf2 \\x99\\xbfvT\\x1c\\x003\\x9e\\xe3\\x15\\x9b<k,\\x972\\x8d\\xb1L\\xca~u\\xdc\\xbea#\\x90\\xc5H\\xcex\\xe4\\xe6\\xa9\\x8c\\xdc\\xf0D\\xb60\\xe9\\xb3[K\\x14M\\xb9\\xa4\\x1eg\\x95\\xf7\\xd78\\xc1\\xeaH<z\\xd7S&\\xadai\\x0b\\xcb$\\xab\\x1a\\x0eX\\xec#\\xdb\\xd3\\xe9B\\x02\\xbd\\xf7\\x88,\\x84F$/)\\x91p\\n\\x81\\x8e~\\xa4V\\x1f\\x8b\\xad-5\\xfd<\\xb4q\\xb2\\\\\\'*N\\xd1\\xbb\\xeapO\\x1c\\xf0(z\\x88\\xe4\\xd3\\xc2\\xcb\\x05\\xe5\\xbd\\xb3O!\\xb7\\x9d\\x8f\\xef\\xf1\\xb8\\xf0\\xad\\xc6\\xd2p\\x0f8\\x1dz\\x92=+\\xab\\xf0\\xb6\\x93\\xa6\\xf8z\\x162+]\\xce\\xce\\x18J\\xd1\\x8c\\xae:c$\\xfeu7\\xb0\\xd2:?\\xf8H \\x07\\x88e?\\\\U\\xb8uh\\xdbO\\x96\\xed\\xd4\\xc7\\x1cY\\xceO\\'\\x15I\\xdc\\x19\\xcb\\xdd\\xfcE\\x89\\x17df$~\\x9b\\x87\\xcd\\xf8\\xf5\\xc7\\xeak6\\xe7Z3B%\\xb8\\xbcc\\x11!\\x90\\xbb6\\xdex<\\x0f\\xf1\\xa5\\xcc\\x84g\\xae\\xbds\\xaa\\xf9\\x13G\\xa580\\xca\\xa0I\\xe6\\xe12\\xdf&9_\\xf6\\xb1\\xd6\\xb5\\x1a\\xea\\xf17\\xf9\\x96\\xaa\\xa0c\\x85\\x941\\xcf\\xe5T\\x172u\\xeb\\xeb\\xc9\\xed\\xcd\\xabZF\\x8a\\xcb\\x92\\xde`s\\x8fb:t\\xa8#\\xb9\\xd4g\\xddol\\xb6\\xf6\\xeb\\xb0\\x87fd\\xc1\\'\\x05\\x9b$\\xf3\\x9f\\xebC\\xdbq\\x16\\x9a{\\xcb=5m\\xd6[y\\xa4$F\\xb8(\\x15F\\x0f\\\\?\\x03\\x8a\\xe7us=\\xe4\\xea.\\xe4\\x8d\\x8b&\\xc0\\xaaA\\x03\\x19\\xeb\\xfa\\xfeu6\\x19\\x9e\\xbau\\xad\\x94\\xc2I\\xe5&\\x1eH\\x04\\x13\\x9c\\x7f\\xfa\\xea\\xd5\\xc6\\xa5\\x05\\xa5\\xfa\\xc6\\xcf\"\\x98\\xdf,\\x02\\xe4`\\xa1\\xe3\\x19\\xf5\\xc5RB\\xbd\\x8d8\\xaf\"}=\\xe4E_\\xde\\xee)!L\\xb2\\xf2p\\x7f\\x0e?*lw7s\\\\,p\\\\I\\x11U\\xdc\\xd2p\\x14\\x0c\\xe3q\\xe0\\xf6\\xe4\\x81R\\xf4(\\xd6\\xd0\\xef\\xe3\\xd3\\xd6d\\xb9\\xbb\\x8d\\xf13\\x01\\xf3\\xee$\\xe01?C\\x93\\xcf\\xadI\\xadk\\xf6\\xf7v\\xaboo#0\\x97\\xefa:`\\xf7\\xcf\\xf4\\xff\\x00\\xf5\\xbb\\xd8v\\xb9Z\\xe7R\\r\\x7f\\x14\\xe1\\xd4\\xc7\\x95\\x05\\x15\\x87\\x00\\x1a\\xb7\\xa8\\xf8\\x8a\\x18\\xe1]\\x88\\xa5\\x08\\xc1\\xf2\\xe5\\x0e\\xdc\\x8fN\\xb4\\xd3V\\x13M31>\\xc9}\\xe2X$wf\\xdc\\x85\\xc2\\x96\\xca\\x02\\x02\\x801\\x8e8\\xc9\\xfa\\xd5\\xb9N|F\\x96\\xb1\\xaa,{\\x86F\\xc5\\xc66\\x82GO\\xad\\t\\x01\\xb1u\\xb6\\xde\\x14X\\xdbn\\xe3\\xf2\\xa2\\x8d\\xb8\\x1cg\\xa7\\xb9\\xfdj\\xab\\xdc\\xbbi\\xec\\x97S1\\x87\\x92\\xeb\\xbc\\xec\\xfcrk\\x19>\\x85X\\xf3I5\\x05\\xfbC0P\\x1b9\\xc6\\xe3\\x8f\\xd2\\x89n\\xe6\\xba\\x80\\x06r\\xa9\\x19\\xe1rx\\xa6\\x91\\x07S,\\x0b*\\xe12>`s\\xc1\\xe8A\\xf4\\xa3\\xec\\xe0\\xf5\\x06\\xaa\\xc5\\t\\xf6c\\x8e\\x1b\\xf4\\xa4[W\\x1f\\xf2\\xd3\\xb9\\xfe\\x11@\\x01\\xb3\\x90\\xff\\x00\\xcbA\\xff\\x00|\\x8akil\\xcc\\xa7\\x7f#\\xe9@\\x04\\xbaW\\x9d\\x1e\\xd9\\x180\\x03\\x00\\x12:q\\xef\\xedP\\xcb\\xa2\\xc5<\\xa6IWs\\xb7V\\xc9\\x1f\\xd6\\x98\\xac\\x8bPY4\\x11*#\\x00\\xa3\\x80*H\\xe0x\\x83\\x05|\\x06\\x18=:R\\x18\\xc1`\\xa2F}\\xcd\\x96\\xeb\\xf3R\\xfd\\x90n\\xce\\xe64X\\x07-\\xba(\\xe8I\\xf5&\\x83m\\t\\xea\\x98\\xff\\x00\\x81\\x1a,\\x01\\x1d\\xa4I*\\xcb\\xb9\\xb7/A\\x9c\\xfa\\x1f\\xe8*\\xc0\\xdan\\xbc\\xfd\\xed\\xe7\\x7fx\\x9e}?\\x950&\\xf3\\x9d\\xbf\\xe5\\xae\\xef\\xabS\\x19w\\xc6\\xc8\\xcc\\x85[\\xaa\\xf64Y\\x05\\xca\\xcf\\xa5Z\\x11\\x93gn\\xdfDS\\xfc\\xa9?\\xb3\\xad#\\xe7\\xecq\\xa7\\xbe\\xccQa\\x01\\x0c\\xa7\\x07 \\xfb\\x8aU\\x8eG\\x19Tv\\x1e\\xa0P1\\x182\\x1c0e>\\x84S\\xd2\\x19d\\x1b\\x91X\\x8f\\\\P\\x01$2B\\xd8\\x93\\xe5\\'\\x9c\\x13\\xcd>+;\\x89\\xd0\\xb4jH\\x07\\xa9 \\x7f:@G,\\x12@\\xdbd\\x00\\x123\\x8d\\xc0\\xff\\x00*tv\\xb2I\\x1e\\xf1\\xb0.q\\xcb\\x81\\xfc\\xe8\\x01\\x92\\'\\x96\\xe5X\\x82Gu`G\\xe7RGo\\xe6\\x0f\\xf5\\xb1/\\x1f\\xc4\\xf8\\xa0\\x08\\xbb\\xf5\\x02\\x9c\\xea\\x15r&\\x8d\\x8f\\xa0\\x07\\xfc(\\xb8\\rP\\x1b;\\xa4\\x0b\\x8fPy\\xa6\\xb7\\x04a\\xc3\\x0fP\\x0f\\xf5\\xa2\\xe0+\\x08\\xf6\\xe5d$\\xfa\\x14\\xc7\\xf5\\xa6\\xa6\\xdew\\xbb/\\xfb\\xaa\\x0f\\xf5\\x14\\\\\\x05\\xdc\\xa1\\xcf.\\xeb\\x8fe?\\xd6\\x89.X\\x00\"y\\x82\\x8e\\xcc\\xff\\x00\\xe1N\\xe0#\\xeal\\x14\\x0c\\x1d\\xde\\xa7i\\xff\\x00\\xd9ib\\xd5\\x14\\xa6gR\\x17\\xb3*\\xa0\\xff\\x00\\xd9h\\xb8Xf\\xfcr\\x0e?\\x1aw\\xda\\xa5?\\xf2\\xd1\\xc9\\xf7cH\\x06n\"\\x97\\xcc\\x18\\xeai\\x0c7\\xfb\\xfe4\\x9b\\xcez\\xd0\\x03\\x95\\xbe\\xa6\\x9d\\xbb\\x8a\\x00n\\xe3I\\xba\\x80\\x0c\\xd2n\\xe3\\x8a\\x00M\\xe6\\x90\\xb9\\xfa\\x9a\\x00L\\xd2dP\\x01\\xf5\\xa0\\xf4\\xe0\\xe6\\x80+L\\x80\\xb6Ni\\xb0H\\x10\\x98\\xe4\\xe5\\x1b\\xa5 .yG\\x19&\\x8d\\x9c\\x0ej\\x84.\\xcc\\xd2\\x1e\\xbf\\x85!\\x80\\xe4\\xe3\\xf9R\\xfeT\\x00g\\x06\\x97w\\xaf\\xd6\\x80\\x0e\\x94\\xdc\\xd2\\x017s\\xc9\\x14\\x13\\x81\\xed@\\xc6\\xee\\xe3\\x8a\\x0b\\x7f\\xfa\\xe8\\x00<Ss@\\n\\x1a\\x90\\x9a\\x00\\x8d\\xf9\\x15\\x01 \\x9c?\\x1fJ\\x00\\xd1\\xcd\\x19\\x02\\xa8\\x90\\xc9\\'\"\\x9aH=y\\xcd!\\x86N\\xe1\\x81Aq\\xf5\\xa0\\x06\\x96%\\x85\\x1b\\x80\\xfa\\xd00\\xdd\\xd7\\x93\\x9aM\\xfc\\xd2\\x01<\\xcez\\xd1\\xbc\\xe4\\x0e\\xa6\\x80\\x13vz\\x9a\\t\\xf5\\xed@\\x06sI\\xbb\\xfc\\x9a\\x00M\\xc7={\\xd2\\x93@\\x0cj\\x82L\\x8f\\xeb@\\x17\\xc1\\xa3\\x83L\\x91\\xac\\xd4\\xdf0c\\x81@\\xc5\\xce\\xd1\\xcf\\xe9\\xe9K\\xc8<\\x0e\\xd4\\x00\\x85\\xce{g\\xd4Q\\x9cd\\x0e\\xa2\\x80\\x15c\\x92C\\xf2#\\xb7\\xfb\\xa0\\x9a_\\xb2\\\\\\x11\\xc5\\xbc\\x87\\xfe\\x00h\\xb0\\x0c0\\xcc\\xa7\\xe6\\x89\\xc0\\xf7CL\\xc9\\x1dG\\xe9E\\x80M\\xdbH\\xed\\xc74\\x9b\\xfd\\xff\\x00\\n\\x00^q\\xef\\xe9\\x9a2Fz\\xff\\x00Z\\x00\\x0e}\\xe8\\xea8\\xeb\\xde\\x80\\x13&\\x98\\xea\\x18s\\xcd\\x00[\\xfb\\xb8\\xc9\\xe3\\xb9\\xa5\\x8e)\\x1c\\x9f.6o\\xf7A?\\xca\\x9d\\x84O\\x1e\\x91}.1\\t\\x03\\xb1f\\xc1\\xabPxf\\xe4\\xff\\x00\\xac\\x925\\xfad\\xff\\x00\\x85;\\x05\\xcb\\xd1\\xf8^<\\xe6I]\\x8f\\xb0\\x02\\xadG\\xe1\\xcb5Q\\x94-\\x8e\\xe5\\x8dW)7-.\\x8fh\\xa0\\x0f\\xb3\\xc6q\\xea\\xb9\\xab\\tk\\x12\\x0c*(\\x1e\\xc2\\x9d\\x82\\xe3\\xbc\\x95\\xf4\\xa5\\xf2\\x97\\xd2\\x98\\xae\\x1eJ\\xfa\\nC\\x02\\x9e\\xa0R\\x0b\\x91\\xbd\\xa4n>dV\\x1e\\xe35\\x03i\\x16\\x87\\xad\\xb4G\\xfe\\x00(\\xb0\\xeeA&\\x81b\\xe7&\\xdd\\x07\\xd0c\\xf9Uw\\xf0\\xdd\\xa1\\xce\\xd4e>\\xcciX.Vo\\x0b[\\xf3\\x89f\\x1f\\x88\\xff\\x00\\n\\x8d\\xfc*\\t\\x1b.X\\x7f\\xbc\\xb9\\xa5\\xca;\\x90\\xc9\\xe1{\\x85\\xff\\x00W27\\xd4\\x11U\\xe4\\xf0\\xed\\xf2\\x81\\x85W\\xff\\x00u\\xbf\\xc6\\x8eP\\xb9\\xd2E\\xa5[\\xa1\\x18\\x860G}\\xb95m`Q\\xd8UX\\x9b\\x92\\x04\\x03\\xb5=V\\x98\\x87\\xec\\xa3m\\x00(\\x14\\xbb(\\x01v\\xfbQ\\xb6\\x80\\x1c\\xa3&\\x95\\x90\\x11@\\r1\\xe7\\xa5!\\x8f\\x8e\\x94\\x01\\x19ZF_J\\x00C\\x1f\\x14\\xc3\\x16h\\x01\\xb8\\xc1\\xa6\\x9fj\\x00\\x9c.:\\xd3\\xc2\\x8ct\\xa0\\x05\\xdb\\x9e\\x94\\xbc\\n\\x00PF);\\xd0\\x00*A\\x9a\\x00Rj:`;=\\x85\\n\\xd84\\x80v})\\xae~^\\xb4\\x01\\x15(o\\x9b\\x91\\x9c\\xd0\\x04\\x98R)6\\x00}\\xbd\\xc5\\x00E,\\x1c\\xe4t\\xa8Lf\\x80?\\xff\\xd9'}"
      ]
     },
     "execution_count": 76,
     "metadata": {},
     "output_type": "execute_result"
    }
   ],
   "source": [
    "exif_dict"
   ]
  },
  {
   "cell_type": "code",
   "execution_count": 77,
   "id": "d9d530ad-c1da-4869-99f5-7964aba62546",
   "metadata": {},
   "outputs": [
    {
     "data": {
      "text/plain": [
       "{1: b'N',\n",
       " 2: ((43, 1), (29, 1), (311503199, 10000000)),\n",
       " 3: b'E',\n",
       " 4: ((5, 1), (22, 1), (250053600, 10000000)),\n",
       " 5: 0,\n",
       " 6: (164514, 1000),\n",
       " 7: ((13, 1), (33, 1), (37, 1)),\n",
       " 29: b'2024:06:19'}"
      ]
     },
     "execution_count": 77,
     "metadata": {},
     "output_type": "execute_result"
    }
   ],
   "source": [
    "exif_dict['GPS']"
   ]
  },
  {
   "cell_type": "code",
   "execution_count": 79,
   "id": "90430909-d103-49b5-83ba-d8222459ed0d",
   "metadata": {},
   "outputs": [
    {
     "name": "stdout",
     "output_type": "stream",
     "text": [
      "((5, 1), (22, 1), (250053600, 10000000)) ((43, 1), (29, 1), (311503199, 10000000))\n"
     ]
    }
   ],
   "source": [
    "print(exif_dict['GPS'][piexif.GPSIFD.GPSLongitude], exif_dict['GPS'][piexif.GPSIFD.GPSLatitude])"
   ]
  },
  {
   "cell_type": "code",
   "execution_count": 82,
   "id": "c2f59a54-c381-4b7d-845e-6481560b11ab",
   "metadata": {},
   "outputs": [
    {
     "data": {
      "text/plain": [
       "pandas.core.series.Series"
      ]
     },
     "execution_count": 82,
     "metadata": {},
     "output_type": "execute_result"
    }
   ],
   "source": [
    "type(nearest_point)"
   ]
  },
  {
   "cell_type": "code",
   "execution_count": 98,
   "id": "c054cd58-9a79-4c77-b847-83bc5746b417",
   "metadata": {},
   "outputs": [
    {
     "name": "stdout",
     "output_type": "stream",
     "text": [
      "5.373602075000001 43.49198805166667\n"
     ]
    }
   ],
   "source": [
    "print(nearest_point.x, nearest_point.y)\n",
    "x = nearest_point.x\n",
    "y = nearest_point.y"
   ]
  },
  {
   "cell_type": "code",
   "execution_count": 100,
   "id": "f88804bd-70eb-4670-b13b-5d7ba4fa43e9",
   "metadata": {},
   "outputs": [
    {
     "name": "stdout",
     "output_type": "stream",
     "text": [
      "((5, 1), (22, 1), (24967470, 1000000)) ((43, 1), (29, 1), (31156985, 1000000))\n"
     ]
    }
   ],
   "source": [
    "import math\n",
    "\n",
    "def decimal_to_dms(value : float, precision : int):\n",
    "    deg = math.floor(value)\n",
    "    min = math.floor((value - deg) * 60)\n",
    "    sec = math.floor((value - deg - min / 60) * 3600 * precision)\n",
    "    return((deg, 1), (min, 1), (sec, precision))\n",
    "\n",
    "long, lat = (decimal_to_dms(x, 1000000), decimal_to_dms(y, 1000000))\n",
    "print(long, lat)"
   ]
  },
  {
   "cell_type": "code",
   "execution_count": 25,
   "id": "18aa9d49-92b9-4a89-8b73-bd6ee9a7fd1a",
   "metadata": {},
   "outputs": [],
   "source": [
    "from PIL import Image\n",
    "\n",
    "im = Image.open(img)"
   ]
  },
  {
   "cell_type": "code",
   "execution_count": 113,
   "id": "b7de3c1e-a865-40f0-8099-9072cebe247e",
   "metadata": {},
   "outputs": [
    {
     "data": {
      "text/plain": [
       "b'Exif\\x00\\x00MM\\x00*\\x00\\x00\\x00\\x08\\x00\\x0c\\x01\\x0e\\x00\\x02\\x00\\x00\\x00 \\x00\\x00\\x00\\x9e\\x01\\x0f\\x00\\x02\\x00\\x00\\x00\\x1e\\x00\\x00\\x00\\xbe\\x01\\x10\\x00\\x02\\x00\\x00\\x00\\x1e\\x00\\x00\\x00\\xdc\\x01\\x12\\x00\\x03\\x00\\x00\\x00\\x01\\x00\\x01\\x00\\x00\\x01\\x1a\\x00\\x05\\x00\\x00\\x00\\x01\\x00\\x00\\x00\\xfa\\x01\\x1b\\x00\\x05\\x00\\x00\\x00\\x01\\x00\\x00\\x01\\x02\\x01(\\x00\\x03\\x00\\x00\\x00\\x01\\x00\\x02\\x00\\x00\\x011\\x00\\x02\\x00\\x00\\x00\\x18\\x00\\x00\\x01\\n\\x012\\x00\\x02\\x00\\x00\\x00\\x14\\x00\\x00\\x01\"\\x02\\x13\\x00\\x03\\x00\\x00\\x00\\x01\\x00\\x01\\x00\\x00\\x87i\\x00\\x04\\x00\\x00\\x00\\x01\\x00\\x00\\x016\\x88%\\x00\\x04\\x00\\x00\\x00\\x01\\x00\\x00\\x0c\\xca\\x00\\x00\\r\\x95DCIM\\\\132GOPRO\\\\G0141817.JPG\\x00\\x00\\x00\\x00\\x00\\x00GoPro\\x00\\x00\\x00\\x00\\x00\\x00\\x00\\x00\\x00\\x00\\x00\\x00\\x00\\x00\\x00\\x00\\x00\\x00\\x00\\x00\\x00\\x00\\x00\\x00\\x00HERO5 Black\\x00\\x00\\x00\\x00\\x00\\x00\\x00\\x00\\x00\\x00\\x00\\x00\\x00\\x00\\x00\\x00\\x00\\x00\\x00\\x00\\x00\\x00H\\x00\\x00\\x00\\x01\\x00\\x00\\x00H\\x00\\x00\\x00\\x01HD5.02.02.70.00\\x00\\x00\\x00\\x00\\x00\\x00\\x00\\x00\\x002024:06:19 15:33:38\\x00\\x00)\\x82\\x9a\\x00\\x05\\x00\\x00\\x00\\x01\\x00\\x00\\x03$\\x82\\x9d\\x00\\x05\\x00\\x00\\x00\\x01\\x00\\x00\\x03,\\x88\"\\x00\\x03\\x00\\x00\\x00\\x01\\x00\\x02\\x00\\x00\\x88\\'\\x00\\x03\\x00\\x00\\x00\\x01\\x01\\x90\\x00\\x00\\x90\\x00\\x00\\x07\\x00\\x00\\x00\\x040221\\x90\\x03\\x00\\x02\\x00\\x00\\x00\\x14\\x00\\x00\\x034\\x90\\x04\\x00\\x02\\x00\\x00\\x00\\x14\\x00\\x00\\x03H\\x91\\x01\\x00\\x07\\x00\\x00\\x00\\x04\\x01\\x02\\x03\\x00\\x91\\x02\\x00\\x05\\x00\\x00\\x00\\x01\\x00\\x00\\x03\\\\\\x92\\x01\\x00\\n\\x00\\x00\\x00\\x01\\x00\\x00\\x03d\\x92\\x02\\x00\\x05\\x00\\x00\\x00\\x01\\x00\\x00\\x03l\\x92\\x04\\x00\\n\\x00\\x00\\x00\\x01\\x00\\x00\\x03t\\x92\\x05\\x00\\x05\\x00\\x00\\x00\\x01\\x00\\x00\\x03|\\x92\\x06\\x00\\x05\\x00\\x00\\x00\\x01\\x00\\x00\\x03\\x84\\x92\\x07\\x00\\x03\\x00\\x00\\x00\\x01\\x00\\x00\\x00\\x00\\x92\\x08\\x00\\x03\\x00\\x00\\x00\\x01\\x00\\x00\\x00\\x00\\x92\\t\\x00\\x03\\x00\\x00\\x00\\x01\\x00 \\x00\\x00\\x92\\n\\x00\\x05\\x00\\x00\\x00\\x01\\x00\\x00\\x03\\x8c\\x92|\\x00\\x07\\x00\\x00\\t\\x08\\x00\\x00\\x03\\x94\\xa0\\x00\\x00\\x07\\x00\\x00\\x00\\x040100\\xa0\\x01\\x00\\x03\\x00\\x00\\x00\\x01\\x00\\x01\\x00\\x00\\xa0\\x02\\x00\\x04\\x00\\x00\\x00\\x01\\x00\\x00\\x0f\\xa0\\xa0\\x03\\x00\\x04\\x00\\x00\\x00\\x01\\x00\\x00\\x0b\\xb8\\xa2\\x15\\x00\\x05\\x00\\x00\\x00\\x01\\x00\\x00\\x0c\\x9c\\xa2\\x17\\x00\\x03\\x00\\x00\\x00\\x01\\x00\\x02\\x00\\x00\\xa3\\x00\\x00\\x07\\x00\\x00\\x00\\x01\\x03\\x00\\x00\\x00\\xa3\\x01\\x00\\x07\\x00\\x00\\x00\\x01\\x01\\x00\\x00\\x00\\xa4\\x01\\x00\\x03\\x00\\x00\\x00\\x01\\x00\\x00\\x00\\x00\\xa4\\x02\\x00\\x03\\x00\\x00\\x00\\x01\\x00\\x00\\x00\\x00\\xa4\\x03\\x00\\x03\\x00\\x00\\x00\\x01\\x00\\x00\\x00\\x00\\xa4\\x04\\x00\\x05\\x00\\x00\\x00\\x01\\x00\\x00\\x0c\\xa4\\xa4\\x05\\x00\\x03\\x00\\x00\\x00\\x01\\x00\\x11\\x00\\x00\\xa4\\x06\\x00\\x03\\x00\\x00\\x00\\x01\\x00\\x01\\x00\\x00\\xa4\\x07\\x00\\x03\\x00\\x00\\x00\\x01\\x00\\x00\\x00\\x00\\xa4\\x08\\x00\\x03\\x00\\x00\\x00\\x01\\x00\\x00\\x00\\x00\\xa4\\t\\x00\\x03\\x00\\x00\\x00\\x01\\x00\\x00\\x00\\x00\\xa4\\n\\x00\\x03\\x00\\x00\\x00\\x01\\x00\\x02\\x00\\x00\\xa4\\x0b\\x00\\x07\\x00\\x00\\x00\\x04\\x00\\x00\\x00\\x00\\xa4\\x0c\\x00\\x03\\x00\\x00\\x00\\x01\\x00\\x00\\x00\\x00\\xa41\\x00\\x02\\x00\\x00\\x00\\x1e\\x00\\x00\\x0c\\xac\\xa0\\x05\\x00\\x04\\x00\\x00\\x00\\x01\\x00\\x00\\r\\x87\\x00\\x00\\x03\\xfb\\x00\\x0fB@\\x00\\x00\\x01\\x18\\x00\\x00\\x00d2024:06:19 15:33:38\\x002024:06:19 15:33:38\\x00\\xff\\xff\\xfc\\x18\\x00\\x00\\x01)\\xff\\xff\\xd9/\\xff\\xff\\xfc\\x18\\x00\\x00\\x01)\\x00\\x00\\x00d\\x00\\x00\\x00\\x00\\x00\\x00\\x00 \\x00\\x00\\x01)\\x00\\x00\\x00d\\x00\\x00\\x00\\x00\\x00\\x00\\x00d\\x00\\x00\\x00\\x03\\x00\\x00\\x00\\x01\\n\\x00\\x12\\x06\\x00\\xc0\\x82G\\x00\\x00LAE6093017605887\\x00\\x00\\x00\\x00\\x00\\x00\\x00\\x00\\x00\\x00\\x00\\x00\\x00\\x00\\x00\\x00\\x00\\x00\\x00\\x00\\x00\\x00\\x00\\x00\\x00\\x00\\x00\\x00\\x00\\x00\\x00\\x00\\x00\\x00\\x08@H\\x00\\x15\\xce\\xb9W\\xff\\xcfY\\x04\\xa7\\x86\\x84\\x10\\x1d\\xdf\\xeap\\x07\\xe8d\\xcf\\x00\\t\\x08fuk\\x00\\x00\\x00\\x00\\x00\\x00\\xf4/q\\xa8\\xb3\\xe1\\xe9\\xa4\\x139\\xee\\xa6\\x01\\x00\\x00\\x00C3161325\\x13\\x0f!&\\x00\\x01\\x00\\x00\\x00\\x00\\x00\\x00\\x00\\x00\\x00\\x00\\x00\\x00\\x00\\x00\\x00\\x00\\x00\\x00\\x00\\x00\\x00\\x00\\x00\\x00\\x00\\x00\\x00\\x00\\x00\\x00\\x00\\x00\\x00\\x00\\x00\\x00\\x00\\x00\\x00\\x00\\x00\\x00\\x00\\x00\\x00\\x00\\x00\\x00\\x00\\x00\\x00\\x00\\x00\\x00\\x00\\x00\\x00\\x00\\x00\\x00\\x00\\x00\\x00\\x00\\x00\\x00\\x00\\x00\\x00\\x00\\x00\\x00\\x00\\x00\\x00\\x00\\x00\\x00\\x00\\x00\\x00\\x00\\x00\\x00\\x00\\x00\\x00\\x00\\x00\\x00\\x00\\x00\\x00\\x00\\x00\\x00\\x00\\x00\\x00\\x00\\x00\\x00\\x00\\x00\\x00\\x00\\x00\\x00\\x00\\x00\\x00\\x00\\x00\\x00\\x00\\x00\\x00\\x00\\x00\\x00\\x00\\x00\\x00\\x00\\x00\\x00\\x00\\x00\\x00\\x00\\x00\\x00\\x00\\x00\\x00\\x00\\x00\\x00\\x00\\x00\\x00\\x00\\x00\\x00\\x00\\x00\\x00\\x00\\x00\\x00\\x00\\x00\\x00\\x00\\x00\\x00\\x00\\x00\\x00\\x00\\x00\\x00\\x00\\x00\\x00\\x00\\x00\\x00\\x00\\x00\\x00\\x00\\x00\\x00\\x00\\x00\\x00\\x00\\x00\\x00\\x00\\x00\\x00\\x00\\x00\\x00\\x00\\x00\\x00\\x00\\x00\\x00\\x00\\x00\\x00\\x00\\x00\\x00\\x00\\x00\\x00\\x00\\x00\\x00\\x00\\x00\\x00\\x00\\x00\\x00\\x00\\x00\\x00\\x00\\x00\\x00\\x00\\x00\\x00\\x00\\x00\\x00\\x00\\x00\\x00\\x00\\x00\\x00\\x00\\x00\\x00\\x00\\x00\\x00\\x00\\x00\\x00\\x00\\x00\\x00\\x00\\x00\\x00\\x00\\x00\\x00\\x00\\x00\\x00\\x00\\x00\\x00\\x00\\x00\\x00\\x00\\x00\\x00\\x00\\x00\\x00\\x00\\x00\\x00\\x00\\x00\\x00\\x00\\x00\\x00\\x00\\x00\\x00\\x00\\x00\\x00\\x00\\x00\\x00\\x00\\x00\\x00\\x00\\x00\\x00\\x00\\x00\\x00\\x00\\x00\\x00\\x00\\x00\\x00\\x00\\x00\\x00\\x00\\x00\\x00\\x00\\x00\\x00\\x00\\x00\\x00\\x00\\x00\\x00\\x00\\x00\\x00\\x00\\x00\\x00\\x00\\x00\\x00\\x00\\x00\\x00\\x00\\x00\\x00\\x00\\x00\\x00\\x00\\x00\\x00\\x00\\x00\\x00\\x00\\x00\\x00\\x00\\x00\\x00\\x00\\x00\\x00\\x00\\x00\\x00\\x00\\x00\\x00\\x00\\x00\\x00\\x00\\x00\\x00\\x00\\x00\\x00\\x00\\x00\\x00\\x00\\x00\\x00\\x00\\x00\\x00\\x00\\x00\\x00\\x00\\x00\\x00\\x00\\x00\\x00\\x00\\x00\\x00\\x00\\x00\\x00\\x00\\x00\\x00\\x00\\x00\\x00\\x00\\x00\\x00\\x00\\x00\\x00\\x00\\x00\\x00\\x00\\x00\\x00\\x00\\x00\\x00\\x00\\x00\\x00\\x00\\x00\\x00\\x00\\x00\\x00\\x00\\x00\\x00\\x00\\x00\\x00\\x00\\x00\\x00\\x00\\x00\\x00\\x00\\x00\\x00\\x00\\x00\\x00\\x00\\x00\\x00\\x00\\x00\\x00\\x00\\x00\\x00\\x00\\x00\\x00\\x00\\x00\\x00\\x00\\x00\\x00\\x00\\x00\\x00\\x00\\x00\\x00\\x00\\x00\\x00\\x00\\x00\\x00\\x00\\x00\\x00\\x00\\x00\\x00\\x00\\x00\\x00\\x00\\x00\\x00\\x00\\x00\\x00\\x00\\x00\\x00\\x00\\x00\\x00\\x00\\x00\\x00\\x00\\x00\\x00\\x00\\x00\\x00\\x00\\x00\\x00\\x00\\x00\\x00\\x00\\x00\\x00\\x00\\x00\\x00\\x00\\x00\\x00\\x00\\x00\\x00\\x00\\x00\\x00\\x00\\x00\\x00\\x00\\x00\\x00\\x00\\x00\\x00\\x00\\x00\\x00\\x00\\x00\\x00\\x00\\x00\\x00\\x00\\x00\\x00\\x00\\x00\\x00\\x00\\x00\\x00\\x00\\x00\\x00\\x00\\x00\\x00\\x00\\x00\\x00\\x00\\x00\\x00\\x00\\x00\\x00\\x00\\x00\\x00\\x00\\x00\\x00\\x00\\x00\\x00\\x00\\x00\\x00\\x00\\x00\\x00\\x00\\x00\\x00\\x00\\x00\\x00\\x00\\x00\\x00\\x00\\x00\\x00\\x00\\x00\\x00\\x00\\x00\\x00\\x00\\x00\\x00\\x00\\x00\\x00\\x00\\x00\\x00\\x00\\x00\\x00\\x00\\x00\\x00\\x00\\x00\\x00\\x00\\x00\\x00\\x00\\x00\\x00\\x00\\x00\\x00\\x00\\x00\\x00\\x00\\x00\\x00\\x00\\x00\\x00\\x00\\x00\\x00\\x00\\x00\\x00\\x00\\x00\\x00\\x00\\x00\\x00\\x00\\x00\\x00\\x00\\x00\\x00\\x00\\x00\\x00\\x00\\x00\\x00\\x00\\x00\\x00\\x00\\x00\\x00\\x00\\x00\\x00\\x00\\x00\\x00\\x00\\x00\\x00\\x00\\x00\\x00\\x00\\x00\\x00\\x00\\x00\\x00\\x00\\x00\\x00\\x00\\x00\\x00\\x00\\x00\\x00\\x00\\x00\\x00\\x00\\x00\\x00\\x00\\x00\\x00\\x00\\x00\\x00\\x00\\x00\\x00\\x00\\x00\\x00\\x00\\x00\\x00\\x00\\x00\\x00\\x00\\x00\\x00\\x00\\x00\\x00\\x00\\x00\\x00\\x00\\x00\\x00\\x00\\x00\\x00\\x00\\x00\\x00\\x00\\x00\\x00\\x00\\x00\\x00\\x00\\x00\\x00\\x00\\x00\\x00\\x00\\x00\\x00\\x00\\x00\\x00\\x00\\x00\\x00\\x00\\x00\\x00\\x00\\x00\\x00\\x00\\x00\\x00\\x00\\x00\\x00\\x00\\x00\\x00\\x00\\x00\\x00\\x00\\x00\\x00\\x00\\x00\\x00\\x00\\x00\\x00\\x00\\x00\\x00\\x00\\x00\\x00\\x00\\x00\\x00\\x00\\x00\\x00\\x00\\x00\\x00\\x00\\x00\\x00\\x00\\x00\\x00\\x00\\x00\\x00\\x00\\x00\\x00\\x00\\x00\\x00\\x00\\x00\\x00\\x00\\x00\\x00\\x00\\x00\\x00\\x00\\x00\\x00\\x00\\x00\\x00\\x00\\x00\\x00\\x00\\x00\\x00\\x00\\x00\\x00\\x00\\x00\\x00\\x00\\x00\\x00\\x00\\x00\\x00\\x00\\x00\\x00\\x00\\x00\\x00\\x00\\x00\\x00\\x00\\x00\\x00\\x00\\x00\\x00\\x00\\x00\\x00\\x00\\x00\\x00\\x00\\x00\\x00\\x00\\x00\\x00\\x00\\x00\\x00\\x00\\x00\\x00\\x00\\x00\\x00\\x00\\x00\\x00\\x00\\x00\\x00\\x00\\x00\\x00\\x00\\x00\\x00\\x00\\x00\\x00\\x00\\x00\\x00\\x00\\x00\\x00\\x00\\x00\\x00\\x00\\x00\\x00\\x00\\x00\\x00\\x00\\x00\\x00\\x00\\x00\\x00\\x00\\x00\\x00\\x00\\x00\\x00\\x00\\x00\\x00\\x00\\x00\\x00\\x00\\x00\\x00\\x00\\x00\\x00\\x00\\x00\\x00\\x00\\x00\\x00\\x00\\x00\\x00\\x00\\x00\\x00\\x00\\x00\\x00\\x00\\x00\\x00\\x00\\x00\\x00\\x00\\x00\\x00\\x00\\x00\\x00\\x00\\x00\\x00\\x00\\x00\\x00\\x00\\x00\\x00\\x00\\x00\\x00\\x00\\x00\\x00\\x00\\x00\\x00\\x00\\x00\\x00\\x00\\x00\\x00\\x00\\x00\\x00\\x00\\x00\\x00\\x00\\x00\\x00\\x00\\x00\\x00\\x00\\x00\\x00\\x00\\x00\\x00\\x00\\x00\\x00\\x00\\x00\\x00\\x00\\x00\\x00\\x00\\x00\\x00\\x00\\x00\\x00\\x00\\x00\\x00\\x00\\x00\\x00\\x00\\x00\\x00\\x00\\x00\\x00\\x00\\x00\\x00\\x00\\x00\\x00\\x00\\x00\\x00\\x00\\x00\\x00\\x00\\x00\\x00\\x00\\x00\\x00\\x00\\x00\\x00\\x00\\x00\\x00\\x00\\x00\\x00\\x00\\x00\\x00\\x00\\x00\\x00\\x00\\x00\\x00\\x00\\x00\\x00\\x00\\x00\\x00\\x00\\x00\\x00\\x00\\x00\\x00\\x00\\x00\\x00\\x00\\x00\\x00\\x00\\x00\\x00\\x00\\x00\\x00\\x00\\x00\\x00\\x00\\x00\\x00\\x00\\x00\\x00\\x00\\x00\\x00\\x00\\x00\\x00\\x00\\x00\\x00\\x00\\x00\\x00\\x00\\x00\\x00\\x00\\x00\\x00\\x00\\x00\\x00\\x00\\x00\\x00\\x00\\x00\\x00\\x00\\x00\\x00\\x00\\x00\\x00\\x00\\x00\\x00\\x00\\x00\\x00\\x00\\x00\\x00\\x00\\x00\\x00\\x00\\x00\\x00\\x00\\x00\\x00\\x00\\x00\\x00\\x00\\x00\\x00\\x00\\x00\\x00\\x00\\x00\\x00\\x00\\x00\\x00\\x00\\x00\\x00\\x00\\x00\\x00\\x00\\x00\\x00\\x00\\x00\\x00\\x00\\x00\\x00\\x00\\x00\\x00\\x00\\x00\\x00\\x00\\x00\\x00\\x00\\x00\\x00\\x00\\x00\\x00\\x00\\x00\\x00\\x00\\x00\\x00\\x00\\x00\\x00\\x00\\x00\\x00\\x00\\x00\\x00\\x00\\x00\\x00\\x00\\x00\\x00\\x00\\x00\\x00\\x00\\x00\\x00\\x00\\x00\\x00\\x00\\x00\\x00\\x00\\x00\\x00\\x00\\x00\\x00\\x00\\x00\\x00\\x00\\x00\\x00\\x00\\x00\\x00\\x00\\x00\\x00\\x00\\x00\\x00\\x00\\x00\\x00\\x00\\x00\\x00\\x00\\x00\\x00\\x00\\x00\\x00\\x00\\x00\\x00\\x00\\x00\\x00\\x00\\x00\\x00\\x00\\x00\\x00\\x00\\x00\\x00\\x00\\x00\\x00\\x00\\x00\\x00\\x00\\x00\\x00\\x00\\x00\\x00\\x00\\x00\\x00\\x00\\x00\\x00\\x00\\x00\\x00\\x00\\x00\\x00\\x00\\x00\\x00\\x00\\x00\\x00\\x00\\x00\\x00\\x00\\x00\\x00\\x00\\x00\\x00\\x00\\x00\\x00\\x00\\x00\\x00\\x00\\x00\\x00\\x00\\x00\\x00\\x00\\x00\\x00\\x00\\x00\\x00\\x00\\x00\\x00\\x00\\x00\\x00\\x00\\x00\\x00\\x00\\x00\\x00\\x00\\x00\\x00\\x00\\x00\\x00\\x00\\x00\\x00\\x00\\x00\\x00\\x00\\x00\\x00\\x00\\x00\\x00\\x00\\x00\\x00\\x00\\x00\\x00\\x00\\x00\\x00\\x00\\x00\\x00\\x00\\x00\\x00\\x00\\x00\\x00\\x00\\x00\\x00\\x00\\x00\\x00\\x00\\x00\\x00\\x00\\x00\\x00\\x00\\x00\\x00\\x00\\x00\\x00\\x00\\x00\\x00\\x00\\x00\\x00\\x00\\x00\\x00\\x00\\x00\\x00\\x00\\x00\\x00\\x00\\x00\\x00\\x00\\x00\\x00\\x00\\x00\\x00\\x00\\x00\\x00\\x00\\x00\\x00\\x00\\x00\\x00\\x00\\x00\\x00\\x00\\x00\\x00\\x00\\x00\\x00\\x00\\x00\\x00\\x00\\x00\\x00\\x00\\x00\\x00\\x00\\x00\\x00\\x00\\x00\\x00\\x00\\x00\\x00\\x00\\x00\\x00\\x00\\x00\\x00\\x00\\x00\\x00\\x00\\x00\\x00\\x00\\x00\\x00\\x00\\x00\\x00\\x00\\x00\\x00\\x00\\x00\\x00\\x00\\x00\\x00\\x00\\x00\\x00\\x00\\x00\\x00\\x00\\x00\\x00\\x00\\x00\\x00\\x00\\x00\\x00\\x00\\x00\\x00\\x00\\x00\\x00\\x00\\x00\\x00\\x00\\x00\\x00\\x00\\x00\\x00\\x00\\x00\\x00\\x00\\x00\\x00\\x00\\x00\\x00\\x00\\x00\\x00\\x00\\x00\\x00\\x00\\x00\\x00\\x00\\x00\\x00\\x00\\x00\\x00\\x00\\x00\\x00\\x00\\x00\\x00\\x00\\x00\\x00\\x00\\x00\\x00\\x00\\x00\\x00\\x00\\x00\\x00\\x00\\x00\\x00\\x00\\x00\\x00\\x00\\x00\\x00\\x00\\x00\\x00\\x00\\x00\\x00\\x00\\x00\\x00\\x00\\x00\\x00\\x00\\x00\\x00\\x00\\x00\\x00\\x00\\x00\\x00\\x00\\x00\\x00\\x00\\x00\\x00\\x00\\x00\\x00\\x00\\x00\\x00\\x00\\x00\\x00\\x00\\x00\\x00\\x00\\x00\\x00\\x00\\x00\\x00\\x00\\x00\\x00\\x00\\x00\\x00\\x00\\x00\\x00\\x00\\x00\\x00\\x00\\x00\\x00\\x00\\x00\\x00\\x00\\x00\\x00\\x00\\x00\\x00\\x00\\x00\\x00\\x00\\x00\\x00\\x00\\x00\\x00\\x00\\x00\\x00\\x00\\x00\\x00\\x00\\x00\\x00\\x00\\x00\\x00\\x00\\x00\\x00\\x00\\x00\\x00\\x00\\x00\\x00\\x00\\x00\\x00\\x00\\x00\\x00\\x00\\x00\\x00\\x00\\x00\\x00\\x00\\x00\\x00\\x00\\x00\\x00\\x00\\x00\\x00\\x00\\x00\\x00\\x00\\x00\\x00\\x00\\x00\\x00\\x00\\x00\\x00\\x00\\x00\\x00\\x00\\x00\\x00\\x00\\x00\\x00\\x00\\x00\\x00\\x00\\x00\\x00\\x00\\x00\\x00\\x00\\x00\\x00\\x00\\x00\\x00\\x00\\x00\\x00\\x00\\x00\\x00\\x00\\x00\\x00\\x00\\x00\\x00\\x00\\x00\\x00\\x00\\x00\\x00\\x00\\x00\\x00\\x00\\x00\\x00\\x00\\x00\\x00\\x00\\x00\\x00\\x00\\x00\\x00\\x00\\x00\\x00\\x00\\x00\\x00\\x00\\x00\\x00\\x00\\x00\\x00\\x00\\x00\\x00\\x00\\x00\\x00\\x00\\x00\\x00\\x00\\x00\\x00\\x00\\x00\\x00\\x00\\x00\\x00\\x00\\x00\\x00\\x00\\x00\\x00\\x00\\x00\\x00\\x00\\x00\\x00\\x00\\x00\\x00\\x00\\x00\\x00\\x00\\x00\\x00\\x00\\x00\\x00\\x00\\x00\\x00\\x00\\x00\\x00\\x00\\x00\\x00\\x00\\x00\\x00\\x00\\x00\\x00\\x00\\x00\\x00\\x00\\x00\\x00\\x00\\x00\\x00\\x00\\x00\\x00\\x00\\x00\\x00\\x00\\x00\\x00\\x00\\x00\\x00\\x00\\x00\\x00\\x00\\x00\\x00\\x00\\x00\\x00\\x00\\x00\\x00\\x00\\x00\\x00\\x00\\x00\\x00\\x00\\x00\\x00\\x00\\x00\\x00\\x00\\x00\\x00\\x00\\x00\\x00\\x00\\x00\\x00\\x00\\x00\\x00\\x00\\x00\\x00\\x00\\x00\\x00\\x00\\x00\\x00\\x00\\x00\\x00\\x00\\x00\\x00\\x00\\x00\\x00\\x00\\x00\\x00\\x00\\x00\\x00\\x00\\x00\\x00\\x00\\x00\\x00\\x00\\x00\\x00\\x00\\x00\\x00\\x00\\x00\\x00\\x00\\x00\\x00\\x00\\x00\\x00\\x00\\x00\\x00\\x00\\x00\\x00\\x00\\x00\\x00\\x00\\x00\\x00\\x00\\x00\\x00\\x00\\x00\\x00\\x00\\x00\\x00\\x00\\x00\\x00\\x00\\x00\\x00\\x00\\x00\\x00\\x00\\x00\\x00\\x00\\x00\\x00\\x00\\x00\\x00\\x00\\x00\\x00\\x00\\x00\\x00\\x00\\x00\\x00\\x00\\x00\\x00\\x00\\x00\\x00\\x00\\x00\\x00\\x00\\x00\\x00\\x00\\x00\\x00\\x00\\x00\\x00\\x00\\x00\\x00\\x00\\x00\\x00\\x00\\x00\\x00\\x00\\x00\\x00\\x00\\x00\\x00\\x00\\x00\\x00\\x00\\x00\\x00\\x00\\x00\\x00\\x00\\x00\\x00\\x00\\x00\\x00\\x00\\x00\\x00\\x00\\x00\\x00\\x00\\x00\\x00\\x00\\x00\\x00\\x00\\x00\\x00\\x00\\x00\\x00\\x00\\x00\\x00\\x00\\x00\\x00\\x00\\x00\\x00\\x00\\x00\\x00\\x00\\x00\\x00\\x00\\x00\\x00\\x00\\x00\\x00\\x00\\x00\\x00\\x00\\x00\\x00\\x00\\x00\\x00\\x00\\x00\\x00\\x00\\x00\\x00\\x00\\x00\\x00\\x00\\x00\\x00\\x00\\x00\\x00\\x00\\x00\\x00\\x00\\x00\\x00\\x00\\x00\\x00\\x00\\x00\\x00\\x00\\x00\\x00\\x00\\x00\\x00\\x00\\x00\\x00\\x00\\x00\\x00\\x00\\x00\\x00\\x00\\x00\\x00\\x00\\x00\\x00\\x00\\x00\\x00\\x00\\x00\\x00\\x00\\x00\\x00\\x00\\x00\\x00\\x00\\x00\\x00\\x00\\x00\\x00\\x00\\x00\\x00\\x00\\x00\\x00\\x00\\x00\\x00\\x00\\x00\\x00\\x00\\x00\\x00\\x00\\x00\\x00\\x00\\x00\\x00\\x00\\x00\\x00\\x00\\x00\\x00\\x00\\x00\\x00\\x00\\x00\\x00\\x00\\x00\\x00\\x00\\x00\\x00\\x00\\x00\\x00\\x00\\x00\\x00\\x00\\x00\\x00\\x00\\x00\\xfc\\xe8@\\xa94\\xf0@\\xa9\\xbc|\\x8b\\xa4\\x00\\x00\\x00\\x00\\x00\\x00\\x00\\x00\\x00\\x00\\x04\\x00\\x00\\x00\\x04\\x00C3161325319497\\x00\\x00\\x00\\x00\\x00\\x00\\x00\\x00\\x00\\x00\\x00\\x00\\x00\\x00\\x00\\x00\\x00\\x08\\x00\\x01\\x00\\x02\\x00\\x00\\x00\\x02N\\x00\\x00\\x00\\x00\\x02\\x00\\x05\\x00\\x00\\x00\\x03\\x00\\x00\\r,\\x00\\x03\\x00\\x02\\x00\\x00\\x00\\x02E\\x00\\x00\\x00\\x00\\x04\\x00\\x05\\x00\\x00\\x00\\x03\\x00\\x00\\rD\\x00\\x05\\x00\\x01\\x00\\x00\\x00\\x01\\x00\\x00\\x00\\x00\\x00\\x06\\x00\\x05\\x00\\x00\\x00\\x01\\x00\\x00\\r\\\\\\x00\\x07\\x00\\x05\\x00\\x00\\x00\\x03\\x00\\x00\\rd\\x00\\x1d\\x00\\x02\\x00\\x00\\x00\\x0b\\x00\\x00\\r|\\x00\\x00\\x00+\\x00\\x00\\x00\\x01\\x00\\x00\\x00\\x1d\\x00\\x00\\x00\\x01\\x12\\x91)_\\x00\\x98\\x96\\x80\\x00\\x00\\x00\\x05\\x00\\x00\\x00\\x01\\x00\\x00\\x00\\x16\\x00\\x00\\x00\\x01\\x0e\\xe7\\x83\\xe0\\x00\\x98\\x96\\x80\\x00\\x02\\x82\\xa2\\x00\\x00\\x03\\xe8\\x00\\x00\\x00\\r\\x00\\x00\\x00\\x01\\x00\\x00\\x00!\\x00\\x00\\x00\\x01\\x00\\x00\\x00%\\x00\\x00\\x00\\x012024:06:19\\x00\\x00\\x01\\x00\\x01\\x00\\x02\\x00\\x00\\x00\\x04R98\\x00\\x00\\x06\\x01\\x03\\x00\\x03\\x00\\x00\\x00\\x01\\x00\\x06\\x00\\x00\\x01\\x1a\\x00\\x05\\x00\\x00\\x00\\x01\\x00\\x00\\r\\xe3\\x01\\x1b\\x00\\x05\\x00\\x00\\x00\\x01\\x00\\x00\\r\\xeb\\x01(\\x00\\x03\\x00\\x00\\x00\\x01\\x00\\x02\\x00\\x00\\x02\\x01\\x00\\x04\\x00\\x00\\x00\\x01\\x00\\x00\\r\\xf3\\x02\\x02\\x00\\x04\\x00\\x00\\x00\\x01\\x00\\x00\\x0e\\xc6\\x00\\x00\\x00\\x00\\x00\\x00\\x00H\\x00\\x00\\x00\\x01\\x00\\x00\\x00H\\x00\\x00\\x00\\x01\\xff\\xd8\\xff\\xdb\\x00\\x84\\x00\\t\\x06\\x06\\x08\\x06\\x05\\t\\x08\\x07\\x08\\n\\t\\t\\n\\r\\x16\\x0e\\r\\x0c\\x0c\\r\\x1a\\x13\\x14\\x10\\x16\\x1f\\x1c! \\x1f\\x1c\\x1e\\x1e#\\'2*#%/%\\x1e\\x1e+;,/35888!*=A<6A2785\\x01\\t\\n\\n\\r\\x0b\\r\\x19\\x0e\\x0e\\x195$\\x1e$55555555555555555555555555555555555555555555555555\\xff\\xc0\\x00\\x11\\x08\\x00x\\x00\\xa0\\x03\\x01!\\x00\\x02\\x11\\x01\\x03\\x11\\x01\\xff\\xc4\\x01\\xa2\\x00\\x00\\x01\\x05\\x01\\x01\\x01\\x01\\x01\\x01\\x00\\x00\\x00\\x00\\x00\\x00\\x00\\x00\\x01\\x02\\x03\\x04\\x05\\x06\\x07\\x08\\t\\n\\x0b\\x10\\x00\\x02\\x01\\x03\\x03\\x02\\x04\\x03\\x05\\x05\\x04\\x04\\x00\\x00\\x01}\\x01\\x02\\x03\\x00\\x04\\x11\\x05\\x12!1A\\x06\\x13Qa\\x07\"q\\x142\\x81\\x91\\xa1\\x08#B\\xb1\\xc1\\x15R\\xd1\\xf0$3br\\x82\\t\\n\\x16\\x17\\x18\\x19\\x1a%&\\'()*456789:CDEFGHIJSTUVWXYZcdefghijstuvwxyz\\x83\\x84\\x85\\x86\\x87\\x88\\x89\\x8a\\x92\\x93\\x94\\x95\\x96\\x97\\x98\\x99\\x9a\\xa2\\xa3\\xa4\\xa5\\xa6\\xa7\\xa8\\xa9\\xaa\\xb2\\xb3\\xb4\\xb5\\xb6\\xb7\\xb8\\xb9\\xba\\xc2\\xc3\\xc4\\xc5\\xc6\\xc7\\xc8\\xc9\\xca\\xd2\\xd3\\xd4\\xd5\\xd6\\xd7\\xd8\\xd9\\xda\\xe1\\xe2\\xe3\\xe4\\xe5\\xe6\\xe7\\xe8\\xe9\\xea\\xf1\\xf2\\xf3\\xf4\\xf5\\xf6\\xf7\\xf8\\xf9\\xfa\\x01\\x00\\x03\\x01\\x01\\x01\\x01\\x01\\x01\\x01\\x01\\x01\\x00\\x00\\x00\\x00\\x00\\x00\\x01\\x02\\x03\\x04\\x05\\x06\\x07\\x08\\t\\n\\x0b\\x11\\x00\\x02\\x01\\x02\\x04\\x04\\x03\\x04\\x07\\x05\\x04\\x04\\x00\\x01\\x02w\\x00\\x01\\x02\\x03\\x11\\x04\\x05!1\\x06\\x12AQ\\x07aq\\x13\"2\\x81\\x08\\x14B\\x91\\xa1\\xb1\\xc1\\t#3R\\xf0\\x15br\\xd1\\n\\x16$4\\xe1%\\xf1\\x17\\x18\\x19\\x1a&\\'()*56789:CDEFGHIJSTUVWXYZcdefghijstuvwxyz\\x82\\x83\\x84\\x85\\x86\\x87\\x88\\x89\\x8a\\x92\\x93\\x94\\x95\\x96\\x97\\x98\\x99\\x9a\\xa2\\xa3\\xa4\\xa5\\xa6\\xa7\\xa8\\xa9\\xaa\\xb2\\xb3\\xb4\\xb5\\xb6\\xb7\\xb8\\xb9\\xba\\xc2\\xc3\\xc4\\xc5\\xc6\\xc7\\xc8\\xc9\\xca\\xd2\\xd3\\xd4\\xd5\\xd6\\xd7\\xd8\\xd9\\xda\\xe2\\xe3\\xe4\\xe5\\xe6\\xe7\\xe8\\xe9\\xea\\xf2\\xf3\\xf4\\xf5\\xf6\\xf7\\xf8\\xf9\\xfa\\xff\\xda\\x00\\x0c\\x03\\x01\\x00\\x02\\x11\\x03\\x11\\x00?\\x00\\xe8\\xe1\\xbc\\x82\\xe6?2\\tRE\\xf5C\\x9cS\\xfe\\xd7\\n\\xca#2\\xa0s\\xd1s\\xcd1\\x16\\x91\\xb2\\x06\\rJ\\r0\\x1c)\\xc2\\x80\\x02\\x83\\xb5\\x00`\\xd0\\x04\\xaai\\xb2\\xdd\\xc1n\\xe8\\xb2\\xca\\x91\\xb3\\xf0\\xa1\\x8e3E\\xc0\\xadk\\xad[\\xde\\\\<h$UP0\\xee\\xbbT\\x9ex\\x07\\xbf\\x035s!\\x86A\\xc8\\xa5{\\x80\\x94S\\x01h\\xa0\\x04\\xc58-\\x008-s~*\\xd34\\x9b\\x99\\xa1}N\\xeb\\xcb\\x98\\x9d\\x90\\x87o\\x97\\x07\\x19\\x18\\xed\\xf5\\xeb\\xef\\xd0T\\xc9]\\x01\\xc5\\xc7\\xa3M\\n\\x06\\xb63\\x15\\x0cTH\\t$\\x8f~\\xfe\\xd5R\\x1b\\xa1\\xa2\\xea\\x0bt\\xca\\x1c\\xf3\\x93\\xcf9\\x18\\xebD\\x9aq\\xba%6\\x9d\\x99\\xa1k\\xe3\\x89\\xa1\\xb9\\x91\\xe5\\x89\\x84L>E\\\\|\\xa7\\xfa\\xd5\\x1b\\xcf\\x1c\\xea\\x89\"\\xbc3\\x94]\\xdc\\xe58\\xe7\\xd4\\x1c\\xe2\\xb2\\xe6e\\xb2\\xfd\\x9f\\xc4=EDB\\xe2;y\\x00?\\xbc# \\x91\\x9fQ\\xc05\\xd8x{\\xc4\\xb6\\xfa\\xfaI\\xe5!\\x89\\xd3\\x04\\xa9`r=E\\\\gwa\\x1b@\\xd3\\xab@*jZ\\xa4\\x1a\\\\J\\xf3\\x87!\\x89\\x03j\\xe7<f\\xbc\\xd3_\\xf1\\\\\\x9a\\xad\\xe7\\x98\\x02 \\x88\\x90\\x83\\xae\\x07\\xbf\\xaf\\xe5X\\xd4\\x97A\\x99\\xc9\\xab\\xde\\xd9\\xdc\\xac\\xd0L\\xcf#\\x8c0a\\xc0\\xe3\\x19\\x03\\x1c}z\\xd7\\xa2\\xf8k\\xc4v\\xb3\\xc1\\x05\\x8bJ\\xef9\\x18]\\xc0\\x92\\xddI\\xcf\\xeb\\xedD%\\xd0GG\\x9a\\x8a\\xd4O\\xe5\\x13rT\\xbb1 /E\\x1d\\x87\\xbf\\x1f\\xadl\\x03\\xc5\\xd4>y\\x8b\\xcc]\\xe17\\x91\\x9f\\xe1\\xf5\\xa9r7c#=qH\\x07\\x01Y\\x9e \\x9bS\\x8a\\xde%\\xd1\\xe2\\xdf3\\xbe\\x0b\\x10\\n\\xa8\\xf7\\xc9\\xe9\\xf4\\x07\\xf0\\xa1\\x81BG\\xf1=\\xb4\\xc8v%\\xcad\\x87\\t\\xb0\\x0f\\x99\\xb01\\xd0\\xfc\\xa3\\xaeH\\xceO\\xa6j\\xcf\\xf6#\\xebvAu\\xeb{tu|\\x85\\x85\\x8b\\x029\\x19\\xe7\\xa6A>\\xe39\\xcezN\\xafp<\\xebM\\xf1dvR\\xcd\\x94S\\x1b\\xc8\\xc4F\\xa7\\x18\\xe4s\\xfc\\xea\\xf6\\xa9wc\\xe2\\x18\\x9a\\x01\\x11\\x12\\x06\\xc5\\xbc\\xc0\\x06\\xdc\\xdd\\x00=\\xc09\\x1f\\xa5c\\x19=\\x86q\\x93,\\xd6\\xf2m\\x91\\xc27B\\xa39S\\xcf\\x18\\xaa\\x92\\\\\\xcad\\nY\\x95\\x0b`\\x96\\xc9\\x1e\\xf5I\\x01\\x1a_\\x94l\\x8c\\xa1\\xf5\\xad[\\x1dV\\xe2\\x00\\xd2Cp\\xd6\\xecWkrF}\\xbfJ\\x1a\\x11\\xbb\\xa5x\\xd6\\xfa\\xd2x\\xdaWia^\\x8a\\xcd\\x9e=?\\xfa\\xd5\\xe9\\xfam\\xfcz\\x96\\x9f\\r\\xd4?rU\\x0c=\\xbd\\xaa\\xe0\\xdfP0~ \\x00\\xba\\x17\\x9d\\xbc\\x83\\xb8 \\\\d\\x12y\\xfc8\\x07\\xf3\\xaf+IJ\\xb6\\xf7N\\xd8R85\\x13\\xdcd\\xa1L\\xb7\\x08#\\x91Fx,s\\x85\\x1e\\xbc\\x0c\\xd7Q\\xe1\\x1b\\xcb-\"\\xec\\xdcj\\x110\\x98\\xc5\\xbe\\x07bB\\xf4\\xe3\\x1c`\\xe4\\x13\\xcd\\x0bGq\\x1e\\x8a\\x97\\xa2}1\\xee@\\x01v\\xb9\\\\6r\\x06ps\\xf8V\\x17\\x8b\\xf5\\xe9\\xf4\\xf8|\\xbbw0\\x95!\\x8c\\x99 \\xfa\\xe0q\\xc8\\xec~\\xb5\\xabvC8\\xff\\x00\\xf8H[\\xed\\x96\\xf8\\xf3Q!\\x8cG\\'\\xcew\\x90\\x1b$\\xe4\\x9e3\\x9cz\\x7f*\\xec\\xbc3\\xe2F\\xd5u\\x19\\xdaH\\xc8\\xf3:\\x1c\\x8d\\xb1\\xaa\\xe7\\xe5\\xf7<\\xfe\\xbfZ\\xce2w\\xb1\\'T\\x1a\\x9c\\rj1\\xe2\\x9e\\x16\\x80<\\n{\\x88\\xe3,\\x97\\x12y\\xd1\\x92%\\x8e\\x18\\xc7\\x1d\\xf8\\xce8\\x1e\\xc0s]?\\x85\\xbc\\x98\\xec\\xa6\\xbb\\x92\\xcc\\xc5l\\\\2\\xe52F\\x0f\\x04\\x12\\xc4\\x9cs\\xdb\\xfa\\xd61Z\\x8c\\xb1\\xe2/\\t\\rQ\\xd6k\\x03\\r\\xac\\xf9%\\xdfo\\xde\\xfc\\xbb\\xfb\\xd7\\x02<1\\xaaGu\\xe5Ik+\\xb1\\xee\\xa3+\\xd4\\x827\\x0e=\\x7f\\xfa\\xd5@6\\xfb@\\xbe\\xb7\\xb37\\x0b\\x116\\xe8\\xc5\\x18\\x8e\\n\\x1c\\x91\\x86S\\xca\\xf4\\xf7\\xea9\\xe7\\x15Z!<\\xf10\\x8e\\x12Lx\\xca\\x8c\\x86<\\xf4\\xfa\\xf2}\\xfa\\xd0\\x05\\xed\\x1e\\xde\\xe2K\\xa6\\x86!#\\xba\\x95>^HbO\\'\\x03\\x198\\xe7\\xb7O\\xad{N\\x85\\xe6\\xae\\x8fn\\'FG\\x082\\x1f\\xeft\\xe7w\\x03\\x079\\xf5\\xfa\\xd5D\\x0cO\\x17x\\x7fP\\xd4mgk{\\xd3\\xe5\\xb1\\r\\xe5\\xb1;Glm\\x00\\xe7\\xeb\\xdb\\xf5\\xaf4\\x8a\\xce\\xfb\\xed\\x19\\xd8\\xe8-\\xb6\\x99X\\xc6q\\x1f|\\x90\\x06x\\x1c\\xf4\\xf5\\xa9kP7\\x05\\x9e\\xabaj\\'\\x81\\x16V\\xbd\\x0fm \\x08\\xce\\xd1\\x8f0\\x00\\x1c\\xe7\\x038=s\\xc7\\xd7\\x8b\\x9e\\x15\\xf0\\xf0\\xd55E\\x82\\xf2\\'x\\x94|\\xd2\\xc2\\xb8A\\x8f\\xe1$t\\'\\x07\\xb8\\xfdh\\xb0\\x1e\\x97uh\\x90h\\xd3C\\x10\\xda\\x89\\x03*\\x8f@\\x17\\x8a\\xe1>%\\xde\\x18\\x8cq\\x07f\\x04\\xee\\xda\\xc8T\\xafn\\x0e9\\x07\\x19\\xe7>\\xd5R\\xd8\\x0e\\x1d\\x15\\xc2\\xb3H\\x06\\xc5U9\\xde\\x0f\\x07\\x90\\x01\\xcf|\\xe7\\x1e\\xc7\\xa6\\rt^\\x07\\xfd\\xe6\\xa5#mi]S~\\xe1\\x80\\x13\\xa6I\\xcf$t\\x04\\x023\\x93P\\x96\\xa4\\x9e\\xba\\xa8H\\xa9V#\\xde\\xb5(\\x94G\\x8av\\x00\\x19<P\\x07\\x99\\xddZZiZ\\xac\\x17\\x10ZB\\x84\\xc3\"\\x85T\\n\\t\\x18n\\xb8\\xf4\\x06\\xb4R\\xe2;\\x8d1g\\x9a%dd\\xde\\xd1\\xf0\\xc3\\xd7\\x1c\\xf5\\xa9\\xb0\\x10\\xdck\\xf6\\xb6\\xb1[K*\\xca\\x12\\xe9w\\xa9\\xdb\\x9d\\xa3\\x00\\xf3\\xcf\\xbf\\xbd9.,\\xde\\xd2V\\x8e@`+!v\\x00\\x9e\\x87-\\xfa\\x93Ld\\x92\\xb5\\xbc\\xf0\\t\\xdd\\x84\\x96\\xcd\\t\\xdc\\xa5r\\xae\\xa7\\x07$w\\xe0zw\\xaf=\\xd6m\\x8e\\x8b~D\\x11\\x1f,\\x11\"L2\\x1b\\xe6Q\\x8f\\xc8\\xa9\\xeb\\xf5\\xebR\\xc0\\xa9\\xa4\\xdeG\\x1e\\xa6\\xb7\\xb2\\xa0yQ\\x94\\xae\\xe1\\xcb\\x1c\\xff\\x00\\xf5\\xab\\xb9\\x1e/\\xbbfm\\x85\\xc8\\x1d\\x08T\\xc3q\\x9e?\\x978\\xa5\\x11\\x12\\x9f\\x11\\xdeH\\xf2 \\x99\\xbfvT\\x1c\\x003\\x9e\\xe3\\x15\\x9b<k,\\x972\\x8d\\xb1L\\xca~u\\xdc\\xbea#\\x90\\xc5H\\xcex\\xe4\\xe6\\xa9\\x8c\\xdc\\xf0D\\xb60\\xe9\\xb3[K\\x14M\\xb9\\xa4\\x1eg\\x95\\xf7\\xd78\\xc1\\xeaH<z\\xd7S&\\xadai\\x0b\\xcb$\\xab\\x1a\\x0eX\\xec#\\xdb\\xd3\\xe9B\\x02\\xbd\\xf7\\x88,\\x84F$/)\\x91p\\n\\x81\\x8e~\\xa4V\\x1f\\x8b\\xad-5\\xfd<\\xb4q\\xb2\\\\\\'*N\\xd1\\xbb\\xeapO\\x1c\\xf0(z\\x88\\xe4\\xd3\\xc2\\xcb\\x05\\xe5\\xbd\\xb3O!\\xb7\\x9d\\x8f\\xef\\xf1\\xb8\\xf0\\xad\\xc6\\xd2p\\x0f8\\x1dz\\x92=+\\xab\\xf0\\xb6\\x93\\xa6\\xf8z\\x162+]\\xce\\xce\\x18J\\xd1\\x8c\\xae:c$\\xfeu7\\xb0\\xd2:?\\xf8H \\x07\\x88e?\\\\U\\xb8uh\\xdbO\\x96\\xed\\xd4\\xc7\\x1cY\\xceO\\'\\x15I\\xdc\\x19\\xcb\\xdd\\xfcE\\x89\\x17df$~\\x9b\\x87\\xcd\\xf8\\xf5\\xc7\\xeak6\\xe7Z3B%\\xb8\\xbcc\\x11!\\x90\\xbb6\\xdex<\\x0f\\xf1\\xa5\\xcc\\x84g\\xae\\xbds\\xaa\\xf9\\x13G\\xa580\\xca\\xa0I\\xe6\\xe12\\xdf&9_\\xf6\\xb1\\xd6\\xb5\\x1a\\xea\\xf17\\xf9\\x96\\xaa\\xa0c\\x85\\x941\\xcf\\xe5T\\x172u\\xeb\\xeb\\xc9\\xed\\xcd\\xabZF\\x8a\\xcb\\x92\\xde`s\\x8fb:t\\xa8#\\xb9\\xd4g\\xddol\\xb6\\xf6\\xeb\\xb0\\x87fd\\xc1\\'\\x05\\x9b$\\xf3\\x9f\\xebC\\xdbq\\x16\\x9a{\\xcb=5m\\xd6[y\\xa4$F\\xb8(\\x15F\\x0f\\\\?\\x03\\x8a\\xe7us=\\xe4\\xea.\\xe4\\x8d\\x8b&\\xc0\\xaaA\\x03\\x19\\xeb\\xfa\\xfeu6\\x19\\x9e\\xbau\\xad\\x94\\xc2I\\xe5&\\x1eH\\x04\\x13\\x9c\\x7f\\xfa\\xea\\xd5\\xc6\\xa5\\x05\\xa5\\xfa\\xc6\\xcf\"\\x98\\xdf,\\x02\\xe4`\\xa1\\xe3\\x19\\xf5\\xc5RB\\xbd\\x8d8\\xaf\"}=\\xe4E_\\xde\\xee)!L\\xb2\\xf2p\\x7f\\x0e?*lw7s\\\\,p\\\\I\\x11U\\xdc\\xd2p\\x14\\x0c\\xe3q\\xe0\\xf6\\xe4\\x81R\\xf4(\\xd6\\xd0\\xef\\xe3\\xd3\\xd6d\\xb9\\xbb\\x8d\\xf13\\x01\\xf3\\xee$\\xe01?C\\x93\\xcf\\xadI\\xadk\\xf6\\xf7v\\xaboo#0\\x97\\xefa:`\\xf7\\xcf\\xf4\\xff\\x00\\xf5\\xbb\\xd8v\\xb9Z\\xe7R\\r\\x7f\\x14\\xe1\\xd4\\xc7\\x95\\x05\\x15\\x87\\x00\\x1a\\xb7\\xa8\\xf8\\x8a\\x18\\xe1]\\x88\\xa5\\x08\\xc1\\xf2\\xe5\\x0e\\xdc\\x8fN\\xb4\\xd3V\\x13M31>\\xc9}\\xe2X$wf\\xdc\\x85\\xc2\\x96\\xca\\x02\\x02\\x801\\x8e8\\xc9\\xfa\\xd5\\xb9N|F\\x96\\xb1\\xaa,{\\x86F\\xc5\\xc66\\x82GO\\xad\\t\\x01\\xb1u\\xb6\\xde\\x14X\\xdbn\\xe3\\xf2\\xa2\\x8d\\xb8\\x1cg\\xa7\\xb9\\xfdj\\xab\\xdc\\xbbi\\xec\\x97S1\\x87\\x92\\xeb\\xbc\\xec\\xfcrk\\x19>\\x85X\\xf3I5\\x05\\xfbC0P\\x1b9\\xc6\\xe3\\x8f\\xd2\\x89n\\xe6\\xba\\x80\\x06r\\xa9\\x19\\xe1rx\\xa6\\x91\\x07S,\\x0b*\\xe12>`s\\xc1\\xe8A\\xf4\\xa3\\xec\\xe0\\xf5\\x06\\xaa\\xc5\\t\\xf6c\\x8e\\x1b\\xf4\\xa4[W\\x1f\\xf2\\xd3\\xb9\\xfe\\x11@\\x01\\xb3\\x90\\xff\\x00\\xcbA\\xff\\x00|\\x8akil\\xcc\\xa7\\x7f#\\xe9@\\x04\\xbaW\\x9d\\x1e\\xd9\\x180\\x03\\x00\\x12:q\\xef\\xedP\\xcb\\xa2\\xc5<\\xa6IWs\\xb7V\\xc9\\x1f\\xd6\\x98\\xac\\x8bPY4\\x11*#\\x00\\xa3\\x80*H\\xe0x\\x83\\x05|\\x06\\x18=:R\\x18\\xc1`\\xa2F}\\xcd\\x96\\xeb\\xf3R\\xfd\\x90n\\xce\\xe64X\\x07-\\xba(\\xe8I\\xf5&\\x83m\\t\\xea\\x98\\xff\\x00\\x81\\x1a,\\x01\\x1d\\xa4I*\\xcb\\xb9\\xb7/A\\x9c\\xfa\\x1f\\xe8*\\xc0\\xdan\\xbc\\xfd\\xed\\xe7\\x7fx\\x9e}?\\x950&\\xf3\\x9d\\xbf\\xe5\\xae\\xef\\xabS\\x19w\\xc6\\xc8\\xcc\\x85[\\xaa\\xf64Y\\x05\\xca\\xcf\\xa5Z\\x11\\x93gn\\xdfDS\\xfc\\xa9?\\xb3\\xad#\\xe7\\xecq\\xa7\\xbe\\xccQa\\x01\\x0c\\xa7\\x07 \\xfb\\x8aU\\x8eG\\x19Tv\\x1e\\xa0P1\\x182\\x1c0e>\\x84S\\xd2\\x19d\\x1b\\x91X\\x8f\\\\P\\x01$2B\\xd8\\x93\\xe5\\'\\x9c\\x13\\xcd>+;\\x89\\xd0\\xb4jH\\x07\\xa9 \\x7f:@G,\\x12@\\xdbd\\x00\\x123\\x8d\\xc0\\xff\\x00*tv\\xb2I\\x1e\\xf1\\xb0.q\\xcb\\x81\\xfc\\xe8\\x01\\x92\\'\\x96\\xe5X\\x82Gu`G\\xe7RGo\\xe6\\x0f\\xf5\\xb1/\\x1f\\xc4\\xf8\\xa0\\x08\\xbb\\xf5\\x02\\x9c\\xea\\x15r&\\x8d\\x8f\\xa0\\x07\\xfc(\\xb8\\rP\\x1b;\\xa4\\x0b\\x8fPy\\xa6\\xb7\\x04a\\xc3\\x0fP\\x0f\\xf5\\xa2\\xe0+\\x08\\xf6\\xe5d$\\xfa\\x14\\xc7\\xf5\\xa6\\xa6\\xdew\\xbb/\\xfb\\xaa\\x0f\\xf5\\x14\\\\\\x05\\xdc\\xa1\\xcf.\\xeb\\x8fe?\\xd6\\x89.X\\x00\"y\\x82\\x8e\\xcc\\xff\\x00\\xe1N\\xe0#\\xeal\\x14\\x0c\\x1d\\xde\\xa7i\\xff\\x00\\xd9ib\\xd5\\x14\\xa6gR\\x17\\xb3*\\xa0\\xff\\x00\\xd9h\\xb8Xf\\xfcr\\x0e?\\x1aw\\xda\\xa5?\\xf2\\xd1\\xc9\\xf7cH\\x06n\"\\x97\\xcc\\x18\\xeai\\x0c7\\xfb\\xfe4\\x9b\\xcez\\xd0\\x03\\x95\\xbe\\xa6\\x9d\\xbb\\x8a\\x00n\\xe3I\\xba\\x80\\x0c\\xd2n\\xe3\\x8a\\x00M\\xe6\\x90\\xb9\\xfa\\x9a\\x00L\\xd2dP\\x01\\xf5\\xa0\\xf4\\xe0\\xe6\\x80+L\\x80\\xb6Ni\\xb0H\\x10\\x98\\xe4\\xe5\\x1b\\xa5 .yG\\x19&\\x8d\\x9c\\x0ej\\x84.\\xcc\\xd2\\x1e\\xbf\\x85!\\x80\\xe4\\xe3\\xf9R\\xfeT\\x00g\\x06\\x97w\\xaf\\xd6\\x80\\x0e\\x94\\xdc\\xd2\\x017s\\xc9\\x14\\x13\\x81\\xed@\\xc6\\xee\\xe3\\x8a\\x0b\\x7f\\xfa\\xe8\\x00<Ss@\\n\\x1a\\x90\\x9a\\x00\\x8d\\xf9\\x15\\x01 \\x9c?\\x1fJ\\x00\\xd1\\xcd\\x19\\x02\\xa8\\x90\\xc9\\'\"\\x9aH=y\\xcd!\\x86N\\xe1\\x81Aq\\xf5\\xa0\\x06\\x96%\\x85\\x1b\\x80\\xfa\\xd00\\xdd\\xd7\\x93\\x9aM\\xfc\\xd2\\x01<\\xcez\\xd1\\xbc\\xe4\\x0e\\xa6\\x80\\x13vz\\x9a\\t\\xf5\\xed@\\x06sI\\xbb\\xfc\\x9a\\x00M\\xc7={\\xd2\\x93@\\x0cj\\x82L\\x8f\\xeb@\\x17\\xc1\\xa3\\x83L\\x91\\xac\\xd4\\xdf0c\\x81@\\xc5\\xce\\xd1\\xcf\\xe9\\xe9K\\xc8<\\x0e\\xd4\\x00\\x85\\xce{g\\xd4Q\\x9cd\\x0e\\xa2\\x80\\x15c\\x92C\\xf2#\\xb7\\xfb\\xa0\\x9a_\\xb2\\\\\\x11\\xc5\\xbc\\x87\\xfe\\x00h\\xb0\\x0c0\\xcc\\xa7\\xe6\\x89\\xc0\\xf7CL\\xc9\\x1dG\\xe9E\\x80M\\xdbH\\xed\\xc74\\x9b\\xfd\\xff\\x00\\n\\x00^q\\xef\\xe9\\x9a2Fz\\xff\\x00Z\\x00\\x0e}\\xe8\\xea8\\xeb\\xde\\x80\\x13&\\x98\\xea\\x18s\\xcd\\x00[\\xfb\\xb8\\xc9\\xe3\\xb9\\xa5\\x8e)\\x1c\\x9f.6o\\xf7A?\\xca\\x9d\\x84O\\x1e\\x91}.1\\t\\x03\\xb1f\\xc1\\xabPxf\\xe4\\xff\\x00\\xac\\x925\\xfad\\xff\\x00\\x85;\\x05\\xcb\\xd1\\xf8^<\\xe6I]\\x8f\\xb0\\x02\\xadG\\xe1\\xcb5Q\\x94-\\x8e\\xe5\\x8dW)7-.\\x8fh\\xa0\\x0f\\xb3\\xc6q\\xea\\xb9\\xab\\tk\\x12\\x0c*(\\x1e\\xc2\\x9d\\x82\\xe3\\xbc\\x95\\xf4\\xa5\\xf2\\x97\\xd2\\x98\\xae\\x1eJ\\xfa\\nC\\x02\\x9e\\xa0R\\x0b\\x91\\xbd\\xa4n>dV\\x1e\\xe35\\x03i\\x16\\x87\\xad\\xb4G\\xfe\\x00(\\xb0\\xeeA&\\x81b\\xe7&\\xdd\\x07\\xd0c\\xf9Uw\\xf0\\xdd\\xa1\\xce\\xd4e>\\xcciX.Vo\\x0b[\\xf3\\x89f\\x1f\\x88\\xff\\x00\\n\\x8d\\xfc*\\t\\x1b.X\\x7f\\xbc\\xb9\\xa5\\xca;\\x90\\xc9\\xe1{\\x85\\xff\\x00W27\\xd4\\x11U\\xe4\\xf0\\xed\\xf2\\x81\\x85W\\xff\\x00u\\xbf\\xc6\\x8eP\\xb9\\xd2E\\xa5[\\xa1\\x18\\x860G}\\xb95m`Q\\xd8UX\\x9b\\x92\\x04\\x03\\xb5=V\\x98\\x87\\xec\\xa3m\\x00(\\x14\\xbb(\\x01v\\xfbQ\\xb6\\x80\\x1c\\xa3&\\x95\\x90\\x11@\\r1\\xe7\\xa5!\\x8f\\x8e\\x94\\x01\\x19ZF_J\\x00C\\x1f\\x14\\xc3\\x16h\\x01\\xb8\\xc1\\xa6\\x9fj\\x00\\x9c.:\\xd3\\xc2\\x8ct\\xa0\\x05\\xdb\\x9e\\x94\\xbc\\n\\x00PF);\\xd0\\x00*A\\x9a\\x00Rj:`;=\\x85\\n\\xd84\\x80v})\\xae~^\\xb4\\x01\\x15(o\\x9b\\x91\\x9c\\xd0\\x04\\x98R)6\\x00}\\xbd\\xc5\\x00E,\\x1c\\xe4t\\xa8Lf\\x80?\\xff\\xd9'"
      ]
     },
     "execution_count": 113,
     "metadata": {},
     "output_type": "execute_result"
    }
   ],
   "source": [
    "exif_dict = piexif.load(im.info['exif'])\n",
    "piexif.dump(exif_dict)"
   ]
  },
  {
   "cell_type": "code",
   "execution_count": 114,
   "id": "ccf3a8ae-cf6c-4550-b9cb-6eb40d5a986a",
   "metadata": {},
   "outputs": [],
   "source": [
    "exif_dict['GPS'][piexif.GPSIFD.GPSLongitude] = decimal_to_dms(x, 10000)\n",
    "exif_dict['GPS'][piexif.GPSIFD.GPSLatitude] =  decimal_to_dms(y, 10000)"
   ]
  },
  {
   "cell_type": "code",
   "execution_count": 115,
   "id": "d82edf47-f5cf-4ba8-ba96-05bdce817649",
   "metadata": {},
   "outputs": [],
   "source": [
    "exif_bytes = piexif.dump(exif_dict)"
   ]
  },
  {
   "cell_type": "markdown",
   "id": "53d6723c",
   "metadata": {},
   "source": [
    "## Export de l'image"
   ]
  },
  {
   "cell_type": "code",
   "execution_count": 116,
   "id": "9adb6fc5-1b69-484e-9ebb-83bfea5e0977",
   "metadata": {},
   "outputs": [],
   "source": [
    "im.save('../data/maphoto.jpg', 'jpeg', exif = exif_bytes)"
   ]
  }
 ],
 "metadata": {
  "kernelspec": {
   "display_name": "Python 3 (ipykernel)",
   "language": "python",
   "name": "python3"
  },
  "language_info": {
   "codemirror_mode": {
    "name": "ipython",
    "version": 3
   },
   "file_extension": ".py",
   "mimetype": "text/x-python",
   "name": "python",
   "nbconvert_exporter": "python",
   "pygments_lexer": "ipython3",
   "version": "3.12.4"
  }
 },
 "nbformat": 4,
 "nbformat_minor": 5
}
