{
 "cells": [
  {
   "cell_type": "code",
   "execution_count": 3,
   "id": "2898a4a9",
   "metadata": {},
   "outputs": [],
   "source": [
    "import geopandas as gpd\n",
    "import fiona\n",
    "\n",
    "gpkg = '../terrain_data/raw/Aix Faubourg/Sextius 1 GPKG.gpkg'\n",
    "layers = fiona.listlayers(gpkg)"
   ]
  },
  {
   "cell_type": "code",
   "execution_count": 4,
   "id": "46370b81",
   "metadata": {},
   "outputs": [
    {
     "name": "stdout",
     "output_type": "stream",
     "text": [
      "['arbres', 'avaloirs', 'bancs', 'barri_res_points', 'blocs_de_pierres_ou_b_ton', 'borne_amovible', 'bornes_incendie', 'camera', 'fontaine', 'jardini_res', 'Panneaux', 'passage_pi_tons', 'Potelet', 'trottoir_ligne', 'trottoir_poly', '_clairage', 'Photos', 'Tracks', 'TrackPoints', 'android_metadata']\n"
     ]
    }
   ],
   "source": [
    "print(layers)"
   ]
  },
  {
   "cell_type": "code",
   "execution_count": 9,
   "id": "82a66fbf",
   "metadata": {},
   "outputs": [
    {
     "name": "stderr",
     "output_type": "stream",
     "text": [
      "C:\\Git-Repos\\cim\\venv\\Lib\\site-packages\\pyogrio\\raw.py:196: RuntimeWarning: GPKG: bad application_id=0x00000000 on '../terrain_data/raw/Aix Faubourg/Sextius 1 GPKG.gpkg'\n",
      "  return ogr_read(\n"
     ]
    },
    {
     "data": {
      "text/html": [
       "<div>\n",
       "<style scoped>\n",
       "    .dataframe tbody tr th:only-of-type {\n",
       "        vertical-align: middle;\n",
       "    }\n",
       "\n",
       "    .dataframe tbody tr th {\n",
       "        vertical-align: top;\n",
       "    }\n",
       "\n",
       "    .dataframe thead th {\n",
       "        text-align: right;\n",
       "    }\n",
       "</style>\n",
       "<table border=\"1\" class=\"dataframe\">\n",
       "  <thead>\n",
       "    <tr style=\"text-align: right;\">\n",
       "      <th></th>\n",
       "      <th>UUID</th>\n",
       "      <th>FID</th>\n",
       "      <th>_description</th>\n",
       "      <th>latitude</th>\n",
       "      <th>longitude</th>\n",
       "      <th>elevation</th>\n",
       "      <th>ortho_ht</th>\n",
       "      <th>time</th>\n",
       "      <th>fix_id</th>\n",
       "      <th>h_accuracy</th>\n",
       "      <th>v_accuracy</th>\n",
       "      <th>speed</th>\n",
       "      <th>bearing</th>\n",
       "      <th>geometry</th>\n",
       "    </tr>\n",
       "  </thead>\n",
       "  <tbody>\n",
       "    <tr>\n",
       "      <th>0</th>\n",
       "      <td>9d4c3802-9384-4519-8ead-08a37720c448</td>\n",
       "      <td>22</td>\n",
       "      <td></td>\n",
       "      <td>43.492110</td>\n",
       "      <td>6.363536</td>\n",
       "      <td>249.248</td>\n",
       "      <td>0.0</td>\n",
       "      <td>01-07-2024 13:24:22.000 GMT+02:00</td>\n",
       "      <td>5</td>\n",
       "      <td>0.067</td>\n",
       "      <td>0.109</td>\n",
       "      <td>0.014</td>\n",
       "      <td>0.0</td>\n",
       "      <td>POINT Z (6.36354 43.49211 249.24827)</td>\n",
       "    </tr>\n",
       "    <tr>\n",
       "      <th>1</th>\n",
       "      <td>b806f260-9544-4023-8ba1-46f852feb409</td>\n",
       "      <td>23</td>\n",
       "      <td>4,13</td>\n",
       "      <td>43.492115</td>\n",
       "      <td>6.363578</td>\n",
       "      <td>247.628</td>\n",
       "      <td>0.0</td>\n",
       "      <td>01-07-2024 13:24:38.800 GMT+02:00</td>\n",
       "      <td>5</td>\n",
       "      <td>0.139</td>\n",
       "      <td>0.293</td>\n",
       "      <td>0.018</td>\n",
       "      <td>0.0</td>\n",
       "      <td>POINT Z (6.36358 43.49211 247.62757)</td>\n",
       "    </tr>\n",
       "    <tr>\n",
       "      <th>2</th>\n",
       "      <td>9a656bd9-e637-4460-87d4-748cab29e56d</td>\n",
       "      <td>24</td>\n",
       "      <td>3,80</td>\n",
       "      <td>43.492114</td>\n",
       "      <td>6.363508</td>\n",
       "      <td>247.434</td>\n",
       "      <td>0.0</td>\n",
       "      <td>01-07-2024 13:24:58.800 GMT+02:00</td>\n",
       "      <td>5</td>\n",
       "      <td>0.381</td>\n",
       "      <td>0.654</td>\n",
       "      <td>0.174</td>\n",
       "      <td>0.0</td>\n",
       "      <td>POINT Z (6.36351 43.49211 247.43425)</td>\n",
       "    </tr>\n",
       "    <tr>\n",
       "      <th>3</th>\n",
       "      <td>413c8e70-76b6-4e4c-ae13-07838c34e15a</td>\n",
       "      <td>79</td>\n",
       "      <td>interférence</td>\n",
       "      <td>43.531372</td>\n",
       "      <td>5.443566</td>\n",
       "      <td>249.705</td>\n",
       "      <td>0.0</td>\n",
       "      <td>29-07-2024 10:57:43.600 GMT+02:00</td>\n",
       "      <td>5</td>\n",
       "      <td>0.120</td>\n",
       "      <td>0.170</td>\n",
       "      <td>0.008</td>\n",
       "      <td>0.0</td>\n",
       "      <td>POINT Z (5.44357 43.53137 249.705)</td>\n",
       "    </tr>\n",
       "  </tbody>\n",
       "</table>\n",
       "</div>"
      ],
      "text/plain": [
       "                                   UUID FID  _description   latitude  \\\n",
       "0  9d4c3802-9384-4519-8ead-08a37720c448  22                43.492110   \n",
       "1  b806f260-9544-4023-8ba1-46f852feb409  23          4,13  43.492115   \n",
       "2  9a656bd9-e637-4460-87d4-748cab29e56d  24          3,80  43.492114   \n",
       "3  413c8e70-76b6-4e4c-ae13-07838c34e15a  79  interférence  43.531372   \n",
       "\n",
       "   longitude  elevation  ortho_ht                               time  fix_id  \\\n",
       "0   6.363536    249.248       0.0  01-07-2024 13:24:22.000 GMT+02:00       5   \n",
       "1   6.363578    247.628       0.0  01-07-2024 13:24:38.800 GMT+02:00       5   \n",
       "2   6.363508    247.434       0.0  01-07-2024 13:24:58.800 GMT+02:00       5   \n",
       "3   5.443566    249.705       0.0  29-07-2024 10:57:43.600 GMT+02:00       5   \n",
       "\n",
       "   h_accuracy  v_accuracy  speed  bearing  \\\n",
       "0       0.067       0.109  0.014      0.0   \n",
       "1       0.139       0.293  0.018      0.0   \n",
       "2       0.381       0.654  0.174      0.0   \n",
       "3       0.120       0.170  0.008      0.0   \n",
       "\n",
       "                               geometry  \n",
       "0  POINT Z (6.36354 43.49211 249.24827)  \n",
       "1  POINT Z (6.36358 43.49211 247.62757)  \n",
       "2  POINT Z (6.36351 43.49211 247.43425)  \n",
       "3    POINT Z (5.44357 43.53137 249.705)  "
      ]
     },
     "execution_count": 9,
     "metadata": {},
     "output_type": "execute_result"
    }
   ],
   "source": [
    "gpd.read_file(gpkg, layer='arbres')"
   ]
  },
  {
   "cell_type": "code",
   "execution_count": 49,
   "id": "b2f71de7",
   "metadata": {},
   "outputs": [
    {
     "name": "stderr",
     "output_type": "stream",
     "text": [
      "C:\\Git-Repos\\cim\\venv\\Lib\\site-packages\\pyogrio\\raw.py:196: RuntimeWarning: GPKG: bad application_id=0x00000000 on '../terrain_data/raw/Aix Faubourg/Sextius 1 GPKG.gpkg'\n",
      "  return ogr_read(\n",
      "C:\\Git-Repos\\cim\\venv\\Lib\\site-packages\\pyogrio\\raw.py:196: RuntimeWarning: Field format 'NUMBER' not supported\n",
      "  return ogr_read(\n",
      "C:\\Git-Repos\\cim\\venv\\Lib\\site-packages\\pyogrio\\raw.py:196: RuntimeWarning: geometry column 'length' of type 'NUMBER' ignored\n",
      "  return ogr_read(\n"
     ]
    },
    {
     "data": {
      "text/html": [
       "<div>\n",
       "<style scoped>\n",
       "    .dataframe tbody tr th:only-of-type {\n",
       "        vertical-align: middle;\n",
       "    }\n",
       "\n",
       "    .dataframe tbody tr th {\n",
       "        vertical-align: top;\n",
       "    }\n",
       "\n",
       "    .dataframe thead th {\n",
       "        text-align: right;\n",
       "    }\n",
       "</style>\n",
       "<table border=\"1\" class=\"dataframe\">\n",
       "  <thead>\n",
       "    <tr style=\"text-align: right;\">\n",
       "      <th></th>\n",
       "      <th>FID</th>\n",
       "      <th>UUID</th>\n",
       "      <th>name</th>\n",
       "      <th>remarks</th>\n",
       "      <th>start_time</th>\n",
       "      <th>end_time</th>\n",
       "      <th>geometry</th>\n",
       "    </tr>\n",
       "  </thead>\n",
       "  <tbody>\n",
       "    <tr>\n",
       "      <th>0</th>\n",
       "      <td>0</td>\n",
       "      <td>e304aaab-98a0-4924-b7ce-86fa3ba0cf41</td>\n",
       "      <td>trace2</td>\n",
       "      <td></td>\n",
       "      <td>01-07-2024 12:33:43.600 GMT+02:00</td>\n",
       "      <td>01-07-2024 12:52:11.600 GMT+02:00</td>\n",
       "      <td>LINESTRING Z (6.36353 43.49211 246.386, 6.3635...</td>\n",
       "    </tr>\n",
       "  </tbody>\n",
       "</table>\n",
       "</div>"
      ],
      "text/plain": [
       "   FID                                  UUID    name remarks  \\\n",
       "0    0  e304aaab-98a0-4924-b7ce-86fa3ba0cf41  trace2           \n",
       "\n",
       "                          start_time                           end_time  \\\n",
       "0  01-07-2024 12:33:43.600 GMT+02:00  01-07-2024 12:52:11.600 GMT+02:00   \n",
       "\n",
       "                                            geometry  \n",
       "0  LINESTRING Z (6.36353 43.49211 246.386, 6.3635...  "
      ]
     },
     "execution_count": 49,
     "metadata": {},
     "output_type": "execute_result"
    }
   ],
   "source": [
    "data = gpd.read_file(gpkg, layer='Tracks')\n",
    "data.insert(0, 'FID', range(0, len(data)))\n",
    "data"
   ]
  },
  {
   "cell_type": "code",
   "execution_count": 55,
   "id": "d98a1e3e",
   "metadata": {},
   "outputs": [
    {
     "name": "stdout",
     "output_type": "stream",
     "text": [
      "arbres\n",
      "../terrain_data/raw/Aix Faubourg/Sextius1-arbres.gpkg\n",
      "avaloirs\n",
      "../terrain_data/raw/Aix Faubourg/Sextius1-avaloirs.gpkg\n",
      "bancs\n",
      "../terrain_data/raw/Aix Faubourg/Sextius1-bancs.gpkg\n",
      "barri_res_points\n",
      "../terrain_data/raw/Aix Faubourg/Sextius1-barri_res_points.gpkg\n",
      "blocs_de_pierres_ou_b_ton\n",
      "../terrain_data/raw/Aix Faubourg/Sextius1-blocs_de_pierres_ou_b_ton.gpkg\n"
     ]
    },
    {
     "name": "stderr",
     "output_type": "stream",
     "text": [
      "C:\\Git-Repos\\cim\\venv\\Lib\\site-packages\\pyogrio\\raw.py:196: RuntimeWarning: GPKG: bad application_id=0x00000000 on '../terrain_data/raw/Aix Faubourg/Sextius 1 GPKG.gpkg'\n",
      "  return ogr_read(\n",
      "C:\\Git-Repos\\cim\\venv\\Lib\\site-packages\\pyogrio\\raw.py:196: RuntimeWarning: GPKG: bad application_id=0x00000000 on '../terrain_data/raw/Aix Faubourg/Sextius 1 GPKG.gpkg'\n",
      "  return ogr_read(\n",
      "C:\\Git-Repos\\cim\\venv\\Lib\\site-packages\\pyogrio\\raw.py:196: RuntimeWarning: GPKG: bad application_id=0x00000000 on '../terrain_data/raw/Aix Faubourg/Sextius 1 GPKG.gpkg'\n",
      "  return ogr_read(\n",
      "C:\\Git-Repos\\cim\\venv\\Lib\\site-packages\\pyogrio\\raw.py:196: RuntimeWarning: GPKG: bad application_id=0x00000000 on '../terrain_data/raw/Aix Faubourg/Sextius 1 GPKG.gpkg'\n",
      "  return ogr_read(\n",
      "C:\\Git-Repos\\cim\\venv\\Lib\\site-packages\\pyogrio\\raw.py:196: RuntimeWarning: GPKG: bad application_id=0x00000000 on '../terrain_data/raw/Aix Faubourg/Sextius 1 GPKG.gpkg'\n",
      "  return ogr_read(\n"
     ]
    },
    {
     "name": "stdout",
     "output_type": "stream",
     "text": [
      "borne_amovible\n",
      "../terrain_data/raw/Aix Faubourg/Sextius1-borne_amovible.gpkg\n",
      "bornes_incendie\n",
      "../terrain_data/raw/Aix Faubourg/Sextius1-bornes_incendie.gpkg\n",
      "camera\n",
      "../terrain_data/raw/Aix Faubourg/Sextius1-camera.gpkg\n",
      "fontaine\n",
      "../terrain_data/raw/Aix Faubourg/Sextius1-fontaine.gpkg\n",
      "jardini_res\n",
      "../terrain_data/raw/Aix Faubourg/Sextius1-jardini_res.gpkg\n",
      "Panneaux\n",
      "../terrain_data/raw/Aix Faubourg/Sextius1-Panneaux.gpkg\n"
     ]
    },
    {
     "name": "stderr",
     "output_type": "stream",
     "text": [
      "C:\\Git-Repos\\cim\\venv\\Lib\\site-packages\\pyogrio\\raw.py:196: RuntimeWarning: GPKG: bad application_id=0x00000000 on '../terrain_data/raw/Aix Faubourg/Sextius 1 GPKG.gpkg'\n",
      "  return ogr_read(\n",
      "C:\\Git-Repos\\cim\\venv\\Lib\\site-packages\\pyogrio\\raw.py:196: RuntimeWarning: GPKG: bad application_id=0x00000000 on '../terrain_data/raw/Aix Faubourg/Sextius 1 GPKG.gpkg'\n",
      "  return ogr_read(\n",
      "C:\\Git-Repos\\cim\\venv\\Lib\\site-packages\\pyogrio\\raw.py:196: RuntimeWarning: GPKG: bad application_id=0x00000000 on '../terrain_data/raw/Aix Faubourg/Sextius 1 GPKG.gpkg'\n",
      "  return ogr_read(\n",
      "C:\\Git-Repos\\cim\\venv\\Lib\\site-packages\\pyogrio\\raw.py:196: RuntimeWarning: GPKG: bad application_id=0x00000000 on '../terrain_data/raw/Aix Faubourg/Sextius 1 GPKG.gpkg'\n",
      "  return ogr_read(\n",
      "C:\\Git-Repos\\cim\\venv\\Lib\\site-packages\\pyogrio\\raw.py:196: RuntimeWarning: GPKG: bad application_id=0x00000000 on '../terrain_data/raw/Aix Faubourg/Sextius 1 GPKG.gpkg'\n",
      "  return ogr_read(\n",
      "C:\\Git-Repos\\cim\\venv\\Lib\\site-packages\\pyogrio\\raw.py:196: RuntimeWarning: GPKG: bad application_id=0x00000000 on '../terrain_data/raw/Aix Faubourg/Sextius 1 GPKG.gpkg'\n",
      "  return ogr_read(\n"
     ]
    },
    {
     "name": "stdout",
     "output_type": "stream",
     "text": [
      "passage_pi_tons\n",
      "../terrain_data/raw/Aix Faubourg/Sextius1-passage_pi_tons.gpkg\n",
      "Potelet\n",
      "../terrain_data/raw/Aix Faubourg/Sextius1-Potelet.gpkg\n",
      "trottoir_ligne\n",
      "../terrain_data/raw/Aix Faubourg/Sextius1-trottoir_ligne.gpkg\n",
      "_clairage\n",
      "../terrain_data/raw/Aix Faubourg/Sextius1-_clairage.gpkg\n",
      "Tracks\n",
      "../terrain_data/raw/Aix Faubourg/Sextius1-Tracks.gpkg\n"
     ]
    },
    {
     "name": "stderr",
     "output_type": "stream",
     "text": [
      "C:\\Git-Repos\\cim\\venv\\Lib\\site-packages\\pyogrio\\raw.py:196: RuntimeWarning: GPKG: bad application_id=0x00000000 on '../terrain_data/raw/Aix Faubourg/Sextius 1 GPKG.gpkg'\n",
      "  return ogr_read(\n",
      "C:\\Git-Repos\\cim\\venv\\Lib\\site-packages\\pyogrio\\raw.py:196: RuntimeWarning: GPKG: bad application_id=0x00000000 on '../terrain_data/raw/Aix Faubourg/Sextius 1 GPKG.gpkg'\n",
      "  return ogr_read(\n",
      "C:\\Git-Repos\\cim\\venv\\Lib\\site-packages\\pyogrio\\raw.py:196: RuntimeWarning: GPKG: bad application_id=0x00000000 on '../terrain_data/raw/Aix Faubourg/Sextius 1 GPKG.gpkg'\n",
      "  return ogr_read(\n",
      "C:\\Git-Repos\\cim\\venv\\Lib\\site-packages\\pyogrio\\raw.py:196: RuntimeWarning: GPKG: bad application_id=0x00000000 on '../terrain_data/raw/Aix Faubourg/Sextius 1 GPKG.gpkg'\n",
      "  return ogr_read(\n",
      "C:\\Git-Repos\\cim\\venv\\Lib\\site-packages\\pyogrio\\raw.py:196: RuntimeWarning: GPKG: bad application_id=0x00000000 on '../terrain_data/raw/Aix Faubourg/Sextius 1 GPKG.gpkg'\n",
      "  return ogr_read(\n",
      "C:\\Git-Repos\\cim\\venv\\Lib\\site-packages\\pyogrio\\raw.py:196: RuntimeWarning: Field format 'NUMBER' not supported\n",
      "  return ogr_read(\n",
      "C:\\Git-Repos\\cim\\venv\\Lib\\site-packages\\pyogrio\\raw.py:196: RuntimeWarning: geometry column 'length' of type 'NUMBER' ignored\n",
      "  return ogr_read(\n"
     ]
    },
    {
     "name": "stdout",
     "output_type": "stream",
     "text": [
      "TrackPoints\n",
      "../terrain_data/raw/Aix Faubourg/Sextius1-TrackPoints.gpkg\n",
      "android_metadata\n",
      "../terrain_data/raw/Aix Faubourg/Sextius1-android_metadata.gpkg\n"
     ]
    },
    {
     "name": "stderr",
     "output_type": "stream",
     "text": [
      "C:\\Git-Repos\\cim\\venv\\Lib\\site-packages\\pyogrio\\raw.py:196: RuntimeWarning: GPKG: bad application_id=0x00000000 on '../terrain_data/raw/Aix Faubourg/Sextius 1 GPKG.gpkg'\n",
      "  return ogr_read(\n",
      "C:\\Git-Repos\\cim\\venv\\Lib\\site-packages\\pyogrio\\raw.py:196: RuntimeWarning: GPKG: bad application_id=0x00000000 on '../terrain_data/raw/Aix Faubourg/Sextius 1 GPKG.gpkg'\n",
      "  return ogr_read(\n"
     ]
    }
   ],
   "source": [
    "import os\n",
    "\n",
    "for mylayer in layers:\n",
    "    if mylayer in ('trottoir_poly', 'Photos'):\n",
    "        continue\n",
    "        \n",
    "    print(mylayer)\n",
    "    data = gpd.read_file(gpkg, layer=mylayer)\n",
    "    \n",
    "    if 'FID' not in data.columns:\n",
    "        data.insert(0, 'FID', range(0, len(data)))\n",
    "    \n",
    "    data = data.astype({'FID': 'int32'})\n",
    "    \n",
    "    filename = 'Sextius1-%s.gpkg'%(mylayer)\n",
    "    fileoutput = os.path.join('../terrain_data/raw/Aix Faubourg/', filename)\n",
    "    print(fileoutput)\n",
    "    if 'geometry' in data.columns :\n",
    "        data.to_file(fileoutput, driver = 'GPKG')"
   ]
  }
 ],
 "metadata": {
  "kernelspec": {
   "display_name": "cim",
   "language": "python",
   "name": "cim"
  },
  "language_info": {
   "codemirror_mode": {
    "name": "ipython",
    "version": 3
   },
   "file_extension": ".py",
   "mimetype": "text/x-python",
   "name": "python",
   "nbconvert_exporter": "python",
   "pygments_lexer": "ipython3",
   "version": "3.12.4"
  }
 },
 "nbformat": 4,
 "nbformat_minor": 5
}
