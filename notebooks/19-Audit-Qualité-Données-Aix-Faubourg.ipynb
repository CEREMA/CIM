{
 "cells": [
  {
   "cell_type": "markdown",
   "id": "7ea2c944",
   "metadata": {},
   "source": [
    "# Audit qualité données Aix Faubourg\n",
    "Auditer la précision des données saisies sur Aix Faubourg.\n",
    "\n",
    "Dans ce notebook, on :\n",
    "\n",
    "- Calcule le temps passé dans chaque zone\n",
    "- Le nombre d'objets relevés dans chaque zone\n",
    "- Le temps par objet\n",
    "- La précision dans chaque zone\n",
    "- La précision obtenue par classe d'objet\n",
    "\n",
    "Nous verrons que la première zone est celle qui possède les meilleurs scores (zone dégagée souvent en RTK fix) avec des précisions de 1cm et que les arbres obtiennent des scores médiocres en précision, ce qui rend leur inventaire délicat via le rover RTK."
   ]
  },
  {
   "cell_type": "markdown",
   "id": "2fd22c27",
   "metadata": {},
   "source": [
    "On lit les 2 gpkgs"
   ]
  },
  {
   "cell_type": "code",
   "execution_count": 16,
   "id": "86e6d058",
   "metadata": {},
   "outputs": [],
   "source": [
    "import geopandas as gpd\n",
    "import fiona\n",
    "import pandas as pd\n",
    "\n",
    "gpkg1 = '../terrain_data/raw/Aix Faubourg/Sextius 1 GPKG.gpkg'\n",
    "gpkg2 = '../terrain_data/raw/Aix Faubourg/Cours Sextius 2 GPKG.gpkg'"
   ]
  },
  {
   "cell_type": "code",
   "execution_count": 17,
   "id": "0b4ab418",
   "metadata": {},
   "outputs": [
    {
     "data": {
      "text/plain": [
       "['arbres',\n",
       " 'avaloirs',\n",
       " 'bancs',\n",
       " 'barri_res_points',\n",
       " 'blocs_de_pierres_ou_b_ton',\n",
       " 'borne_amovible',\n",
       " 'bornes_incendie',\n",
       " 'camera',\n",
       " 'fontaine',\n",
       " 'jardini_res',\n",
       " 'Panneaux',\n",
       " 'passage_pi_tons',\n",
       " 'Potelet',\n",
       " 'trottoir_ligne',\n",
       " 'trottoir_poly',\n",
       " '_clairage',\n",
       " 'Photos',\n",
       " 'Tracks',\n",
       " 'TrackPoints',\n",
       " 'android_metadata']"
      ]
     },
     "execution_count": 17,
     "metadata": {},
     "output_type": "execute_result"
    }
   ],
   "source": [
    "layers = fiona.listlayers(gpkg1)\n",
    "layers"
   ]
  },
  {
   "cell_type": "markdown",
   "id": "0c76c3a5",
   "metadata": {},
   "source": [
    "## Test sur les arbres"
   ]
  },
  {
   "cell_type": "code",
   "execution_count": 18,
   "id": "1958e2aa",
   "metadata": {},
   "outputs": [
    {
     "name": "stdout",
     "output_type": "stream",
     "text": [
      "[0.067, 0.139, 0.381, 0.12]\n",
      "['arbres', 'arbres', 'arbres', 'arbres']\n"
     ]
    },
    {
     "name": "stderr",
     "output_type": "stream",
     "text": [
      "C:\\Git-Repos\\CIM\\venv\\Lib\\site-packages\\pyogrio\\raw.py:196: RuntimeWarning: GPKG: bad application_id=0x00000000 on '../terrain_data/raw/Aix Faubourg/Sextius 1 GPKG.gpkg'\n",
      "  return ogr_read(\n"
     ]
    }
   ],
   "source": [
    "data = gpd.read_file(gpkg1, layer = 'arbres').set_crs('epsg:4326')\n",
    "h_accuracies = data.h_accuracy.to_list()\n",
    "data_types = ['arbres'] * len(h_accuracies) \n",
    "print(h_accuracies)\n",
    "print(data_types)"
   ]
  },
  {
   "cell_type": "markdown",
   "id": "1ea190d9",
   "metadata": {},
   "source": [
    "### Intersection avec les arbres"
   ]
  },
  {
   "cell_type": "code",
   "execution_count": 19,
   "id": "bb19b318",
   "metadata": {},
   "outputs": [
    {
     "data": {
      "text/html": [
       "<div>\n",
       "<style scoped>\n",
       "    .dataframe tbody tr th:only-of-type {\n",
       "        vertical-align: middle;\n",
       "    }\n",
       "\n",
       "    .dataframe tbody tr th {\n",
       "        vertical-align: top;\n",
       "    }\n",
       "\n",
       "    .dataframe thead th {\n",
       "        text-align: right;\n",
       "    }\n",
       "</style>\n",
       "<table border=\"1\" class=\"dataframe\">\n",
       "  <thead>\n",
       "    <tr style=\"text-align: right;\">\n",
       "      <th></th>\n",
       "      <th>geometry</th>\n",
       "    </tr>\n",
       "  </thead>\n",
       "  <tbody>\n",
       "    <tr>\n",
       "      <th>0</th>\n",
       "      <td>POLYGON ((5.44347 43.53157, 5.44342 43.5313, 5...</td>\n",
       "    </tr>\n",
       "    <tr>\n",
       "      <th>1</th>\n",
       "      <td>POLYGON ((5.44371 43.52974, 5.44411 43.52963, ...</td>\n",
       "    </tr>\n",
       "    <tr>\n",
       "      <th>2</th>\n",
       "      <td>POLYGON ((5.43996 43.53083, 5.4404 43.53093, 5...</td>\n",
       "    </tr>\n",
       "    <tr>\n",
       "      <th>3</th>\n",
       "      <td>POLYGON ((5.44139 43.53011, 5.44133 43.52996, ...</td>\n",
       "    </tr>\n",
       "  </tbody>\n",
       "</table>\n",
       "</div>"
      ],
      "text/plain": [
       "                                            geometry\n",
       "0  POLYGON ((5.44347 43.53157, 5.44342 43.5313, 5...\n",
       "1  POLYGON ((5.44371 43.52974, 5.44411 43.52963, ...\n",
       "2  POLYGON ((5.43996 43.53083, 5.4404 43.53093, 5...\n",
       "3  POLYGON ((5.44139 43.53011, 5.44133 43.52996, ..."
      ]
     },
     "execution_count": 19,
     "metadata": {},
     "output_type": "execute_result"
    }
   ],
   "source": [
    "zones = gpd.read_file('../terrain_data/raw/Aix Faubourg/zones.gpkg').set_crs('epsg:4326')\n",
    "zones"
   ]
  },
  {
   "cell_type": "code",
   "execution_count": 20,
   "id": "345dd375",
   "metadata": {},
   "outputs": [
    {
     "data": {
      "text/plain": [
       "[False, False, False, False]"
      ]
     },
     "execution_count": 20,
     "metadata": {},
     "output_type": "execute_result"
    }
   ],
   "source": [
    "data.intersects(zones).to_list()"
   ]
  },
  {
   "cell_type": "markdown",
   "id": "ddbe3bab",
   "metadata": {},
   "source": [
    "### Test export"
   ]
  },
  {
   "cell_type": "code",
   "execution_count": 21,
   "id": "5e3d23be",
   "metadata": {},
   "outputs": [],
   "source": [
    "data.drop(columns=['FID']).to_file('test_arbres.gpkg', driver = 'GPKG')\n",
    "zones.to_file('zones.gpkg', driver = 'GPKG')"
   ]
  },
  {
   "cell_type": "code",
   "execution_count": 22,
   "id": "6283d5ab",
   "metadata": {},
   "outputs": [
    {
     "data": {
      "text/plain": [
       "0    Point\n",
       "1    Point\n",
       "2    Point\n",
       "3    Point\n",
       "dtype: object"
      ]
     },
     "execution_count": 22,
     "metadata": {},
     "output_type": "execute_result"
    }
   ],
   "source": [
    "data.geometry.geom_type"
   ]
  },
  {
   "cell_type": "code",
   "execution_count": 23,
   "id": "6a27d1c3",
   "metadata": {},
   "outputs": [
    {
     "data": {
      "text/plain": [
       "0    Polygon\n",
       "1    Polygon\n",
       "2    Polygon\n",
       "3    Polygon\n",
       "dtype: object"
      ]
     },
     "execution_count": 23,
     "metadata": {},
     "output_type": "execute_result"
    }
   ],
   "source": [
    "zones.geometry.geom_type"
   ]
  },
  {
   "cell_type": "code",
   "execution_count": 24,
   "id": "fc42c0d7",
   "metadata": {},
   "outputs": [
    {
     "data": {
      "text/plain": [
       "geometry    POLYGON ((5.44347 43.53157, 5.44342 43.5313, 5...\n",
       "Name: 0, dtype: geometry"
      ]
     },
     "execution_count": 24,
     "metadata": {},
     "output_type": "execute_result"
    }
   ],
   "source": [
    "zones.iloc[0]"
   ]
  },
  {
   "cell_type": "code",
   "execution_count": 25,
   "id": "afd4aa59",
   "metadata": {},
   "outputs": [
    {
     "data": {
      "text/plain": [
       "0    POINT Z (6.36354 43.49211 249.24827)\n",
       "1    POINT Z (6.36358 43.49211 247.62757)\n",
       "2    POINT Z (6.36351 43.49211 247.43425)\n",
       "3      POINT Z (5.44357 43.53137 249.705)\n",
       "Name: geometry, dtype: geometry"
      ]
     },
     "execution_count": 25,
     "metadata": {},
     "output_type": "execute_result"
    }
   ],
   "source": [
    "data.geometry"
   ]
  },
  {
   "cell_type": "code",
   "execution_count": 26,
   "id": "155a2c94",
   "metadata": {},
   "outputs": [
    {
     "data": {
      "text/plain": [
       "0    False\n",
       "1    False\n",
       "2    False\n",
       "3     True\n",
       "dtype: bool"
      ]
     },
     "execution_count": 26,
     "metadata": {},
     "output_type": "execute_result"
    }
   ],
   "source": [
    "data.geometry.intersects(zones.iloc[0].geometry)"
   ]
  },
  {
   "cell_type": "code",
   "execution_count": 27,
   "id": "26207d67",
   "metadata": {},
   "outputs": [
    {
     "data": {
      "text/plain": [
       "array([], dtype=int64)"
      ]
     },
     "execution_count": 27,
     "metadata": {},
     "output_type": "execute_result"
    }
   ],
   "source": [
    "res = data.iloc[0].geometry.intersects(zones.geometry)\n",
    "res[res].index.values.flatten()"
   ]
  },
  {
   "cell_type": "code",
   "execution_count": 28,
   "id": "af010495",
   "metadata": {},
   "outputs": [
    {
     "data": {
      "text/plain": [
       "array([0])"
      ]
     },
     "execution_count": 28,
     "metadata": {},
     "output_type": "execute_result"
    }
   ],
   "source": [
    "res = data.iloc[3].geometry.intersects(zones.geometry)\n",
    "values = res[res].index.values\n",
    "values"
   ]
  },
  {
   "cell_type": "markdown",
   "id": "76f396fd",
   "metadata": {},
   "source": [
    "Première zone intersectée par l'objet."
   ]
  },
  {
   "cell_type": "code",
   "execution_count": 29,
   "id": "05fc2fa8",
   "metadata": {},
   "outputs": [
    {
     "data": {
      "text/plain": [
       "1"
      ]
     },
     "execution_count": 29,
     "metadata": {},
     "output_type": "execute_result"
    }
   ],
   "source": [
    "len(values)"
   ]
  },
  {
   "cell_type": "markdown",
   "id": "7dea04da",
   "metadata": {},
   "source": [
    "## data 1"
   ]
  },
  {
   "cell_type": "code",
   "execution_count": 30,
   "id": "a212f92b",
   "metadata": {},
   "outputs": [
    {
     "name": "stderr",
     "output_type": "stream",
     "text": [
      "C:\\Git-Repos\\CIM\\venv\\Lib\\site-packages\\pyogrio\\raw.py:196: RuntimeWarning: GPKG: bad application_id=0x00000000 on '../terrain_data/raw/Aix Faubourg/Sextius 1 GPKG.gpkg'\n",
      "  return ogr_read(\n",
      "C:\\Git-Repos\\CIM\\venv\\Lib\\site-packages\\pyogrio\\raw.py:196: RuntimeWarning: GPKG: bad application_id=0x00000000 on '../terrain_data/raw/Aix Faubourg/Sextius 1 GPKG.gpkg'\n",
      "  return ogr_read(\n",
      "C:\\Git-Repos\\CIM\\venv\\Lib\\site-packages\\pyogrio\\raw.py:196: RuntimeWarning: GPKG: bad application_id=0x00000000 on '../terrain_data/raw/Aix Faubourg/Sextius 1 GPKG.gpkg'\n",
      "  return ogr_read(\n",
      "C:\\Git-Repos\\CIM\\venv\\Lib\\site-packages\\pyogrio\\raw.py:196: RuntimeWarning: GPKG: bad application_id=0x00000000 on '../terrain_data/raw/Aix Faubourg/Sextius 1 GPKG.gpkg'\n",
      "  return ogr_read(\n",
      "C:\\Git-Repos\\CIM\\venv\\Lib\\site-packages\\pyogrio\\raw.py:196: RuntimeWarning: GPKG: bad application_id=0x00000000 on '../terrain_data/raw/Aix Faubourg/Sextius 1 GPKG.gpkg'\n",
      "  return ogr_read(\n",
      "C:\\Git-Repos\\CIM\\venv\\Lib\\site-packages\\pyogrio\\raw.py:196: RuntimeWarning: GPKG: bad application_id=0x00000000 on '../terrain_data/raw/Aix Faubourg/Sextius 1 GPKG.gpkg'\n",
      "  return ogr_read(\n",
      "C:\\Git-Repos\\CIM\\venv\\Lib\\site-packages\\pyogrio\\raw.py:196: RuntimeWarning: GPKG: bad application_id=0x00000000 on '../terrain_data/raw/Aix Faubourg/Sextius 1 GPKG.gpkg'\n",
      "  return ogr_read(\n",
      "C:\\Git-Repos\\CIM\\venv\\Lib\\site-packages\\pyogrio\\raw.py:196: RuntimeWarning: GPKG: bad application_id=0x00000000 on '../terrain_data/raw/Aix Faubourg/Sextius 1 GPKG.gpkg'\n",
      "  return ogr_read(\n"
     ]
    },
    {
     "name": "stdout",
     "output_type": "stream",
     "text": [
      "arbres\n",
      "0\n",
      "\n",
      "\n",
      "avaloirs\n",
      "0\n",
      "0\n",
      "0\n",
      "0\n",
      "0\n",
      "0\n",
      "0\n",
      "0\n",
      "0\n",
      "0\n",
      "0\n",
      "0\n",
      "0\n",
      "0\n",
      "0\n",
      "0\n",
      "\n",
      "\n",
      "bancs\n",
      "\n",
      "\n",
      "barri_res_points\n",
      "0\n",
      "0\n",
      "0\n",
      "0\n",
      "0\n",
      "0\n",
      "0\n",
      "\n",
      "\n",
      "blocs_de_pierres_ou_b_ton\n",
      "0\n",
      "0\n",
      "0\n",
      "\n",
      "\n",
      "borne_amovible\n",
      "0\n",
      "\n",
      "\n",
      "bornes_incendie\n",
      "0\n",
      "\n",
      "\n",
      "camera\n",
      "0\n",
      "\n",
      "\n",
      "fontaine\n",
      "\n",
      "\n",
      "jardini_res\n",
      "\n",
      "\n",
      "Panneaux\n",
      "\n",
      "\n",
      "passage_pi_tons\n",
      "\n",
      "\n",
      "Potelet\n",
      "0\n",
      "0\n",
      "0\n",
      "0\n",
      "0\n",
      "0\n",
      "0\n",
      "0\n",
      "0\n",
      "0\n",
      "0\n",
      "0\n",
      "0\n",
      "0\n",
      "0\n",
      "0\n",
      "0\n",
      "0\n",
      "0\n",
      "0\n",
      "0\n",
      "0\n",
      "0\n",
      "\n",
      "\n",
      "trottoir_ligne\n",
      "\n",
      "\n",
      "trottoir_poly\n",
      "!!! An exception occurred\n",
      "\n",
      "\n",
      "_clairage\n",
      "\n",
      "\n",
      "Photos\n",
      "\n",
      "\n",
      "Tracks\n",
      "\n",
      "\n",
      "TrackPoints\n",
      "\n",
      "\n",
      "android_metadata\n",
      "\n",
      "\n"
     ]
    },
    {
     "name": "stderr",
     "output_type": "stream",
     "text": [
      "C:\\Git-Repos\\CIM\\venv\\Lib\\site-packages\\pyogrio\\raw.py:196: RuntimeWarning: GPKG: bad application_id=0x00000000 on '../terrain_data/raw/Aix Faubourg/Sextius 1 GPKG.gpkg'\n",
      "  return ogr_read(\n",
      "C:\\Git-Repos\\CIM\\venv\\Lib\\site-packages\\pyogrio\\raw.py:196: RuntimeWarning: GPKG: bad application_id=0x00000000 on '../terrain_data/raw/Aix Faubourg/Sextius 1 GPKG.gpkg'\n",
      "  return ogr_read(\n",
      "C:\\Git-Repos\\CIM\\venv\\Lib\\site-packages\\pyogrio\\raw.py:196: RuntimeWarning: GPKG: bad application_id=0x00000000 on '../terrain_data/raw/Aix Faubourg/Sextius 1 GPKG.gpkg'\n",
      "  return ogr_read(\n",
      "C:\\Git-Repos\\CIM\\venv\\Lib\\site-packages\\pyogrio\\raw.py:196: RuntimeWarning: GPKG: bad application_id=0x00000000 on '../terrain_data/raw/Aix Faubourg/Sextius 1 GPKG.gpkg'\n",
      "  return ogr_read(\n",
      "C:\\Git-Repos\\CIM\\venv\\Lib\\site-packages\\pyogrio\\raw.py:196: RuntimeWarning: GPKG: bad application_id=0x00000000 on '../terrain_data/raw/Aix Faubourg/Sextius 1 GPKG.gpkg'\n",
      "  return ogr_read(\n",
      "C:\\Git-Repos\\CIM\\venv\\Lib\\site-packages\\pyogrio\\raw.py:196: RuntimeWarning: GPKG: bad application_id=0x00000000 on '../terrain_data/raw/Aix Faubourg/Sextius 1 GPKG.gpkg'\n",
      "  return ogr_read(\n",
      "C:\\Git-Repos\\CIM\\venv\\Lib\\site-packages\\pyogrio\\raw.py:196: RuntimeWarning: GPKG: bad application_id=0x00000000 on '../terrain_data/raw/Aix Faubourg/Sextius 1 GPKG.gpkg'\n",
      "  return ogr_read(\n",
      "C:\\Git-Repos\\CIM\\venv\\Lib\\site-packages\\pyogrio\\raw.py:196: RuntimeWarning: GPKG: bad application_id=0x00000000 on '../terrain_data/raw/Aix Faubourg/Sextius 1 GPKG.gpkg'\n",
      "  return ogr_read(\n",
      "C:\\Git-Repos\\CIM\\venv\\Lib\\site-packages\\pyogrio\\raw.py:196: RuntimeWarning: GPKG: bad application_id=0x00000000 on '../terrain_data/raw/Aix Faubourg/Sextius 1 GPKG.gpkg'\n",
      "  return ogr_read(\n",
      "C:\\Git-Repos\\CIM\\venv\\Lib\\site-packages\\pyogrio\\raw.py:196: RuntimeWarning: GPKG: bad application_id=0x00000000 on '../terrain_data/raw/Aix Faubourg/Sextius 1 GPKG.gpkg'\n",
      "  return ogr_read(\n",
      "C:\\Git-Repos\\CIM\\venv\\Lib\\site-packages\\pyogrio\\raw.py:196: RuntimeWarning: Field format 'NUMBER' not supported\n",
      "  return ogr_read(\n",
      "C:\\Git-Repos\\CIM\\venv\\Lib\\site-packages\\pyogrio\\raw.py:196: RuntimeWarning: geometry column 'length' of type 'NUMBER' ignored\n",
      "  return ogr_read(\n",
      "C:\\Git-Repos\\CIM\\venv\\Lib\\site-packages\\pyogrio\\raw.py:196: RuntimeWarning: GPKG: bad application_id=0x00000000 on '../terrain_data/raw/Aix Faubourg/Sextius 1 GPKG.gpkg'\n",
      "  return ogr_read(\n",
      "C:\\Git-Repos\\CIM\\venv\\Lib\\site-packages\\pyogrio\\raw.py:196: RuntimeWarning: GPKG: bad application_id=0x00000000 on '../terrain_data/raw/Aix Faubourg/Sextius 1 GPKG.gpkg'\n",
      "  return ogr_read(\n"
     ]
    }
   ],
   "source": [
    "data_types = list()\n",
    "id_zones = list()\n",
    "h_accuracies = list()\n",
    "longitudes = list()\n",
    "latitudes = list()\n",
    "timestamps = list()\n",
    "\n",
    "for layer in layers:\n",
    "    print(layer)\n",
    "    try:\n",
    "        data = gpd.read_file(gpkg1, layer = layer)\n",
    "        cols = data.columns\n",
    "        if 'h_accuracy' in cols:\n",
    "            n = data.shape[0]\n",
    "            for i in range(n):\n",
    "                row = data.iloc[i]\n",
    "                res = row.geometry.intersects(zones.geometry)\n",
    "                id_zone = res[res].index.values\n",
    "                if len(id_zone > 0):\n",
    "                    data_type = layer\n",
    "                    accuracy = row.h_accuracy\n",
    "                    latitude = row.latitude\n",
    "                    longitude = row.longitude\n",
    "                    id_zone = id_zone[0]\n",
    "                    timestamp = row.time[:23]\n",
    "                    print(id_zone)\n",
    "                    \n",
    "                    data_types.append(data_type)\n",
    "                    id_zones.append(id_zone)\n",
    "                    h_accuracies.append(accuracy)\n",
    "                    longitudes.append(longitude)\n",
    "                    latitudes.append(latitude)\n",
    "                    timestamps.append(timestamp)\n",
    "\n",
    "    except:\n",
    "        print(\"!!! An exception occurred\")\n",
    "    print(\"\\n\")"
   ]
  },
  {
   "cell_type": "code",
   "execution_count": 31,
   "id": "c033ed33",
   "metadata": {},
   "outputs": [
    {
     "data": {
      "text/html": [
       "<div>\n",
       "<style scoped>\n",
       "    .dataframe tbody tr th:only-of-type {\n",
       "        vertical-align: middle;\n",
       "    }\n",
       "\n",
       "    .dataframe tbody tr th {\n",
       "        vertical-align: top;\n",
       "    }\n",
       "\n",
       "    .dataframe thead th {\n",
       "        text-align: right;\n",
       "    }\n",
       "</style>\n",
       "<table border=\"1\" class=\"dataframe\">\n",
       "  <thead>\n",
       "    <tr style=\"text-align: right;\">\n",
       "      <th></th>\n",
       "      <th>data_type</th>\n",
       "      <th>id_zone</th>\n",
       "      <th>h_accuracy</th>\n",
       "      <th>longitude</th>\n",
       "      <th>latitude</th>\n",
       "      <th>timestamp</th>\n",
       "    </tr>\n",
       "  </thead>\n",
       "  <tbody>\n",
       "    <tr>\n",
       "      <th>0</th>\n",
       "      <td>arbres</td>\n",
       "      <td>0</td>\n",
       "      <td>0.12</td>\n",
       "      <td>5.443566</td>\n",
       "      <td>43.531372</td>\n",
       "      <td>29-07-2024 10:57:43.600</td>\n",
       "    </tr>\n",
       "    <tr>\n",
       "      <th>1</th>\n",
       "      <td>avaloirs</td>\n",
       "      <td>0</td>\n",
       "      <td>0.01</td>\n",
       "      <td>5.443638</td>\n",
       "      <td>43.531397</td>\n",
       "      <td>29-07-2024 09:44:54.800</td>\n",
       "    </tr>\n",
       "    <tr>\n",
       "      <th>2</th>\n",
       "      <td>avaloirs</td>\n",
       "      <td>0</td>\n",
       "      <td>0.01</td>\n",
       "      <td>5.443757</td>\n",
       "      <td>43.531496</td>\n",
       "      <td>29-07-2024 09:47:58.800</td>\n",
       "    </tr>\n",
       "    <tr>\n",
       "      <th>3</th>\n",
       "      <td>avaloirs</td>\n",
       "      <td>0</td>\n",
       "      <td>0.01</td>\n",
       "      <td>5.443655</td>\n",
       "      <td>43.531383</td>\n",
       "      <td>29-07-2024 09:56:05.200</td>\n",
       "    </tr>\n",
       "    <tr>\n",
       "      <th>4</th>\n",
       "      <td>avaloirs</td>\n",
       "      <td>0</td>\n",
       "      <td>0.01</td>\n",
       "      <td>5.443604</td>\n",
       "      <td>43.531417</td>\n",
       "      <td>29-07-2024 09:56:25.200</td>\n",
       "    </tr>\n",
       "  </tbody>\n",
       "</table>\n",
       "</div>"
      ],
      "text/plain": [
       "  data_type  id_zone  h_accuracy  longitude   latitude  \\\n",
       "0    arbres        0        0.12   5.443566  43.531372   \n",
       "1  avaloirs        0        0.01   5.443638  43.531397   \n",
       "2  avaloirs        0        0.01   5.443757  43.531496   \n",
       "3  avaloirs        0        0.01   5.443655  43.531383   \n",
       "4  avaloirs        0        0.01   5.443604  43.531417   \n",
       "\n",
       "                 timestamp  \n",
       "0  29-07-2024 10:57:43.600  \n",
       "1  29-07-2024 09:44:54.800  \n",
       "2  29-07-2024 09:47:58.800  \n",
       "3  29-07-2024 09:56:05.200  \n",
       "4  29-07-2024 09:56:25.200  "
      ]
     },
     "execution_count": 31,
     "metadata": {},
     "output_type": "execute_result"
    }
   ],
   "source": [
    "d = {'data_type':data_types, 'id_zone' : id_zones, 'h_accuracy':h_accuracies, 'longitude':longitudes, 'latitude':latitudes, 'timestamp':timestamps}\n",
    "df1 = pd.DataFrame(data = d)\n",
    "df1.head()"
   ]
  },
  {
   "cell_type": "markdown",
   "id": "25808f7b",
   "metadata": {},
   "source": [
    "## data 2"
   ]
  },
  {
   "cell_type": "code",
   "execution_count": 32,
   "id": "13b11151",
   "metadata": {},
   "outputs": [
    {
     "name": "stdout",
     "output_type": "stream",
     "text": [
      "arbre\n",
      "1\n",
      "1\n",
      "1\n",
      "1\n",
      "1\n",
      "1\n",
      "1\n",
      "2\n",
      "2\n",
      "2\n",
      "2\n",
      "2\n",
      "2\n",
      "2\n",
      "2\n",
      "2\n",
      "2\n",
      "2\n",
      "2\n",
      "2\n",
      "2\n",
      "2\n",
      "2\n",
      "2\n",
      "\n",
      "\n",
      "arceaux_v_lo\n",
      "\n",
      "\n",
      "bancs\n",
      "2\n",
      "2\n",
      "2\n",
      "2\n",
      "2\n",
      "\n",
      "\n",
      "barri_re\n",
      "2\n",
      "2\n",
      "2\n",
      "2\n",
      "2\n",
      "2\n",
      "2\n",
      "2\n",
      "3\n",
      "3\n",
      "3\n",
      "3\n",
      "3\n",
      "3\n",
      "3\n",
      "3\n",
      "3\n",
      "3\n",
      "3\n",
      "3\n",
      "3\n",
      "3\n",
      "3\n",
      "3\n",
      "3\n",
      "3\n",
      "3\n",
      "\n",
      "\n",
      "borne_incendie\n",
      "2\n",
      "\n",
      "\n",
      "entre_parking\n",
      "!!! An exception occurred\n",
      "\n",
      "\n",
      "fontaine\n",
      "!!! An exception occurred\n",
      "\n",
      "\n",
      "jardin_publique\n",
      "\n",
      "\n",
      "lampadaire\n",
      "2\n",
      "2\n",
      "2\n",
      "2\n",
      "2\n",
      "\n",
      "\n",
      "place_parking\n",
      "!!! An exception occurred\n",
      "\n",
      "\n",
      "poubelle\n",
      "2\n",
      "2\n",
      "3\n",
      "2\n",
      "3\n",
      "3\n",
      "\n",
      "\n",
      "trottoir_ligne\n",
      "\n",
      "\n",
      "Photos\n",
      "\n",
      "\n",
      "android_metadata\n",
      "\n",
      "\n"
     ]
    },
    {
     "name": "stderr",
     "output_type": "stream",
     "text": [
      "C:\\Git-Repos\\CIM\\venv\\Lib\\site-packages\\pyogrio\\raw.py:196: RuntimeWarning: GPKG: bad application_id=0x00000000 on '../terrain_data/raw/Aix Faubourg/Cours Sextius 2 GPKG.gpkg'\n",
      "  return ogr_read(\n",
      "C:\\Git-Repos\\CIM\\venv\\Lib\\site-packages\\pyogrio\\raw.py:196: RuntimeWarning: GPKG: bad application_id=0x00000000 on '../terrain_data/raw/Aix Faubourg/Cours Sextius 2 GPKG.gpkg'\n",
      "  return ogr_read(\n",
      "C:\\Git-Repos\\CIM\\venv\\Lib\\site-packages\\pyogrio\\raw.py:196: RuntimeWarning: GPKG: bad application_id=0x00000000 on '../terrain_data/raw/Aix Faubourg/Cours Sextius 2 GPKG.gpkg'\n",
      "  return ogr_read(\n",
      "C:\\Git-Repos\\CIM\\venv\\Lib\\site-packages\\pyogrio\\raw.py:196: RuntimeWarning: GPKG: bad application_id=0x00000000 on '../terrain_data/raw/Aix Faubourg/Cours Sextius 2 GPKG.gpkg'\n",
      "  return ogr_read(\n",
      "C:\\Git-Repos\\CIM\\venv\\Lib\\site-packages\\pyogrio\\raw.py:196: RuntimeWarning: GPKG: bad application_id=0x00000000 on '../terrain_data/raw/Aix Faubourg/Cours Sextius 2 GPKG.gpkg'\n",
      "  return ogr_read(\n",
      "C:\\Git-Repos\\CIM\\venv\\Lib\\site-packages\\pyogrio\\raw.py:196: RuntimeWarning: GPKG: bad application_id=0x00000000 on '../terrain_data/raw/Aix Faubourg/Cours Sextius 2 GPKG.gpkg'\n",
      "  return ogr_read(\n",
      "C:\\Git-Repos\\CIM\\venv\\Lib\\site-packages\\pyogrio\\raw.py:196: RuntimeWarning: GPKG: bad application_id=0x00000000 on '../terrain_data/raw/Aix Faubourg/Cours Sextius 2 GPKG.gpkg'\n",
      "  return ogr_read(\n",
      "C:\\Git-Repos\\CIM\\venv\\Lib\\site-packages\\pyogrio\\raw.py:196: RuntimeWarning: GPKG: bad application_id=0x00000000 on '../terrain_data/raw/Aix Faubourg/Cours Sextius 2 GPKG.gpkg'\n",
      "  return ogr_read(\n",
      "C:\\Git-Repos\\CIM\\venv\\Lib\\site-packages\\pyogrio\\raw.py:196: RuntimeWarning: GPKG: bad application_id=0x00000000 on '../terrain_data/raw/Aix Faubourg/Cours Sextius 2 GPKG.gpkg'\n",
      "  return ogr_read(\n",
      "C:\\Git-Repos\\CIM\\venv\\Lib\\site-packages\\pyogrio\\raw.py:196: RuntimeWarning: GPKG: bad application_id=0x00000000 on '../terrain_data/raw/Aix Faubourg/Cours Sextius 2 GPKG.gpkg'\n",
      "  return ogr_read(\n",
      "C:\\Git-Repos\\CIM\\venv\\Lib\\site-packages\\pyogrio\\raw.py:196: RuntimeWarning: GPKG: bad application_id=0x00000000 on '../terrain_data/raw/Aix Faubourg/Cours Sextius 2 GPKG.gpkg'\n",
      "  return ogr_read(\n",
      "C:\\Git-Repos\\CIM\\venv\\Lib\\site-packages\\pyogrio\\raw.py:196: RuntimeWarning: GPKG: bad application_id=0x00000000 on '../terrain_data/raw/Aix Faubourg/Cours Sextius 2 GPKG.gpkg'\n",
      "  return ogr_read(\n",
      "C:\\Git-Repos\\CIM\\venv\\Lib\\site-packages\\pyogrio\\raw.py:196: RuntimeWarning: GPKG: bad application_id=0x00000000 on '../terrain_data/raw/Aix Faubourg/Cours Sextius 2 GPKG.gpkg'\n",
      "  return ogr_read(\n",
      "C:\\Git-Repos\\CIM\\venv\\Lib\\site-packages\\pyogrio\\raw.py:196: RuntimeWarning: GPKG: bad application_id=0x00000000 on '../terrain_data/raw/Aix Faubourg/Cours Sextius 2 GPKG.gpkg'\n",
      "  return ogr_read(\n"
     ]
    },
    {
     "data": {
      "text/html": [
       "<div>\n",
       "<style scoped>\n",
       "    .dataframe tbody tr th:only-of-type {\n",
       "        vertical-align: middle;\n",
       "    }\n",
       "\n",
       "    .dataframe tbody tr th {\n",
       "        vertical-align: top;\n",
       "    }\n",
       "\n",
       "    .dataframe thead th {\n",
       "        text-align: right;\n",
       "    }\n",
       "</style>\n",
       "<table border=\"1\" class=\"dataframe\">\n",
       "  <thead>\n",
       "    <tr style=\"text-align: right;\">\n",
       "      <th></th>\n",
       "      <th>data_type</th>\n",
       "      <th>id_zone</th>\n",
       "      <th>h_accuracy</th>\n",
       "      <th>longitude</th>\n",
       "      <th>latitude</th>\n",
       "      <th>timestamp</th>\n",
       "    </tr>\n",
       "  </thead>\n",
       "  <tbody>\n",
       "    <tr>\n",
       "      <th>0</th>\n",
       "      <td>arbre</td>\n",
       "      <td>1</td>\n",
       "      <td>0.012</td>\n",
       "      <td>5.443824</td>\n",
       "      <td>43.529645</td>\n",
       "      <td>29-07-2024 14:06:18.574</td>\n",
       "    </tr>\n",
       "    <tr>\n",
       "      <th>1</th>\n",
       "      <td>arbre</td>\n",
       "      <td>1</td>\n",
       "      <td>0.012</td>\n",
       "      <td>5.443991</td>\n",
       "      <td>43.529595</td>\n",
       "      <td>29-07-2024 14:12:32.176</td>\n",
       "    </tr>\n",
       "    <tr>\n",
       "      <th>2</th>\n",
       "      <td>arbre</td>\n",
       "      <td>1</td>\n",
       "      <td>0.070</td>\n",
       "      <td>5.443877</td>\n",
       "      <td>43.529635</td>\n",
       "      <td>29-07-2024 14:20:56.149</td>\n",
       "    </tr>\n",
       "    <tr>\n",
       "      <th>3</th>\n",
       "      <td>arbre</td>\n",
       "      <td>1</td>\n",
       "      <td>0.012</td>\n",
       "      <td>5.443893</td>\n",
       "      <td>43.529589</td>\n",
       "      <td>29-07-2024 14:23:29.777</td>\n",
       "    </tr>\n",
       "    <tr>\n",
       "      <th>4</th>\n",
       "      <td>arbre</td>\n",
       "      <td>1</td>\n",
       "      <td>0.026</td>\n",
       "      <td>5.443778</td>\n",
       "      <td>43.529608</td>\n",
       "      <td>29-07-2024 14:32:49.737</td>\n",
       "    </tr>\n",
       "  </tbody>\n",
       "</table>\n",
       "</div>"
      ],
      "text/plain": [
       "  data_type  id_zone  h_accuracy  longitude   latitude  \\\n",
       "0     arbre        1       0.012   5.443824  43.529645   \n",
       "1     arbre        1       0.012   5.443991  43.529595   \n",
       "2     arbre        1       0.070   5.443877  43.529635   \n",
       "3     arbre        1       0.012   5.443893  43.529589   \n",
       "4     arbre        1       0.026   5.443778  43.529608   \n",
       "\n",
       "                 timestamp  \n",
       "0  29-07-2024 14:06:18.574  \n",
       "1  29-07-2024 14:12:32.176  \n",
       "2  29-07-2024 14:20:56.149  \n",
       "3  29-07-2024 14:23:29.777  \n",
       "4  29-07-2024 14:32:49.737  "
      ]
     },
     "execution_count": 32,
     "metadata": {},
     "output_type": "execute_result"
    }
   ],
   "source": [
    "data_types = list()\n",
    "id_zones = list()\n",
    "h_accuracies = list()\n",
    "longitudes = list()\n",
    "latitudes = list()\n",
    "timestamps = list()\n",
    "\n",
    "layers = fiona.listlayers(gpkg2)\n",
    "\n",
    "for layer in layers:\n",
    "    print(layer)\n",
    "    try:\n",
    "        data = gpd.read_file(gpkg2, layer = layer)\n",
    "        cols = data.columns\n",
    "        if 'h_accuracy' in cols:\n",
    "            n = data.shape[0]\n",
    "            for i in range(n):\n",
    "                row = data.iloc[i]\n",
    "                res = row.geometry.intersects(zones.geometry)\n",
    "                id_zone = res[res].index.values\n",
    "                if len(id_zone > 0):\n",
    "                    data_type = layer\n",
    "                    accuracy = row.h_accuracy\n",
    "                    latitude = row.latitude\n",
    "                    longitude = row.longitude\n",
    "                    id_zone = id_zone[0]\n",
    "                    timestamp = row.time[:23]\n",
    "                    print(id_zone)\n",
    "                    \n",
    "                    data_types.append(data_type)\n",
    "                    id_zones.append(id_zone)\n",
    "                    h_accuracies.append(accuracy)\n",
    "                    longitudes.append(longitude)\n",
    "                    latitudes.append(latitude)\n",
    "                    timestamps.append(timestamp)\n",
    "\n",
    "    except:\n",
    "        print(\"!!! An exception occurred\")\n",
    "    print(\"\\n\")\n",
    "    \n",
    "d = {'data_type':data_types, 'id_zone' : id_zones, 'h_accuracy':h_accuracies, 'longitude':longitudes, 'latitude':latitudes, 'timestamp':timestamps}\n",
    "df2 = pd.DataFrame(data = d)\n",
    "df2.head()"
   ]
  },
  {
   "cell_type": "markdown",
   "id": "11e78b9a",
   "metadata": {},
   "source": [
    "## data1 et data2"
   ]
  },
  {
   "cell_type": "code",
   "execution_count": 33,
   "id": "06d08eab",
   "metadata": {},
   "outputs": [
    {
     "data": {
      "text/html": [
       "<div>\n",
       "<style scoped>\n",
       "    .dataframe tbody tr th:only-of-type {\n",
       "        vertical-align: middle;\n",
       "    }\n",
       "\n",
       "    .dataframe tbody tr th {\n",
       "        vertical-align: top;\n",
       "    }\n",
       "\n",
       "    .dataframe thead th {\n",
       "        text-align: right;\n",
       "    }\n",
       "</style>\n",
       "<table border=\"1\" class=\"dataframe\">\n",
       "  <thead>\n",
       "    <tr style=\"text-align: right;\">\n",
       "      <th></th>\n",
       "      <th>data_type</th>\n",
       "      <th>id_zone</th>\n",
       "      <th>h_accuracy</th>\n",
       "      <th>longitude</th>\n",
       "      <th>latitude</th>\n",
       "      <th>timestamp</th>\n",
       "    </tr>\n",
       "  </thead>\n",
       "  <tbody>\n",
       "    <tr>\n",
       "      <th>0</th>\n",
       "      <td>arbres</td>\n",
       "      <td>0</td>\n",
       "      <td>0.120</td>\n",
       "      <td>5.443566</td>\n",
       "      <td>43.531372</td>\n",
       "      <td>29-07-2024 10:57:43.600</td>\n",
       "    </tr>\n",
       "    <tr>\n",
       "      <th>1</th>\n",
       "      <td>avaloirs</td>\n",
       "      <td>0</td>\n",
       "      <td>0.010</td>\n",
       "      <td>5.443638</td>\n",
       "      <td>43.531397</td>\n",
       "      <td>29-07-2024 09:44:54.800</td>\n",
       "    </tr>\n",
       "    <tr>\n",
       "      <th>2</th>\n",
       "      <td>avaloirs</td>\n",
       "      <td>0</td>\n",
       "      <td>0.010</td>\n",
       "      <td>5.443757</td>\n",
       "      <td>43.531496</td>\n",
       "      <td>29-07-2024 09:47:58.800</td>\n",
       "    </tr>\n",
       "    <tr>\n",
       "      <th>3</th>\n",
       "      <td>avaloirs</td>\n",
       "      <td>0</td>\n",
       "      <td>0.010</td>\n",
       "      <td>5.443655</td>\n",
       "      <td>43.531383</td>\n",
       "      <td>29-07-2024 09:56:05.200</td>\n",
       "    </tr>\n",
       "    <tr>\n",
       "      <th>4</th>\n",
       "      <td>avaloirs</td>\n",
       "      <td>0</td>\n",
       "      <td>0.010</td>\n",
       "      <td>5.443604</td>\n",
       "      <td>43.531417</td>\n",
       "      <td>29-07-2024 09:56:25.200</td>\n",
       "    </tr>\n",
       "    <tr>\n",
       "      <th>...</th>\n",
       "      <td>...</td>\n",
       "      <td>...</td>\n",
       "      <td>...</td>\n",
       "      <td>...</td>\n",
       "      <td>...</td>\n",
       "      <td>...</td>\n",
       "    </tr>\n",
       "    <tr>\n",
       "      <th>63</th>\n",
       "      <td>poubelle</td>\n",
       "      <td>2</td>\n",
       "      <td>0.072</td>\n",
       "      <td>5.440389</td>\n",
       "      <td>43.530753</td>\n",
       "      <td>29-07-2024 15:54:33.829</td>\n",
       "    </tr>\n",
       "    <tr>\n",
       "      <th>64</th>\n",
       "      <td>poubelle</td>\n",
       "      <td>3</td>\n",
       "      <td>0.012</td>\n",
       "      <td>5.441381</td>\n",
       "      <td>43.530045</td>\n",
       "      <td>29-07-2024 16:16:15.356</td>\n",
       "    </tr>\n",
       "    <tr>\n",
       "      <th>65</th>\n",
       "      <td>poubelle</td>\n",
       "      <td>2</td>\n",
       "      <td>0.115</td>\n",
       "      <td>5.441315</td>\n",
       "      <td>43.530101</td>\n",
       "      <td>29-07-2024 16:18:55.365</td>\n",
       "    </tr>\n",
       "    <tr>\n",
       "      <th>66</th>\n",
       "      <td>poubelle</td>\n",
       "      <td>3</td>\n",
       "      <td>0.012</td>\n",
       "      <td>5.441963</td>\n",
       "      <td>43.529948</td>\n",
       "      <td>29-07-2024 16:27:32.162</td>\n",
       "    </tr>\n",
       "    <tr>\n",
       "      <th>67</th>\n",
       "      <td>poubelle</td>\n",
       "      <td>3</td>\n",
       "      <td>0.014</td>\n",
       "      <td>5.441959</td>\n",
       "      <td>43.529969</td>\n",
       "      <td>29-07-2024 16:27:37.726</td>\n",
       "    </tr>\n",
       "  </tbody>\n",
       "</table>\n",
       "<p>121 rows × 6 columns</p>\n",
       "</div>"
      ],
      "text/plain": [
       "   data_type  id_zone  h_accuracy  longitude   latitude  \\\n",
       "0     arbres        0       0.120   5.443566  43.531372   \n",
       "1   avaloirs        0       0.010   5.443638  43.531397   \n",
       "2   avaloirs        0       0.010   5.443757  43.531496   \n",
       "3   avaloirs        0       0.010   5.443655  43.531383   \n",
       "4   avaloirs        0       0.010   5.443604  43.531417   \n",
       "..       ...      ...         ...        ...        ...   \n",
       "63  poubelle        2       0.072   5.440389  43.530753   \n",
       "64  poubelle        3       0.012   5.441381  43.530045   \n",
       "65  poubelle        2       0.115   5.441315  43.530101   \n",
       "66  poubelle        3       0.012   5.441963  43.529948   \n",
       "67  poubelle        3       0.014   5.441959  43.529969   \n",
       "\n",
       "                  timestamp  \n",
       "0   29-07-2024 10:57:43.600  \n",
       "1   29-07-2024 09:44:54.800  \n",
       "2   29-07-2024 09:47:58.800  \n",
       "3   29-07-2024 09:56:05.200  \n",
       "4   29-07-2024 09:56:25.200  \n",
       "..                      ...  \n",
       "63  29-07-2024 15:54:33.829  \n",
       "64  29-07-2024 16:16:15.356  \n",
       "65  29-07-2024 16:18:55.365  \n",
       "66  29-07-2024 16:27:32.162  \n",
       "67  29-07-2024 16:27:37.726  \n",
       "\n",
       "[121 rows x 6 columns]"
      ]
     },
     "execution_count": 33,
     "metadata": {},
     "output_type": "execute_result"
    }
   ],
   "source": [
    "df = pd.concat([df1, df2])\n",
    "df"
   ]
  },
  {
   "cell_type": "code",
   "execution_count": 34,
   "id": "3a763c13",
   "metadata": {},
   "outputs": [
    {
     "data": {
      "text/plain": [
       "(121, 6)"
      ]
     },
     "execution_count": 34,
     "metadata": {},
     "output_type": "execute_result"
    }
   ],
   "source": [
    "df.shape"
   ]
  },
  {
   "cell_type": "code",
   "execution_count": 35,
   "id": "893f154f",
   "metadata": {},
   "outputs": [
    {
     "data": {
      "text/plain": [
       "array([0, 0, 0, 0, 0, 0, 0, 0, 0, 0, 0, 0, 0, 0, 0, 0, 0, 0, 0, 0, 0, 0,\n",
       "       0, 0, 0, 0, 0, 0, 0, 0, 0, 0, 0, 0, 0, 0, 0, 0, 0, 0, 0, 0, 0, 0,\n",
       "       0, 0, 0, 0, 0, 0, 0, 0, 0, 1, 1, 1, 1, 1, 1, 1, 2, 2, 2, 2, 2, 2,\n",
       "       2, 2, 2, 2, 2, 2, 2, 2, 2, 2, 2, 2, 2, 2, 2, 2, 2, 2, 2, 2, 2, 2,\n",
       "       2, 2, 3, 3, 3, 3, 3, 3, 3, 3, 3, 3, 3, 3, 3, 3, 3, 3, 3, 3, 3, 2,\n",
       "       2, 2, 2, 2, 2, 2, 2, 3, 2, 3, 3])"
      ]
     },
     "execution_count": 35,
     "metadata": {},
     "output_type": "execute_result"
    }
   ],
   "source": [
    "df.id_zone.values"
   ]
  },
  {
   "cell_type": "code",
   "execution_count": 55,
   "id": "518dcac4",
   "metadata": {},
   "outputs": [
    {
     "data": {
      "text/html": [
       "<div>\n",
       "<style scoped>\n",
       "    .dataframe tbody tr th:only-of-type {\n",
       "        vertical-align: middle;\n",
       "    }\n",
       "\n",
       "    .dataframe tbody tr th {\n",
       "        vertical-align: top;\n",
       "    }\n",
       "\n",
       "    .dataframe thead th {\n",
       "        text-align: right;\n",
       "    }\n",
       "</style>\n",
       "<table border=\"1\" class=\"dataframe\">\n",
       "  <thead>\n",
       "    <tr style=\"text-align: right;\">\n",
       "      <th></th>\n",
       "      <th>data_type</th>\n",
       "      <th>id_zone</th>\n",
       "      <th>h_accuracy</th>\n",
       "      <th>longitude</th>\n",
       "      <th>latitude</th>\n",
       "      <th>timestamp</th>\n",
       "    </tr>\n",
       "  </thead>\n",
       "  <tbody>\n",
       "    <tr>\n",
       "      <th>0</th>\n",
       "      <td>arbres</td>\n",
       "      <td>0</td>\n",
       "      <td>0.12</td>\n",
       "      <td>5.443566</td>\n",
       "      <td>43.531372</td>\n",
       "      <td>29-07-2024 10:57:43.600</td>\n",
       "    </tr>\n",
       "    <tr>\n",
       "      <th>1</th>\n",
       "      <td>avaloirs</td>\n",
       "      <td>0</td>\n",
       "      <td>0.01</td>\n",
       "      <td>5.443638</td>\n",
       "      <td>43.531397</td>\n",
       "      <td>29-07-2024 09:44:54.800</td>\n",
       "    </tr>\n",
       "    <tr>\n",
       "      <th>2</th>\n",
       "      <td>avaloirs</td>\n",
       "      <td>0</td>\n",
       "      <td>0.01</td>\n",
       "      <td>5.443757</td>\n",
       "      <td>43.531496</td>\n",
       "      <td>29-07-2024 09:47:58.800</td>\n",
       "    </tr>\n",
       "    <tr>\n",
       "      <th>3</th>\n",
       "      <td>avaloirs</td>\n",
       "      <td>0</td>\n",
       "      <td>0.01</td>\n",
       "      <td>5.443655</td>\n",
       "      <td>43.531383</td>\n",
       "      <td>29-07-2024 09:56:05.200</td>\n",
       "    </tr>\n",
       "    <tr>\n",
       "      <th>4</th>\n",
       "      <td>avaloirs</td>\n",
       "      <td>0</td>\n",
       "      <td>0.01</td>\n",
       "      <td>5.443604</td>\n",
       "      <td>43.531417</td>\n",
       "      <td>29-07-2024 09:56:25.200</td>\n",
       "    </tr>\n",
       "  </tbody>\n",
       "</table>\n",
       "</div>"
      ],
      "text/plain": [
       "  data_type  id_zone  h_accuracy  longitude   latitude  \\\n",
       "0    arbres        0        0.12   5.443566  43.531372   \n",
       "1  avaloirs        0        0.01   5.443638  43.531397   \n",
       "2  avaloirs        0        0.01   5.443757  43.531496   \n",
       "3  avaloirs        0        0.01   5.443655  43.531383   \n",
       "4  avaloirs        0        0.01   5.443604  43.531417   \n",
       "\n",
       "                 timestamp  \n",
       "0  29-07-2024 10:57:43.600  \n",
       "1  29-07-2024 09:44:54.800  \n",
       "2  29-07-2024 09:47:58.800  \n",
       "3  29-07-2024 09:56:05.200  \n",
       "4  29-07-2024 09:56:25.200  "
      ]
     },
     "execution_count": 55,
     "metadata": {},
     "output_type": "execute_result"
    }
   ],
   "source": [
    "df.head()"
   ]
  },
  {
   "cell_type": "markdown",
   "id": "ae4de091",
   "metadata": {},
   "source": [
    "## Stats via DuckDB\n",
    "- Calculer la durée par zone\n",
    "- Calculer l'erreur moyenne par zone\n",
    "- Faire des graphiques par zone\n",
    "- Faire des précisions par type d'objet"
   ]
  },
  {
   "cell_type": "code",
   "execution_count": 36,
   "id": "106a8142",
   "metadata": {},
   "outputs": [],
   "source": [
    "df2 = df"
   ]
  },
  {
   "cell_type": "code",
   "execution_count": 37,
   "id": "1e8c5511",
   "metadata": {},
   "outputs": [],
   "source": [
    "import duckdb"
   ]
  },
  {
   "cell_type": "code",
   "execution_count": 38,
   "id": "5b57741d",
   "metadata": {},
   "outputs": [
    {
     "data": {
      "text/plain": [
       "┌────────────┬─────────┬────────────┬─────────────┬──────────────┬─────────────────────────┐\n",
       "│ data_type  │ id_zone │ h_accuracy │  longitude  │   latitude   │        timestamp        │\n",
       "│  varchar   │  int64  │   double   │   double    │    double    │         varchar         │\n",
       "├────────────┼─────────┼────────────┼─────────────┼──────────────┼─────────────────────────┤\n",
       "│ arbres     │       0 │       0.12 │ 5.443566463 │  43.53137224 │ 29-07-2024 10:57:43.600 │\n",
       "│ avaloirs   │       0 │       0.01 │ 5.443637532 │ 43.531396688 │ 29-07-2024 09:44:54.800 │\n",
       "│ avaloirs   │       0 │       0.01 │ 5.443757118 │ 43.531495655 │ 29-07-2024 09:47:58.800 │\n",
       "│ avaloirs   │       0 │       0.01 │ 5.443654563 │ 43.531382735 │ 29-07-2024 09:56:05.200 │\n",
       "│ avaloirs   │       0 │       0.01 │ 5.443603877 │ 43.531416915 │ 29-07-2024 09:56:25.200 │\n",
       "│ avaloirs   │       0 │       0.01 │ 5.443667367 │ 43.531415283 │ 29-07-2024 09:56:41.200 │\n",
       "│ avaloirs   │       0 │      0.012 │ 5.443687155 │  43.53142821 │ 29-07-2024 09:56:57.200 │\n",
       "│ avaloirs   │       0 │       0.01 │ 5.443716438 │ 43.531471202 │ 29-07-2024 09:57:12.400 │\n",
       "│ avaloirs   │       0 │       0.01 │ 5.443831142 │ 43.531478728 │ 29-07-2024 09:57:37.200 │\n",
       "│ avaloirs   │       0 │       0.01 │ 5.443801537 │   43.5314445 │ 29-07-2024 09:58:54.800 │\n",
       "│    ·       │       · │         ·  │      ·      │        ·     │            ·            │\n",
       "│    ·       │       · │         ·  │      ·      │        ·     │            ·            │\n",
       "│    ·       │       · │         ·  │      ·      │        ·     │            ·            │\n",
       "│ lampadaire │       2 │      0.012 │ 5.440471925 │  43.53056319 │ 29-07-2024 16:00:00.980 │\n",
       "│ lampadaire │       2 │      0.013 │ 5.440601295 │ 43.530391545 │ 29-07-2024 16:01:18.589 │\n",
       "│ lampadaire │       2 │      0.012 │ 5.440823417 │ 43.530258712 │ 29-07-2024 16:07:10.585 │\n",
       "│ lampadaire │       2 │      0.012 │ 5.441077825 │ 43.530167095 │ 29-07-2024 16:12:00.152 │\n",
       "│ poubelle   │       2 │      0.012 │ 5.440216315 │ 43.530631235 │ 29-07-2024 15:45:21.878 │\n",
       "│ poubelle   │       2 │      0.072 │ 5.440389117 │ 43.530752753 │ 29-07-2024 15:54:33.829 │\n",
       "│ poubelle   │       3 │      0.012 │ 5.441381102 │ 43.530044608 │ 29-07-2024 16:16:15.356 │\n",
       "│ poubelle   │       2 │      0.115 │ 5.441315237 │   43.5301006 │ 29-07-2024 16:18:55.365 │\n",
       "│ poubelle   │       3 │      0.012 │ 5.441963298 │ 43.529947767 │ 29-07-2024 16:27:32.162 │\n",
       "│ poubelle   │       3 │      0.014 │ 5.441958602 │ 43.529968515 │ 29-07-2024 16:27:37.726 │\n",
       "├────────────┴─────────┴────────────┴─────────────┴──────────────┴─────────────────────────┤\n",
       "│ 121 rows (20 shown)                                                            6 columns │\n",
       "└──────────────────────────────────────────────────────────────────────────────────────────┘"
      ]
     },
     "execution_count": 38,
     "metadata": {},
     "output_type": "execute_result"
    }
   ],
   "source": [
    "duckdb.sql(\"SELECT * FROM df2\")"
   ]
  },
  {
   "cell_type": "code",
   "execution_count": 57,
   "id": "a3f2e045",
   "metadata": {},
   "outputs": [
    {
     "data": {
      "text/plain": [
       "┌───────────┬─────────┬────────────┬─────────────┬─────────────┬─────────────────────────┐\n",
       "│ data_type │ id_zone │ h_accuracy │  longitude  │  latitude   │        timestamp        │\n",
       "│  varchar  │  int64  │   double   │   double    │   double    │         varchar         │\n",
       "├───────────┼─────────┼────────────┼─────────────┼─────────────┼─────────────────────────┤\n",
       "│ arbres    │       0 │       0.12 │ 5.443566463 │ 43.53137224 │ 29-07-2024 10:57:43.600 │\n",
       "└───────────┴─────────┴────────────┴─────────────┴─────────────┴─────────────────────────┘"
      ]
     },
     "execution_count": 57,
     "metadata": {},
     "output_type": "execute_result"
    }
   ],
   "source": [
    "duckdb.sql(\"SELECT * FROM df2 where data_type = 'arbres'\")"
   ]
  },
  {
   "cell_type": "code",
   "execution_count": 56,
   "id": "1017b5b0",
   "metadata": {},
   "outputs": [
    {
     "data": {
      "text/plain": [
       "┌───────────┬─────────┬────────────┬─────────────┬──────────────┬─────────────────────────┐\n",
       "│ data_type │ id_zone │ h_accuracy │  longitude  │   latitude   │        timestamp        │\n",
       "│  varchar  │  int64  │   double   │   double    │    double    │         varchar         │\n",
       "├───────────┼─────────┼────────────┼─────────────┼──────────────┼─────────────────────────┤\n",
       "│ arbre     │       1 │      0.012 │ 5.443823712 │ 43.529645352 │ 29-07-2024 14:06:18.574 │\n",
       "│ arbre     │       1 │      0.012 │ 5.443990912 │  43.52959522 │ 29-07-2024 14:12:32.176 │\n",
       "│ arbre     │       1 │       0.07 │ 5.443877327 │  43.52963492 │ 29-07-2024 14:20:56.149 │\n",
       "│ arbre     │       1 │      0.012 │ 5.443893053 │  43.52958946 │ 29-07-2024 14:23:29.777 │\n",
       "│ arbre     │       1 │      0.026 │ 5.443777742 │ 43.529608458 │ 29-07-2024 14:32:49.737 │\n",
       "│ arbre     │       1 │      0.044 │ 5.443755972 │ 43.529618958 │ 29-07-2024 14:47:02.519 │\n",
       "│ arbre     │       1 │      0.012 │ 5.443731878 │ 43.529672625 │ 29-07-2024 14:54:55.334 │\n",
       "│ arbre     │       2 │      0.012 │ 5.440779743 │  43.53019161 │ 29-07-2024 15:17:42.596 │\n",
       "│ arbre     │       2 │      0.012 │ 5.440646752 │ 43.530270307 │ 29-07-2024 15:18:45.827 │\n",
       "│ arbre     │       2 │      0.137 │ 5.440459457 │ 43.530401382 │ 29-07-2024 15:23:45.771 │\n",
       "│   ·       │       · │         ·  │      ·      │       ·      │            ·            │\n",
       "│   ·       │       · │         ·  │      ·      │       ·      │            ·            │\n",
       "│   ·       │       · │         ·  │      ·      │       ·      │            ·            │\n",
       "│ arbre     │       2 │       0.08 │ 5.440341633 │ 43.530482698 │ 29-07-2024 15:28:45.838 │\n",
       "│ arbre     │       2 │      0.151 │ 5.440329187 │ 43.530495588 │ 29-07-2024 15:29:13.801 │\n",
       "│ arbre     │       2 │      0.135 │ 5.440317513 │ 43.530508242 │ 29-07-2024 15:29:32.208 │\n",
       "│ arbre     │       2 │      0.012 │ 5.440216767 │ 43.530756877 │ 29-07-2024 15:35:06.603 │\n",
       "│ arbre     │       2 │       0.06 │ 5.440391103 │ 43.530741635 │ 29-07-2024 15:55:12.976 │\n",
       "│ arbre     │       2 │      0.145 │ 5.440425538 │  43.53067963 │ 29-07-2024 15:56:09.763 │\n",
       "│ arbre     │       2 │       0.16 │ 5.440454097 │ 43.530614932 │ 29-07-2024 15:56:39.370 │\n",
       "│ arbre     │       2 │      0.013 │ 5.440643705 │ 43.530371263 │ 29-07-2024 16:05:46.598 │\n",
       "│ arbre     │       2 │      0.129 │ 5.440709257 │ 43.530319267 │ 29-07-2024 16:06:24.982 │\n",
       "│ arbre     │       2 │      0.012 │ 5.440796778 │ 43.530278847 │ 29-07-2024 16:06:46.566 │\n",
       "├───────────┴─────────┴────────────┴─────────────┴──────────────┴─────────────────────────┤\n",
       "│ 24 rows (20 shown)                                                            6 columns │\n",
       "└─────────────────────────────────────────────────────────────────────────────────────────┘"
      ]
     },
     "execution_count": 56,
     "metadata": {},
     "output_type": "execute_result"
    }
   ],
   "source": [
    "duckdb.sql(\"SELECT * FROM df2 where data_type = 'arbre'\")"
   ]
  },
  {
   "cell_type": "code",
   "execution_count": 58,
   "id": "de64b8b7",
   "metadata": {},
   "outputs": [
    {
     "data": {
      "text/plain": [
       "┌─────────┬───────┐\n",
       "│ id_zone │  nb   │\n",
       "│  int64  │ int64 │\n",
       "├─────────┼───────┤\n",
       "│       0 │    53 │\n",
       "│       2 │    39 │\n",
       "│       1 │     7 │\n",
       "│       3 │    22 │\n",
       "└─────────┴───────┘"
      ]
     },
     "execution_count": 58,
     "metadata": {},
     "output_type": "execute_result"
    }
   ],
   "source": [
    "duckdb.sql(\"SELECT id_zone, count(*) nb FROM df2 group by id_zone\")"
   ]
  },
  {
   "cell_type": "markdown",
   "id": "400971f4",
   "metadata": {},
   "source": [
    "SELECT strptime('Monday, 2 March 1992 - 08:32:45 PM', '%A, %-d %B %Y - %I:%M:%S %p');"
   ]
  },
  {
   "cell_type": "code",
   "execution_count": 42,
   "id": "04971891",
   "metadata": {},
   "outputs": [
    {
     "data": {
      "text/plain": [
       "┌───────────────────────────────────────────────────────────────────────────────┐\n",
       "│ strptime('Monday, 2 March 1992 - 08:32:45 PM', '%A, %-d %B %Y - %I:%M:%S %p') │\n",
       "│                                   timestamp                                   │\n",
       "├───────────────────────────────────────────────────────────────────────────────┤\n",
       "│ 1992-03-02 20:32:45                                                           │\n",
       "└───────────────────────────────────────────────────────────────────────────────┘"
      ]
     },
     "execution_count": 42,
     "metadata": {},
     "output_type": "execute_result"
    }
   ],
   "source": [
    "duckdb.sql(\"SELECT strptime('Monday, 2 March 1992 - 08:32:45 PM', '%A, %-d %B %Y - %I:%M:%S %p');\")"
   ]
  },
  {
   "cell_type": "code",
   "execution_count": 43,
   "id": "96fc9bac",
   "metadata": {},
   "outputs": [
    {
     "data": {
      "text/plain": [
       "┌─────────────────────────────────────────────────────────────┐\n",
       "│ strptime('29-07-2024 10:07:27.600', '%d-%m-%Y %H:%M:%S.%f') │\n",
       "│                          timestamp                          │\n",
       "├─────────────────────────────────────────────────────────────┤\n",
       "│ 2024-07-29 10:07:27.0006                                    │\n",
       "└─────────────────────────────────────────────────────────────┘"
      ]
     },
     "execution_count": 43,
     "metadata": {},
     "output_type": "execute_result"
    }
   ],
   "source": [
    "duckdb.sql(\"SELECT strptime('29-07-2024 10:07:27.600', '%d-%m-%Y %H:%M:%S.%f');\")"
   ]
  },
  {
   "cell_type": "code",
   "execution_count": 44,
   "id": "a45e0172",
   "metadata": {},
   "outputs": [],
   "source": [
    "duckdb.sql(\"create or replace table df as (select * replace(strptime(timestamp, '%d-%m-%Y %H:%M:%S.%f') as timestamp) from df2);\")"
   ]
  },
  {
   "cell_type": "code",
   "execution_count": 59,
   "id": "f95f246b",
   "metadata": {},
   "outputs": [],
   "source": [
    "duckdb.sql(\"\"\"\n",
    "create or replace table stats as (\n",
    "SELECT id_zone, \n",
    "min(timestamp::TIMESTAMP) from_time,\n",
    "max(timestamp::TIMESTAMP) to_time, \n",
    "to_time-from_time as duration, \n",
    "count(*) nb, \n",
    "mean(h_accuracy ) as mean_accuracy,\n",
    "median(h_accuracy) as median_accuracy,\n",
    "count(*) FILTER (h_accuracy <= 0.01) as accuracy_lower_than_1cm,\n",
    "count(*) FILTER (h_accuracy <= 0.012) as accuracy_lower_than_1_2cm,\n",
    "count(*) FILTER (h_accuracy <= 0.015) as accuracy_lower_than_1_25cm,\n",
    "count(*) FILTER (h_accuracy <= 0.015) as accuracy_lower_than_1_5cm\n",
    "from df\n",
    "group by id_zone\n",
    "order by nb desc)\n",
    "\"\"\")"
   ]
  },
  {
   "cell_type": "code",
   "execution_count": 60,
   "id": "66c4f758",
   "metadata": {},
   "outputs": [
    {
     "data": {
      "text/plain": [
       "┌─────────┬──────────────────────┬───┬──────────────────────┬──────────────────────┬──────────────────────┐\n",
       "│ id_zone │         maxt         │ … │ accuracy_lower_tha…  │ accuracy_lower_tha…  │ accuracy_lower_tha…  │\n",
       "│  int64  │      timestamp       │   │        int64         │        int64         │        int64         │\n",
       "├─────────┼──────────────────────┼───┼──────────────────────┼──────────────────────┼──────────────────────┤\n",
       "│       0 │ 2024-07-29 10:57:4…  │ … │                   47 │                   50 │                   50 │\n",
       "│       2 │ 2024-07-29 16:19:5…  │ … │                   21 │                   24 │                   24 │\n",
       "│       3 │ 2024-07-29 16:27:3…  │ … │                    6 │                    7 │                    7 │\n",
       "│       1 │ 2024-07-29 14:54:5…  │ … │                    4 │                    4 │                    4 │\n",
       "├─────────┴──────────────────────┴───┴──────────────────────┴──────────────────────┴──────────────────────┤\n",
       "│ 4 rows                                                                             11 columns (5 shown) │\n",
       "└─────────────────────────────────────────────────────────────────────────────────────────────────────────┘"
      ]
     },
     "execution_count": 60,
     "metadata": {},
     "output_type": "execute_result"
    }
   ],
   "source": [
    "duckdb.sql(\"select * from stats\")"
   ]
  },
  {
   "cell_type": "code",
   "execution_count": 61,
   "id": "5c02c370",
   "metadata": {},
   "outputs": [
    {
     "data": {
      "text/plain": [
       "┌─────────┬───────────────────────┬───────────────────────────┬────────────────────────────┬───────────────────────────┐\n",
       "│ id_zone │ accuracy_lower_than…  │ accuracy_lower_than_1_2cm │ accuracy_lower_than_1_25cm │ accuracy_lower_than_1_5cm │\n",
       "│  int64  │         int64         │           int64           │           int64            │           int64           │\n",
       "├─────────┼───────────────────────┼───────────────────────────┼────────────────────────────┼───────────────────────────┤\n",
       "│       0 │                    44 │                        47 │                         50 │                        50 │\n",
       "│       2 │                     0 │                        21 │                         24 │                        24 │\n",
       "│       3 │                     0 │                         6 │                          7 │                         7 │\n",
       "│       1 │                     0 │                         4 │                          4 │                         4 │\n",
       "└─────────┴───────────────────────┴───────────────────────────┴────────────────────────────┴───────────────────────────┘"
      ]
     },
     "execution_count": 61,
     "metadata": {},
     "output_type": "execute_result"
    }
   ],
   "source": [
    "duckdb.sql(\"select id_zone, accuracy_lower_than_1cm, accuracy_lower_than_1_2cm, accuracy_lower_than_1_25cm, accuracy_lower_than_1_5cm from stats\")"
   ]
  },
  {
   "cell_type": "code",
   "execution_count": 62,
   "id": "fa83dc82",
   "metadata": {},
   "outputs": [
    {
     "data": {
      "text/plain": [
       "┌─────────┬───────┬─────────────────┬────────────────────┐\n",
       "│ id_zone │  nb   │    duration     │ minutes_by_object  │\n",
       "│  int64  │ int64 │    interval     │       double       │\n",
       "├─────────┼───────┼─────────────────┼────────────────────┤\n",
       "│       0 │    53 │ 01:12:48.9998   │ 1.3738993081761004 │\n",
       "│       2 │    39 │ 01:02:09.999574 │  1.594016911965812 │\n",
       "│       3 │    22 │ 00:11:22.00037  │  0.516666946969697 │\n",
       "│       1 │     7 │ 00:48:36.99976  │  6.945237523809524 │\n",
       "└─────────┴───────┴─────────────────┴────────────────────┘"
      ]
     },
     "execution_count": 62,
     "metadata": {},
     "output_type": "execute_result"
    }
   ],
   "source": [
    "duckdb.sql(\"select id_zone, nb, duration, epoch(duration)/nb/60 as minutes_by_object from stats;\")"
   ]
  },
  {
   "cell_type": "markdown",
   "id": "d0b810f7",
   "metadata": {},
   "source": [
    "On voit qu'on a passé presque 7 minutes dans la seconde zone.\n",
    "\n",
    "On passe presque 1 minute par objet dans des conditions de RTK fixes.\n",
    "\n",
    "Attention, il faut prendre en compte le fait que des objets comme les trottoirs et autres surfaces n'ont pas pu être lues par le script. Le nombre d'objet est donc plus grand qu'indiqué.\n",
    "\n",
    "Dans la première zone, la dernière digitalisation concerne les trottoirs qui ne sont pas présent dans le script."
   ]
  },
  {
   "cell_type": "code",
   "execution_count": 47,
   "id": "4bbd7f46",
   "metadata": {},
   "outputs": [
    {
     "data": {
      "text/plain": [
       "┌─────────┬──────────────────────┬───┬──────────────────────┬──────────────────────┬──────────────────────┐\n",
       "│ id_zone │    mean_accuracy     │ … │ accuracy_lower_tha…  │ accuracy_lower_tha…  │ accuracy_lower_tha…  │\n",
       "│  int64  │        double        │   │        int64         │        int64         │        int64         │\n",
       "├─────────┼──────────────────────┼───┼──────────────────────┼──────────────────────┼──────────────────────┤\n",
       "│       0 │  0.01452830188679246 │ … │                   47 │                   50 │                   50 │\n",
       "│       2 │  0.04628205128205128 │ … │                   21 │                   24 │                   24 │\n",
       "│       3 │  0.07336363636363637 │ … │                    6 │                    7 │                    7 │\n",
       "│       1 │ 0.026857142857142857 │ … │                    4 │                    4 │                    4 │\n",
       "├─────────┴──────────────────────┴───┴──────────────────────┴──────────────────────┴──────────────────────┤\n",
       "│ 4 rows                                                                              7 columns (5 shown) │\n",
       "└─────────────────────────────────────────────────────────────────────────────────────────────────────────┘"
      ]
     },
     "execution_count": 47,
     "metadata": {},
     "output_type": "execute_result"
    }
   ],
   "source": [
    "duckdb.sql(\"select id_zone, COLUMNS('.*accuracy.*') from stats;\")"
   ]
  },
  {
   "cell_type": "code",
   "execution_count": 48,
   "id": "eb6ee6c2",
   "metadata": {},
   "outputs": [
    {
     "data": {
      "text/plain": [
       "┌─────────┬───────┬──────────────────────┬─────────────────┐\n",
       "│ id_zone │  nb   │    mean_accuracy     │ median_accuracy │\n",
       "│  int64  │ int64 │        double        │     double      │\n",
       "├─────────┼───────┼──────────────────────┼─────────────────┤\n",
       "│       0 │    53 │  0.01452830188679246 │            0.01 │\n",
       "│       2 │    39 │  0.04628205128205128 │           0.012 │\n",
       "│       3 │    22 │  0.07336363636363637 │           0.095 │\n",
       "│       1 │     7 │ 0.026857142857142857 │           0.012 │\n",
       "└─────────┴───────┴──────────────────────┴─────────────────┘"
      ]
     },
     "execution_count": 48,
     "metadata": {},
     "output_type": "execute_result"
    }
   ],
   "source": [
    "duckdb.sql(\"select id_zone, nb, mean_accuracy, median_accuracy from stats;\")"
   ]
  },
  {
   "cell_type": "markdown",
   "id": "93ed55c3",
   "metadata": {},
   "source": [
    "Dans la première zone (0), on relève les meilleures précisions."
   ]
  },
  {
   "cell_type": "code",
   "execution_count": 49,
   "id": "086d7886",
   "metadata": {},
   "outputs": [
    {
     "data": {
      "text/plain": [
       "┌─────────┬───────┬──────────────────────┬──────────────────────┬──────────────────────────┬───────────────────────────┐\n",
       "│ id_zone │  nb   │ accuracy_lower_tha…  │ accuracy_lower_tha…  │ accuracy_lower_than_1_…  │ accuracy_lower_than_1_5cm │\n",
       "│  int64  │ int64 │        int64         │        int64         │          int64           │           int64           │\n",
       "├─────────┼───────┼──────────────────────┼──────────────────────┼──────────────────────────┼───────────────────────────┤\n",
       "│       0 │    53 │                   44 │                   47 │                       50 │                        50 │\n",
       "│       2 │    39 │                    0 │                   21 │                       24 │                        24 │\n",
       "│       3 │    22 │                    0 │                    6 │                        7 │                         7 │\n",
       "│       1 │     7 │                    0 │                    4 │                        4 │                         4 │\n",
       "└─────────┴───────┴──────────────────────┴──────────────────────┴──────────────────────────┴───────────────────────────┘"
      ]
     },
     "execution_count": 49,
     "metadata": {},
     "output_type": "execute_result"
    }
   ],
   "source": [
    "duckdb.sql(\"select id_zone, nb, COLUMNS('accuracy_lower.*') from stats;\")"
   ]
  },
  {
   "cell_type": "markdown",
   "id": "56f3d6df",
   "metadata": {},
   "source": [
    "On relève d'ailleurs  un pourcentage assez élevé de mesures plus basses que 1cm."
   ]
  },
  {
   "cell_type": "code",
   "execution_count": 50,
   "id": "6bc362a6",
   "metadata": {},
   "outputs": [
    {
     "data": {
      "text/plain": [
       "┌──────────────┐\n",
       "│ count_star() │\n",
       "│    int64     │\n",
       "├──────────────┤\n",
       "│           44 │\n",
       "└──────────────┘"
      ]
     },
     "execution_count": 50,
     "metadata": {},
     "output_type": "execute_result"
    }
   ],
   "source": [
    "duckdb.sql(\"select count(*) from df where h_accuracy <= 0.01;\")"
   ]
  },
  {
   "cell_type": "markdown",
   "id": "d9e22e61",
   "metadata": {},
   "source": [
    "Elles sont toutes dans la première zone."
   ]
  },
  {
   "cell_type": "code",
   "execution_count": 51,
   "id": "5c6e8e99",
   "metadata": {},
   "outputs": [
    {
     "data": {
      "text/plain": [
       "┌────────────────────┐\n",
       "│ min_accuracy_zone2 │\n",
       "│       double       │\n",
       "├────────────────────┤\n",
       "│              0.012 │\n",
       "└────────────────────┘"
      ]
     },
     "execution_count": 51,
     "metadata": {},
     "output_type": "execute_result"
    }
   ],
   "source": [
    "duckdb.sql(\"select min(h_accuracy) min_accuracy_zone2 from df where id_zone = 2;\")"
   ]
  },
  {
   "cell_type": "markdown",
   "id": "d0376cad",
   "metadata": {},
   "source": [
    "La précision minimale sur la dernière zone est de 1.2 cm"
   ]
  },
  {
   "cell_type": "code",
   "execution_count": 52,
   "id": "0b01c03a",
   "metadata": {},
   "outputs": [
    {
     "data": {
      "text/plain": [
       "┌────────────────────┐\n",
       "│ nb_zone2_inf_1_2cm │\n",
       "│       int64        │\n",
       "├────────────────────┤\n",
       "│                 21 │\n",
       "└────────────────────┘"
      ]
     },
     "execution_count": 52,
     "metadata": {},
     "output_type": "execute_result"
    }
   ],
   "source": [
    "duckdb.sql(\"select count(*) as nb_zone2_inf_1_2cm from df where h_accuracy = 0.012 and id_zone = 2;\")"
   ]
  },
  {
   "cell_type": "code",
   "execution_count": 53,
   "id": "0569125a",
   "metadata": {},
   "outputs": [
    {
     "data": {
      "text/plain": [
       "┌──────────┐\n",
       "│ nb_zone2 │\n",
       "│  int64   │\n",
       "├──────────┤\n",
       "│       39 │\n",
       "└──────────┘"
      ]
     },
     "execution_count": 53,
     "metadata": {},
     "output_type": "execute_result"
    }
   ],
   "source": [
    "duckdb.sql(\"select count(*) as nb_zone2 from df where id_zone = 2;\")"
   ]
  },
  {
   "cell_type": "markdown",
   "id": "831bbeac",
   "metadata": {},
   "source": [
    "On a 21 objets sur 39 avec une précision de 1.2 cm dans la troisièmle zone."
   ]
  },
  {
   "cell_type": "code",
   "execution_count": 63,
   "id": "24adb796",
   "metadata": {},
   "outputs": [
    {
     "data": {
      "text/plain": [
       "┌───────────────────────────┬──────────────────────┬───────┬───────┬───────┬───────┬───────┐\n",
       "│         data_type         │    mean_accuracy     │  nb   │ zone0 │ zone1 │ zone2 │ zone3 │\n",
       "│          varchar          │        double        │ int64 │ int64 │ int64 │ int64 │ int64 │\n",
       "├───────────────────────────┼──────────────────────┼───────┼───────┼───────┼───────┼───────┤\n",
       "│ borne_amovible            │                 0.01 │     1 │     1 │     0 │     0 │     0 │\n",
       "│ bornes_incendie           │                 0.01 │     1 │     1 │     0 │     0 │     0 │\n",
       "│ blocs_de_pierres_ou_b_ton │                 0.01 │     3 │     3 │     0 │     0 │     0 │\n",
       "│ Potelet                   │ 0.010304347826086958 │    23 │    23 │     0 │     0 │     0 │\n",
       "│ barri_res_points          │ 0.010428571428571428 │     7 │     7 │     0 │     0 │     0 │\n",
       "│ borne_incendie            │                0.012 │     1 │     0 │     0 │     1 │     0 │\n",
       "│ bancs                     │               0.0124 │     5 │     0 │     0 │     5 │     0 │\n",
       "│ camera                    │                0.013 │     1 │     1 │     0 │     0 │     0 │\n",
       "│ avaloirs                  │            0.0173125 │    16 │    16 │     0 │     0 │     0 │\n",
       "│ lampadaire                │ 0.024199999999999996 │     5 │     0 │     0 │     5 │     0 │\n",
       "│ poubelle                  │               0.0395 │     6 │     0 │     0 │     3 │     3 │\n",
       "│ arbre                     │  0.05929166666666666 │    24 │     0 │     7 │    17 │     0 │\n",
       "│ barri_re                  │  0.06488888888888888 │    27 │     0 │     0 │     8 │    19 │\n",
       "│ arbres                    │                 0.12 │     1 │     1 │     0 │     0 │     0 │\n",
       "├───────────────────────────┴──────────────────────┴───────┴───────┴───────┴───────┴───────┤\n",
       "│ 14 rows                                                                        7 columns │\n",
       "└──────────────────────────────────────────────────────────────────────────────────────────┘"
      ]
     },
     "execution_count": 63,
     "metadata": {},
     "output_type": "execute_result"
    }
   ],
   "source": [
    "duckdb.sql(\"\"\"\n",
    "select \n",
    "data_type, \n",
    "mean(h_accuracy) as mean_accuracy, count(*) as nb,\n",
    "count(*) FILTER (id_zone = 0) as zone0,\n",
    "count(*) FILTER (id_zone = 1) as zone1,\n",
    "count(*) FILTER (id_zone = 2) as zone2,\n",
    "count(*) FILTER (id_zone = 3) as zone3\n",
    "from df \n",
    "group by data_type \n",
    "order by mean_accuracy asc;\n",
    "\"\"\")"
   ]
  },
  {
   "cell_type": "markdown",
   "id": "0fea5386",
   "metadata": {},
   "source": [
    "Les lampadaires, arbres, barrières et poubelles ont la plus basse précision.\n",
    "\n",
    "Notamment car dans la dernière zone, la précision était assez médiocre à cause de l'effet de canyon urbain.\n",
    "\n",
    "Il est étrange que les potelets aient une bonne précision mais ces derniers sont recensés essentiellement dans la première zone."
   ]
  },
  {
   "cell_type": "code",
   "execution_count": 65,
   "id": "8751e14c",
   "metadata": {},
   "outputs": [],
   "source": [
    "pts = gpd.points_from_xy(df.longitude, df.latitude)"
   ]
  },
  {
   "cell_type": "code",
   "execution_count": 67,
   "id": "f0db5f67",
   "metadata": {},
   "outputs": [],
   "source": [
    "gdf = gpd.GeoDataFrame(\n",
    "    df, geometry=pts, crs=\"EPSG:4326\"\n",
    ")"
   ]
  },
  {
   "cell_type": "code",
   "execution_count": 68,
   "id": "9143003a",
   "metadata": {},
   "outputs": [],
   "source": [
    "gdf.to_file(\"Sextius-Points.gpkg\")"
   ]
  }
 ],
 "metadata": {
  "kernelspec": {
   "display_name": "Python 3 (ipykernel)",
   "language": "python",
   "name": "python3"
  },
  "language_info": {
   "codemirror_mode": {
    "name": "ipython",
    "version": 3
   },
   "file_extension": ".py",
   "mimetype": "text/x-python",
   "name": "python",
   "nbconvert_exporter": "python",
   "pygments_lexer": "ipython3",
   "version": "3.12.4"
  }
 },
 "nbformat": 4,
 "nbformat_minor": 5
}
