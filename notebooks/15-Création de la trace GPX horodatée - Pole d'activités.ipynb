{
 "cells": [
  {
   "cell_type": "markdown",
   "id": "57826727-11aa-45c8-99af-95d34856e86f",
   "metadata": {},
   "source": [
    "# Exemple de génération de trace GPX à partir des points de la trace RTK exportée en format GeoJSON depuis l'application SW MAPS"
   ]
  },
  {
   "cell_type": "markdown",
   "id": "67d12750-9bf8-4f8b-848d-097b74de9fd4",
   "metadata": {},
   "source": [
    "## Données d'entrée : fichier geojson des points de la trace RTK collectés lors de la sortie de terrain - Pole d'activités d'Aix en Provence :"
   ]
  },
  {
   "cell_type": "markdown",
   "id": "7d27b7cd-ffc8-4783-a9c8-64dc76e5de92",
   "metadata": {},
   "source": [
    "### 1) Installation de la bibliothèque python gpxpy pour la création de la trace GPX :"
   ]
  },
  {
   "cell_type": "code",
   "execution_count": 18,
   "id": "5bf93fd2-0f2e-42b9-b448-991d8d2fb914",
   "metadata": {},
   "outputs": [
    {
     "name": "stdout",
     "output_type": "stream",
     "text": [
      "Collecting gpxpy\n",
      "  Downloading gpxpy-1.6.2-py3-none-any.whl.metadata (5.9 kB)\n",
      "Downloading gpxpy-1.6.2-py3-none-any.whl (42 kB)\n",
      "   ---------------------------------------- 0.0/42.6 kB ? eta -:--:--\n",
      "   ---------------------------------------- 42.6/42.6 kB 1.0 MB/s eta 0:00:00\n",
      "Installing collected packages: gpxpy\n",
      "Successfully installed gpxpy-1.6.2\n"
     ]
    },
    {
     "name": "stderr",
     "output_type": "stream",
     "text": [
      "\n",
      "[notice] A new release of pip is available: 24.0 -> 24.1.1\n",
      "[notice] To update, run: python.exe -m pip install --upgrade pip\n"
     ]
    }
   ],
   "source": [
    "!pip install gpxpy"
   ]
  },
  {
   "cell_type": "markdown",
   "id": "44c03ed1-ea8b-4200-82d8-769a1806f468",
   "metadata": {},
   "source": [
    "### 2) Installation de la bibliothèque python geojson pour le chargement du fichier geojson d'entrée :"
   ]
  },
  {
   "cell_type": "code",
   "execution_count": 20,
   "id": "a25ef2e1-d7f5-4133-acc0-2bb12585fd56",
   "metadata": {},
   "outputs": [
    {
     "name": "stdout",
     "output_type": "stream",
     "text": [
      "Collecting geojson\n",
      "  Downloading geojson-3.1.0-py3-none-any.whl.metadata (16 kB)\n",
      "Downloading geojson-3.1.0-py3-none-any.whl (15 kB)\n",
      "Installing collected packages: geojson\n",
      "Successfully installed geojson-3.1.0\n"
     ]
    },
    {
     "name": "stderr",
     "output_type": "stream",
     "text": [
      "\n",
      "[notice] A new release of pip is available: 24.0 -> 24.1.1\n",
      "[notice] To update, run: python.exe -m pip install --upgrade pip\n"
     ]
    }
   ],
   "source": [
    "!pip install geojson"
   ]
  },
  {
   "cell_type": "markdown",
   "id": "89cf74f1-8cc4-474c-9918-c04d20dc2c58",
   "metadata": {},
   "source": [
    "### 3) Extraction des points RTK avec leurs horodatages en liste et les convertir en DataFrame :"
   ]
  },
  {
   "cell_type": "code",
   "execution_count": 46,
   "id": "1a410392-bc56-4cc3-84f0-5374e6553725",
   "metadata": {},
   "outputs": [
    {
     "data": {
      "text/html": [
       "<div>\n",
       "<style scoped>\n",
       "    .dataframe tbody tr th:only-of-type {\n",
       "        vertical-align: middle;\n",
       "    }\n",
       "\n",
       "    .dataframe tbody tr th {\n",
       "        vertical-align: top;\n",
       "    }\n",
       "\n",
       "    .dataframe thead th {\n",
       "        text-align: right;\n",
       "    }\n",
       "</style>\n",
       "<table border=\"1\" class=\"dataframe\">\n",
       "  <thead>\n",
       "    <tr style=\"text-align: right;\">\n",
       "      <th></th>\n",
       "      <th>latitude</th>\n",
       "      <th>longitude</th>\n",
       "      <th>elevation</th>\n",
       "      <th>time</th>\n",
       "    </tr>\n",
       "  </thead>\n",
       "  <tbody>\n",
       "    <tr>\n",
       "      <th>0</th>\n",
       "      <td>43.491988</td>\n",
       "      <td>5.373602</td>\n",
       "      <td>165.039</td>\n",
       "      <td>19-06-2024 15:33:37.200 GMT+02:00</td>\n",
       "    </tr>\n",
       "    <tr>\n",
       "      <th>1</th>\n",
       "      <td>43.491992</td>\n",
       "      <td>5.373568</td>\n",
       "      <td>164.817</td>\n",
       "      <td>19-06-2024 15:33:42.800 GMT+02:00</td>\n",
       "    </tr>\n",
       "    <tr>\n",
       "      <th>2</th>\n",
       "      <td>43.491977</td>\n",
       "      <td>5.373481</td>\n",
       "      <td>164.816</td>\n",
       "      <td>19-06-2024 15:33:45.200 GMT+02:00</td>\n",
       "    </tr>\n",
       "    <tr>\n",
       "      <th>3</th>\n",
       "      <td>43.491904</td>\n",
       "      <td>5.373417</td>\n",
       "      <td>165.000</td>\n",
       "      <td>19-06-2024 15:33:47.600 GMT+02:00</td>\n",
       "    </tr>\n",
       "    <tr>\n",
       "      <th>4</th>\n",
       "      <td>43.491807</td>\n",
       "      <td>5.373362</td>\n",
       "      <td>164.871</td>\n",
       "      <td>19-06-2024 15:33:50.000 GMT+02:00</td>\n",
       "    </tr>\n",
       "    <tr>\n",
       "      <th>...</th>\n",
       "      <td>...</td>\n",
       "      <td>...</td>\n",
       "      <td>...</td>\n",
       "      <td>...</td>\n",
       "    </tr>\n",
       "    <tr>\n",
       "      <th>223</th>\n",
       "      <td>43.491668</td>\n",
       "      <td>5.373427</td>\n",
       "      <td>165.475</td>\n",
       "      <td>19-06-2024 15:43:53.200 GMT+02:00</td>\n",
       "    </tr>\n",
       "    <tr>\n",
       "      <th>224</th>\n",
       "      <td>43.491713</td>\n",
       "      <td>5.373537</td>\n",
       "      <td>165.547</td>\n",
       "      <td>19-06-2024 15:43:55.600 GMT+02:00</td>\n",
       "    </tr>\n",
       "    <tr>\n",
       "      <th>225</th>\n",
       "      <td>43.491728</td>\n",
       "      <td>5.373660</td>\n",
       "      <td>165.633</td>\n",
       "      <td>19-06-2024 15:43:58.000 GMT+02:00</td>\n",
       "    </tr>\n",
       "    <tr>\n",
       "      <th>226</th>\n",
       "      <td>43.491718</td>\n",
       "      <td>5.373787</td>\n",
       "      <td>165.701</td>\n",
       "      <td>19-06-2024 15:44:00.400 GMT+02:00</td>\n",
       "    </tr>\n",
       "    <tr>\n",
       "      <th>227</th>\n",
       "      <td>43.491707</td>\n",
       "      <td>5.373850</td>\n",
       "      <td>165.862</td>\n",
       "      <td>19-06-2024 15:44:02.800 GMT+02:00</td>\n",
       "    </tr>\n",
       "  </tbody>\n",
       "</table>\n",
       "<p>228 rows × 4 columns</p>\n",
       "</div>"
      ],
      "text/plain": [
       "      latitude  longitude  elevation                               time\n",
       "0    43.491988   5.373602    165.039  19-06-2024 15:33:37.200 GMT+02:00\n",
       "1    43.491992   5.373568    164.817  19-06-2024 15:33:42.800 GMT+02:00\n",
       "2    43.491977   5.373481    164.816  19-06-2024 15:33:45.200 GMT+02:00\n",
       "3    43.491904   5.373417    165.000  19-06-2024 15:33:47.600 GMT+02:00\n",
       "4    43.491807   5.373362    164.871  19-06-2024 15:33:50.000 GMT+02:00\n",
       "..         ...        ...        ...                                ...\n",
       "223  43.491668   5.373427    165.475  19-06-2024 15:43:53.200 GMT+02:00\n",
       "224  43.491713   5.373537    165.547  19-06-2024 15:43:55.600 GMT+02:00\n",
       "225  43.491728   5.373660    165.633  19-06-2024 15:43:58.000 GMT+02:00\n",
       "226  43.491718   5.373787    165.701  19-06-2024 15:44:00.400 GMT+02:00\n",
       "227  43.491707   5.373850    165.862  19-06-2024 15:44:02.800 GMT+02:00\n",
       "\n",
       "[228 rows x 4 columns]"
      ]
     },
     "execution_count": 46,
     "metadata": {},
     "output_type": "execute_result"
    }
   ],
   "source": [
    "import geojson\n",
    "import pandas as pd\n",
    "\n",
    "# Charger le fichier GeoJSON\n",
    "with open(r\"C:\\Users\\alaeddine.jerad\\Desktop\\stage CIM\\sig et data\\Sortie gopro + RTK 19-06 PAAP\\Trace PAAP points.geojson\", 'r') as f:\n",
    "    data = geojson.load(f)\n",
    "\n",
    "# Extraire les points et leurs horodatages\n",
    "points = []\n",
    "for feature in data['features']:\n",
    "    if feature['geometry']['type'] == 'Point':\n",
    "        coords = feature['geometry']['coordinates']\n",
    "        timestamp = feature['properties'].get('time')\n",
    "        points.append({\n",
    "            'latitude': coords[1],\n",
    "            'longitude': coords[0],\n",
    "            'elevation': coords[2] if len(coords) > 2 else None,\n",
    "            'time': timestamp\n",
    "        })\n",
    "\n",
    "# Convertir en DataFrame\n",
    "df = pd.DataFrame(points)\n",
    "df"
   ]
  },
  {
   "cell_type": "markdown",
   "id": "30ff0287-1d43-4dfc-a8f7-f5bd87cc9ef0",
   "metadata": {},
   "source": [
    "### 4) Installation de la bibliothèque python dateutil pour le formatage de la date à partir d'une chaine de caractères :"
   ]
  },
  {
   "cell_type": "code",
   "execution_count": 40,
   "id": "9c847cd1-8386-4d72-8a04-dfac4e4b6740",
   "metadata": {},
   "outputs": [
    {
     "name": "stdout",
     "output_type": "stream",
     "text": [
      "Requirement already satisfied: python-dateutil in c:\\users\\alaeddine.jerad\\appdata\\local\\programs\\python\\python312\\lib\\site-packages (2.9.0.post0)\n",
      "Requirement already satisfied: six>=1.5 in c:\\users\\alaeddine.jerad\\appdata\\local\\programs\\python\\python312\\lib\\site-packages (from python-dateutil) (1.16.0)\n",
      "Note: you may need to restart the kernel to use updated packages.\n"
     ]
    },
    {
     "name": "stderr",
     "output_type": "stream",
     "text": [
      "\n",
      "[notice] A new release of pip is available: 24.0 -> 24.1.1\n",
      "[notice] To update, run: python.exe -m pip install --upgrade pip\n"
     ]
    }
   ],
   "source": [
    "pip install python-dateutil"
   ]
  },
  {
   "cell_type": "markdown",
   "id": "87655567-48e5-48f3-83e6-7cfeb37b172d",
   "metadata": {},
   "source": [
    "### 5) Création de la trace GPX en ajoutant les points horodatées au segment de la trace :"
   ]
  },
  {
   "cell_type": "code",
   "execution_count": 47,
   "id": "d3e6747f-7622-4f37-a155-69335a827977",
   "metadata": {},
   "outputs": [],
   "source": [
    "import gpxpy\n",
    "import gpxpy.gpx\n",
    "from dateutil import parser\n",
    "\n",
    "# Créer un objet GPX\n",
    "gpx = gpxpy.gpx.GPX()\n",
    "\n",
    "# Créer une nouvelle trace\n",
    "gpx_track = gpxpy.gpx.GPXTrack()\n",
    "gpx.tracks.append(gpx_track)\n",
    "\n",
    "# Ajouter un segment à la trace\n",
    "gpx_segment = gpxpy.gpx.GPXTrackSegment()\n",
    "gpx_track.segments.append(gpx_segment)\n",
    "\n",
    "# Ajouter les points au segment\n",
    "for idx, row in df.iterrows():\n",
    "# Convertir l'horodatage en format datetime\n",
    "    time = parser.parse(row['time']) if row['time'] else None\n",
    "    gpx_segment.points.append(gpxpy.gpx.GPXTrackPoint(\n",
    "        latitude=row['latitude'],\n",
    "        longitude=row['longitude'],\n",
    "        elevation=row['elevation'],\n",
    "        time=time\n",
    "    ))"
   ]
  },
  {
   "cell_type": "markdown",
   "id": "7c888b31-bd97-4daf-8a44-28d145cb52af",
   "metadata": {},
   "source": [
    "### 6) Exportation de la trace GPX :"
   ]
  },
  {
   "cell_type": "code",
   "execution_count": 48,
   "id": "fa2090ae-ed75-4f3f-8e9e-2d0630d4dfaf",
   "metadata": {},
   "outputs": [],
   "source": [
    "# Écrire le fichier GPX\n",
    "with open(r\"C:\\Users\\alaeddine.jerad\\Desktop\\stage CIM\\sig et data\\Sortie gopro + RTK 19-06 PAAP\\Trace PAAP points.gpx\", 'w') as f:\n",
    "    f.write(gpx.to_xml())"
   ]
  },
  {
   "cell_type": "code",
   "execution_count": null,
   "id": "7ae2b0ea-9e51-4162-b46f-145d797d95d9",
   "metadata": {},
   "outputs": [],
   "source": []
  }
 ],
 "metadata": {
  "kernelspec": {
   "display_name": "Python 3 (ipykernel)",
   "language": "python",
   "name": "python3"
  },
  "language_info": {
   "codemirror_mode": {
    "name": "ipython",
    "version": 3
   },
   "file_extension": ".py",
   "mimetype": "text/x-python",
   "name": "python",
   "nbconvert_exporter": "python",
   "pygments_lexer": "ipython3",
   "version": "3.12.2"
  }
 },
 "nbformat": 4,
 "nbformat_minor": 5
}
